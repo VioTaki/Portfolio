{
 "cells": [
  {
   "cell_type": "markdown",
   "id": "5fd56bac",
   "metadata": {},
   "source": [
    "Привет! \n",
    "\n",
    "Меня зовут Маковеев Кирилл, я буду проверять твой проект ; ) Моя основная цель — не указать на совершенные тобою ошибки, а помочь тебе стать аналитиком данных.\n",
    "\n",
    "Если тебе комфортно, можешь обращаться ко мне на «ты» - тогда и я буду к тебе так обращаться, но если нет, то обязательно дай знать.\n",
    "\n",
    "Пожалуйста, не удаляй комментарии, которые я буду оставлять в работе, это особенно поможет, если твои проекты будут отправлены на повторную проверку.\n",
    "\n",
    "Кстати, ты тоже можешь реагировать на мои комментарии, но в таком случае постарайся, чтобы твои комментарии отличались: например, выделяй их любимым цветом — тогда у нас не возникнет путаницы. \n",
    "\n",
    "Набор моих цветов:\n",
    "<div class=\"alert-success\"> \n",
    "<b>Комментарий ревьюера 👍 </b>\n",
    "    \n",
    "Решение на отдельном шаге является полностью правильным. </div>\n",
    "\n",
    "<div class=\"alert-warning\"> \n",
    "<b>Комментарий ревьюера 💡</b> \n",
    "    \n",
    "Решение может стать еще лучше с некоторыми корректировками </div>\n",
    "\n",
    "<div class=\"alert-danger\"> \n",
    "<b>Комментарий ревьюера ❌</b> \n",
    "    \n",
    "В случае, если решение какого-то шага требует значительных изменений. Проект не может быть принят с первого раза, если ревью содержит комментарии, помеченные этим цветом </div>\n",
    "\n",
    "<div class=\"alert alert-info\">\n",
    "<b>Мой комментарий ✍</b>    \n",
    "\n",
    "Любимый цвет голубой</div>\n",
    "___"
   ]
  },
  {
   "cell_type": "markdown",
   "id": "a9a44be3",
   "metadata": {
    "toc": true
   },
   "source": [
    "<h1>Table of Contents<span class=\"tocSkip\"></span></h1>\n",
    "<div class=\"toc\"><ul class=\"toc-item\"><li><span><a href=\"#Изучение-данных\" data-toc-modified-id=\"Изучение-данных-1\"><span class=\"toc-item-num\">1&nbsp;&nbsp;</span>Изучение данных</a></span></li><li><span><a href=\"#Предобработка-данных\" data-toc-modified-id=\"Предобработка-данных-2\"><span class=\"toc-item-num\">2&nbsp;&nbsp;</span>Предобработка данных</a></span><ul class=\"toc-item\"><li><span><a href=\"#Коррекция-названия-столбцов\" data-toc-modified-id=\"Коррекция-названия-столбцов-2.1\"><span class=\"toc-item-num\">2.1&nbsp;&nbsp;</span>Коррекция названия столбцов</a></span></li><li><span><a href=\"#Коррекция-типов-данных\" data-toc-modified-id=\"Коррекция-типов-данных-2.2\"><span class=\"toc-item-num\">2.2&nbsp;&nbsp;</span>Коррекция типов данных</a></span></li><li><span><a href=\"#Обработка-пропусков\" data-toc-modified-id=\"Обработка-пропусков-2.3\"><span class=\"toc-item-num\">2.3&nbsp;&nbsp;</span>Обработка пропусков</a></span></li><li><span><a href=\"#Суммарные-продажи-во-всех-регионах\" data-toc-modified-id=\"Суммарные-продажи-во-всех-регионах-2.4\"><span class=\"toc-item-num\">2.4&nbsp;&nbsp;</span>Суммарные продажи во всех регионах</a></span></li></ul></li><li><span><a href=\"#Анализ-данных\" data-toc-modified-id=\"Анализ-данных-3\"><span class=\"toc-item-num\">3&nbsp;&nbsp;</span>Анализ данных</a></span><ul class=\"toc-item\"><li><span><a href=\"#Количество-выпускаемых-игр\" data-toc-modified-id=\"Количество-выпускаемых-игр-3.1\"><span class=\"toc-item-num\">3.1&nbsp;&nbsp;</span>Количество выпускаемых игр</a></span></li><li><span><a href=\"#Изменение-количества-релизов-по-платформам\" data-toc-modified-id=\"Изменение-количества-релизов-по-платформам-3.2\"><span class=\"toc-item-num\">3.2&nbsp;&nbsp;</span>Изменение количества релизов по платформам</a></span></li><li><span><a href=\"#Актуальный-период\" data-toc-modified-id=\"Актуальный-период-3.3\"><span class=\"toc-item-num\">3.3&nbsp;&nbsp;</span>Актуальный период</a></span></li><li><span><a href=\"#Лидеры-продаж-игр-по-платформам\" data-toc-modified-id=\"Лидеры-продаж-игр-по-платформам-3.4\"><span class=\"toc-item-num\">3.4&nbsp;&nbsp;</span>Лидеры продаж игр по платформам</a></span></li><li><span><a href=\"#&quot;Ящик-с-усами&quot;-по-платформам\" data-toc-modified-id=\"&quot;Ящик-с-усами&quot;-по-платформам-3.5\"><span class=\"toc-item-num\">3.5&nbsp;&nbsp;</span>\"Ящик с усами\" по платформам</a></span></li><li><span><a href=\"#Связь-между-продажами-и-оценками-критиков-и-пользователей\" data-toc-modified-id=\"Связь-между-продажами-и-оценками-критиков-и-пользователей-3.6\"><span class=\"toc-item-num\">3.6&nbsp;&nbsp;</span>Связь между продажами и оценками критиков и пользователей</a></span></li><li><span><a href=\"#Соотнесите-выводы-с-продажами-игр-на-других-платформах.\" data-toc-modified-id=\"Соотнесите-выводы-с-продажами-игр-на-других-платформах.-3.7\"><span class=\"toc-item-num\">3.7&nbsp;&nbsp;</span>Соотнесите выводы с продажами игр на других платформах.</a></span></li><li><span><a href=\"#Распределение-игр-по-жанрам\" data-toc-modified-id=\"Распределение-игр-по-жанрам-3.8\"><span class=\"toc-item-num\">3.8&nbsp;&nbsp;</span>Распределение игр по жанрам</a></span></li></ul></li><li><span><a href=\"#Портрет-пользователя-каждого-региона\" data-toc-modified-id=\"Портрет-пользователя-каждого-региона-4\"><span class=\"toc-item-num\">4&nbsp;&nbsp;</span>Портрет пользователя каждого региона</a></span><ul class=\"toc-item\"><li><span><a href=\"#Портрет-пользователя-Северной-Америки\" data-toc-modified-id=\"Портрет-пользователя-Северной-Америки-4.1\"><span class=\"toc-item-num\">4.1&nbsp;&nbsp;</span>Портрет пользователя Северной Америки</a></span></li><li><span><a href=\"#Портрет-пользователя-Европы\" data-toc-modified-id=\"Портрет-пользователя-Европы-4.2\"><span class=\"toc-item-num\">4.2&nbsp;&nbsp;</span>Портрет пользователя Европы</a></span></li><li><span><a href=\"#Портрет-пользователя-Японии\" data-toc-modified-id=\"Портрет-пользователя-Японии-4.3\"><span class=\"toc-item-num\">4.3&nbsp;&nbsp;</span>Портрет пользователя Японии</a></span></li></ul></li><li><span><a href=\"#Проверка-гипотез\" data-toc-modified-id=\"Проверка-гипотез-5\"><span class=\"toc-item-num\">5&nbsp;&nbsp;</span>Проверка гипотез</a></span><ul class=\"toc-item\"><li><span><a href=\"#Средние-пользовательские-рейтинги-платформ-Xbox-One-и-PC-одинаковые;\" data-toc-modified-id=\"Средние-пользовательские-рейтинги-платформ-Xbox-One-и-PC-одинаковые;-5.1\"><span class=\"toc-item-num\">5.1&nbsp;&nbsp;</span>Средние пользовательские рейтинги платформ Xbox One и PC одинаковые;</a></span></li><li><span><a href=\"#Средние-пользовательские-рейтинги-жанров-Action-(англ.-«действие»,-экшен-игры)-и-Sports-(англ.-«спортивные-соревнования»)-разные.\" data-toc-modified-id=\"Средние-пользовательские-рейтинги-жанров-Action-(англ.-«действие»,-экшен-игры)-и-Sports-(англ.-«спортивные-соревнования»)-разные.-5.2\"><span class=\"toc-item-num\">5.2&nbsp;&nbsp;</span>Средние пользовательские рейтинги жанров Action (англ. «действие», экшен-игры) и Sports (англ. «спортивные соревнования») разные.</a></span></li></ul></li><li><span><a href=\"#Общий-вывод\" data-toc-modified-id=\"Общий-вывод-6\"><span class=\"toc-item-num\">6&nbsp;&nbsp;</span>Общий вывод</a></span></li></ul></div>"
   ]
  },
  {
   "cell_type": "markdown",
   "id": "2d7f1e12",
   "metadata": {},
   "source": [
    "# Описание проекта\n",
    "\n",
    "Вы работаете в интернет-магазине «Стримчик», который продаёт по всему миру компьютерные игры. Из открытых источников доступны исторические данные о продажах игр, оценки пользователей и экспертов, жанры и платформы (например, Xbox или PlayStation). Вам нужно выявить определяющие успешность игры закономерности. Это позволит сделать ставку на потенциально популярный продукт и спланировать рекламные кампании.\n",
    "\n",
    "Перед вами данные до 2016 года. Представим, что сейчас декабрь 2016 г., и вы планируете кампанию на 2017-й. Нужно отработать принцип работы с данными. Неважно, прогнозируете ли вы продажи на 2017 год по данным 2016-го или же 2027-й — по данным 2026 года.\n",
    "\n",
    "**Цель проекта**\n",
    "* Выявить определяющие успешность игры закономерности\n",
    "\n",
    "**Задачи проекта**\n",
    "* Изучить данные\n",
    "* Обработать данные\n",
    "* Провести исследовательский анализ данных:\n",
    "    * выяснить менялись продажи по платформам\n",
    "    * выявить актуальный период для анализа\n",
    "    * выявить лидеров продаж игр по платформам\n",
    "    * выявить есть ли связь между оценками пользователей и критиков с продажами\n",
    "    * проверить выводы по предыдущему пункту\n",
    "    * выяснить распределение игр по жанрам (релизы и продажи)\n",
    "* Составить портрет пользователя каждого региона:\n",
    "    * топ-5 платформ по регионам\n",
    "    * топ-5 жанров по регионам\n",
    "    * составить топ игр по рейтингу ESRB в каждом регионе\n",
    "* Проверить две гипотезы:\n",
    "    * Средние пользовательские рейтинги платформ Xbox One и PC одинаковые\n",
    "    * Средние пользовательские рейтинги жанров Action и Sports разные\n",
    "* Подвести итоги исследования, сделать выводы"
   ]
  },
  {
   "cell_type": "markdown",
   "id": "44e5cdfb",
   "metadata": {},
   "source": [
    "<div class=\"alert-success\"> \n",
    "<b>Комментарий ревьюера 👍 </b>\n",
    "\n",
    "Очень хорошо, что ты добавляешь описание задач и активное оглавление - это упрощает понимание проекта для тех, кто с ним ознакамливается.</div>"
   ]
  },
  {
   "cell_type": "markdown",
   "id": "ce235189",
   "metadata": {},
   "source": [
    "## Изучение данных"
   ]
  },
  {
   "cell_type": "code",
   "execution_count": 1,
   "id": "e975913f",
   "metadata": {},
   "outputs": [],
   "source": [
    "# Импорт библиотек\n",
    "import pandas as pd\n",
    "import matplotlib.pyplot as plt\n",
    "import seaborn as sb\n",
    "import warnings\n",
    "import numpy as np\n",
    "from scipy import stats as st\n",
    "\n",
    "warnings.filterwarnings(\"ignore\")\n",
    "#pd.options.display.float_format = '{:.2f}'.format"
   ]
  },
  {
   "cell_type": "code",
   "execution_count": 2,
   "id": "c3fa09f9",
   "metadata": {
    "scrolled": true
   },
   "outputs": [
    {
     "data": {
      "text/html": [
       "<div>\n",
       "<style scoped>\n",
       "    .dataframe tbody tr th:only-of-type {\n",
       "        vertical-align: middle;\n",
       "    }\n",
       "\n",
       "    .dataframe tbody tr th {\n",
       "        vertical-align: top;\n",
       "    }\n",
       "\n",
       "    .dataframe thead th {\n",
       "        text-align: right;\n",
       "    }\n",
       "</style>\n",
       "<table border=\"1\" class=\"dataframe\">\n",
       "  <thead>\n",
       "    <tr style=\"text-align: right;\">\n",
       "      <th></th>\n",
       "      <th>Name</th>\n",
       "      <th>Platform</th>\n",
       "      <th>Year_of_Release</th>\n",
       "      <th>Genre</th>\n",
       "      <th>NA_sales</th>\n",
       "      <th>EU_sales</th>\n",
       "      <th>JP_sales</th>\n",
       "      <th>Other_sales</th>\n",
       "      <th>Critic_Score</th>\n",
       "      <th>User_Score</th>\n",
       "      <th>Rating</th>\n",
       "    </tr>\n",
       "  </thead>\n",
       "  <tbody>\n",
       "    <tr>\n",
       "      <th>0</th>\n",
       "      <td>Wii Sports</td>\n",
       "      <td>Wii</td>\n",
       "      <td>2006.0</td>\n",
       "      <td>Sports</td>\n",
       "      <td>41.36</td>\n",
       "      <td>28.96</td>\n",
       "      <td>3.77</td>\n",
       "      <td>8.45</td>\n",
       "      <td>76.0</td>\n",
       "      <td>8</td>\n",
       "      <td>E</td>\n",
       "    </tr>\n",
       "    <tr>\n",
       "      <th>1</th>\n",
       "      <td>Super Mario Bros.</td>\n",
       "      <td>NES</td>\n",
       "      <td>1985.0</td>\n",
       "      <td>Platform</td>\n",
       "      <td>29.08</td>\n",
       "      <td>3.58</td>\n",
       "      <td>6.81</td>\n",
       "      <td>0.77</td>\n",
       "      <td>NaN</td>\n",
       "      <td>NaN</td>\n",
       "      <td>NaN</td>\n",
       "    </tr>\n",
       "    <tr>\n",
       "      <th>2</th>\n",
       "      <td>Mario Kart Wii</td>\n",
       "      <td>Wii</td>\n",
       "      <td>2008.0</td>\n",
       "      <td>Racing</td>\n",
       "      <td>15.68</td>\n",
       "      <td>12.76</td>\n",
       "      <td>3.79</td>\n",
       "      <td>3.29</td>\n",
       "      <td>82.0</td>\n",
       "      <td>8.3</td>\n",
       "      <td>E</td>\n",
       "    </tr>\n",
       "    <tr>\n",
       "      <th>3</th>\n",
       "      <td>Wii Sports Resort</td>\n",
       "      <td>Wii</td>\n",
       "      <td>2009.0</td>\n",
       "      <td>Sports</td>\n",
       "      <td>15.61</td>\n",
       "      <td>10.93</td>\n",
       "      <td>3.28</td>\n",
       "      <td>2.95</td>\n",
       "      <td>80.0</td>\n",
       "      <td>8</td>\n",
       "      <td>E</td>\n",
       "    </tr>\n",
       "    <tr>\n",
       "      <th>4</th>\n",
       "      <td>Pokemon Red/Pokemon Blue</td>\n",
       "      <td>GB</td>\n",
       "      <td>1996.0</td>\n",
       "      <td>Role-Playing</td>\n",
       "      <td>11.27</td>\n",
       "      <td>8.89</td>\n",
       "      <td>10.22</td>\n",
       "      <td>1.00</td>\n",
       "      <td>NaN</td>\n",
       "      <td>NaN</td>\n",
       "      <td>NaN</td>\n",
       "    </tr>\n",
       "  </tbody>\n",
       "</table>\n",
       "</div>"
      ],
      "text/plain": [
       "                       Name Platform  Year_of_Release         Genre  NA_sales  \\\n",
       "0                Wii Sports      Wii           2006.0        Sports     41.36   \n",
       "1         Super Mario Bros.      NES           1985.0      Platform     29.08   \n",
       "2            Mario Kart Wii      Wii           2008.0        Racing     15.68   \n",
       "3         Wii Sports Resort      Wii           2009.0        Sports     15.61   \n",
       "4  Pokemon Red/Pokemon Blue       GB           1996.0  Role-Playing     11.27   \n",
       "\n",
       "   EU_sales  JP_sales  Other_sales  Critic_Score User_Score Rating  \n",
       "0     28.96      3.77         8.45          76.0          8      E  \n",
       "1      3.58      6.81         0.77           NaN        NaN    NaN  \n",
       "2     12.76      3.79         3.29          82.0        8.3      E  \n",
       "3     10.93      3.28         2.95          80.0          8      E  \n",
       "4      8.89     10.22         1.00           NaN        NaN    NaN  "
      ]
     },
     "execution_count": 2,
     "metadata": {},
     "output_type": "execute_result"
    }
   ],
   "source": [
    "try:\n",
    "    data = pd.read_csv('games.csv') # локально\n",
    "except:\n",
    "    data = pd.read_csv('/datasets/games.csv') # в практикуме\n",
    "data.head(5)"
   ]
  },
  {
   "cell_type": "markdown",
   "id": "1922bf8b",
   "metadata": {},
   "source": [
    "<div class=\"alert-success\"> \n",
    "<b>Комментарий ревьюера 👍 </b>\n",
    "\n",
    "Правильный шаг использовать конструкцию try-except!</div>"
   ]
  },
  {
   "cell_type": "code",
   "execution_count": 3,
   "id": "658b0e18",
   "metadata": {
    "scrolled": true
   },
   "outputs": [
    {
     "name": "stdout",
     "output_type": "stream",
     "text": [
      "<class 'pandas.core.frame.DataFrame'>\n",
      "RangeIndex: 16715 entries, 0 to 16714\n",
      "Data columns (total 11 columns):\n",
      " #   Column           Non-Null Count  Dtype  \n",
      "---  ------           --------------  -----  \n",
      " 0   Name             16713 non-null  object \n",
      " 1   Platform         16715 non-null  object \n",
      " 2   Year_of_Release  16446 non-null  float64\n",
      " 3   Genre            16713 non-null  object \n",
      " 4   NA_sales         16715 non-null  float64\n",
      " 5   EU_sales         16715 non-null  float64\n",
      " 6   JP_sales         16715 non-null  float64\n",
      " 7   Other_sales      16715 non-null  float64\n",
      " 8   Critic_Score     8137 non-null   float64\n",
      " 9   User_Score       10014 non-null  object \n",
      " 10  Rating           9949 non-null   object \n",
      "dtypes: float64(6), object(5)\n",
      "memory usage: 1.4+ MB\n"
     ]
    }
   ],
   "source": [
    "data.info()"
   ]
  },
  {
   "cell_type": "markdown",
   "id": "c2bbbd8d",
   "metadata": {},
   "source": [
    "В нашем распоряжении таблица с данными о выпущенных играх и их реализации.\n",
    "\n",
    "Имеем датасет из 16715 строк.\n",
    "\n",
    "**Описание данных**\n",
    "* Name — название игры\n",
    "* Platform — платформа\n",
    "* Year_of_Release — год выпуска\n",
    "* Genre — жанр игры\n",
    "* NA_sales — продажи в Северной Америке (миллионы проданных копий)\n",
    "* EU_sales — продажи в Европе (миллионы проданных копий)\n",
    "* JP_sales — продажи в Японии (миллионы проданных копий)\n",
    "* Other_sales — продажи в других странах (миллионы проданных копий)\n",
    "* Critic_Score — оценка критиков (максимум 100)\n",
    "* User_Score — оценка пользователей (максимум 10)\n",
    "* Rating — рейтинг от организации ESRB (англ. Entertainment Software Rating Board). Эта ассоциация определяет рейтинг компьютерных игр и присваивает им подходящую возрастную категорию.\n",
    "\n",
    "Из видимых проблем в датасете:\n",
    "* большое число пропусков в столбцах;\n",
    "* неудобный регистр названий у столбцов;\n",
    "* неправильные типы данных по столбцам. "
   ]
  },
  {
   "cell_type": "markdown",
   "id": "7582bb71",
   "metadata": {},
   "source": [
    "## Предобработка данных"
   ]
  },
  {
   "cell_type": "markdown",
   "id": "2f7abc98",
   "metadata": {},
   "source": [
    "### Коррекция названия столбцов\n",
    "Откорректируем названия столбцов для более удобной работы с датасетом/\n",
    "\n",
    "До:"
   ]
  },
  {
   "cell_type": "code",
   "execution_count": 4,
   "id": "1f139743",
   "metadata": {},
   "outputs": [
    {
     "data": {
      "text/plain": [
       "Index(['Name', 'Platform', 'Year_of_Release', 'Genre', 'NA_sales', 'EU_sales',\n",
       "       'JP_sales', 'Other_sales', 'Critic_Score', 'User_Score', 'Rating'],\n",
       "      dtype='object')"
      ]
     },
     "execution_count": 4,
     "metadata": {},
     "output_type": "execute_result"
    }
   ],
   "source": [
    "data.columns"
   ]
  },
  {
   "cell_type": "code",
   "execution_count": 5,
   "id": "15315dcf",
   "metadata": {
    "scrolled": true
   },
   "outputs": [],
   "source": [
    "data.columns = data.columns.str.lower()"
   ]
  },
  {
   "cell_type": "markdown",
   "id": "a1f81e00",
   "metadata": {},
   "source": [
    "После:"
   ]
  },
  {
   "cell_type": "code",
   "execution_count": 6,
   "id": "d0dc6f7e",
   "metadata": {},
   "outputs": [
    {
     "data": {
      "text/plain": [
       "Index(['name', 'platform', 'year_of_release', 'genre', 'na_sales', 'eu_sales',\n",
       "       'jp_sales', 'other_sales', 'critic_score', 'user_score', 'rating'],\n",
       "      dtype='object')"
      ]
     },
     "execution_count": 6,
     "metadata": {},
     "output_type": "execute_result"
    }
   ],
   "source": [
    "data.columns"
   ]
  },
  {
   "cell_type": "markdown",
   "id": "715fe788",
   "metadata": {},
   "source": [
    "Обработка наименований столбцов проведена корректно."
   ]
  },
  {
   "cell_type": "markdown",
   "id": "5f85c8b2",
   "metadata": {},
   "source": [
    "### Коррекция типов данных"
   ]
  },
  {
   "cell_type": "code",
   "execution_count": 7,
   "id": "489090db",
   "metadata": {},
   "outputs": [
    {
     "name": "stdout",
     "output_type": "stream",
     "text": [
      "<class 'pandas.core.frame.DataFrame'>\n",
      "RangeIndex: 16715 entries, 0 to 16714\n",
      "Data columns (total 11 columns):\n",
      " #   Column           Non-Null Count  Dtype  \n",
      "---  ------           --------------  -----  \n",
      " 0   name             16713 non-null  object \n",
      " 1   platform         16715 non-null  object \n",
      " 2   year_of_release  16446 non-null  float64\n",
      " 3   genre            16713 non-null  object \n",
      " 4   na_sales         16715 non-null  float64\n",
      " 5   eu_sales         16715 non-null  float64\n",
      " 6   jp_sales         16715 non-null  float64\n",
      " 7   other_sales      16715 non-null  float64\n",
      " 8   critic_score     8137 non-null   float64\n",
      " 9   user_score       10014 non-null  object \n",
      " 10  rating           9949 non-null   object \n",
      "dtypes: float64(6), object(5)\n",
      "memory usage: 1.4+ MB\n"
     ]
    }
   ],
   "source": [
    "data.info()"
   ]
  },
  {
   "cell_type": "markdown",
   "id": "1ff6aa64",
   "metadata": {},
   "source": [
    "Год реализации продукта: целочисленное значение, можно изменить тип данных на int, однако так как в данных имеются пропуски это не представляется возможным (во всяком случае пока, возможно строки с пропусками в дальнейшем удалятся).\n",
    "\n",
    "Оценка пользователей - данные должны быть типа float, изучим какие значения есть в этом столбце:"
   ]
  },
  {
   "cell_type": "code",
   "execution_count": 8,
   "id": "094197a2",
   "metadata": {},
   "outputs": [
    {
     "data": {
      "text/plain": [
       "array(['8', nan, '8.3', '8.5', '6.6', '8.4', '8.6', '7.7', '6.3', '7.4',\n",
       "       '8.2', '9', '7.9', '8.1', '8.7', '7.1', '3.4', '5.3', '4.8', '3.2',\n",
       "       '8.9', '6.4', '7.8', '7.5', '2.6', '7.2', '9.2', '7', '7.3', '4.3',\n",
       "       '7.6', '5.7', '5', '9.1', '6.5', 'tbd', '8.8', '6.9', '9.4', '6.8',\n",
       "       '6.1', '6.7', '5.4', '4', '4.9', '4.5', '9.3', '6.2', '4.2', '6',\n",
       "       '3.7', '4.1', '5.8', '5.6', '5.5', '4.4', '4.6', '5.9', '3.9',\n",
       "       '3.1', '2.9', '5.2', '3.3', '4.7', '5.1', '3.5', '2.5', '1.9', '3',\n",
       "       '2.7', '2.2', '2', '9.5', '2.1', '3.6', '2.8', '1.8', '3.8', '0',\n",
       "       '1.6', '9.6', '2.4', '1.7', '1.1', '0.3', '1.5', '0.7', '1.2',\n",
       "       '2.3', '0.5', '1.3', '0.2', '0.6', '1.4', '0.9', '1', '9.7'],\n",
       "      dtype=object)"
      ]
     },
     "execution_count": 8,
     "metadata": {},
     "output_type": "execute_result"
    }
   ],
   "source": [
    "data['user_score'].unique()"
   ]
  },
  {
   "cell_type": "markdown",
   "id": "c08e2ba9",
   "metadata": {},
   "source": [
    "В столбце встречаются значения 'tbd' - \"значение не определно\", так как по сути это отсутствие данных, то эти значения можно заменить на пропуски - NaN, а затем изменить тип всех данных в столбце."
   ]
  },
  {
   "cell_type": "markdown",
   "id": "28d2f88d",
   "metadata": {},
   "source": [
    "<div class=\"alert-success\"> \n",
    "<b>Комментарий ревьюера 👍 </b>\n",
    "\n",
    "Да, TBD можно интерпретировать как игры, ожидающие оценки. "
   ]
  },
  {
   "cell_type": "code",
   "execution_count": 9,
   "id": "6f0f9345",
   "metadata": {},
   "outputs": [],
   "source": [
    "data.loc[data['user_score'] == 'tbd', 'user_score'] = np.nan\n",
    "data['user_score'] = data['user_score'].astype('float')"
   ]
  },
  {
   "cell_type": "markdown",
   "id": "ac692dd5",
   "metadata": {},
   "source": [
    "Проверим результат:"
   ]
  },
  {
   "cell_type": "code",
   "execution_count": 10,
   "id": "4be30048",
   "metadata": {},
   "outputs": [
    {
     "name": "stdout",
     "output_type": "stream",
     "text": [
      "<class 'pandas.core.frame.DataFrame'>\n",
      "RangeIndex: 16715 entries, 0 to 16714\n",
      "Data columns (total 11 columns):\n",
      " #   Column           Non-Null Count  Dtype  \n",
      "---  ------           --------------  -----  \n",
      " 0   name             16713 non-null  object \n",
      " 1   platform         16715 non-null  object \n",
      " 2   year_of_release  16446 non-null  float64\n",
      " 3   genre            16713 non-null  object \n",
      " 4   na_sales         16715 non-null  float64\n",
      " 5   eu_sales         16715 non-null  float64\n",
      " 6   jp_sales         16715 non-null  float64\n",
      " 7   other_sales      16715 non-null  float64\n",
      " 8   critic_score     8137 non-null   float64\n",
      " 9   user_score       7590 non-null   float64\n",
      " 10  rating           9949 non-null   object \n",
      "dtypes: float64(7), object(4)\n",
      "memory usage: 1.4+ MB\n"
     ]
    }
   ],
   "source": [
    "data.info()"
   ]
  },
  {
   "cell_type": "markdown",
   "id": "52531784",
   "metadata": {},
   "source": [
    "### Обработка пропусков"
   ]
  },
  {
   "cell_type": "code",
   "execution_count": 11,
   "id": "7e20f365",
   "metadata": {},
   "outputs": [],
   "source": [
    "def pass_value_barh(df):\n",
    "    try:\n",
    "        (\n",
    "            (df.isna().mean()*100)\n",
    "            .to_frame()\n",
    "            .rename(columns = {0:'space'})\n",
    "            .query('space > 0')\n",
    "            .sort_values(by = 'space', ascending = True)\n",
    "            .plot(kind = 'barh', figsize = (19,6), legend = False, fontsize = 16, grid=True)\n",
    "            .set_title('Содержание пропусков в данных, %' + \"\\n\", fontsize = 22, color = 'SteelBlue') \n",
    "        );    \n",
    "    except:\n",
    "        print('пропусков нет')"
   ]
  },
  {
   "cell_type": "code",
   "execution_count": 12,
   "id": "4d0af3ba",
   "metadata": {},
   "outputs": [
    {
     "data": {
      "image/png": "[encoded data removed]",
      "text/plain": [
       "<Figure size 1368x432 with 1 Axes>"
      ]
     },
     "metadata": {
      "needs_background": "light"
     },
     "output_type": "display_data"
    }
   ],
   "source": [
    "pass_value_barh(data)"
   ]
  },
  {
   "cell_type": "markdown",
   "id": "0884142c",
   "metadata": {},
   "source": [
    "Самое большое количество пропусков в столбце с оценками критиков, оценке пользователей. Эти пропуски заполнять не будем, оставим данные без изменений, т.к. заполнение такого количества пропусков средними или медианными значениями будет неверным. Далее заполним только столбец с рейтингом ESRB.\n",
    "\n",
    "Причин для пропусков в столбцах с рейтингом и оценками может быть много, например игра оказалась не популярной и оценок пользователей не хватило для выборки. \n",
    "\n",
    "Делать что либо с этими пропусками не будем. Так как анализу эти пропуски не помешают.\n",
    "\n",
    "Посмотрим количество пропусков в столбцах с малым количеством пропусков: `name`, `year_of_release`, `genre`:"
   ]
  },
  {
   "cell_type": "code",
   "execution_count": 13,
   "id": "1115e3eb",
   "metadata": {},
   "outputs": [
    {
     "name": "stdout",
     "output_type": "stream",
     "text": [
      "Колиество пропусков в столбце name: 2\n",
      "Колиество пропусков в столбце year_of_release: 269\n",
      "Колиество пропусков в столбце genre: 2\n"
     ]
    }
   ],
   "source": [
    "def nan_check(column):\n",
    "    for i in column:\n",
    "        print(f\"Колиество пропусков в столбце {i}:\", data[i].isna().sum())\n",
    "    return\n",
    "\n",
    "nan_check(['name', 'year_of_release', 'genre'])\n",
    "#print(\"Колиество пропусков в столбце 'name':\", data['name'].isna().sum())\n",
    "#print(\"Колиество пропусков в столбце 'year_of_release':\", data['year_of_release'].isna().sum())\n",
    "#print(\"Колиество пропусков в столбце 'genre':\", data['genre'].isna().sum())"
   ]
  },
  {
   "cell_type": "markdown",
   "id": "7cb0e27f",
   "metadata": {},
   "source": [
    "Так как количество строк с пропусками относительно всего датафрейма небольшое удалим эти строки и поменяем тип данных в столбце `year_of_release` на `int`."
   ]
  },
  {
   "cell_type": "code",
   "execution_count": 14,
   "id": "502e9ff8",
   "metadata": {},
   "outputs": [
    {
     "name": "stdout",
     "output_type": "stream",
     "text": [
      "Колиество пропусков в столбце name: 0\n",
      "Колиество пропусков в столбце year_of_release: 0\n",
      "Колиество пропусков в столбце genre: 0\n"
     ]
    }
   ],
   "source": [
    "data = data.dropna(subset=['name', 'year_of_release', 'genre'])\n",
    "data['year_of_release'] = data['year_of_release'].astype('int')\n",
    "nan_check(['name', 'year_of_release', 'genre'])"
   ]
  },
  {
   "cell_type": "markdown",
   "id": "3483fb56",
   "metadata": {},
   "source": [
    "<div class=\"alert-success\"> \n",
    "<b>Комментарий ревьюера 👍</b>\n",
    "\n",
    "Согласен. Там, где пропусков мало и восстановить их не представляется возможным, релевантным будет их удалить."
   ]
  },
  {
   "cell_type": "markdown",
   "id": "3ca92964",
   "metadata": {},
   "source": [
    "<div class=\"alert alert-info\">\n",
    "Добавила заполнение пропусков в столбце `rating` - в конце работы красный комментарий по этому поводу"
   ]
  },
  {
   "cell_type": "markdown",
   "id": "1c595532",
   "metadata": {},
   "source": [
    "Займёмся заполнением пропусков в рейтинге ESRB. Для начала посмотрим какие значения встречаются в этом столбце"
   ]
  },
  {
   "cell_type": "code",
   "execution_count": 15,
   "id": "4024d662",
   "metadata": {},
   "outputs": [
    {
     "data": {
      "text/plain": [
       "E       3921\n",
       "T       2905\n",
       "M       1536\n",
       "E10+    1393\n",
       "EC         8\n",
       "K-A        3\n",
       "AO         1\n",
       "RP         1\n",
       "Name: rating, dtype: int64"
      ]
     },
     "execution_count": 15,
     "metadata": {},
     "output_type": "execute_result"
    }
   ],
   "source": [
    "data['rating'].value_counts()"
   ]
  },
  {
   "cell_type": "markdown",
   "id": "767d22cc",
   "metadata": {},
   "source": [
    "Воспользуемся открытыми источниками, что бы выяснить что это за рейтинги:\n",
    "* 'E' - Для всех\n",
    "* 'M' - Для взрослых 17+\n",
    "* 'T' - Подросткам 13+\n",
    "* 'E10+' - Для всех от 10 лет и старше\n",
    "* 'K-A' - Для всех (устаревшая категория)\n",
    "* 'AO' - Только для взрослых 18+\n",
    "* 'EC' - Для детей младшего возраста\n",
    "* 'RP' - Рейтинг ожидается\n",
    "\n"
   ]
  },
  {
   "cell_type": "markdown",
   "id": "ff2708cc",
   "metadata": {},
   "source": [
    "Заменим пропуски в данных маркером NR - 'No Rating'"
   ]
  },
  {
   "cell_type": "code",
   "execution_count": 16,
   "id": "acd1d944",
   "metadata": {},
   "outputs": [],
   "source": [
    "data.loc[data['rating'].isna(), 'rating'] = 'NR'"
   ]
  },
  {
   "cell_type": "code",
   "execution_count": 17,
   "id": "d43a6a2a",
   "metadata": {},
   "outputs": [
    {
     "data": {
      "text/plain": [
       "NR      6676\n",
       "E       3921\n",
       "T       2905\n",
       "M       1536\n",
       "E10+    1393\n",
       "EC         8\n",
       "K-A        3\n",
       "AO         1\n",
       "RP         1\n",
       "Name: rating, dtype: int64"
      ]
     },
     "execution_count": 17,
     "metadata": {},
     "output_type": "execute_result"
    }
   ],
   "source": [
    "data['rating'].value_counts()"
   ]
  },
  {
   "cell_type": "code",
   "execution_count": 18,
   "id": "6c874129",
   "metadata": {},
   "outputs": [
    {
     "name": "stdout",
     "output_type": "stream",
     "text": [
      "<class 'pandas.core.frame.DataFrame'>\n",
      "Int64Index: 16444 entries, 0 to 16714\n",
      "Data columns (total 11 columns):\n",
      " #   Column           Non-Null Count  Dtype  \n",
      "---  ------           --------------  -----  \n",
      " 0   name             16444 non-null  object \n",
      " 1   platform         16444 non-null  object \n",
      " 2   year_of_release  16444 non-null  int64  \n",
      " 3   genre            16444 non-null  object \n",
      " 4   na_sales         16444 non-null  float64\n",
      " 5   eu_sales         16444 non-null  float64\n",
      " 6   jp_sales         16444 non-null  float64\n",
      " 7   other_sales      16444 non-null  float64\n",
      " 8   critic_score     7983 non-null   float64\n",
      " 9   user_score       7463 non-null   float64\n",
      " 10  rating           16444 non-null  object \n",
      "dtypes: float64(6), int64(1), object(4)\n",
      "memory usage: 1.5+ MB\n"
     ]
    }
   ],
   "source": [
    "data.info()"
   ]
  },
  {
   "cell_type": "markdown",
   "id": "0a65ba94",
   "metadata": {},
   "source": [
    "### Суммарные продажи во всех регионах"
   ]
  },
  {
   "cell_type": "code",
   "execution_count": 19,
   "id": "ee8ae6bf",
   "metadata": {},
   "outputs": [],
   "source": [
    "data['total_sales'] = data[['na_sales','eu_sales','jp_sales', 'other_sales']].sum(axis = 1)"
   ]
  },
  {
   "cell_type": "markdown",
   "id": "fa16169c",
   "metadata": {},
   "source": [
    "<div class=\"alert-warning\"> \n",
    "<b>Комментарий ревьюера 💡</b> \n",
    "\n",
    "Также, можно использовать конструкцию, не переписывая 'data' множнство раз:\n",
    "    \n",
    "    data[['na_sales','eu_sales','jp_sales', 'other_sales']].sum(axis = 1),\n",
    "    \n",
    "где указание на ось axis = 1 означает суммирование по строкам."
   ]
  },
  {
   "cell_type": "markdown",
   "id": "7bf62886",
   "metadata": {},
   "source": [
    "<div class=\"alert alert-info\">\n",
    "Сделала.. Было:\n",
    "    \n",
    "    data['total_sales'] = data['na_sales'] + data['eu_sales'] + data['jp_sales'] + data['other_sales']\n",
    "    "
   ]
  },
  {
   "cell_type": "code",
   "execution_count": 20,
   "id": "f385ceb3",
   "metadata": {},
   "outputs": [
    {
     "data": {
      "text/html": [
       "<div>\n",
       "<style scoped>\n",
       "    .dataframe tbody tr th:only-of-type {\n",
       "        vertical-align: middle;\n",
       "    }\n",
       "\n",
       "    .dataframe tbody tr th {\n",
       "        vertical-align: top;\n",
       "    }\n",
       "\n",
       "    .dataframe thead th {\n",
       "        text-align: right;\n",
       "    }\n",
       "</style>\n",
       "<table border=\"1\" class=\"dataframe\">\n",
       "  <thead>\n",
       "    <tr style=\"text-align: right;\">\n",
       "      <th></th>\n",
       "      <th>name</th>\n",
       "      <th>platform</th>\n",
       "      <th>year_of_release</th>\n",
       "      <th>genre</th>\n",
       "      <th>na_sales</th>\n",
       "      <th>eu_sales</th>\n",
       "      <th>jp_sales</th>\n",
       "      <th>other_sales</th>\n",
       "      <th>critic_score</th>\n",
       "      <th>user_score</th>\n",
       "      <th>rating</th>\n",
       "      <th>total_sales</th>\n",
       "    </tr>\n",
       "  </thead>\n",
       "  <tbody>\n",
       "    <tr>\n",
       "      <th>0</th>\n",
       "      <td>Wii Sports</td>\n",
       "      <td>Wii</td>\n",
       "      <td>2006</td>\n",
       "      <td>Sports</td>\n",
       "      <td>41.36</td>\n",
       "      <td>28.96</td>\n",
       "      <td>3.77</td>\n",
       "      <td>8.45</td>\n",
       "      <td>76.0</td>\n",
       "      <td>8.0</td>\n",
       "      <td>E</td>\n",
       "      <td>82.54</td>\n",
       "    </tr>\n",
       "    <tr>\n",
       "      <th>1</th>\n",
       "      <td>Super Mario Bros.</td>\n",
       "      <td>NES</td>\n",
       "      <td>1985</td>\n",
       "      <td>Platform</td>\n",
       "      <td>29.08</td>\n",
       "      <td>3.58</td>\n",
       "      <td>6.81</td>\n",
       "      <td>0.77</td>\n",
       "      <td>NaN</td>\n",
       "      <td>NaN</td>\n",
       "      <td>NR</td>\n",
       "      <td>40.24</td>\n",
       "    </tr>\n",
       "    <tr>\n",
       "      <th>2</th>\n",
       "      <td>Mario Kart Wii</td>\n",
       "      <td>Wii</td>\n",
       "      <td>2008</td>\n",
       "      <td>Racing</td>\n",
       "      <td>15.68</td>\n",
       "      <td>12.76</td>\n",
       "      <td>3.79</td>\n",
       "      <td>3.29</td>\n",
       "      <td>82.0</td>\n",
       "      <td>8.3</td>\n",
       "      <td>E</td>\n",
       "      <td>35.52</td>\n",
       "    </tr>\n",
       "    <tr>\n",
       "      <th>3</th>\n",
       "      <td>Wii Sports Resort</td>\n",
       "      <td>Wii</td>\n",
       "      <td>2009</td>\n",
       "      <td>Sports</td>\n",
       "      <td>15.61</td>\n",
       "      <td>10.93</td>\n",
       "      <td>3.28</td>\n",
       "      <td>2.95</td>\n",
       "      <td>80.0</td>\n",
       "      <td>8.0</td>\n",
       "      <td>E</td>\n",
       "      <td>32.77</td>\n",
       "    </tr>\n",
       "    <tr>\n",
       "      <th>4</th>\n",
       "      <td>Pokemon Red/Pokemon Blue</td>\n",
       "      <td>GB</td>\n",
       "      <td>1996</td>\n",
       "      <td>Role-Playing</td>\n",
       "      <td>11.27</td>\n",
       "      <td>8.89</td>\n",
       "      <td>10.22</td>\n",
       "      <td>1.00</td>\n",
       "      <td>NaN</td>\n",
       "      <td>NaN</td>\n",
       "      <td>NR</td>\n",
       "      <td>31.38</td>\n",
       "    </tr>\n",
       "  </tbody>\n",
       "</table>\n",
       "</div>"
      ],
      "text/plain": [
       "                       name platform  year_of_release         genre  na_sales  \\\n",
       "0                Wii Sports      Wii             2006        Sports     41.36   \n",
       "1         Super Mario Bros.      NES             1985      Platform     29.08   \n",
       "2            Mario Kart Wii      Wii             2008        Racing     15.68   \n",
       "3         Wii Sports Resort      Wii             2009        Sports     15.61   \n",
       "4  Pokemon Red/Pokemon Blue       GB             1996  Role-Playing     11.27   \n",
       "\n",
       "   eu_sales  jp_sales  other_sales  critic_score  user_score rating  \\\n",
       "0     28.96      3.77         8.45          76.0         8.0      E   \n",
       "1      3.58      6.81         0.77           NaN         NaN     NR   \n",
       "2     12.76      3.79         3.29          82.0         8.3      E   \n",
       "3     10.93      3.28         2.95          80.0         8.0      E   \n",
       "4      8.89     10.22         1.00           NaN         NaN     NR   \n",
       "\n",
       "   total_sales  \n",
       "0        82.54  \n",
       "1        40.24  \n",
       "2        35.52  \n",
       "3        32.77  \n",
       "4        31.38  "
      ]
     },
     "execution_count": 20,
     "metadata": {},
     "output_type": "execute_result"
    }
   ],
   "source": [
    "data.head()"
   ]
  },
  {
   "cell_type": "markdown",
   "id": "bd0a0d01",
   "metadata": {},
   "source": [
    "## Анализ данных"
   ]
  },
  {
   "cell_type": "markdown",
   "id": "5268676c",
   "metadata": {},
   "source": [
    "### Количество выпускаемых игр\n",
    "Оценим количество игр выпущенных в разные года."
   ]
  },
  {
   "cell_type": "code",
   "execution_count": 21,
   "id": "4d8f2e0c",
   "metadata": {},
   "outputs": [
    {
     "data": {
      "image/png": "[encoded data removed]",
      "text/plain": [
       "<Figure size 792x216 with 1 Axes>"
      ]
     },
     "metadata": {
      "needs_background": "light"
     },
     "output_type": "display_data"
    }
   ],
   "source": [
    "data.groupby('year_of_release')['year_of_release'].count().plot(kind='line', figsize=(11,3), color='green', grid=True)\n",
    "plt.title('Распределение релизов игр по годам')\n",
    "plt.ylabel('Количество релизов')\n",
    "plt.xlabel('Год');\n",
    "#plt.show()"
   ]
  },
  {
   "cell_type": "markdown",
   "id": "bd6e391f",
   "metadata": {},
   "source": [
    "<div class=\"alert-warning\"> \n",
    "<b>Комментарий ревьюера 💡</b> \n",
    "    \n",
    "Хорошо, что ты визуализируешь эти данные! В данном случае график с непрерывной линией был бы предпочитетельнее - поскольку речь идет именно о динамике на временном отрезке (но можно оставить и такую диаграмму)."
   ]
  },
  {
   "cell_type": "markdown",
   "id": "a3a6fa6a",
   "metadata": {},
   "source": [
    "<div class=\"alert alert-info\">\n",
    "Исправила"
   ]
  },
  {
   "cell_type": "markdown",
   "id": "213e42e4",
   "metadata": {},
   "source": [
    "Из графика видно что долгие годы с начала появления видеоигр их количество было не большим. \n",
    "\n",
    "Рывки в развитии этой индустрии приходятся на 1995, 1998, 2002 годы. Скорее всего они связаны с массовой популяризацией какой-то платформы. \n",
    "\n",
    "Наблюдаем спад в количестве выпускаемых игр начиная с 2009 года. Вероятно это вызвано перенасыщением рынка.\n",
    "\n",
    "Изучим как изменялось количество выпущенных видеоигр для каждой из платформ с течением времени. Возьмем данные с 1995 года."
   ]
  },
  {
   "cell_type": "code",
   "execution_count": 22,
   "id": "cc1750c6",
   "metadata": {},
   "outputs": [
    {
     "data": {
      "text/html": [
       "<div>\n",
       "<style scoped>\n",
       "    .dataframe tbody tr th:only-of-type {\n",
       "        vertical-align: middle;\n",
       "    }\n",
       "\n",
       "    .dataframe tbody tr th {\n",
       "        vertical-align: top;\n",
       "    }\n",
       "\n",
       "    .dataframe thead th {\n",
       "        text-align: right;\n",
       "    }\n",
       "</style>\n",
       "<table border=\"1\" class=\"dataframe\">\n",
       "  <thead>\n",
       "    <tr style=\"text-align: right;\">\n",
       "      <th>year_of_release</th>\n",
       "      <th>1995</th>\n",
       "      <th>1996</th>\n",
       "      <th>1997</th>\n",
       "      <th>1998</th>\n",
       "      <th>1999</th>\n",
       "      <th>2000</th>\n",
       "      <th>2001</th>\n",
       "      <th>2002</th>\n",
       "      <th>2003</th>\n",
       "      <th>2004</th>\n",
       "      <th>...</th>\n",
       "      <th>2007</th>\n",
       "      <th>2008</th>\n",
       "      <th>2009</th>\n",
       "      <th>2010</th>\n",
       "      <th>2011</th>\n",
       "      <th>2012</th>\n",
       "      <th>2013</th>\n",
       "      <th>2014</th>\n",
       "      <th>2015</th>\n",
       "      <th>2016</th>\n",
       "    </tr>\n",
       "    <tr>\n",
       "      <th>platform</th>\n",
       "      <th></th>\n",
       "      <th></th>\n",
       "      <th></th>\n",
       "      <th></th>\n",
       "      <th></th>\n",
       "      <th></th>\n",
       "      <th></th>\n",
       "      <th></th>\n",
       "      <th></th>\n",
       "      <th></th>\n",
       "      <th></th>\n",
       "      <th></th>\n",
       "      <th></th>\n",
       "      <th></th>\n",
       "      <th></th>\n",
       "      <th></th>\n",
       "      <th></th>\n",
       "      <th></th>\n",
       "      <th></th>\n",
       "      <th></th>\n",
       "      <th></th>\n",
       "    </tr>\n",
       "  </thead>\n",
       "  <tbody>\n",
       "    <tr>\n",
       "      <th>3DO</th>\n",
       "      <td>2</td>\n",
       "      <td>0</td>\n",
       "      <td>0</td>\n",
       "      <td>0</td>\n",
       "      <td>0</td>\n",
       "      <td>0</td>\n",
       "      <td>0</td>\n",
       "      <td>0</td>\n",
       "      <td>0</td>\n",
       "      <td>0</td>\n",
       "      <td>...</td>\n",
       "      <td>0</td>\n",
       "      <td>0</td>\n",
       "      <td>0</td>\n",
       "      <td>0</td>\n",
       "      <td>0</td>\n",
       "      <td>0</td>\n",
       "      <td>0</td>\n",
       "      <td>0</td>\n",
       "      <td>0</td>\n",
       "      <td>0</td>\n",
       "    </tr>\n",
       "    <tr>\n",
       "      <th>3DS</th>\n",
       "      <td>0</td>\n",
       "      <td>0</td>\n",
       "      <td>0</td>\n",
       "      <td>0</td>\n",
       "      <td>0</td>\n",
       "      <td>0</td>\n",
       "      <td>0</td>\n",
       "      <td>0</td>\n",
       "      <td>0</td>\n",
       "      <td>0</td>\n",
       "      <td>...</td>\n",
       "      <td>0</td>\n",
       "      <td>0</td>\n",
       "      <td>0</td>\n",
       "      <td>0</td>\n",
       "      <td>116</td>\n",
       "      <td>93</td>\n",
       "      <td>91</td>\n",
       "      <td>80</td>\n",
       "      <td>86</td>\n",
       "      <td>46</td>\n",
       "    </tr>\n",
       "    <tr>\n",
       "      <th>DC</th>\n",
       "      <td>0</td>\n",
       "      <td>0</td>\n",
       "      <td>0</td>\n",
       "      <td>7</td>\n",
       "      <td>14</td>\n",
       "      <td>20</td>\n",
       "      <td>8</td>\n",
       "      <td>1</td>\n",
       "      <td>0</td>\n",
       "      <td>0</td>\n",
       "      <td>...</td>\n",
       "      <td>1</td>\n",
       "      <td>1</td>\n",
       "      <td>0</td>\n",
       "      <td>0</td>\n",
       "      <td>0</td>\n",
       "      <td>0</td>\n",
       "      <td>0</td>\n",
       "      <td>0</td>\n",
       "      <td>0</td>\n",
       "      <td>0</td>\n",
       "    </tr>\n",
       "    <tr>\n",
       "      <th>DS</th>\n",
       "      <td>0</td>\n",
       "      <td>0</td>\n",
       "      <td>0</td>\n",
       "      <td>0</td>\n",
       "      <td>0</td>\n",
       "      <td>0</td>\n",
       "      <td>0</td>\n",
       "      <td>0</td>\n",
       "      <td>0</td>\n",
       "      <td>23</td>\n",
       "      <td>...</td>\n",
       "      <td>376</td>\n",
       "      <td>492</td>\n",
       "      <td>403</td>\n",
       "      <td>323</td>\n",
       "      <td>153</td>\n",
       "      <td>23</td>\n",
       "      <td>8</td>\n",
       "      <td>0</td>\n",
       "      <td>0</td>\n",
       "      <td>0</td>\n",
       "    </tr>\n",
       "    <tr>\n",
       "      <th>GB</th>\n",
       "      <td>4</td>\n",
       "      <td>6</td>\n",
       "      <td>8</td>\n",
       "      <td>8</td>\n",
       "      <td>11</td>\n",
       "      <td>17</td>\n",
       "      <td>10</td>\n",
       "      <td>0</td>\n",
       "      <td>0</td>\n",
       "      <td>0</td>\n",
       "      <td>...</td>\n",
       "      <td>0</td>\n",
       "      <td>0</td>\n",
       "      <td>0</td>\n",
       "      <td>0</td>\n",
       "      <td>0</td>\n",
       "      <td>0</td>\n",
       "      <td>0</td>\n",
       "      <td>0</td>\n",
       "      <td>0</td>\n",
       "      <td>0</td>\n",
       "    </tr>\n",
       "    <tr>\n",
       "      <th>GBA</th>\n",
       "      <td>0</td>\n",
       "      <td>0</td>\n",
       "      <td>0</td>\n",
       "      <td>0</td>\n",
       "      <td>0</td>\n",
       "      <td>1</td>\n",
       "      <td>107</td>\n",
       "      <td>198</td>\n",
       "      <td>150</td>\n",
       "      <td>175</td>\n",
       "      <td>...</td>\n",
       "      <td>6</td>\n",
       "      <td>0</td>\n",
       "      <td>0</td>\n",
       "      <td>0</td>\n",
       "      <td>0</td>\n",
       "      <td>0</td>\n",
       "      <td>0</td>\n",
       "      <td>0</td>\n",
       "      <td>0</td>\n",
       "      <td>0</td>\n",
       "    </tr>\n",
       "    <tr>\n",
       "      <th>GC</th>\n",
       "      <td>0</td>\n",
       "      <td>0</td>\n",
       "      <td>0</td>\n",
       "      <td>0</td>\n",
       "      <td>0</td>\n",
       "      <td>0</td>\n",
       "      <td>22</td>\n",
       "      <td>152</td>\n",
       "      <td>144</td>\n",
       "      <td>83</td>\n",
       "      <td>...</td>\n",
       "      <td>4</td>\n",
       "      <td>0</td>\n",
       "      <td>0</td>\n",
       "      <td>0</td>\n",
       "      <td>0</td>\n",
       "      <td>0</td>\n",
       "      <td>0</td>\n",
       "      <td>0</td>\n",
       "      <td>0</td>\n",
       "      <td>0</td>\n",
       "    </tr>\n",
       "    <tr>\n",
       "      <th>N64</th>\n",
       "      <td>0</td>\n",
       "      <td>18</td>\n",
       "      <td>49</td>\n",
       "      <td>77</td>\n",
       "      <td>102</td>\n",
       "      <td>60</td>\n",
       "      <td>9</td>\n",
       "      <td>1</td>\n",
       "      <td>0</td>\n",
       "      <td>0</td>\n",
       "      <td>...</td>\n",
       "      <td>0</td>\n",
       "      <td>0</td>\n",
       "      <td>0</td>\n",
       "      <td>0</td>\n",
       "      <td>0</td>\n",
       "      <td>0</td>\n",
       "      <td>0</td>\n",
       "      <td>0</td>\n",
       "      <td>0</td>\n",
       "      <td>0</td>\n",
       "    </tr>\n",
       "    <tr>\n",
       "      <th>NG</th>\n",
       "      <td>4</td>\n",
       "      <td>2</td>\n",
       "      <td>0</td>\n",
       "      <td>0</td>\n",
       "      <td>0</td>\n",
       "      <td>0</td>\n",
       "      <td>0</td>\n",
       "      <td>0</td>\n",
       "      <td>0</td>\n",
       "      <td>0</td>\n",
       "      <td>...</td>\n",
       "      <td>0</td>\n",
       "      <td>0</td>\n",
       "      <td>0</td>\n",
       "      <td>0</td>\n",
       "      <td>0</td>\n",
       "      <td>0</td>\n",
       "      <td>0</td>\n",
       "      <td>0</td>\n",
       "      <td>0</td>\n",
       "      <td>0</td>\n",
       "    </tr>\n",
       "    <tr>\n",
       "      <th>PC</th>\n",
       "      <td>2</td>\n",
       "      <td>4</td>\n",
       "      <td>6</td>\n",
       "      <td>8</td>\n",
       "      <td>7</td>\n",
       "      <td>7</td>\n",
       "      <td>15</td>\n",
       "      <td>19</td>\n",
       "      <td>33</td>\n",
       "      <td>30</td>\n",
       "      <td>...</td>\n",
       "      <td>62</td>\n",
       "      <td>76</td>\n",
       "      <td>107</td>\n",
       "      <td>90</td>\n",
       "      <td>139</td>\n",
       "      <td>61</td>\n",
       "      <td>38</td>\n",
       "      <td>47</td>\n",
       "      <td>50</td>\n",
       "      <td>54</td>\n",
       "    </tr>\n",
       "    <tr>\n",
       "      <th>PCFX</th>\n",
       "      <td>0</td>\n",
       "      <td>1</td>\n",
       "      <td>0</td>\n",
       "      <td>0</td>\n",
       "      <td>0</td>\n",
       "      <td>0</td>\n",
       "      <td>0</td>\n",
       "      <td>0</td>\n",
       "      <td>0</td>\n",
       "      <td>0</td>\n",
       "      <td>...</td>\n",
       "      <td>0</td>\n",
       "      <td>0</td>\n",
       "      <td>0</td>\n",
       "      <td>0</td>\n",
       "      <td>0</td>\n",
       "      <td>0</td>\n",
       "      <td>0</td>\n",
       "      <td>0</td>\n",
       "      <td>0</td>\n",
       "      <td>0</td>\n",
       "    </tr>\n",
       "    <tr>\n",
       "      <th>PS</th>\n",
       "      <td>99</td>\n",
       "      <td>164</td>\n",
       "      <td>188</td>\n",
       "      <td>248</td>\n",
       "      <td>200</td>\n",
       "      <td>160</td>\n",
       "      <td>91</td>\n",
       "      <td>20</td>\n",
       "      <td>3</td>\n",
       "      <td>0</td>\n",
       "      <td>...</td>\n",
       "      <td>0</td>\n",
       "      <td>0</td>\n",
       "      <td>0</td>\n",
       "      <td>0</td>\n",
       "      <td>0</td>\n",
       "      <td>0</td>\n",
       "      <td>0</td>\n",
       "      <td>0</td>\n",
       "      <td>0</td>\n",
       "      <td>0</td>\n",
       "    </tr>\n",
       "    <tr>\n",
       "      <th>PS2</th>\n",
       "      <td>0</td>\n",
       "      <td>0</td>\n",
       "      <td>0</td>\n",
       "      <td>0</td>\n",
       "      <td>0</td>\n",
       "      <td>82</td>\n",
       "      <td>185</td>\n",
       "      <td>280</td>\n",
       "      <td>256</td>\n",
       "      <td>259</td>\n",
       "      <td>...</td>\n",
       "      <td>214</td>\n",
       "      <td>191</td>\n",
       "      <td>96</td>\n",
       "      <td>38</td>\n",
       "      <td>7</td>\n",
       "      <td>0</td>\n",
       "      <td>0</td>\n",
       "      <td>0</td>\n",
       "      <td>0</td>\n",
       "      <td>0</td>\n",
       "    </tr>\n",
       "    <tr>\n",
       "      <th>PS3</th>\n",
       "      <td>0</td>\n",
       "      <td>0</td>\n",
       "      <td>0</td>\n",
       "      <td>0</td>\n",
       "      <td>0</td>\n",
       "      <td>0</td>\n",
       "      <td>0</td>\n",
       "      <td>0</td>\n",
       "      <td>0</td>\n",
       "      <td>0</td>\n",
       "      <td>...</td>\n",
       "      <td>90</td>\n",
       "      <td>138</td>\n",
       "      <td>162</td>\n",
       "      <td>181</td>\n",
       "      <td>215</td>\n",
       "      <td>148</td>\n",
       "      <td>126</td>\n",
       "      <td>108</td>\n",
       "      <td>73</td>\n",
       "      <td>38</td>\n",
       "    </tr>\n",
       "    <tr>\n",
       "      <th>PS4</th>\n",
       "      <td>0</td>\n",
       "      <td>0</td>\n",
       "      <td>0</td>\n",
       "      <td>0</td>\n",
       "      <td>0</td>\n",
       "      <td>0</td>\n",
       "      <td>0</td>\n",
       "      <td>0</td>\n",
       "      <td>0</td>\n",
       "      <td>0</td>\n",
       "      <td>...</td>\n",
       "      <td>0</td>\n",
       "      <td>0</td>\n",
       "      <td>0</td>\n",
       "      <td>0</td>\n",
       "      <td>0</td>\n",
       "      <td>0</td>\n",
       "      <td>16</td>\n",
       "      <td>75</td>\n",
       "      <td>137</td>\n",
       "      <td>164</td>\n",
       "    </tr>\n",
       "    <tr>\n",
       "      <th>PSP</th>\n",
       "      <td>0</td>\n",
       "      <td>0</td>\n",
       "      <td>0</td>\n",
       "      <td>0</td>\n",
       "      <td>0</td>\n",
       "      <td>0</td>\n",
       "      <td>0</td>\n",
       "      <td>0</td>\n",
       "      <td>0</td>\n",
       "      <td>15</td>\n",
       "      <td>...</td>\n",
       "      <td>133</td>\n",
       "      <td>100</td>\n",
       "      <td>161</td>\n",
       "      <td>188</td>\n",
       "      <td>139</td>\n",
       "      <td>106</td>\n",
       "      <td>54</td>\n",
       "      <td>10</td>\n",
       "      <td>3</td>\n",
       "      <td>0</td>\n",
       "    </tr>\n",
       "    <tr>\n",
       "      <th>PSV</th>\n",
       "      <td>0</td>\n",
       "      <td>0</td>\n",
       "      <td>0</td>\n",
       "      <td>0</td>\n",
       "      <td>0</td>\n",
       "      <td>0</td>\n",
       "      <td>0</td>\n",
       "      <td>0</td>\n",
       "      <td>0</td>\n",
       "      <td>0</td>\n",
       "      <td>...</td>\n",
       "      <td>0</td>\n",
       "      <td>0</td>\n",
       "      <td>0</td>\n",
       "      <td>0</td>\n",
       "      <td>18</td>\n",
       "      <td>53</td>\n",
       "      <td>63</td>\n",
       "      <td>100</td>\n",
       "      <td>110</td>\n",
       "      <td>85</td>\n",
       "    </tr>\n",
       "    <tr>\n",
       "      <th>SAT</th>\n",
       "      <td>52</td>\n",
       "      <td>38</td>\n",
       "      <td>34</td>\n",
       "      <td>29</td>\n",
       "      <td>1</td>\n",
       "      <td>0</td>\n",
       "      <td>0</td>\n",
       "      <td>0</td>\n",
       "      <td>0</td>\n",
       "      <td>0</td>\n",
       "      <td>...</td>\n",
       "      <td>0</td>\n",
       "      <td>0</td>\n",
       "      <td>0</td>\n",
       "      <td>0</td>\n",
       "      <td>0</td>\n",
       "      <td>0</td>\n",
       "      <td>0</td>\n",
       "      <td>0</td>\n",
       "      <td>0</td>\n",
       "      <td>0</td>\n",
       "    </tr>\n",
       "    <tr>\n",
       "      <th>SNES</th>\n",
       "      <td>54</td>\n",
       "      <td>30</td>\n",
       "      <td>4</td>\n",
       "      <td>2</td>\n",
       "      <td>1</td>\n",
       "      <td>0</td>\n",
       "      <td>0</td>\n",
       "      <td>0</td>\n",
       "      <td>0</td>\n",
       "      <td>0</td>\n",
       "      <td>...</td>\n",
       "      <td>0</td>\n",
       "      <td>0</td>\n",
       "      <td>0</td>\n",
       "      <td>0</td>\n",
       "      <td>0</td>\n",
       "      <td>0</td>\n",
       "      <td>0</td>\n",
       "      <td>0</td>\n",
       "      <td>0</td>\n",
       "      <td>0</td>\n",
       "    </tr>\n",
       "    <tr>\n",
       "      <th>TG16</th>\n",
       "      <td>2</td>\n",
       "      <td>0</td>\n",
       "      <td>0</td>\n",
       "      <td>0</td>\n",
       "      <td>0</td>\n",
       "      <td>0</td>\n",
       "      <td>0</td>\n",
       "      <td>0</td>\n",
       "      <td>0</td>\n",
       "      <td>0</td>\n",
       "      <td>...</td>\n",
       "      <td>0</td>\n",
       "      <td>0</td>\n",
       "      <td>0</td>\n",
       "      <td>0</td>\n",
       "      <td>0</td>\n",
       "      <td>0</td>\n",
       "      <td>0</td>\n",
       "      <td>0</td>\n",
       "      <td>0</td>\n",
       "      <td>0</td>\n",
       "    </tr>\n",
       "    <tr>\n",
       "      <th>WS</th>\n",
       "      <td>0</td>\n",
       "      <td>0</td>\n",
       "      <td>0</td>\n",
       "      <td>0</td>\n",
       "      <td>2</td>\n",
       "      <td>2</td>\n",
       "      <td>2</td>\n",
       "      <td>0</td>\n",
       "      <td>0</td>\n",
       "      <td>0</td>\n",
       "      <td>...</td>\n",
       "      <td>0</td>\n",
       "      <td>0</td>\n",
       "      <td>0</td>\n",
       "      <td>0</td>\n",
       "      <td>0</td>\n",
       "      <td>0</td>\n",
       "      <td>0</td>\n",
       "      <td>0</td>\n",
       "      <td>0</td>\n",
       "      <td>0</td>\n",
       "    </tr>\n",
       "    <tr>\n",
       "      <th>Wii</th>\n",
       "      <td>0</td>\n",
       "      <td>0</td>\n",
       "      <td>0</td>\n",
       "      <td>0</td>\n",
       "      <td>0</td>\n",
       "      <td>0</td>\n",
       "      <td>0</td>\n",
       "      <td>0</td>\n",
       "      <td>0</td>\n",
       "      <td>0</td>\n",
       "      <td>...</td>\n",
       "      <td>185</td>\n",
       "      <td>282</td>\n",
       "      <td>325</td>\n",
       "      <td>253</td>\n",
       "      <td>143</td>\n",
       "      <td>31</td>\n",
       "      <td>12</td>\n",
       "      <td>6</td>\n",
       "      <td>4</td>\n",
       "      <td>1</td>\n",
       "    </tr>\n",
       "    <tr>\n",
       "      <th>WiiU</th>\n",
       "      <td>0</td>\n",
       "      <td>0</td>\n",
       "      <td>0</td>\n",
       "      <td>0</td>\n",
       "      <td>0</td>\n",
       "      <td>0</td>\n",
       "      <td>0</td>\n",
       "      <td>0</td>\n",
       "      <td>0</td>\n",
       "      <td>0</td>\n",
       "      <td>...</td>\n",
       "      <td>0</td>\n",
       "      <td>0</td>\n",
       "      <td>0</td>\n",
       "      <td>0</td>\n",
       "      <td>0</td>\n",
       "      <td>32</td>\n",
       "      <td>42</td>\n",
       "      <td>31</td>\n",
       "      <td>28</td>\n",
       "      <td>14</td>\n",
       "    </tr>\n",
       "    <tr>\n",
       "      <th>X360</th>\n",
       "      <td>0</td>\n",
       "      <td>0</td>\n",
       "      <td>0</td>\n",
       "      <td>0</td>\n",
       "      <td>0</td>\n",
       "      <td>0</td>\n",
       "      <td>0</td>\n",
       "      <td>0</td>\n",
       "      <td>0</td>\n",
       "      <td>0</td>\n",
       "      <td>...</td>\n",
       "      <td>123</td>\n",
       "      <td>146</td>\n",
       "      <td>172</td>\n",
       "      <td>182</td>\n",
       "      <td>206</td>\n",
       "      <td>106</td>\n",
       "      <td>75</td>\n",
       "      <td>63</td>\n",
       "      <td>35</td>\n",
       "      <td>13</td>\n",
       "    </tr>\n",
       "    <tr>\n",
       "      <th>XB</th>\n",
       "      <td>0</td>\n",
       "      <td>0</td>\n",
       "      <td>0</td>\n",
       "      <td>0</td>\n",
       "      <td>0</td>\n",
       "      <td>1</td>\n",
       "      <td>33</td>\n",
       "      <td>158</td>\n",
       "      <td>189</td>\n",
       "      <td>177</td>\n",
       "      <td>...</td>\n",
       "      <td>3</td>\n",
       "      <td>1</td>\n",
       "      <td>0</td>\n",
       "      <td>0</td>\n",
       "      <td>0</td>\n",
       "      <td>0</td>\n",
       "      <td>0</td>\n",
       "      <td>0</td>\n",
       "      <td>0</td>\n",
       "      <td>0</td>\n",
       "    </tr>\n",
       "    <tr>\n",
       "      <th>XOne</th>\n",
       "      <td>0</td>\n",
       "      <td>0</td>\n",
       "      <td>0</td>\n",
       "      <td>0</td>\n",
       "      <td>0</td>\n",
       "      <td>0</td>\n",
       "      <td>0</td>\n",
       "      <td>0</td>\n",
       "      <td>0</td>\n",
       "      <td>0</td>\n",
       "      <td>...</td>\n",
       "      <td>0</td>\n",
       "      <td>0</td>\n",
       "      <td>0</td>\n",
       "      <td>0</td>\n",
       "      <td>0</td>\n",
       "      <td>0</td>\n",
       "      <td>19</td>\n",
       "      <td>61</td>\n",
       "      <td>80</td>\n",
       "      <td>87</td>\n",
       "    </tr>\n",
       "  </tbody>\n",
       "</table>\n",
       "<p>26 rows × 22 columns</p>\n",
       "</div>"
      ],
      "text/plain": [
       "year_of_release  1995  1996  1997  1998  1999  2000  2001  2002  2003  2004  \\\n",
       "platform                                                                      \n",
       "3DO                 2     0     0     0     0     0     0     0     0     0   \n",
       "3DS                 0     0     0     0     0     0     0     0     0     0   \n",
       "DC                  0     0     0     7    14    20     8     1     0     0   \n",
       "DS                  0     0     0     0     0     0     0     0     0    23   \n",
       "GB                  4     6     8     8    11    17    10     0     0     0   \n",
       "GBA                 0     0     0     0     0     1   107   198   150   175   \n",
       "GC                  0     0     0     0     0     0    22   152   144    83   \n",
       "N64                 0    18    49    77   102    60     9     1     0     0   \n",
       "NG                  4     2     0     0     0     0     0     0     0     0   \n",
       "PC                  2     4     6     8     7     7    15    19    33    30   \n",
       "PCFX                0     1     0     0     0     0     0     0     0     0   \n",
       "PS                 99   164   188   248   200   160    91    20     3     0   \n",
       "PS2                 0     0     0     0     0    82   185   280   256   259   \n",
       "PS3                 0     0     0     0     0     0     0     0     0     0   \n",
       "PS4                 0     0     0     0     0     0     0     0     0     0   \n",
       "PSP                 0     0     0     0     0     0     0     0     0    15   \n",
       "PSV                 0     0     0     0     0     0     0     0     0     0   \n",
       "SAT                52    38    34    29     1     0     0     0     0     0   \n",
       "SNES               54    30     4     2     1     0     0     0     0     0   \n",
       "TG16                2     0     0     0     0     0     0     0     0     0   \n",
       "WS                  0     0     0     0     2     2     2     0     0     0   \n",
       "Wii                 0     0     0     0     0     0     0     0     0     0   \n",
       "WiiU                0     0     0     0     0     0     0     0     0     0   \n",
       "X360                0     0     0     0     0     0     0     0     0     0   \n",
       "XB                  0     0     0     0     0     1    33   158   189   177   \n",
       "XOne                0     0     0     0     0     0     0     0     0     0   \n",
       "\n",
       "year_of_release  ...  2007  2008  2009  2010  2011  2012  2013  2014  2015  \\\n",
       "platform         ...                                                         \n",
       "3DO              ...     0     0     0     0     0     0     0     0     0   \n",
       "3DS              ...     0     0     0     0   116    93    91    80    86   \n",
       "DC               ...     1     1     0     0     0     0     0     0     0   \n",
       "DS               ...   376   492   403   323   153    23     8     0     0   \n",
       "GB               ...     0     0     0     0     0     0     0     0     0   \n",
       "GBA              ...     6     0     0     0     0     0     0     0     0   \n",
       "GC               ...     4     0     0     0     0     0     0     0     0   \n",
       "N64              ...     0     0     0     0     0     0     0     0     0   \n",
       "NG               ...     0     0     0     0     0     0     0     0     0   \n",
       "PC               ...    62    76   107    90   139    61    38    47    50   \n",
       "PCFX             ...     0     0     0     0     0     0     0     0     0   \n",
       "PS               ...     0     0     0     0     0     0     0     0     0   \n",
       "PS2              ...   214   191    96    38     7     0     0     0     0   \n",
       "PS3              ...    90   138   162   181   215   148   126   108    73   \n",
       "PS4              ...     0     0     0     0     0     0    16    75   137   \n",
       "PSP              ...   133   100   161   188   139   106    54    10     3   \n",
       "PSV              ...     0     0     0     0    18    53    63   100   110   \n",
       "SAT              ...     0     0     0     0     0     0     0     0     0   \n",
       "SNES             ...     0     0     0     0     0     0     0     0     0   \n",
       "TG16             ...     0     0     0     0     0     0     0     0     0   \n",
       "WS               ...     0     0     0     0     0     0     0     0     0   \n",
       "Wii              ...   185   282   325   253   143    31    12     6     4   \n",
       "WiiU             ...     0     0     0     0     0    32    42    31    28   \n",
       "X360             ...   123   146   172   182   206   106    75    63    35   \n",
       "XB               ...     3     1     0     0     0     0     0     0     0   \n",
       "XOne             ...     0     0     0     0     0     0    19    61    80   \n",
       "\n",
       "year_of_release  2016  \n",
       "platform               \n",
       "3DO                 0  \n",
       "3DS                46  \n",
       "DC                  0  \n",
       "DS                  0  \n",
       "GB                  0  \n",
       "GBA                 0  \n",
       "GC                  0  \n",
       "N64                 0  \n",
       "NG                  0  \n",
       "PC                 54  \n",
       "PCFX                0  \n",
       "PS                  0  \n",
       "PS2                 0  \n",
       "PS3                38  \n",
       "PS4               164  \n",
       "PSP                 0  \n",
       "PSV                85  \n",
       "SAT                 0  \n",
       "SNES                0  \n",
       "TG16                0  \n",
       "WS                  0  \n",
       "Wii                 1  \n",
       "WiiU               14  \n",
       "X360               13  \n",
       "XB                  0  \n",
       "XOne               87  \n",
       "\n",
       "[26 rows x 22 columns]"
      ]
     },
     "execution_count": 22,
     "metadata": {},
     "output_type": "execute_result"
    }
   ],
   "source": [
    "platform_years = (\n",
    "    data.query('year_of_release >= 1995')\n",
    "    .pivot_table(index = 'platform', \n",
    "                 columns = 'year_of_release', \n",
    "                 values = 'name',\n",
    "                 aggfunc='count',\n",
    "                 fill_value=0,\n",
    "                 )\n",
    ")\n",
    "platform_years"
   ]
  },
  {
   "cell_type": "markdown",
   "id": "bc87389f",
   "metadata": {},
   "source": [
    "Очевидно, что имеются зависимые и независимые платформы, однако все имеют схожий жизненный цикл: появление платформы, активный выпуск новых релизов, устаревание. Например, платформы  PlayStation и Xbox сменяют друг друга от поколения к поколению."
   ]
  },
  {
   "cell_type": "markdown",
   "id": "69d1ee21",
   "metadata": {},
   "source": [
    "### Изменение количества релизов по платформам\n",
    "\n",
    "Изучим как изменялось количество выпущенных видеоигр для каждой из платформ с течением времени. \n",
    "\n",
    "Выберем топ-10 платформ по количеству проданных копий игр и посмотрим как они распределяются по годам."
   ]
  },
  {
   "cell_type": "code",
   "execution_count": 23,
   "id": "6a523798",
   "metadata": {},
   "outputs": [
    {
     "data": {
      "image/png": "[encoded data removed]",
      "text/plain": [
       "<Figure size 792x216 with 1 Axes>"
      ]
     },
     "metadata": {
      "needs_background": "light"
     },
     "output_type": "display_data"
    }
   ],
   "source": [
    "platform_years = (data\n",
    "    .pivot_table(index = 'platform', columns = 'year_of_release', values = 'total_sales', aggfunc='sum', margins=True)\n",
    "    # нам нужен столбец с итогом\n",
    "    [:-1] # костыль, убираем строку с итогом (не нашла как сделать быстро итог-столбец без итог-строки)\n",
    "    .sort_values(by='All', ascending=False)\n",
    "    [:10] #Топ-10\n",
    "    .drop(columns = 'All') # да и сам столбец то нам кроме как для сортировки не нужен\n",
    "    .T # без транспонирования не рисовался график как нужно\n",
    ")\n",
    "platform_years.plot(figsize=(11,3), grid=True)\n",
    "plt.xlabel('Год')\n",
    "plt.ylabel('Количество проданных копий')\n",
    "plt.legend(loc='upper left')\n",
    "plt.title('Продажи игр по платформам, распределение по годам')\n",
    "plt.show()"
   ]
  },
  {
   "cell_type": "markdown",
   "id": "4308df84",
   "metadata": {},
   "source": [
    "<div class=\"alert-warning\"> \n",
    "<b>Комментарий ревьюера 💡</b> \n",
    "    \n",
    "Ты выбираешь хороший тип графика, но стоило бы ограничить ось абсцисс - сделать так, чтобы временной промежуток начинался как минимум с 1991-1992 года для большей наглядности и чтобы данные не были визуально смещены вправо."
   ]
  },
  {
   "cell_type": "markdown",
   "id": "3a60e916",
   "metadata": {},
   "source": [
    "<div class=\"alert alert-info\">\n",
    "   До визуализации мы не знали что там пусто <br>\n",
    "   Меня всегда этот момент сбивает с толку, и я не знаю как правильно сделать.<br>\n",
    "   Я вижу что там пустые данные и их можно выкинуть из графика, тогда я могу сразу по ходу пьессы переделать код и построить график с 91г.<br>\n",
    "    Но у потенциальных клиентов не возникнет вопросов почему нет визуализации до 91г? Тогда получается логичным построить сначала график как есть, потом написать \"мы видим что можно выкинуть до 91г\" и перестроить график начиная с 91г.<br>\n",
    "    Или это я загоняюсь и все намного проще, как сделаю так и ладушки?"
   ]
  },
  {
   "cell_type": "markdown",
   "id": "ecf44989",
   "metadata": {},
   "source": [
    "<div class=\"alert-success\"> \n",
    "<b>Комментарий ревьюера 👍 Вторая итерация</b>\n",
    "\n",
    "Думаю, здесь не будет критичным, если график будет сразу построен с 1991 года, но в целом твои рассуждения верны."
   ]
  },
  {
   "cell_type": "markdown",
   "id": "c56ba081",
   "metadata": {
    "scrolled": false
   },
   "source": [
    "Из графика видно, что цикл \"жизни\" платформы около 5 лет."
   ]
  },
  {
   "cell_type": "markdown",
   "id": "261849d1",
   "metadata": {},
   "source": [
    "### Актуальный период\n",
    "Запишем новый датасет, в которые войдут данные за последние 3 года. В этот Период войдут умирающие платформы и только набирающие популярность."
   ]
  },
  {
   "cell_type": "code",
   "execution_count": 24,
   "id": "34263bb6",
   "metadata": {},
   "outputs": [
    {
     "name": "stdout",
     "output_type": "stream",
     "text": [
      "<class 'pandas.core.frame.DataFrame'>\n",
      "Int64Index: 1689 entries, 31 to 16714\n",
      "Data columns (total 12 columns):\n",
      " #   Column           Non-Null Count  Dtype  \n",
      "---  ------           --------------  -----  \n",
      " 0   name             1689 non-null   object \n",
      " 1   platform         1689 non-null   object \n",
      " 2   year_of_release  1689 non-null   int64  \n",
      " 3   genre            1689 non-null   object \n",
      " 4   na_sales         1689 non-null   float64\n",
      " 5   eu_sales         1689 non-null   float64\n",
      " 6   jp_sales         1689 non-null   float64\n",
      " 7   other_sales      1689 non-null   float64\n",
      " 8   critic_score     718 non-null    float64\n",
      " 9   user_score       888 non-null    float64\n",
      " 10  rating           1689 non-null   object \n",
      " 11  total_sales      1689 non-null   float64\n",
      "dtypes: float64(7), int64(1), object(4)\n",
      "memory usage: 171.5+ KB\n"
     ]
    }
   ],
   "source": [
    "act_data = data.query('year_of_release >= 2014')\n",
    "act_data.info()"
   ]
  },
  {
   "cell_type": "markdown",
   "id": "5f43ad6e",
   "metadata": {},
   "source": [
    "<div class=\"alert-danger\"> \n",
    "<b>Комментарий ревьюера ❌</b> \n",
    "    \n",
    "Для целей прогнозирования продаж на следующий год даже в традиционных моделях бизнеса редко берут данные более чем за 2-3 года. А в такой динамично меняющейся индустрии, как компьютерные игры и вовсе не стоит брать слишком большой временной интервал - иначе обязательно захватишь уже отжившие тренды, которые зависят не только от выхода новой игровой платформы (просто резкий спад продаж может произойти и за достаточно короткий срок).\n",
    "\n",
    "В данном случае идеальным периодом будет считаться 2014-2016 гг./2015-2016 гг - т.е. период в 2-3 года с сохранением данных за 2016 г.\n",
    "\n",
    "Поменяй это, пожалуйста.</div>"
   ]
  },
  {
   "cell_type": "markdown",
   "id": "40d774b7",
   "metadata": {},
   "source": [
    "<div class=\"alert alert-info\">\n",
    "Поменяла"
   ]
  },
  {
   "cell_type": "markdown",
   "id": "be126b83",
   "metadata": {},
   "source": [
    "### Лидеры продаж игр по платформам\n",
    "Изучим какие платформы лидируют по продажам, растут и падают. Определим несколько потенциально прибыльных платформ."
   ]
  },
  {
   "cell_type": "code",
   "execution_count": 25,
   "id": "28c97440",
   "metadata": {},
   "outputs": [
    {
     "data": {
      "image/png": "[encoded data removed]",
      "text/plain": [
       "<Figure size 792x216 with 1 Axes>"
      ]
     },
     "metadata": {
      "needs_background": "light"
     },
     "output_type": "display_data"
    }
   ],
   "source": [
    "platform_years = (act_data                \n",
    "    .pivot_table(index='platform', columns='year_of_release', values='total_sales', aggfunc='sum', margins=True)\n",
    "    # нам нужен столбец с итогом\n",
    "    [:-1] # костыль, убираем строку с итогом (не нашла как сделать быстро итог-столбец без итог-строки)\n",
    "    .sort_values(by='All', ascending=False)\n",
    "    [:10] #Топ-10\n",
    "    .drop(columns = 'All') # да и сам столбец то нам кроме как для сортировки не нужен\n",
    "    .T # без транспонирования не рисовался график как нужно\n",
    ")\n",
    "platform_years.plot(figsize=(11,3), grid=True)\n",
    "plt.xlabel('Год')\n",
    "plt.ylabel('Количество проданных копий')\n",
    "plt.legend(loc='upper left')\n",
    "plt.title('Продажи игр по платформам, распределение по годам')\n",
    "plt.show()"
   ]
  },
  {
   "cell_type": "markdown",
   "id": "a5e6df8c",
   "metadata": {},
   "source": [
    "По графику видно, что за последние 5 лет популярность большинства платформ идет на спад.\n",
    "\n",
    "Учитывая, что за 2016 год данные не полные, можно утверждать о росте продаж видеоигр для двух платформ - Play Station 3 и Xbox One. Так же на следующий 2017 может сохранить актуальность платформа Nintendo 3DS и PC, т.к. на Nintendo 3DS спрос падает медленно, а PC имеет относительно стабильные продажи на протяжении всего рассматриваемого периода (даже до актуализации периода). \n",
    "\n",
    "Создадим датасет `top_platform` в который войдут игры, выпущенные на платформах Play Station 4, Xbox One, Nintendo 3DS, PC."
   ]
  },
  {
   "cell_type": "code",
   "execution_count": 26,
   "id": "362456fc",
   "metadata": {},
   "outputs": [],
   "source": [
    "top_platform = (act_data\n",
    "                .query('platform == \"PS4\" or platform ==\"XOne\" or platform ==\"PC\" or platform == \"3DS\"')\n",
    "                .reset_index(drop=True)\n",
    "               )"
   ]
  },
  {
   "cell_type": "markdown",
   "id": "fd0ba521",
   "metadata": {},
   "source": [
    "### \"Ящик с усами\" по платформам\n",
    "Постройте график «ящик с усами» по глобальным продажам игр в разбивке по платформам. Опишите результат."
   ]
  },
  {
   "cell_type": "code",
   "execution_count": 27,
   "id": "d2308beb",
   "metadata": {},
   "outputs": [
    {
     "data": {
      "image/png": "[encoded data removed]",
      "text/plain": [
       "<Figure size 792x432 with 1 Axes>"
      ]
     },
     "metadata": {
      "needs_background": "light"
     },
     "output_type": "display_data"
    }
   ],
   "source": [
    "plt.figure(figsize=(11,6))\n",
    "\n",
    "ax = sb.boxplot(x='total_sales', y='platform', data=act_data)\n",
    "ax.set_ylabel('Платформы')\n",
    "ax.set_xlabel('Продажи игр, млн. копий')\n",
    "ax.set_title('Распределение продаж игр за актуальный период')\n",
    "plt.show()"
   ]
  },
  {
   "cell_type": "markdown",
   "id": "0cc4b0e6",
   "metadata": {},
   "source": [
    "<div class=\"alert-success\"> \n",
    "<b>Комментарий ревьюера 👍 </b>\n",
    "\n",
    "Отлично, что ты используешь библиотеку seaborn, а не стандартные инструменты matplotlob. Так \"ящики с усами\" получаются намного более репрезентативными."
   ]
  },
  {
   "cell_type": "markdown",
   "id": "54606a4f",
   "metadata": {},
   "source": [
    "Посмотрим поближе распределение продаж у выделенных нами платформ Play Station 3, Xbox One, Nintendo 3DS, PC.\n",
    "Ограничим значения до проданных 3 млн. копий."
   ]
  },
  {
   "cell_type": "code",
   "execution_count": 28,
   "id": "82136c4e",
   "metadata": {},
   "outputs": [
    {
     "data": {
      "image/png": "[encoded data removed]",
      "text/plain": [
       "<Figure size 792x216 with 1 Axes>"
      ]
     },
     "metadata": {
      "needs_background": "light"
     },
     "output_type": "display_data"
    }
   ],
   "source": [
    "plt.figure(figsize=(11,3))\n",
    "\n",
    "ax = sb.boxplot(x='total_sales', y='platform', data=top_platform)\n",
    "ax.set_xlim(0, 3)\n",
    "ax.set_ylabel('Платформы')\n",
    "ax.set_xlabel('Продажи игр, млн. копий')\n",
    "ax.set_title('Распределение продаж топ платформ игр за актуальный период')\n",
    "plt.show()"
   ]
  },
  {
   "cell_type": "markdown",
   "id": "7cbdc96e",
   "metadata": {},
   "source": [
    "По ящикам видно, что основная масса игр продается небольшим количеством копий, но таких игр много. У каждой платформы имеются выбросы - игры бестселлеры, которые продаются на \"ура\"."
   ]
  },
  {
   "cell_type": "markdown",
   "id": "178fe5a3",
   "metadata": {},
   "source": [
    "### Связь между продажами и оценками критиков и пользователей\n",
    "Посмотрим как связаны продажи внутри популярных платформ и отзывы пользователей и критиков.\n",
    "\n",
    "Построим диаграмму рассеяния:"
   ]
  },
  {
   "cell_type": "code",
   "execution_count": 29,
   "id": "efb53f8d",
   "metadata": {
    "scrolled": false
   },
   "outputs": [
    {
     "data": {
      "image/png": "[encoded data removed]",
      "text/plain": [
       "<Figure size 432x288 with 2 Axes>"
      ]
     },
     "metadata": {
      "needs_background": "light"
     },
     "output_type": "display_data"
    },
    {
     "data": {
      "image/png": "[encoded data removed]",
      "text/plain": [
       "<Figure size 432x288 with 2 Axes>"
      ]
     },
     "metadata": {
      "needs_background": "light"
     },
     "output_type": "display_data"
    },
    {
     "data": {
      "image/png": "[encoded data removed]",
      "text/plain": [
       "<Figure size 432x288 with 2 Axes>"
      ]
     },
     "metadata": {
      "needs_background": "light"
     },
     "output_type": "display_data"
    },
    {
     "data": {
      "image/png": "[encoded data removed]",
      "text/plain": [
       "<Figure size 432x288 with 2 Axes>"
      ]
     },
     "metadata": {
      "needs_background": "light"
     },
     "output_type": "display_data"
    }
   ],
   "source": [
    "for i in ['PS4', 'XOne', 'PC','3DS']:\n",
    "    fig, axes = plt.subplots(1, 2)\n",
    "    \n",
    "    act_data.loc[act_data['platform'] == i].plot(\n",
    "        kind='scatter', \n",
    "        ax=axes[0],\n",
    "        y='critic_score', \n",
    "        x='total_sales', \n",
    "        ylabel='Оценка критиками', \n",
    "        xlabel='Продажи, млн. копий', \n",
    "        alpha=0.5, \n",
    "        subplots=True, \n",
    "        c='b', \n",
    "        s=2,\n",
    "        figsize = (5,5))\n",
    "    \n",
    "    act_data.loc[act_data['platform'] == i].plot(\n",
    "        kind='scatter',\n",
    "        ax=axes[1],\n",
    "        y='user_score',\n",
    "        x='total_sales',\n",
    "        ylabel='Оценка пользователями',\n",
    "        xlabel='Продажи, млн. копий',\n",
    "        alpha=0.5,\n",
    "        subplots=True,\n",
    "        c='r',\n",
    "        s=2,\n",
    "        figsize = (5,5))\n",
    "    \n",
    "    \n",
    "    plt.title(f'Зависимость между продажами видеоигр на платформе {i} и их оценками:')\n",
    "    "
   ]
  },
  {
   "cell_type": "markdown",
   "id": "9bcd7e55",
   "metadata": {},
   "source": [
    "<div class=\"alert-success\"> \n",
    "<b>Комментарий ревьюера 👍 </b>\n",
    "\n",
    "Очень хорошо, что ты используешь здесь цикл for."
   ]
  },
  {
   "cell_type": "markdown",
   "id": "ffafeeb6",
   "metadata": {},
   "source": [
    "Изучим корреляцию между продажами и оценками критиков и пользователей."
   ]
  },
  {
   "cell_type": "code",
   "execution_count": 30,
   "id": "542a60d6",
   "metadata": {},
   "outputs": [
    {
     "data": {
      "image/png": "[encoded data removed]",
      "text/plain": [
       "<Figure size 432x288 with 4 Axes>"
      ]
     },
     "metadata": {
      "needs_background": "light"
     },
     "output_type": "display_data"
    }
   ],
   "source": [
    "fig, axes = plt.subplots(1, 4)\n",
    "a = 0\n",
    "for i in ['PS4', 'XOne', 'PC','3DS']:\n",
    "    table = act_data.loc[act_data['platform'] == i, ['critic_score', 'user_score', 'total_sales']]\n",
    "    #plt.figure(figsize=(1,8))\n",
    "    sb.heatmap(table.corr()[['total_sales']].sort_values(by='total_sales', ascending=False),\n",
    "               cmap=\"Greens\",\n",
    "               annot=True,\n",
    "               cbar=False,\n",
    "               ax=axes[a]\n",
    "              )\n",
    "    axes[a].set_title(i)\n",
    "    a += 1"
   ]
  },
  {
   "cell_type": "markdown",
   "id": "c59f4de7",
   "metadata": {},
   "source": [
    "Очевидно что некоторая корреляция присутсвует, наиболее сильно она выражена между парой продажи/оценка критиков. Вероятно этот параметр более надежен, нежели оценки выставленные пользователями (часто пользователи оценки ставят по настроению). \n",
    "\n",
    "Так же стоит отметить что корреляция больше выражена у платформ, идущих \"в гору\" по популярности, это Play Station 4 и Xbox One."
   ]
  },
  {
   "cell_type": "markdown",
   "id": "c3225df1",
   "metadata": {},
   "source": [
    "### Соотнесите выводы с продажами игр на других платформах.\n",
    "Проверим наши выводы относительно корреляции на всех платформах за актуальный период:"
   ]
  },
  {
   "cell_type": "code",
   "execution_count": 31,
   "id": "4e110d1b",
   "metadata": {},
   "outputs": [
    {
     "data": {
      "image/png": "[encoded data removed]",
      "text/plain": [
       "<Figure size 432x288 with 1 Axes>"
      ]
     },
     "metadata": {
      "needs_background": "light"
     },
     "output_type": "display_data"
    }
   ],
   "source": [
    "critic_score_corr = (act_data\n",
    " .pivot_table(index='platform', values=['critic_score','total_sales'], aggfunc='corr')\n",
    " .reset_index() # сбросим индексы, что бы избавиться от мульти-индекса\n",
    " .query('level_1 != \"critic_score\"') # уберем дубликаты строк-корелляции\n",
    " .drop(columns = ['total_sales', 'level_1']) #уберем лишние столбцы после корреляции\n",
    " .reset_index(drop=True) # еще раз сбросим индексы\n",
    " .sort_values(by='critic_score', ascending=False) # отсортируем данные по платформам в алфавитном порядке\n",
    ")\n",
    "\n",
    "user_score_corr = (act_data\n",
    " .pivot_table(index='platform', values=['user_score','total_sales'], aggfunc='corr')\n",
    " .reset_index() # сбросим индексы, что бы избавиться от мульти-индекса\n",
    " .query('level_1 != \"user_score\"') # уберем дубликаты строк-корелляции\n",
    " .drop(columns = ['total_sales', 'level_1']) #уберем лишние столбцы после корреляции\n",
    " .reset_index(drop=True)# еще раз сбросим индексы\n",
    ")\n",
    "\n",
    "critic_score_corr.merge(user_score_corr, on='platform').plot(x='platform', style='o-')\n",
    "plt.show()"
   ]
  },
  {
   "cell_type": "markdown",
   "id": "a4b872df",
   "metadata": {},
   "source": [
    "3Из графика видно, что оценки критиков имеют наиболее высокую и, что главное, надежную корреляцию с продажами игр по сравнению с оценками пользователей. Следовательно наши выводы, сделанные на топ-платформах оказались верными."
   ]
  },
  {
   "cell_type": "markdown",
   "id": "1683a2ff",
   "metadata": {},
   "source": [
    "<div class=\"alert-success\"> \n",
    "<b>Комментарий ревьюера 👍 </b>\n",
    "\n",
    "Хороший тип визуализации!"
   ]
  },
  {
   "cell_type": "markdown",
   "id": "5f9baaf5",
   "metadata": {},
   "source": [
    "### Распределение игр по жанрам\n",
    "Посмотрим на общее распределение игр по жанрам:"
   ]
  },
  {
   "cell_type": "code",
   "execution_count": 32,
   "id": "32237ec4",
   "metadata": {},
   "outputs": [
    {
     "data": {
      "image/png": "[encoded data removed]",
      "text/plain": [
       "<Figure size 720x360 with 4 Axes>"
      ]
     },
     "metadata": {
      "needs_background": "light"
     },
     "output_type": "display_data"
    }
   ],
   "source": [
    "fig, axes = plt.subplots(2, 2)\n",
    "fig. tight_layout(h_pad=10)\n",
    "\n",
    "genre = act_data.pivot_table(index='genre', values='total_sales', aggfunc=['sum', 'count', 'mean', 'median'])\n",
    "genre.columns = ['sum', 'count', 'mean', 'median']\n",
    "\n",
    "(genre['sum']\n",
    " .sort_values(ascending=False)\n",
    " .plot(kind='bar', ax=axes[0,0], figsize = (10,5), title='Количество продаж',\n",
    "       xlabel='Жанры', ylabel='Количество продаж, млн. копий')\n",
    ");\n",
    "\n",
    "(genre['count']\n",
    " .sort_values(ascending=False)\n",
    " .plot(kind='bar', ax=axes[0,1], figsize = (10,5), title='Количество релизов',\n",
    "       xlabel='Жанры', ylabel='Количество игр в жанре, шт')\n",
    ");\n",
    "\n",
    "(genre['median']\n",
    " .sort_values(ascending=False)\n",
    " .plot(kind='bar', ax=axes[1,0], figsize = (10,5), title='Медианные значения количества продаж',\n",
    "       xlabel='Жанры', ylabel='Медиана в млн.копий')\n",
    ");\n",
    "\n",
    "(genre['mean']\n",
    " .sort_values(ascending=False)\n",
    " .plot(kind='bar', ax=axes[1,1], figsize = (10,5), title='Средние значения количества продаж', \n",
    "       xlabel='Жанры', ylabel='Среднее в млн.копий')\n",
    ");"
   ]
  },
  {
   "cell_type": "markdown",
   "id": "15e3c0d2",
   "metadata": {},
   "source": [
    "* По количеству продаж выделяются жанры Action, Shooter, Role-Playing, Sports,  Misc.\n",
    "* Среди жанров по количеству выпущенных игр выделяются жанры Action, Role-Playing, Adventure, Sports, Misc.\n",
    "\n",
    "Можем сделать вывод, что, например, хоть игр в жанре приключения выпускается много - продаются они не очень.\n",
    "\n",
    "Из средних и медианных значений самыми стабильными жанрами по доходу являются жанры: Shooter, Sports, Platform, Fighting, Role-Playing"
   ]
  },
  {
   "cell_type": "markdown",
   "id": "cb072f0e",
   "metadata": {},
   "source": [
    "<div class=\"alert-danger\">\n",
    "<b>Комментарий ревьюера ❌</b>\n",
    "\n",
    "Суммарные продажи - не лучшая метрика для поиска наиболее прибыльного жанра. За высокими показателями общих продаж может скрываться множество мелких игр с низкими продажами. Лучше найти жанр, где игры стабильно приносят высокий доход - для этого стоит рассмотреть средние или медианные значения."
   ]
  },
  {
   "cell_type": "markdown",
   "id": "8ddc5a3e",
   "metadata": {},
   "source": [
    "<div class=\"alert alert-info\">\n",
    "Действительно"
   ]
  },
  {
   "cell_type": "markdown",
   "id": "100dff83",
   "metadata": {},
   "source": [
    "Посмотрим какие видеоигры сделали продажи жанру Action"
   ]
  },
  {
   "cell_type": "code",
   "execution_count": 33,
   "id": "032f0fa4",
   "metadata": {},
   "outputs": [
    {
     "data": {
      "image/png": "[encoded data removed]",
      "text/plain": [
       "<Figure size 792x216 with 1 Axes>"
      ]
     },
     "metadata": {
      "needs_background": "light"
     },
     "output_type": "display_data"
    }
   ],
   "source": [
    "act_data.query('genre == \"Action\"').boxplot('total_sales', vert=False, figsize=(11,3));"
   ]
  },
  {
   "cell_type": "code",
   "execution_count": 34,
   "id": "d5b631fc",
   "metadata": {},
   "outputs": [
    {
     "data": {
      "text/html": [
       "<div>\n",
       "<style scoped>\n",
       "    .dataframe tbody tr th:only-of-type {\n",
       "        vertical-align: middle;\n",
       "    }\n",
       "\n",
       "    .dataframe tbody tr th {\n",
       "        vertical-align: top;\n",
       "    }\n",
       "\n",
       "    .dataframe thead th {\n",
       "        text-align: right;\n",
       "    }\n",
       "</style>\n",
       "<table border=\"1\" class=\"dataframe\">\n",
       "  <thead>\n",
       "    <tr style=\"text-align: right;\">\n",
       "      <th></th>\n",
       "      <th>name</th>\n",
       "      <th>platform</th>\n",
       "      <th>year_of_release</th>\n",
       "      <th>genre</th>\n",
       "      <th>na_sales</th>\n",
       "      <th>eu_sales</th>\n",
       "      <th>jp_sales</th>\n",
       "      <th>other_sales</th>\n",
       "      <th>critic_score</th>\n",
       "      <th>user_score</th>\n",
       "      <th>rating</th>\n",
       "      <th>total_sales</th>\n",
       "    </tr>\n",
       "  </thead>\n",
       "  <tbody>\n",
       "    <tr>\n",
       "      <th>42</th>\n",
       "      <td>Grand Theft Auto V</td>\n",
       "      <td>PS4</td>\n",
       "      <td>2014</td>\n",
       "      <td>Action</td>\n",
       "      <td>3.96</td>\n",
       "      <td>6.31</td>\n",
       "      <td>0.38</td>\n",
       "      <td>1.97</td>\n",
       "      <td>97.0</td>\n",
       "      <td>8.3</td>\n",
       "      <td>M</td>\n",
       "      <td>12.62</td>\n",
       "    </tr>\n",
       "  </tbody>\n",
       "</table>\n",
       "</div>"
      ],
      "text/plain": [
       "                  name platform  year_of_release   genre  na_sales  eu_sales  \\\n",
       "42  Grand Theft Auto V      PS4             2014  Action      3.96      6.31   \n",
       "\n",
       "    jp_sales  other_sales  critic_score  user_score rating  total_sales  \n",
       "42      0.38         1.97          97.0         8.3      M        12.62  "
      ]
     },
     "execution_count": 34,
     "metadata": {},
     "output_type": "execute_result"
    }
   ],
   "source": [
    "act_data.query('genre == \"Action\" and total_sales>10')"
   ]
  },
  {
   "cell_type": "markdown",
   "id": "dc0fd60a",
   "metadata": {},
   "source": [
    "Ох уж эта GTA"
   ]
  },
  {
   "cell_type": "markdown",
   "id": "2b23e0a5",
   "metadata": {},
   "source": [
    "## Портрет пользователя каждого региона\n",
    "Определим для пользователя каждого региона (NA, EU, JP):\n",
    "* Самые популярные платформы (топ-5)\n",
    "* Самые популярные жанры (топ-5)\n",
    "\n",
    "Ответим на вопрос\n",
    "* Влияет ли рейтинг ESRB на продажи в отдельном регионе?\n",
    "\n",
    "Заранее посмотрим как распределяются продажи по регионам:"
   ]
  },
  {
   "cell_type": "code",
   "execution_count": 35,
   "id": "efc58113",
   "metadata": {},
   "outputs": [
    {
     "data": {
      "image/png": "[encoded data removed]",
      "text/plain": [
       "<Figure size 432x288 with 1 Axes>"
      ]
     },
     "metadata": {},
     "output_type": "display_data"
    }
   ],
   "source": [
    "row_sales_region = [\n",
    "    ['Северная Америка', act_data['na_sales'].sum()],\n",
    "    ['Европа', act_data['eu_sales'].sum()],\n",
    "    ['Япония', act_data['jp_sales'].sum()]\n",
    "]\n",
    "\n",
    "col_sales_region = ['name', 'sum']\n",
    "\n",
    "sales_region = pd.DataFrame(data=row_sales_region, columns=col_sales_region).set_index('name')\n",
    "\n",
    "sales_region.plot(kind='pie',\n",
    "                  y='sum',\n",
    "                  subplots=True,\n",
    "                  autopct='%1.1f%%',\n",
    "                  title='Продажи по регионам')\n",
    "plt.show()"
   ]
  },
  {
   "cell_type": "markdown",
   "id": "487fb4e1",
   "metadata": {},
   "source": [
    "Самое большое количество продаж происходит в Северной Америке, затем в Европе. Доля продаж в Японии сравнительно небольшая, следовательно приоритетней нас интересует портреты покупателей в Северной Америке и Европе."
   ]
  },
  {
   "cell_type": "code",
   "execution_count": 36,
   "id": "895997c7",
   "metadata": {},
   "outputs": [],
   "source": [
    "# Построение диограмм по платформам, жанрам и рейтингу для разных регионов\n",
    "\n",
    "def platform_region(column): # column - столбец с продажами по конкретному региону\n",
    "    \n",
    "    fig, axes = plt.subplots(1, 2) \n",
    "   \n",
    "    #  ТОП-5 Платформы\n",
    "    \n",
    "    (act_data.groupby(by='platform').agg({column:'sum'}).sort_values(by=column, ascending=False).head(5)\n",
    "     .plot(kind='pie',\n",
    "              autopct='%1.1f%%', explode=[0.08, 0.03, 0.02, 0.01, 0], subplots=True, figsize=(5,5), ax=axes[0],\n",
    "              title='Топ 5 платформ'))\n",
    "    #  ТОП-5 Жанры     \n",
    "    (act_data.groupby(by='genre').agg({column:'sum'}).sort_values(by=column, ascending=False).head(5)\n",
    "     .plot(kind='pie', subplots=True, autopct='%1.1f%%', explode=[0.08, 0.03, 0.02, 0.01, 0], ax=axes[1],\n",
    "           title='Топ 5 жанров'))    \n",
    "    #  Рейтинг\n",
    "    fig, axes = plt.subplots()    \n",
    "    platform_region = act_data.pivot_table(index='rating', values=column, aggfunc=['sum'])\n",
    "    platform_region.columns = ['sum']\n",
    "    (platform_region['sum'].sort_values(ascending=False)\n",
    "        .plot(kind='barh',\n",
    "              figsize = (9,3),\n",
    "              xlabel='Рейтинг ESRB'))\n",
    "    \n",
    "    \n",
    "    plt.show()\n",
    "    # Пробобвала циклом, что бы не повторять код, но никак не хотело запихиваться в один axes"
   ]
  },
  {
   "cell_type": "markdown",
   "id": "ea383965",
   "metadata": {},
   "source": [
    "### Портрет пользователя Северной Америки "
   ]
  },
  {
   "cell_type": "code",
   "execution_count": 37,
   "id": "b569c4e2",
   "metadata": {
    "scrolled": false
   },
   "outputs": [
    {
     "data": {
      "image/png": "[encoded data removed]",
      "text/plain": [
       "<Figure size 432x288 with 2 Axes>"
      ]
     },
     "metadata": {},
     "output_type": "display_data"
    },
    {
     "data": {
      "image/png": "[encoded data removed]",
      "text/plain": [
       "<Figure size 648x216 with 1 Axes>"
      ]
     },
     "metadata": {
      "needs_background": "light"
     },
     "output_type": "display_data"
    }
   ],
   "source": [
    "platform_region('na_sales')"
   ]
  },
  {
   "cell_type": "markdown",
   "id": "566189da",
   "metadata": {},
   "source": [
    "В Северной америке наибольшей популярностью пользуются платформы: Xbox 360, PlayStation 3, PlayStation 4, Xbox One и Nintendo 3DS. Приставки старого поколения еще не успели уйти на пенсию, а нового поколения набрать популярность и выпуститьдостаточное количество игр.\n",
    "\n",
    "В жанрах выделяются Action - экшн (треть всех игр в топе), Shooter - шутеры, Sports - спортивные игры, Role-Playing - ролевые игры и Misc - игры с смешаным жанром. \n",
    "\n",
    "Чаще всего пользователи выбирают игры рейтинга  M - для взрослых 17+, затем идут игры без рейтинга, затем игры для всех, для тех кто старше 10 и тех, кто старше 13."
   ]
  },
  {
   "cell_type": "markdown",
   "id": "2255288a",
   "metadata": {},
   "source": [
    "<div class=\"alert-success\"> \n",
    "<b>Комментарий ревьюера 👍 </b>\n",
    "\n",
    "Отлично что ты используешь метод создания функций при построении портрета пользователя."
   ]
  },
  {
   "cell_type": "markdown",
   "id": "5da7c495",
   "metadata": {},
   "source": [
    "### Портрет пользователя Европы "
   ]
  },
  {
   "cell_type": "code",
   "execution_count": 38,
   "id": "bfea09da",
   "metadata": {},
   "outputs": [
    {
     "data": {
      "image/png": "[encoded data removed]",
      "text/plain": [
       "<Figure size 432x288 with 2 Axes>"
      ]
     },
     "metadata": {},
     "output_type": "display_data"
    },
    {
     "data": {
      "image/png": "[encoded data removed]",
      "text/plain": [
       "<Figure size 648x216 with 1 Axes>"
      ]
     },
     "metadata": {
      "needs_background": "light"
     },
     "output_type": "display_data"
    }
   ],
   "source": [
    "platform_region('eu_sales')"
   ]
  },
  {
   "cell_type": "markdown",
   "id": "17e0cab5",
   "metadata": {},
   "source": [
    "В Европе наибольшей популярностью пользуются платформы серии PlayStation (3 и 4), Xbox 360, Nintendo 3DS и PC. В отличае от Северной америки, тут предпочитают PS Xbox'у. \n",
    "\n",
    "В жанрах так же как и в Северной Америке выделяются Action, Shooter, Sports, Role-Playing. На 5ом месте в топе тут Racing - гонки. \n",
    "\n",
    "Картина по рейтингу схожая, местами поменялись только рейтинги 10+ и 13+, но так как они близки друг к другу, можно сказать что в рейтинге картина получилась одинаковой и у Европы и у Северной Америки."
   ]
  },
  {
   "cell_type": "markdown",
   "id": "8555a11e",
   "metadata": {},
   "source": [
    "### Портрет пользователя Японии"
   ]
  },
  {
   "cell_type": "code",
   "execution_count": 39,
   "id": "24b1c724",
   "metadata": {},
   "outputs": [
    {
     "data": {
      "image/png": "[encoded data removed]",
      "text/plain": [
       "<Figure size 432x288 with 2 Axes>"
      ]
     },
     "metadata": {},
     "output_type": "display_data"
    },
    {
     "data": {
      "image/png": "[encoded data removed]",
      "text/plain": [
       "<Figure size 648x216 with 1 Axes>"
      ]
     },
     "metadata": {
      "needs_background": "light"
     },
     "output_type": "display_data"
    }
   ],
   "source": [
    "platform_region('jp_sales')"
   ]
  },
  {
   "cell_type": "markdown",
   "id": "a673a8ef",
   "metadata": {},
   "source": [
    "В японии сильно выражена своя культура даже в том, что касается техники и игр. \n",
    "\n",
    "Самой популярной платформой в Японии является Nintendo 3DS - почти 50% выборки топа. остальные 4 места поделили продукты платформы Play Station.\n",
    "\n",
    "В жанрах так же явные отличия от предпочтений в Европе и Северной Америке, тут пользователи предпочитают игры в жанре Role-Playing (RPG) - 43% выборки.\n",
    "\n",
    "Японцы играют в игры без рейтинга. Возможно это связано с тем, что в Японии своя рейтинговая система оценки игр. В отличае от Европы и Северной Америки в Японии более популярны игры с рейтингом для всех и для тинейджеров - 13+. Игры для взрослых тут только на 3м месте. Значит в данном регионе ESRB не влияет на продажи."
   ]
  },
  {
   "cell_type": "markdown",
   "id": "f3c9d5a0",
   "metadata": {},
   "source": [
    "<div class=\"alert-danger\"> \n",
    "<b>Комментарий ревьюера ❌</b> \n",
    "    \n",
    "Тут стоит включить в анализ те игры, для которых рейтинг не определен. При твоем способе подсчета игры без рейтинга оказываются полностью исключенными из анализа. Потому что это может указать на ключевое различие в регионах, если, например, игр без рейтинга ESRB где-либо будет продано больше, чем с этим рейтингом.\n",
    "    \n",
    "Так мы сможем ответить на вопрос, в каком регионе ESRB не влияет на продажи."
   ]
  },
  {
   "cell_type": "markdown",
   "id": "289cc45c",
   "metadata": {},
   "source": [
    "<div class=\"alert alert-info\">\n",
    "Интересно получилось"
   ]
  },
  {
   "cell_type": "markdown",
   "id": "874bc996",
   "metadata": {},
   "source": [
    "## Проверка гипотез\n",
    "Проверим две гипотезы: \n",
    "* Средние пользовательские рейтинги платформ Xbox One и PC одинаковые\n",
    "* Средние пользовательские рейтинги жанров Action и Sports разные\n",
    "\n",
    "Так как сравниваемые выборки независимы между собой (рейтинги не зависят друг от друга) используем t-критерий Стьюдента.\n",
    "\n",
    "Для наиболее тоного результата сравним дисперсии выборок, и подставим результат в параметр `equal_var` метода `st.stats.ttest_ind`, т.к. есть сомнения по равнозначности выборок."
   ]
  },
  {
   "cell_type": "markdown",
   "id": "4501d1fd",
   "metadata": {},
   "source": [
    "### Средние пользовательские рейтинги платформ Xbox One и PC одинаковые;"
   ]
  },
  {
   "cell_type": "markdown",
   "id": "a4b5d6bd",
   "metadata": {},
   "source": [
    "*Нулевая гипотеза:* Средние пользовательские рейтинги платформ Xbox One и PC одинаковые\n",
    "\n",
    "*Альтернативная гипотеза:* Средние пользовательские рейтинги платформ Xbox One и PC различаются"
   ]
  },
  {
   "cell_type": "code",
   "execution_count": 40,
   "id": "3d1a0924",
   "metadata": {},
   "outputs": [
    {
     "name": "stdout",
     "output_type": "stream",
     "text": [
      "p-значение: 0.11601398086668832\n",
      "Не получилось отвергнуть нулевую гипотезу\n"
     ]
    }
   ],
   "source": [
    "alpha = 0.05\n",
    "\n",
    "xone_rating = act_data.query('platform == \"XOne\" and user_score > 0')['user_score']\n",
    "pc_rating = act_data.query('platform == \"PC\" and user_score > 0')['user_score']\n",
    "\n",
    "equal_var = xone_rating.var(ddof=1) == pc_rating.var(ddof=1)\n",
    "\n",
    "results = st.ttest_ind(xone_rating, pc_rating, equal_var=equal_var)\n",
    "\n",
    "print('p-значение:', results.pvalue)\n",
    "\n",
    "if results.pvalue < alpha:\n",
    "    print(\"Отвергаем нулевую гипотезу\")\n",
    "else:\n",
    "    print(\"Не получилось отвергнуть нулевую гипотезу\")  "
   ]
  },
  {
   "cell_type": "markdown",
   "id": "6cf5a6aa",
   "metadata": {},
   "source": [
    "Различие средних значений пользовательского рейтинга игр на двух платформах статистически не значимо, следовательно нам не удалось опровергнуть нулевую гипотезу."
   ]
  },
  {
   "cell_type": "markdown",
   "id": "2dd69b3f",
   "metadata": {},
   "source": [
    "### Средние пользовательские рейтинги жанров Action (англ. «действие», экшен-игры) и Sports (англ. «спортивные соревнования») разные."
   ]
  },
  {
   "cell_type": "markdown",
   "id": "4b0069fb",
   "metadata": {},
   "source": [
    "Нулевая гипотеза: Средние пользовательские рейтинги жанров Action и Sports разные.\n",
    "\n",
    "Альтернативная гипотеза: Средние пользовательские рейтинги жанров Action и Sports одинаковые."
   ]
  },
  {
   "cell_type": "code",
   "execution_count": 41,
   "id": "905099db",
   "metadata": {},
   "outputs": [
    {
     "name": "stdout",
     "output_type": "stream",
     "text": [
      "p-значение: 0.07370217419278526\n",
      "Отвергаем нулевую гипотезу\n"
     ]
    }
   ],
   "source": [
    "alpha = 0.05\n",
    "\n",
    "action_rating = data.query('genre == \"Action\" and user_score > 0')['user_score']\n",
    "sports_rating = data.query('genre == \"Sports\" and user_score > 0')['user_score']\n",
    "\n",
    "equal_var = action_rating.var(ddof=1) == sports_rating.var(ddof=1)\n",
    "\n",
    "results = st.ttest_ind(action_rating, sports_rating, equal_var=equal_var)\n",
    "\n",
    "print('p-значение:', results.pvalue)\n",
    "\n",
    "if results.pvalue < alpha:\n",
    "    print(\"Не получилось отвергнуть нулевую гипотезу\")\n",
    "else:\n",
    "    print(\"Отвергаем нулевую гипотезу\")"
   ]
  },
  {
   "cell_type": "markdown",
   "id": "3f87dd1a",
   "metadata": {},
   "source": [
    "Различие средних значений пользовательского рейтинга игр двух жанров статистически не значимо, следовательно нулевую гипотезу мы отвергаем."
   ]
  },
  {
   "cell_type": "markdown",
   "id": "44995ae9",
   "metadata": {},
   "source": [
    "<div class=\"alert-success\"> \n",
    "<b>Комментарий ревьюера 👍 </b>\n",
    "\n",
    "Гипотезы сформулированы верно. С выводами согласен. "
   ]
  },
  {
   "cell_type": "markdown",
   "id": "a7b22187",
   "metadata": {},
   "source": [
    "## Общий вывод"
   ]
  },
  {
   "cell_type": "markdown",
   "id": "3b4ae609",
   "metadata": {},
   "source": [
    "**Итоги выполнения задач:**\n",
    "* Все платформы имеют схожий жизненный цикл: появление платформы, увеличение количества релизов, устаревание платформы. Часто это связано со сменой поколения одной и той же платформы (PlayStation, Xbox, Nintendo).\n",
    "* За актуальный период удобно взять период в 5 лет: завершение цикла для одних платформ и расцвет других.\n",
    "* В последние 5 лет наиболее актуальным становятся платформы Play Station 3 и Xbox One - у них идет подъем популярности, увеличивается число релизов.  Nintendo 3DS и PC так же могут остаться актуальными, т.к. у Nintendo идет плавный спад популярности, в то время как PC сохраняет свою популяционную нишу на протяжении периода намного превышающего 5 лет.\n",
    "* Для каждой платформы выпускается огромное количество продуктов, в большинстве своем количество проданных копий для них так же небольшое. Однако стоит отметить так же наличие бестселлеров с большим количеством проданных копий для каждой платформы. \n",
    "* Наиболее популярными жанрами по продажам выделяются жанры Action, Shooter, Role-Playing, Sports, Misc.\n",
    "* Среди жанров по количеству выпущенных игр выделяются жанры Action, Role-Playing, Adventure, Sports, Misc.\n",
    "* Самые стабильные в плане прибыльности жанры Shooter, Sports, Platform, Fighting, Role-Playing\n",
    "* Жанр игры с самым большим количеством релизов и продаж - Action.\n",
    "* Количество продаж больше всего коррелирует с оценками критиков.\n",
    "* Портреты пользователей:\n",
    "    * В Северной Америке и Европе портреты типичных пользователей схожи, там больше предпочитают платормы Play Station и Xbox, в то время как в Японии подавляющее большинство пользователей предпочитают Nintendo.\n",
    "    * По жанрам так же в Европе и Северной Америке схожие предпочтения: Action, Shooter, Sports, Role-Playing. В Японии же самым предпочтительным жанром является RPG.\n",
    "    * По рейтингу картина в Северной Америке и Европе схожая, пользователи чаще покупают игры рейтинга M - для взрослых 17+, затем идут игры для всех, для 10+ и 13+. В Японии же чаще покупаются игры без рейтинга, для всех и 13+, только потом 17+.\n",
    "    \n",
    "**Проверка гипотез:**\n",
    "* Средние пользовательские рейтинги платформ Xbox One и PC одинаковые\n",
    "    * Различие средних значений пользовательского рейтинга игр на двух платформах статистически не значимо, следовательно нам не удалось опровергнуть нулевую гипотезу.\n",
    "* Средние пользовательские рейтинги жанров Action и Sports разные\n",
    "    * Различие средних значений пользовательского рейтинга игр двух жанров статистически не значимо, следовательно нулевую гипотезу мы отвергаем.\n",
    "    \n",
    "**Вывод:**\n",
    "\n",
    "Целью данного проекта было выявление закономерностей успешности игры.\n",
    "\n",
    "В ходе анализа выяснилось, что на основе данных за наиболее актуальный период в 5 лет круг потенциально популярных продуктов может быть определен следующим образом.\n",
    "\n",
    "Игры на платформах:\n",
    "* Play Station 3\n",
    "* Xbox One\n",
    "* Nintendo 3DS\n",
    "* PC\n",
    "    \n",
    "Игры в жанрах:\n",
    "* Shooter\n",
    "* Sports\n",
    "* Platform\n",
    "* Fighting\n",
    "* Role-Playing\n",
    "\n",
    "При выборе популярных продуктов следует обращать внимание на оценки критиков, а не пользователей, т.к. профессиональные критики более четко формируют отзывы на продукты.\n",
    "\n",
    "Так же ориентироваться следует в большей степени на пользователей Северной Америки и Европы, т.к. в этих регионах преобретается наибольшее количество копий игр.\n",
    "\n",
    "Наиболее покупаемыми будут игры возрастных категорий 17+, 13+ и для всех."
   ]
  },
  {
   "cell_type": "markdown",
   "id": "8fc8be83",
   "metadata": {},
   "source": [
    "<div class=\"alert-success\"> \n",
    "<b>Комментарий ревьюера 👍 </b>\n",
    "    \n",
    "Объемный, качественно написанный вывод! Всё отражено верно."
   ]
  },
  {
   "cell_type": "markdown",
   "id": "ba45fad2",
   "metadata": {},
   "source": [
    "<div class=> \n",
    "<b>Общий комментарий ревьюера </b> \n",
    "    \n",
    "Отличный проект, тобою проделана большая работа, ты молодец!\n",
    "\n",
    "Хвалю за наличие хороших промежуточных (и общего) выводов, комментариев и рассуждений - твой проект интересно проверять. Также очень хорошее оформление проекта - в этом плане сделано все именно так, как требуется. По коду вопросов в целом нет.\n",
    "\n",
    "Что обязательно стоит изменить: \n",
    "    \n",
    "1. Изменить актуальный период\n",
    "2. Включить в анализ влияния рейтинга на продажи игры без рейтинга ESRB\n",
    "3. Проанализировать медианные (или средние) значения - там, где я это отметил\n",
    "\n",
    "Также, я оставил некоторое количество желтых комментариев. Думаю, они будут полезны и ты также что-либо поменяешь, потому что это сделает твой проект лучше.\n",
    "\n",
    "Буду ждать доработок :)\n",
    "    \n",
    "Удачи!"
   ]
  },
  {
   "cell_type": "markdown",
   "id": "22a62993",
   "metadata": {},
   "source": [
    "<div class=\"alert-success\"> \n",
    "<b>Комментарий ревьюера 👍 Вторая итерация</b>\n",
    "\n",
    "Все, что я отмечал, исправлено. У тебя получился качественно сделанный проект, а теперь он стал ещё лучше. Принимаю! \n",
    "    \n",
    "Успехов в дальнейшей учебе! "
   ]
  },
  {
   "cell_type": "code",
   "execution_count": null,
   "id": "393f0495",
   "metadata": {},
   "outputs": [],
   "source": []
  }
 ],
 "metadata": {
  "ExecuteTimeLog": [
   {
    "duration": 69,
    "start_time": "2023-02-01T15:51:59.606Z"
   },
   {
    "duration": 88,
    "start_time": "2023-02-01T16:07:25.089Z"
   },
   {
    "duration": 69,
    "start_time": "2023-02-01T16:09:40.549Z"
   },
   {
    "duration": 1441,
    "start_time": "2023-02-01T20:04:13.660Z"
   },
   {
    "duration": 356,
    "start_time": "2023-02-01T20:04:15.104Z"
   },
   {
    "duration": 16,
    "start_time": "2023-02-01T20:04:15.461Z"
   },
   {
    "duration": 5,
    "start_time": "2023-02-01T20:04:15.479Z"
   },
   {
    "duration": 5,
    "start_time": "2023-02-01T20:04:15.485Z"
   },
   {
    "duration": 6,
    "start_time": "2023-02-01T20:04:15.492Z"
   },
   {
    "duration": 29,
    "start_time": "2023-02-01T20:04:15.500Z"
   },
   {
    "duration": 5,
    "start_time": "2023-02-01T20:04:15.531Z"
   },
   {
    "duration": 8,
    "start_time": "2023-02-01T20:04:15.538Z"
   },
   {
    "duration": 14,
    "start_time": "2023-02-01T20:04:15.549Z"
   },
   {
    "duration": 4,
    "start_time": "2023-02-01T20:04:15.565Z"
   },
   {
    "duration": 223,
    "start_time": "2023-02-01T20:04:15.570Z"
   },
   {
    "duration": 7,
    "start_time": "2023-02-01T20:04:15.795Z"
   },
   {
    "duration": 29,
    "start_time": "2023-02-01T20:04:15.804Z"
   },
   {
    "duration": 7,
    "start_time": "2023-02-01T20:04:15.835Z"
   },
   {
    "duration": 7,
    "start_time": "2023-02-01T20:04:15.844Z"
   },
   {
    "duration": 15,
    "start_time": "2023-02-01T20:04:15.852Z"
   },
   {
    "duration": 15,
    "start_time": "2023-02-01T20:04:15.869Z"
   },
   {
    "duration": 6,
    "start_time": "2023-02-01T20:04:15.886Z"
   },
   {
    "duration": 40,
    "start_time": "2023-02-01T20:04:15.893Z"
   },
   {
    "duration": 170,
    "start_time": "2023-02-01T20:04:15.935Z"
   },
   {
    "duration": 43,
    "start_time": "2023-02-01T20:04:16.107Z"
   },
   {
    "duration": 290,
    "start_time": "2023-02-01T20:04:16.152Z"
   },
   {
    "duration": 18,
    "start_time": "2023-02-01T20:04:16.445Z"
   },
   {
    "duration": 322,
    "start_time": "2023-02-01T20:04:16.465Z"
   },
   {
    "duration": 8,
    "start_time": "2023-02-01T20:04:16.790Z"
   },
   {
    "duration": 268,
    "start_time": "2023-02-01T20:04:16.800Z"
   },
   {
    "duration": 241,
    "start_time": "2023-02-01T20:04:17.071Z"
   },
   {
    "duration": 1012,
    "start_time": "2023-02-01T20:04:17.314Z"
   },
   {
    "duration": 606,
    "start_time": "2023-02-01T20:04:18.328Z"
   },
   {
    "duration": 170,
    "start_time": "2023-02-01T20:04:18.935Z"
   },
   {
    "duration": 889,
    "start_time": "2023-02-01T20:04:19.107Z"
   },
   {
    "duration": 215,
    "start_time": "2023-02-01T20:04:19.998Z"
   },
   {
    "duration": 17,
    "start_time": "2023-02-01T20:04:20.215Z"
   },
   {
    "duration": 176,
    "start_time": "2023-02-01T20:04:20.235Z"
   },
   {
    "duration": 13,
    "start_time": "2023-02-01T20:04:20.413Z"
   },
   {
    "duration": 478,
    "start_time": "2023-02-01T20:04:20.428Z"
   },
   {
    "duration": 482,
    "start_time": "2023-02-01T20:04:20.908Z"
   },
   {
    "duration": 481,
    "start_time": "2023-02-01T20:04:21.392Z"
   },
   {
    "duration": 13,
    "start_time": "2023-02-01T20:04:21.875Z"
   },
   {
    "duration": 17,
    "start_time": "2023-02-01T20:04:21.889Z"
   },
   {
    "duration": 50,
    "start_time": "2023-02-02T08:48:24.316Z"
   }
  ],
  "kernelspec": {
   "display_name": "Python 3 (ipykernel)",
   "language": "python",
   "name": "python3"
  },
  "language_info": {
   "codemirror_mode": {
    "name": "ipython",
    "version": 3
   },
   "file_extension": ".py",
   "mimetype": "text/x-python",
   "name": "python",
   "nbconvert_exporter": "python",
   "pygments_lexer": "ipython3",
   "version": "3.9.15"
  },
  "toc": {
   "base_numbering": 1,
   "nav_menu": {},
   "number_sections": true,
   "sideBar": true,
   "skip_h1_title": true,
   "title_cell": "Table of Contents",
   "title_sidebar": "Contents",
   "toc_cell": true,
   "toc_position": {
    "height": "calc(100% - 180px)",
    "left": "10px",
    "top": "150px",
    "width": "242.705px"
   },
   "toc_section_display": true,
   "toc_window_display": true
  }
 },
 "nbformat": 4,
 "nbformat_minor": 5
}
