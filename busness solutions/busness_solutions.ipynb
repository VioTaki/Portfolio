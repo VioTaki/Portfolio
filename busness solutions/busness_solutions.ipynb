{
 "cells": [
  {
   "cell_type": "markdown",
   "id": "831fb4e4",
   "metadata": {},
   "source": [
    "# Принятие решений в бизнесе\n",
    "\n",
    "**Контекст**\n",
    "\n",
    "Заказчик: крупный интернет-магазин. Вместе с отделом маркетинга подготовлен список гипотез для увеличения выручки.\n",
    "\n",
    "Необходимо приоритизировать эти гипотезы, запустить A/B-тест и проанализировать его результаты. \n",
    "\n",
    "**План работы:**\n",
    "\n",
    "**Часть 1. Приоритизация гипотез.**\n",
    "\n",
    "Файл `/datasets/hypothesis.csv` содержит 9 гипотез по увеличению выручки интернет-магазина с указанными параметрами \n",
    "- Reach,\n",
    "- Impact,\n",
    "- Confidence,\n",
    "- Effort.\n",
    "\n",
    " **Задачи:**\n",
    "\n",
    "* Применить фреймворк ICE для приоритизации гипотез. Отсортировать их по убыванию приоритета.\n",
    "* Применить фреймворк RICE для приоритизации гипотез. Отсортировать их по убыванию приоритета.\n",
    "* Указать, как изменилась приоритизация гипотез при применении RICE вместо ICE. Объяснить, почему так произошло.\n",
    "\n",
    "**Часть 2. Анализ A/B-теста**\n",
    "\n",
    "В результате проведения A/B-теста получены результаты, которые описаны в файлах `/datasets/orders.csv` и `/datasets/visitors.csv`.\n",
    "\n",
    "**Задача**\n",
    "\n",
    "Проанализировать A/B-тест:\n",
    "* Построить график кумулятивной выручки по группам.\n",
    "* Построить график кумулятивного среднего чека по группам.\n",
    "* Построить график относительного изменения кумулятивного среднего чека группы B к группе A.\n",
    "* Построить график кумулятивного среднего количества заказов на посетителя по группам.\n",
    "* Построить график относительного изменения кумулятивного среднего количества заказов на посетителя группы B к группе A.\n",
    "\n",
    "\n",
    "* Построить точечный график количества заказов по пользователям.\n",
    "* Посчитать 95-й и 99-й перцентили количества заказов на пользователя. Выбрать границу для определения аномальных пользователей.\n",
    "\n",
    "\n",
    "* Построить точечный график стоимостей заказов. \n",
    "* Посчитать 95-й и 99-й перцентили стоимости заказов. Выберать границу для определения аномальных заказов.\n",
    "\n",
    "\n",
    "* Посчитать статистическую значимость различий в среднем количестве заказов на посетителя между группами по «сырым» данным.\n",
    "* Посчитать статистическую значимость различий в среднем чеке заказа между группами по «сырым» данным. \n",
    "\n",
    "\n",
    "* Посчитать статистическую значимость различий в среднем количестве заказов на посетителя между группами по «очищенным» данным.\n",
    "* Посчитать статистическую значимость различий в среднем чеке заказа между группами по «очищенным» данным. \n",
    "\n",
    "\n",
    "* По каждому пункту сделать выводы и предположения.\n",
    "\n",
    "\n",
    "* Принять решение по результатам теста и объяснить его. Варианты решений:\n",
    "    1. Остановить тест, зафиксировать победу одной из групп.\n",
    "    2. Остановить тест, зафиксировать отсутствие различий между группами.\n",
    "    3. Продолжить тест."
   ]
  },
  {
   "cell_type": "markdown",
   "id": "7c83addc",
   "metadata": {},
   "source": [
    "## Обработка данных"
   ]
  },
  {
   "cell_type": "code",
   "execution_count": 1,
   "id": "01eef4a3",
   "metadata": {},
   "outputs": [],
   "source": [
    "#Загружаем библиотеки\n",
    "import pandas as pd\n",
    "import matplotlib.pyplot as plt\n",
    "from pandas.plotting import register_matplotlib_converters\n",
    "import datetime as dt\n",
    "import seaborn as sns\n",
    "import warnings\n",
    "import numpy as np\n",
    "import scipy.stats as stats\n",
    "import matplotlib.ticker as ticker\n",
    "\n",
    "warnings.filterwarnings(\"ignore\")\n",
    "pd.options.display.float_format = '{:.2f}'.format\n",
    "sns.set_palette('pastel')\n",
    "register_matplotlib_converters()\n",
    "pd.set_option('max_colwidth', 200)"
   ]
  },
  {
   "cell_type": "markdown",
   "id": "cc7dd80f",
   "metadata": {},
   "source": [
    "### Чтение и изучение данных"
   ]
  },
  {
   "cell_type": "code",
   "execution_count": 2,
   "id": "9d7fa886",
   "metadata": {},
   "outputs": [
    {
     "name": "stdout",
     "output_type": "stream",
     "text": [
      "<class 'pandas.core.frame.DataFrame'>\n",
      "RangeIndex: 9 entries, 0 to 8\n",
      "Data columns (total 5 columns):\n",
      " #   Column      Non-Null Count  Dtype \n",
      "---  ------      --------------  ----- \n",
      " 0   Hypothesis  9 non-null      object\n",
      " 1   Reach       9 non-null      int64 \n",
      " 2   Impact      9 non-null      int64 \n",
      " 3   Confidence  9 non-null      int64 \n",
      " 4   Efforts     9 non-null      int64 \n",
      "dtypes: int64(4), object(1)\n",
      "memory usage: 488.0+ bytes\n",
      "None\n"
     ]
    },
    {
     "data": {
      "text/html": [
       "<div>\n",
       "<style scoped>\n",
       "    .dataframe tbody tr th:only-of-type {\n",
       "        vertical-align: middle;\n",
       "    }\n",
       "\n",
       "    .dataframe tbody tr th {\n",
       "        vertical-align: top;\n",
       "    }\n",
       "\n",
       "    .dataframe thead th {\n",
       "        text-align: right;\n",
       "    }\n",
       "</style>\n",
       "<table border=\"1\" class=\"dataframe\">\n",
       "  <thead>\n",
       "    <tr style=\"text-align: right;\">\n",
       "      <th></th>\n",
       "      <th>Hypothesis</th>\n",
       "      <th>Reach</th>\n",
       "      <th>Impact</th>\n",
       "      <th>Confidence</th>\n",
       "      <th>Efforts</th>\n",
       "    </tr>\n",
       "  </thead>\n",
       "  <tbody>\n",
       "    <tr>\n",
       "      <th>0</th>\n",
       "      <td>Добавить два новых канала привлечения трафика, что позволит привлекать на 30% больше пользователей</td>\n",
       "      <td>3</td>\n",
       "      <td>10</td>\n",
       "      <td>8</td>\n",
       "      <td>6</td>\n",
       "    </tr>\n",
       "    <tr>\n",
       "      <th>1</th>\n",
       "      <td>Запустить собственную службу доставки, что сократит срок доставки заказов</td>\n",
       "      <td>2</td>\n",
       "      <td>5</td>\n",
       "      <td>4</td>\n",
       "      <td>10</td>\n",
       "    </tr>\n",
       "    <tr>\n",
       "      <th>2</th>\n",
       "      <td>Добавить блоки рекомендаций товаров на сайт интернет магазина, чтобы повысить конверсию и средний чек заказа</td>\n",
       "      <td>8</td>\n",
       "      <td>3</td>\n",
       "      <td>7</td>\n",
       "      <td>3</td>\n",
       "    </tr>\n",
       "    <tr>\n",
       "      <th>3</th>\n",
       "      <td>Изменить структура категорий, что увеличит конверсию, т.к. пользователи быстрее найдут нужный товар</td>\n",
       "      <td>8</td>\n",
       "      <td>3</td>\n",
       "      <td>3</td>\n",
       "      <td>8</td>\n",
       "    </tr>\n",
       "    <tr>\n",
       "      <th>4</th>\n",
       "      <td>Изменить цвет фона главной страницы, чтобы увеличить вовлеченность пользователей</td>\n",
       "      <td>3</td>\n",
       "      <td>1</td>\n",
       "      <td>1</td>\n",
       "      <td>1</td>\n",
       "    </tr>\n",
       "    <tr>\n",
       "      <th>5</th>\n",
       "      <td>Добавить страницу отзывов клиентов о магазине, что позволит увеличить количество заказов</td>\n",
       "      <td>3</td>\n",
       "      <td>2</td>\n",
       "      <td>2</td>\n",
       "      <td>3</td>\n",
       "    </tr>\n",
       "    <tr>\n",
       "      <th>6</th>\n",
       "      <td>Показать на главной странице баннеры с актуальными акциями и распродажами, чтобы увеличить конверсию</td>\n",
       "      <td>5</td>\n",
       "      <td>3</td>\n",
       "      <td>8</td>\n",
       "      <td>3</td>\n",
       "    </tr>\n",
       "    <tr>\n",
       "      <th>7</th>\n",
       "      <td>Добавить форму подписки на все основные страницы, чтобы собрать базу клиентов для email-рассылок</td>\n",
       "      <td>10</td>\n",
       "      <td>7</td>\n",
       "      <td>8</td>\n",
       "      <td>5</td>\n",
       "    </tr>\n",
       "    <tr>\n",
       "      <th>8</th>\n",
       "      <td>Запустить акцию, дающую скидку на товар в день рождения</td>\n",
       "      <td>1</td>\n",
       "      <td>9</td>\n",
       "      <td>9</td>\n",
       "      <td>5</td>\n",
       "    </tr>\n",
       "  </tbody>\n",
       "</table>\n",
       "</div>"
      ],
      "text/plain": [
       "                                                                                                     Hypothesis  \\\n",
       "0            Добавить два новых канала привлечения трафика, что позволит привлекать на 30% больше пользователей   \n",
       "1                                     Запустить собственную службу доставки, что сократит срок доставки заказов   \n",
       "2  Добавить блоки рекомендаций товаров на сайт интернет магазина, чтобы повысить конверсию и средний чек заказа   \n",
       "3           Изменить структура категорий, что увеличит конверсию, т.к. пользователи быстрее найдут нужный товар   \n",
       "4                              Изменить цвет фона главной страницы, чтобы увеличить вовлеченность пользователей   \n",
       "5                      Добавить страницу отзывов клиентов о магазине, что позволит увеличить количество заказов   \n",
       "6          Показать на главной странице баннеры с актуальными акциями и распродажами, чтобы увеличить конверсию   \n",
       "7              Добавить форму подписки на все основные страницы, чтобы собрать базу клиентов для email-рассылок   \n",
       "8                                                       Запустить акцию, дающую скидку на товар в день рождения   \n",
       "\n",
       "   Reach  Impact  Confidence  Efforts  \n",
       "0      3      10           8        6  \n",
       "1      2       5           4       10  \n",
       "2      8       3           7        3  \n",
       "3      8       3           3        8  \n",
       "4      3       1           1        1  \n",
       "5      3       2           2        3  \n",
       "6      5       3           8        3  \n",
       "7     10       7           8        5  \n",
       "8      1       9           9        5  "
      ]
     },
     "execution_count": 2,
     "metadata": {},
     "output_type": "execute_result"
    }
   ],
   "source": [
    "# Чтение файла с данными о гипотезах\n",
    "try:\n",
    "    hypothesis = pd.read_csv('/datasets/hypothesis.csv') # в практикуме\n",
    "except:\n",
    "    hypothesis = pd.read_csv('hypothesis.csv') # локально\n",
    "print(hypothesis.info())\n",
    "hypothesis"
   ]
  },
  {
   "cell_type": "code",
   "execution_count": 3,
   "id": "689127a7",
   "metadata": {},
   "outputs": [
    {
     "name": "stdout",
     "output_type": "stream",
     "text": [
      "<class 'pandas.core.frame.DataFrame'>\n",
      "RangeIndex: 1197 entries, 0 to 1196\n",
      "Data columns (total 5 columns):\n",
      " #   Column         Non-Null Count  Dtype \n",
      "---  ------         --------------  ----- \n",
      " 0   transactionId  1197 non-null   int64 \n",
      " 1   visitorId      1197 non-null   int64 \n",
      " 2   date           1197 non-null   object\n",
      " 3   revenue        1197 non-null   int64 \n",
      " 4   group          1197 non-null   object\n",
      "dtypes: int64(3), object(2)\n",
      "memory usage: 46.9+ KB\n",
      "None\n"
     ]
    },
    {
     "data": {
      "text/html": [
       "<div>\n",
       "<style scoped>\n",
       "    .dataframe tbody tr th:only-of-type {\n",
       "        vertical-align: middle;\n",
       "    }\n",
       "\n",
       "    .dataframe tbody tr th {\n",
       "        vertical-align: top;\n",
       "    }\n",
       "\n",
       "    .dataframe thead th {\n",
       "        text-align: right;\n",
       "    }\n",
       "</style>\n",
       "<table border=\"1\" class=\"dataframe\">\n",
       "  <thead>\n",
       "    <tr style=\"text-align: right;\">\n",
       "      <th></th>\n",
       "      <th>transactionId</th>\n",
       "      <th>visitorId</th>\n",
       "      <th>date</th>\n",
       "      <th>revenue</th>\n",
       "      <th>group</th>\n",
       "    </tr>\n",
       "  </thead>\n",
       "  <tbody>\n",
       "    <tr>\n",
       "      <th>0</th>\n",
       "      <td>3667963787</td>\n",
       "      <td>3312258926</td>\n",
       "      <td>2019-08-15</td>\n",
       "      <td>1650</td>\n",
       "      <td>B</td>\n",
       "    </tr>\n",
       "    <tr>\n",
       "      <th>1</th>\n",
       "      <td>2804400009</td>\n",
       "      <td>3642806036</td>\n",
       "      <td>2019-08-15</td>\n",
       "      <td>730</td>\n",
       "      <td>B</td>\n",
       "    </tr>\n",
       "    <tr>\n",
       "      <th>2</th>\n",
       "      <td>2961555356</td>\n",
       "      <td>4069496402</td>\n",
       "      <td>2019-08-15</td>\n",
       "      <td>400</td>\n",
       "      <td>A</td>\n",
       "    </tr>\n",
       "    <tr>\n",
       "      <th>3</th>\n",
       "      <td>3797467345</td>\n",
       "      <td>1196621759</td>\n",
       "      <td>2019-08-15</td>\n",
       "      <td>9759</td>\n",
       "      <td>B</td>\n",
       "    </tr>\n",
       "    <tr>\n",
       "      <th>4</th>\n",
       "      <td>2282983706</td>\n",
       "      <td>2322279887</td>\n",
       "      <td>2019-08-15</td>\n",
       "      <td>2308</td>\n",
       "      <td>B</td>\n",
       "    </tr>\n",
       "  </tbody>\n",
       "</table>\n",
       "</div>"
      ],
      "text/plain": [
       "   transactionId   visitorId        date  revenue group\n",
       "0     3667963787  3312258926  2019-08-15     1650     B\n",
       "1     2804400009  3642806036  2019-08-15      730     B\n",
       "2     2961555356  4069496402  2019-08-15      400     A\n",
       "3     3797467345  1196621759  2019-08-15     9759     B\n",
       "4     2282983706  2322279887  2019-08-15     2308     B"
      ]
     },
     "execution_count": 3,
     "metadata": {},
     "output_type": "execute_result"
    }
   ],
   "source": [
    "# Чтение файла с данными о заказах\n",
    "try:\n",
    "    orders = pd.read_csv('/datasets/orders.csv') # в практикуме\n",
    "except:\n",
    "    orders = pd.read_csv('orders.csv') # локально\n",
    "print(orders.info())\n",
    "orders.head()"
   ]
  },
  {
   "cell_type": "code",
   "execution_count": 4,
   "id": "1235b551",
   "metadata": {},
   "outputs": [
    {
     "name": "stdout",
     "output_type": "stream",
     "text": [
      "<class 'pandas.core.frame.DataFrame'>\n",
      "RangeIndex: 62 entries, 0 to 61\n",
      "Data columns (total 3 columns):\n",
      " #   Column    Non-Null Count  Dtype \n",
      "---  ------    --------------  ----- \n",
      " 0   date      62 non-null     object\n",
      " 1   group     62 non-null     object\n",
      " 2   visitors  62 non-null     int64 \n",
      "dtypes: int64(1), object(2)\n",
      "memory usage: 1.6+ KB\n",
      "None\n"
     ]
    },
    {
     "data": {
      "text/html": [
       "<div>\n",
       "<style scoped>\n",
       "    .dataframe tbody tr th:only-of-type {\n",
       "        vertical-align: middle;\n",
       "    }\n",
       "\n",
       "    .dataframe tbody tr th {\n",
       "        vertical-align: top;\n",
       "    }\n",
       "\n",
       "    .dataframe thead th {\n",
       "        text-align: right;\n",
       "    }\n",
       "</style>\n",
       "<table border=\"1\" class=\"dataframe\">\n",
       "  <thead>\n",
       "    <tr style=\"text-align: right;\">\n",
       "      <th></th>\n",
       "      <th>date</th>\n",
       "      <th>group</th>\n",
       "      <th>visitors</th>\n",
       "    </tr>\n",
       "  </thead>\n",
       "  <tbody>\n",
       "    <tr>\n",
       "      <th>0</th>\n",
       "      <td>2019-08-01</td>\n",
       "      <td>A</td>\n",
       "      <td>719</td>\n",
       "    </tr>\n",
       "    <tr>\n",
       "      <th>1</th>\n",
       "      <td>2019-08-02</td>\n",
       "      <td>A</td>\n",
       "      <td>619</td>\n",
       "    </tr>\n",
       "    <tr>\n",
       "      <th>2</th>\n",
       "      <td>2019-08-03</td>\n",
       "      <td>A</td>\n",
       "      <td>507</td>\n",
       "    </tr>\n",
       "    <tr>\n",
       "      <th>3</th>\n",
       "      <td>2019-08-04</td>\n",
       "      <td>A</td>\n",
       "      <td>717</td>\n",
       "    </tr>\n",
       "    <tr>\n",
       "      <th>4</th>\n",
       "      <td>2019-08-05</td>\n",
       "      <td>A</td>\n",
       "      <td>756</td>\n",
       "    </tr>\n",
       "  </tbody>\n",
       "</table>\n",
       "</div>"
      ],
      "text/plain": [
       "         date group  visitors\n",
       "0  2019-08-01     A       719\n",
       "1  2019-08-02     A       619\n",
       "2  2019-08-03     A       507\n",
       "3  2019-08-04     A       717\n",
       "4  2019-08-05     A       756"
      ]
     },
     "execution_count": 4,
     "metadata": {},
     "output_type": "execute_result"
    }
   ],
   "source": [
    "# Чтение файла с данными о посетителях\n",
    "try:\n",
    "    visitors = pd.read_csv('/datasets/visitors.csv') # в практикуме\n",
    "except:\n",
    "    visitors = pd.read_csv('visitors.csv') # локально\n",
    "print(visitors.info())\n",
    "visitors.head()"
   ]
  },
  {
   "cell_type": "markdown",
   "id": "6e52d760",
   "metadata": {},
   "source": [
    "### Описание данных\n",
    "\n",
    "Данные для первой части:\n",
    "\n",
    "Файл `/datasets/hypothesis.csv` \n",
    "\n",
    "* Hypothesis — краткое описание гипотезы;\n",
    "* Reach — охват пользователей по 10-балльной шкале;\n",
    "* Impact — влияние на пользователей по 10-балльной шкале;\n",
    "* Confidence — уверенность в гипотезе по 10-балльной шкале;\n",
    "* Efforts — затраты ресурсов на проверку гипотезы по 10-балльной шкале. Чем больше значение Efforts, тем дороже проверка гипотезы.\n",
    "\n",
    "Данные для второй части:\n",
    "\n",
    "Файл `/datasets/orders.csv`\n",
    "\n",
    "* transactionId — идентификатор заказа;\n",
    "* visitorId — идентификатор пользователя, совершившего заказ;\n",
    "* date — дата, когда был совершён заказ;\n",
    "* revenue — выручка заказа;\n",
    "* group — группа A/B-теста, в которую попал заказ.\n",
    "\n",
    "Файл `/datasets/visitors.csv`\n",
    "\n",
    "* date — дата;\n",
    "* group — группа A/B-теста;\n",
    "* visitors — количество пользователей в указанную дату в указанной группе A/B-теста\n",
    "\n"
   ]
  },
  {
   "cell_type": "markdown",
   "id": "7e792dc0",
   "metadata": {},
   "source": [
    "### Предобработка данных\n",
    "\n",
    "Исправим:\n",
    "- названия столбцов (в первом датасете исправим заглавные буквы на прописные);\n",
    "- типы столбцов с датой.\n",
    "\n",
    "Проверим:\n",
    "- данные на наличие дубликатов и пропусков;\n",
    "- совпадает ли дата начала и конца теста в датасетах `orders` и `visitors`;\n",
    "- качество разделения пользователей на группы."
   ]
  },
  {
   "cell_type": "code",
   "execution_count": 5,
   "id": "9655e076",
   "metadata": {},
   "outputs": [],
   "source": [
    "# Исправляем написание названий столбцов\n",
    "hypothesis.columns = hypothesis.columns.str.lower()"
   ]
  },
  {
   "cell_type": "code",
   "execution_count": 6,
   "id": "ac561966",
   "metadata": {},
   "outputs": [],
   "source": [
    "# Исправляем типы данных с датой\n",
    "visitors['date'] = visitors['date'].map(\n",
    "    lambda x: dt.datetime.strptime(x, '%Y-%m-%d')\n",
    ")\n",
    "orders['date'] = orders['date'].map(\n",
    "    lambda x: dt.datetime.strptime(x, '%Y-%m-%d')\n",
    ")"
   ]
  },
  {
   "cell_type": "markdown",
   "id": "3a4c8103",
   "metadata": {},
   "source": [
    "Названия столбцов и типы данных исправлены.\n",
    "\n",
    "Выполним проверку на дубликаты и пропуски:"
   ]
  },
  {
   "cell_type": "code",
   "execution_count": 7,
   "id": "ee4cdb14",
   "metadata": {},
   "outputs": [],
   "source": [
    "#Проверка на наличие полных дубликатов и пропусков\n",
    "def duplicate_and_null_check(data): \n",
    "    print('Количество полных дубликатов: ', data.duplicated().sum())\n",
    "    print('Количество пропусков: \\n', data.isna().sum())\n",
    "    return"
   ]
  },
  {
   "cell_type": "code",
   "execution_count": 8,
   "id": "20f029a9",
   "metadata": {},
   "outputs": [
    {
     "name": "stdout",
     "output_type": "stream",
     "text": [
      "Количество полных дубликатов:  0\n",
      "Количество пропусков: \n",
      " hypothesis    0\n",
      "reach         0\n",
      "impact        0\n",
      "confidence    0\n",
      "efforts       0\n",
      "dtype: int64\n"
     ]
    }
   ],
   "source": [
    "duplicate_and_null_check(hypothesis)"
   ]
  },
  {
   "cell_type": "code",
   "execution_count": 9,
   "id": "09709890",
   "metadata": {},
   "outputs": [
    {
     "name": "stdout",
     "output_type": "stream",
     "text": [
      "Количество полных дубликатов:  0\n",
      "Количество пропусков: \n",
      " transactionId    0\n",
      "visitorId        0\n",
      "date             0\n",
      "revenue          0\n",
      "group            0\n",
      "dtype: int64\n"
     ]
    }
   ],
   "source": [
    "duplicate_and_null_check(orders)"
   ]
  },
  {
   "cell_type": "code",
   "execution_count": 10,
   "id": "5f98c101",
   "metadata": {},
   "outputs": [
    {
     "name": "stdout",
     "output_type": "stream",
     "text": [
      "Количество полных дубликатов:  0\n",
      "Количество пропусков: \n",
      " date        0\n",
      "group       0\n",
      "visitors    0\n",
      "dtype: int64\n"
     ]
    }
   ],
   "source": [
    "duplicate_and_null_check(visitors)"
   ]
  },
  {
   "cell_type": "markdown",
   "id": "e7bf7adf",
   "metadata": {},
   "source": [
    "Дубликатов и пропусков в данных нет. \n",
    "\n",
    "Проверим даты начала и конца проведения теста:"
   ]
  },
  {
   "cell_type": "code",
   "execution_count": 11,
   "id": "184a68f9",
   "metadata": {},
   "outputs": [
    {
     "name": "stdout",
     "output_type": "stream",
     "text": [
      "orders:\n",
      "Начальная дата: 2019-08-01 00:00:00, конечная дата: 2019-08-31 00:00:00\n",
      "visitors:\n",
      "Начальная дата: 2019-08-01 00:00:00, конечная дата: 2019-08-31 00:00:00\n"
     ]
    }
   ],
   "source": [
    "print(f'orders:\\nНачальная дата: {orders.date.min()}, конечная дата: {orders.date.max()}')\n",
    "print(f'visitors:\\nНачальная дата: {visitors.date.min()}, конечная дата: {visitors.date.max()}')"
   ]
  },
  {
   "cell_type": "markdown",
   "id": "39e66cc6",
   "metadata": {},
   "source": [
    "Даты начала и конца в двух датафреймах совпадают, проверим качество разделения данных на группы:"
   ]
  },
  {
   "cell_type": "code",
   "execution_count": 12,
   "id": "65cb1ab5",
   "metadata": {},
   "outputs": [
    {
     "name": "stdout",
     "output_type": "stream",
     "text": [
      "Количество уникальных пользователей, которые нахоятся в двух группах одновременно 58\n",
      "Количество заказов, совершенных неверно распределенными пользователями: 183\n",
      "Процент данных, подлежащих удалению:  15.29%\n"
     ]
    }
   ],
   "source": [
    "duplicate_users = (orders[orders['group'] == 'A']\n",
    "                   .merge(orders[orders['group'] == 'B'], on='visitorId', how='inner')['visitorId']\n",
    "                  )\n",
    "print(f'Количество уникальных пользователей, которые нахоятся в двух группах одновременно {duplicate_users.nunique()}')\n",
    "print(f'Количество заказов, совершенных неверно распределенными пользователями: {duplicate_users.count()}')\n",
    "print('Процент данных, подлежащих удалению: ', '{:.2%}'.format(duplicate_users.count() / orders.shape[0]))"
   ]
  },
  {
   "cell_type": "markdown",
   "id": "bef2c0a8",
   "metadata": {},
   "source": [
    "Получили 58 пользователей, которые входят в обе группы, на этих пользователей приходится 183 заказа.\n",
    "\n",
    "Для дропа 15,29% довольно большой процент. Однако в разрезе А/В теста нам больше важен другой показатель - объем выборки для проведения теста.\n",
    "\n",
    "К сожалению у нас отсутствуют данные об ID пользователей которые посещали сайт, и мы не сможем отделить эти 58 пользователей из посетителей и заказов одновременно. \n",
    "\n",
    "Будем считать что нам хватает наблюдений для проведения теста и пользователи, входящие в обе группы не сильно влияют на показатели выборки.\n",
    "\n",
    "Однако необходимо сообщить инженерам о недостатке данных по пользователям в датафрейме visitors, а так же о том, что пользователи некорректно распределяются на группы. "
   ]
  },
  {
   "cell_type": "markdown",
   "id": "ad838a74",
   "metadata": {},
   "source": [
    "## Приоритезация гипотез\n",
    "\n",
    "**Часть 1. Приоритизация гипотез.**\n",
    "\n",
    "Файл `/datasets/hypothesis.csv` содержит 9 гипотез по увеличению выручки интернет-магазина с указанными параметрами \n",
    "- Reach,\n",
    "- Impact,\n",
    "- Confidence,\n",
    "- Effort.\n",
    "\n",
    " **Задачи:**\n",
    "\n",
    "* Применить фреймворк ICE для приоритизации гипотез. Отсортировать их по убыванию приоритета.\n",
    "* Примените фреймворк RICE для приоритизации гипотез. Отсортировать их по убыванию приоритета.\n",
    "* Указать, как изменилась приоритизация гипотез при применении RICE вместо ICE. Объяснить, почему так произошло."
   ]
  },
  {
   "cell_type": "markdown",
   "id": "f7300323",
   "metadata": {},
   "source": [
    "Рассчитаем показатель **ICE** (от англ. impact, confidence, effort / ease «влияние, уверенность, усилия / простота») "
   ]
  },
  {
   "cell_type": "code",
   "execution_count": 13,
   "id": "93d3a6f5",
   "metadata": {},
   "outputs": [
    {
     "data": {
      "text/html": [
       "<div>\n",
       "<style scoped>\n",
       "    .dataframe tbody tr th:only-of-type {\n",
       "        vertical-align: middle;\n",
       "    }\n",
       "\n",
       "    .dataframe tbody tr th {\n",
       "        vertical-align: top;\n",
       "    }\n",
       "\n",
       "    .dataframe thead th {\n",
       "        text-align: right;\n",
       "    }\n",
       "</style>\n",
       "<table border=\"1\" class=\"dataframe\">\n",
       "  <thead>\n",
       "    <tr style=\"text-align: right;\">\n",
       "      <th></th>\n",
       "      <th>hypothesis</th>\n",
       "      <th>ICE</th>\n",
       "      <th>ICE_rate</th>\n",
       "    </tr>\n",
       "  </thead>\n",
       "  <tbody>\n",
       "    <tr>\n",
       "      <th>8</th>\n",
       "      <td>Запустить акцию, дающую скидку на товар в день рождения</td>\n",
       "      <td>16.20</td>\n",
       "      <td>1</td>\n",
       "    </tr>\n",
       "    <tr>\n",
       "      <th>0</th>\n",
       "      <td>Добавить два новых канала привлечения трафика, что позволит привлекать на 30% больше пользователей</td>\n",
       "      <td>13.33</td>\n",
       "      <td>2</td>\n",
       "    </tr>\n",
       "    <tr>\n",
       "      <th>7</th>\n",
       "      <td>Добавить форму подписки на все основные страницы, чтобы собрать базу клиентов для email-рассылок</td>\n",
       "      <td>11.20</td>\n",
       "      <td>3</td>\n",
       "    </tr>\n",
       "    <tr>\n",
       "      <th>6</th>\n",
       "      <td>Показать на главной странице баннеры с актуальными акциями и распродажами, чтобы увеличить конверсию</td>\n",
       "      <td>8.00</td>\n",
       "      <td>4</td>\n",
       "    </tr>\n",
       "    <tr>\n",
       "      <th>2</th>\n",
       "      <td>Добавить блоки рекомендаций товаров на сайт интернет магазина, чтобы повысить конверсию и средний чек заказа</td>\n",
       "      <td>7.00</td>\n",
       "      <td>5</td>\n",
       "    </tr>\n",
       "    <tr>\n",
       "      <th>1</th>\n",
       "      <td>Запустить собственную службу доставки, что сократит срок доставки заказов</td>\n",
       "      <td>2.00</td>\n",
       "      <td>6</td>\n",
       "    </tr>\n",
       "    <tr>\n",
       "      <th>5</th>\n",
       "      <td>Добавить страницу отзывов клиентов о магазине, что позволит увеличить количество заказов</td>\n",
       "      <td>1.33</td>\n",
       "      <td>7</td>\n",
       "    </tr>\n",
       "    <tr>\n",
       "      <th>3</th>\n",
       "      <td>Изменить структура категорий, что увеличит конверсию, т.к. пользователи быстрее найдут нужный товар</td>\n",
       "      <td>1.12</td>\n",
       "      <td>8</td>\n",
       "    </tr>\n",
       "    <tr>\n",
       "      <th>4</th>\n",
       "      <td>Изменить цвет фона главной страницы, чтобы увеличить вовлеченность пользователей</td>\n",
       "      <td>1.00</td>\n",
       "      <td>9</td>\n",
       "    </tr>\n",
       "  </tbody>\n",
       "</table>\n",
       "</div>"
      ],
      "text/plain": [
       "                                                                                                     hypothesis  \\\n",
       "8                                                       Запустить акцию, дающую скидку на товар в день рождения   \n",
       "0            Добавить два новых канала привлечения трафика, что позволит привлекать на 30% больше пользователей   \n",
       "7              Добавить форму подписки на все основные страницы, чтобы собрать базу клиентов для email-рассылок   \n",
       "6          Показать на главной странице баннеры с актуальными акциями и распродажами, чтобы увеличить конверсию   \n",
       "2  Добавить блоки рекомендаций товаров на сайт интернет магазина, чтобы повысить конверсию и средний чек заказа   \n",
       "1                                     Запустить собственную службу доставки, что сократит срок доставки заказов   \n",
       "5                      Добавить страницу отзывов клиентов о магазине, что позволит увеличить количество заказов   \n",
       "3           Изменить структура категорий, что увеличит конверсию, т.к. пользователи быстрее найдут нужный товар   \n",
       "4                              Изменить цвет фона главной страницы, чтобы увеличить вовлеченность пользователей   \n",
       "\n",
       "    ICE  ICE_rate  \n",
       "8 16.20         1  \n",
       "0 13.33         2  \n",
       "7 11.20         3  \n",
       "6  8.00         4  \n",
       "2  7.00         5  \n",
       "1  2.00         6  \n",
       "5  1.33         7  \n",
       "3  1.12         8  \n",
       "4  1.00         9  "
      ]
     },
     "execution_count": 13,
     "metadata": {},
     "output_type": "execute_result"
    }
   ],
   "source": [
    "# Рассчитаем параметр ICE\n",
    "hypothesis['ICE'] = hypothesis['impact'] * hypothesis['confidence'] / hypothesis['efforts']\n",
    "# Добавим рейтинг гипотез\n",
    "hypothesis = hypothesis.sort_values(by='ICE', ascending=False)\n",
    "hypothesis['ICE_rate'] = np.arange(1, len(hypothesis)+1)\n",
    "# Выведем отсортированный по параметру ICE список гипотез\n",
    "pd.set_option('max_colwidth', 200)\n",
    "hypothesis[['hypothesis', 'ICE', 'ICE_rate']] #Был отсортирован ранее"
   ]
  },
  {
   "cell_type": "markdown",
   "id": "902c5e83",
   "metadata": {},
   "source": [
    "Посмотрим как изменится порядок гипотез, если мы будем учитывать охват предполагаемых изменений.\n",
    "\n",
    "Расчитаем показатель **RICE** и так же добавим рейтинг:"
   ]
  },
  {
   "cell_type": "code",
   "execution_count": 14,
   "id": "1ca62bc5",
   "metadata": {
    "scrolled": true
   },
   "outputs": [
    {
     "data": {
      "text/html": [
       "<div>\n",
       "<style scoped>\n",
       "    .dataframe tbody tr th:only-of-type {\n",
       "        vertical-align: middle;\n",
       "    }\n",
       "\n",
       "    .dataframe tbody tr th {\n",
       "        vertical-align: top;\n",
       "    }\n",
       "\n",
       "    .dataframe thead th {\n",
       "        text-align: right;\n",
       "    }\n",
       "</style>\n",
       "<table border=\"1\" class=\"dataframe\">\n",
       "  <thead>\n",
       "    <tr style=\"text-align: right;\">\n",
       "      <th></th>\n",
       "      <th>hypothesis</th>\n",
       "      <th>RICE</th>\n",
       "      <th>RICE_rate</th>\n",
       "    </tr>\n",
       "  </thead>\n",
       "  <tbody>\n",
       "    <tr>\n",
       "      <th>7</th>\n",
       "      <td>Добавить форму подписки на все основные страницы, чтобы собрать базу клиентов для email-рассылок</td>\n",
       "      <td>112.00</td>\n",
       "      <td>1</td>\n",
       "    </tr>\n",
       "    <tr>\n",
       "      <th>2</th>\n",
       "      <td>Добавить блоки рекомендаций товаров на сайт интернет магазина, чтобы повысить конверсию и средний чек заказа</td>\n",
       "      <td>56.00</td>\n",
       "      <td>2</td>\n",
       "    </tr>\n",
       "    <tr>\n",
       "      <th>0</th>\n",
       "      <td>Добавить два новых канала привлечения трафика, что позволит привлекать на 30% больше пользователей</td>\n",
       "      <td>40.00</td>\n",
       "      <td>3</td>\n",
       "    </tr>\n",
       "    <tr>\n",
       "      <th>6</th>\n",
       "      <td>Показать на главной странице баннеры с актуальными акциями и распродажами, чтобы увеличить конверсию</td>\n",
       "      <td>40.00</td>\n",
       "      <td>4</td>\n",
       "    </tr>\n",
       "    <tr>\n",
       "      <th>8</th>\n",
       "      <td>Запустить акцию, дающую скидку на товар в день рождения</td>\n",
       "      <td>16.20</td>\n",
       "      <td>5</td>\n",
       "    </tr>\n",
       "    <tr>\n",
       "      <th>3</th>\n",
       "      <td>Изменить структура категорий, что увеличит конверсию, т.к. пользователи быстрее найдут нужный товар</td>\n",
       "      <td>9.00</td>\n",
       "      <td>6</td>\n",
       "    </tr>\n",
       "    <tr>\n",
       "      <th>1</th>\n",
       "      <td>Запустить собственную службу доставки, что сократит срок доставки заказов</td>\n",
       "      <td>4.00</td>\n",
       "      <td>7</td>\n",
       "    </tr>\n",
       "    <tr>\n",
       "      <th>5</th>\n",
       "      <td>Добавить страницу отзывов клиентов о магазине, что позволит увеличить количество заказов</td>\n",
       "      <td>4.00</td>\n",
       "      <td>8</td>\n",
       "    </tr>\n",
       "    <tr>\n",
       "      <th>4</th>\n",
       "      <td>Изменить цвет фона главной страницы, чтобы увеличить вовлеченность пользователей</td>\n",
       "      <td>3.00</td>\n",
       "      <td>9</td>\n",
       "    </tr>\n",
       "  </tbody>\n",
       "</table>\n",
       "</div>"
      ],
      "text/plain": [
       "                                                                                                     hypothesis  \\\n",
       "7              Добавить форму подписки на все основные страницы, чтобы собрать базу клиентов для email-рассылок   \n",
       "2  Добавить блоки рекомендаций товаров на сайт интернет магазина, чтобы повысить конверсию и средний чек заказа   \n",
       "0            Добавить два новых канала привлечения трафика, что позволит привлекать на 30% больше пользователей   \n",
       "6          Показать на главной странице баннеры с актуальными акциями и распродажами, чтобы увеличить конверсию   \n",
       "8                                                       Запустить акцию, дающую скидку на товар в день рождения   \n",
       "3           Изменить структура категорий, что увеличит конверсию, т.к. пользователи быстрее найдут нужный товар   \n",
       "1                                     Запустить собственную службу доставки, что сократит срок доставки заказов   \n",
       "5                      Добавить страницу отзывов клиентов о магазине, что позволит увеличить количество заказов   \n",
       "4                              Изменить цвет фона главной страницы, чтобы увеличить вовлеченность пользователей   \n",
       "\n",
       "    RICE  RICE_rate  \n",
       "7 112.00          1  \n",
       "2  56.00          2  \n",
       "0  40.00          3  \n",
       "6  40.00          4  \n",
       "8  16.20          5  \n",
       "3   9.00          6  \n",
       "1   4.00          7  \n",
       "5   4.00          8  \n",
       "4   3.00          9  "
      ]
     },
     "execution_count": 14,
     "metadata": {},
     "output_type": "execute_result"
    }
   ],
   "source": [
    "hypothesis['RICE'] = hypothesis['reach'] * hypothesis['impact'] * hypothesis['confidence'] / hypothesis['efforts']\n",
    "\n",
    "# Добавим рейтинг гипотез\n",
    "hypothesis = hypothesis.sort_values(by='RICE', ascending=False)\n",
    "hypothesis['RICE_rate'] = np.arange(1, len(hypothesis)+1)\n",
    "\n",
    "# Выведем отсортированный по параметру ICE список гипотез\n",
    "hypothesis[['hypothesis', 'RICE', 'RICE_rate']] #Был отсортирован ранее"
   ]
  },
  {
   "cell_type": "markdown",
   "id": "37bee064",
   "metadata": {},
   "source": [
    "Порядок приоритета изменился, сравним приоритеты\n"
   ]
  },
  {
   "cell_type": "code",
   "execution_count": 15,
   "id": "0fdf255a",
   "metadata": {
    "scrolled": false
   },
   "outputs": [
    {
     "data": {
      "text/html": [
       "<div>\n",
       "<style scoped>\n",
       "    .dataframe tbody tr th:only-of-type {\n",
       "        vertical-align: middle;\n",
       "    }\n",
       "\n",
       "    .dataframe tbody tr th {\n",
       "        vertical-align: top;\n",
       "    }\n",
       "\n",
       "    .dataframe thead th {\n",
       "        text-align: right;\n",
       "    }\n",
       "</style>\n",
       "<table border=\"1\" class=\"dataframe\">\n",
       "  <thead>\n",
       "    <tr style=\"text-align: right;\">\n",
       "      <th></th>\n",
       "      <th>hypothesis</th>\n",
       "      <th>reach</th>\n",
       "      <th>impact</th>\n",
       "      <th>confidence</th>\n",
       "      <th>efforts</th>\n",
       "      <th>ICE</th>\n",
       "      <th>ICE_rate</th>\n",
       "      <th>RICE</th>\n",
       "      <th>RICE_rate</th>\n",
       "    </tr>\n",
       "  </thead>\n",
       "  <tbody>\n",
       "    <tr>\n",
       "      <th>7</th>\n",
       "      <td>Добавить форму подписки на все основные страницы, чтобы собрать базу клиентов для email-рассылок</td>\n",
       "      <td>10</td>\n",
       "      <td>7</td>\n",
       "      <td>8</td>\n",
       "      <td>5</td>\n",
       "      <td>11.20</td>\n",
       "      <td>3</td>\n",
       "      <td>112.00</td>\n",
       "      <td>1</td>\n",
       "    </tr>\n",
       "    <tr>\n",
       "      <th>2</th>\n",
       "      <td>Добавить блоки рекомендаций товаров на сайт интернет магазина, чтобы повысить конверсию и средний чек заказа</td>\n",
       "      <td>8</td>\n",
       "      <td>3</td>\n",
       "      <td>7</td>\n",
       "      <td>3</td>\n",
       "      <td>7.00</td>\n",
       "      <td>5</td>\n",
       "      <td>56.00</td>\n",
       "      <td>2</td>\n",
       "    </tr>\n",
       "    <tr>\n",
       "      <th>0</th>\n",
       "      <td>Добавить два новых канала привлечения трафика, что позволит привлекать на 30% больше пользователей</td>\n",
       "      <td>3</td>\n",
       "      <td>10</td>\n",
       "      <td>8</td>\n",
       "      <td>6</td>\n",
       "      <td>13.33</td>\n",
       "      <td>2</td>\n",
       "      <td>40.00</td>\n",
       "      <td>3</td>\n",
       "    </tr>\n",
       "    <tr>\n",
       "      <th>6</th>\n",
       "      <td>Показать на главной странице баннеры с актуальными акциями и распродажами, чтобы увеличить конверсию</td>\n",
       "      <td>5</td>\n",
       "      <td>3</td>\n",
       "      <td>8</td>\n",
       "      <td>3</td>\n",
       "      <td>8.00</td>\n",
       "      <td>4</td>\n",
       "      <td>40.00</td>\n",
       "      <td>4</td>\n",
       "    </tr>\n",
       "    <tr>\n",
       "      <th>8</th>\n",
       "      <td>Запустить акцию, дающую скидку на товар в день рождения</td>\n",
       "      <td>1</td>\n",
       "      <td>9</td>\n",
       "      <td>9</td>\n",
       "      <td>5</td>\n",
       "      <td>16.20</td>\n",
       "      <td>1</td>\n",
       "      <td>16.20</td>\n",
       "      <td>5</td>\n",
       "    </tr>\n",
       "    <tr>\n",
       "      <th>3</th>\n",
       "      <td>Изменить структура категорий, что увеличит конверсию, т.к. пользователи быстрее найдут нужный товар</td>\n",
       "      <td>8</td>\n",
       "      <td>3</td>\n",
       "      <td>3</td>\n",
       "      <td>8</td>\n",
       "      <td>1.12</td>\n",
       "      <td>8</td>\n",
       "      <td>9.00</td>\n",
       "      <td>6</td>\n",
       "    </tr>\n",
       "    <tr>\n",
       "      <th>1</th>\n",
       "      <td>Запустить собственную службу доставки, что сократит срок доставки заказов</td>\n",
       "      <td>2</td>\n",
       "      <td>5</td>\n",
       "      <td>4</td>\n",
       "      <td>10</td>\n",
       "      <td>2.00</td>\n",
       "      <td>6</td>\n",
       "      <td>4.00</td>\n",
       "      <td>7</td>\n",
       "    </tr>\n",
       "    <tr>\n",
       "      <th>5</th>\n",
       "      <td>Добавить страницу отзывов клиентов о магазине, что позволит увеличить количество заказов</td>\n",
       "      <td>3</td>\n",
       "      <td>2</td>\n",
       "      <td>2</td>\n",
       "      <td>3</td>\n",
       "      <td>1.33</td>\n",
       "      <td>7</td>\n",
       "      <td>4.00</td>\n",
       "      <td>8</td>\n",
       "    </tr>\n",
       "    <tr>\n",
       "      <th>4</th>\n",
       "      <td>Изменить цвет фона главной страницы, чтобы увеличить вовлеченность пользователей</td>\n",
       "      <td>3</td>\n",
       "      <td>1</td>\n",
       "      <td>1</td>\n",
       "      <td>1</td>\n",
       "      <td>1.00</td>\n",
       "      <td>9</td>\n",
       "      <td>3.00</td>\n",
       "      <td>9</td>\n",
       "    </tr>\n",
       "  </tbody>\n",
       "</table>\n",
       "</div>"
      ],
      "text/plain": [
       "                                                                                                     hypothesis  \\\n",
       "7              Добавить форму подписки на все основные страницы, чтобы собрать базу клиентов для email-рассылок   \n",
       "2  Добавить блоки рекомендаций товаров на сайт интернет магазина, чтобы повысить конверсию и средний чек заказа   \n",
       "0            Добавить два новых канала привлечения трафика, что позволит привлекать на 30% больше пользователей   \n",
       "6          Показать на главной странице баннеры с актуальными акциями и распродажами, чтобы увеличить конверсию   \n",
       "8                                                       Запустить акцию, дающую скидку на товар в день рождения   \n",
       "3           Изменить структура категорий, что увеличит конверсию, т.к. пользователи быстрее найдут нужный товар   \n",
       "1                                     Запустить собственную службу доставки, что сократит срок доставки заказов   \n",
       "5                      Добавить страницу отзывов клиентов о магазине, что позволит увеличить количество заказов   \n",
       "4                              Изменить цвет фона главной страницы, чтобы увеличить вовлеченность пользователей   \n",
       "\n",
       "   reach  impact  confidence  efforts   ICE  ICE_rate   RICE  RICE_rate  \n",
       "7     10       7           8        5 11.20         3 112.00          1  \n",
       "2      8       3           7        3  7.00         5  56.00          2  \n",
       "0      3      10           8        6 13.33         2  40.00          3  \n",
       "6      5       3           8        3  8.00         4  40.00          4  \n",
       "8      1       9           9        5 16.20         1  16.20          5  \n",
       "3      8       3           3        8  1.12         8   9.00          6  \n",
       "1      2       5           4       10  2.00         6   4.00          7  \n",
       "5      3       2           2        3  1.33         7   4.00          8  \n",
       "4      3       1           1        1  1.00         9   3.00          9  "
      ]
     },
     "execution_count": 15,
     "metadata": {},
     "output_type": "execute_result"
    }
   ],
   "source": [
    "hypothesis"
   ]
  },
  {
   "cell_type": "markdown",
   "id": "27fcbbe1",
   "metadata": {},
   "source": [
    "Рейтинг гипотез разный, в зависимости от того учитываем мы охват или нет.\n",
    "\n",
    "Например гипотеза \"Добавить форму подписки на все основные страницы, чтобы собрать базу клиентов для email-рассылок\" без учета охвата в рейтинге ICE находится на 3 месте по приоритету, но т.к. эта гипотеза имеет самый большой охват в рейтинге по критерию RICE эта гипотеза вырывается на первое место, при чем с весьма значительным отрывом. \n",
    "\n",
    "Первая пятерка гипотез сохранилась, но в другом поряке. В тройке лидеров сохранилась только гипотеза \"Добавить два новых канала привлечения трафика, что позволит привлекать на 30% больше пользователей\"  \n",
    "\n",
    "Гипотеза \"Изменить цвет фона главной страницы, чтобы увеличить вовлеченность пользователей\" при любом расчете оказывается наименее приоритетной (имеет самые низкие показатели по критериям оценивания).\n",
    "\n",
    "Я бы рекомендовала в первую очередь тестировать гипотезу \"Добавить два новых канала привлечения трафика, что позволит привлекать на 30% больше пользователей\" так как эта гипотеза имеет хороший ретинг как с учетом охвата пользователей, так и без него."
   ]
  },
  {
   "cell_type": "markdown",
   "id": "f19ec731",
   "metadata": {},
   "source": [
    "## A/B-тест\n",
    "**Часть 2. Анализ A/B-теста**\n",
    "\n",
    "В результате проведения A/B-теста получены результаты, которые описаны в файлах */datasets/orders.csv* и */datasets/visitors.csv.*\n",
    "\n",
    "Рассчитаем кумулятивные метрики и статистическую значимость для определения наличия различий между двумя группами по среднему количеству заказов на посетителя и среднему чеку заказа."
   ]
  },
  {
   "cell_type": "markdown",
   "id": "1ab6a600",
   "metadata": {},
   "source": [
    "### Кумулятивная выручка по группам\n",
    "\n",
    "Построим график кумулятивной выручки по группам."
   ]
  },
  {
   "cell_type": "code",
   "execution_count": 16,
   "id": "feaf0ead",
   "metadata": {},
   "outputs": [
    {
     "data": {
      "image/png": "[encoded data removed]",
      "text/plain": [
       "<Figure size 1200x500 with 1 Axes>"
      ]
     },
     "metadata": {},
     "output_type": "display_data"
    }
   ],
   "source": [
    "datesGroups = orders[['date', 'group']].drop_duplicates()\n",
    "\n",
    "ordersAggregated = datesGroups.apply(\n",
    "    lambda x: orders[\n",
    "        np.logical_and(\n",
    "            orders['date'] <= x['date'], orders['group'] == x['group']\n",
    "        )\n",
    "    ].agg(\n",
    "        {\n",
    "            'date': 'max',\n",
    "            'group': 'max',\n",
    "            'transactionId': 'nunique',\n",
    "            'visitorId': 'nunique',\n",
    "            'revenue': 'sum',\n",
    "        }\n",
    "    ),\n",
    "    axis=1,\n",
    ").sort_values(by=['date', 'group'])\n",
    "\n",
    "visitorsAggregated = datesGroups.apply(\n",
    "    lambda x: visitors[\n",
    "        np.logical_and(\n",
    "            visitors['date'] <= x['date'], visitors['group'] == x['group']\n",
    "        )\n",
    "    ].agg({'date': 'max', 'group': 'max', 'visitors': 'sum'}),\n",
    "    axis=1,\n",
    ").sort_values(by=['date', 'group'])\n",
    "\n",
    "cumulativeData = ordersAggregated.merge(\n",
    "    visitorsAggregated, left_on=['date', 'group'], right_on=['date', 'group']\n",
    ")\n",
    "cumulativeData.columns = [\n",
    "    'date',\n",
    "    'group',\n",
    "    'orders',\n",
    "    'buyers',\n",
    "    'revenue',\n",
    "    'visitors',\n",
    "]\n",
    "\n",
    "# датафрейм с кумулятивным количеством заказов и кумулятивной выручкой по дням в группе А\n",
    "cumulativeRevenueA = cumulativeData[cumulativeData['group']=='A'][['date','revenue', 'orders']]\n",
    "\n",
    "# датафрейм с кумулятивным количеством заказов и кумулятивной выручкой по дням в группе B\n",
    "cumulativeRevenueB = cumulativeData[cumulativeData['group']=='B'][['date','revenue', 'orders']]\n",
    "\n",
    "plt.figure(figsize=(12, 5))\n",
    "\n",
    "# Строим график выручки группы А\n",
    "plt.plot(cumulativeRevenueA['date'], cumulativeRevenueA['revenue'], label='A')\n",
    "\n",
    "# Строим график выручки группы B\n",
    "plt.plot(cumulativeRevenueB['date'], cumulativeRevenueB['revenue'], label='B')\n",
    "\n",
    "plt.legend()\n",
    "\n",
    "plt.tick_params(axis='x', labelrotation = 90) # поворот подписей\n",
    "plt.title('График кумулятивной выручки по группам')\n",
    "plt.xlabel('Дата тестирования') \n",
    "plt.ylabel('Выручка млн. ед.');   "
   ]
  },
  {
   "cell_type": "markdown",
   "id": "0435066f",
   "metadata": {},
   "source": [
    "Выручка в группе B со второго дня начала теста держалась незначительно выше выручки группы A. Однако 19 августа произошел резкий скачок значений. Возможно имеет место аномально большой по стоимости заказ или аномальное количество заказов. \n",
    "\n",
    "Предварительно - группа B имеет стабильно лучшие показатели выручки, чем группа A."
   ]
  },
  {
   "cell_type": "markdown",
   "id": "d1690dea",
   "metadata": {},
   "source": [
    "### Кумулятивный средний чек по группам\n",
    "\n",
    "Построим график кумулятивного среднего чека по группам."
   ]
  },
  {
   "cell_type": "code",
   "execution_count": 17,
   "id": "2f0a2998",
   "metadata": {},
   "outputs": [
    {
     "data": {
      "image/png": "[encoded data removed]",
      "text/plain": [
       "<Figure size 1200x500 with 1 Axes>"
      ]
     },
     "metadata": {},
     "output_type": "display_data"
    }
   ],
   "source": [
    "plt.figure(figsize=(12, 5))\n",
    "plt.plot(cumulativeRevenueA['date'], cumulativeRevenueA['revenue']/cumulativeRevenueA['orders'], label='A')\n",
    "plt.plot(cumulativeRevenueB['date'], cumulativeRevenueB['revenue']/cumulativeRevenueB['orders'], label='B')\n",
    "plt.legend()\n",
    "plt.tick_params(axis='x', labelrotation = 90)\n",
    "plt.title('График кумулятивного среднего чека по группам')\n",
    "plt.xlabel('Дата тестирования') \n",
    "plt.ylabel('Величина среднего чека');# поворот подписей"
   ]
  },
  {
   "cell_type": "markdown",
   "id": "88a7fa15",
   "metadata": {},
   "source": [
    "А вот по оценке среднего чека группа B не так стабильно в лидерах. Аномалия 19 августа вызвала скачок, однако после скачка показатели среднего чека падают. По этому графику уже видно, что группа B может иметь наоборот плохие показатели."
   ]
  },
  {
   "cell_type": "markdown",
   "id": "681dfb98",
   "metadata": {},
   "source": [
    "### График относительного изменения кумулятивного среднего чека\n",
    "\n",
    "Построим график относительного изменения кумулятивного среднего чека группы B к группе A."
   ]
  },
  {
   "cell_type": "code",
   "execution_count": 18,
   "id": "105c179b",
   "metadata": {},
   "outputs": [
    {
     "data": {
      "image/png": "[encoded data removed]",
      "text/plain": [
       "<Figure size 1200x300 with 1 Axes>"
      ]
     },
     "metadata": {},
     "output_type": "display_data"
    }
   ],
   "source": [
    "# собираем данные в одном датафрейме\n",
    "mergedCumulativeRevenue = cumulativeRevenueA.merge(cumulativeRevenueB, left_on='date', right_on='date', how='left', suffixes=['A', 'B'])\n",
    "plt.figure(figsize=(12, 3))\n",
    "\n",
    "# cтроим отношение средних чеков\n",
    "plt.plot(mergedCumulativeRevenue['date'], (mergedCumulativeRevenue['revenueB']/mergedCumulativeRevenue['ordersB'])/(mergedCumulativeRevenue['revenueA']/mergedCumulativeRevenue['ordersA'])-1)\n",
    "\n",
    "# добавляем ось X\n",
    "plt.axhline(y=0, color='black', linestyle='--')\n",
    "plt.axhline(y=0.3, color='grey', linestyle='--')\n",
    "plt.tick_params(axis='x', labelrotation = 90)\n",
    "plt.title('График относительного изменения кумулятивного среднего чека группы B к группе A')\n",
    "plt.xlabel('Дата тестирования') \n",
    "plt.ylabel('Отношение чека группы В к А');"
   ]
  },
  {
   "cell_type": "markdown",
   "id": "40c35961",
   "metadata": {},
   "source": [
    "Первую неделю средний чек группы B рос, но к концу второй недели средний чек стал хуже, чем у контрольной группы. Однако аномальный заказ 19 августа исправил ситуацию и средний чек снова стал больше, чем у контрольной группы. \n",
    "\n",
    "Тем не менее, к концу теста средний чек второй группы продолжает падать."
   ]
  },
  {
   "cell_type": "markdown",
   "id": "4117d7a3",
   "metadata": {},
   "source": [
    "### Кумулятивное среднее количества заказов на посетителя\n",
    "\n",
    "Построим график кумулятивного среднего количества заказов на посетителя по группам."
   ]
  },
  {
   "cell_type": "code",
   "execution_count": 19,
   "id": "59dd2d8e",
   "metadata": {
    "scrolled": false
   },
   "outputs": [
    {
     "data": {
      "image/png": "[encoded data removed]",
      "text/plain": [
       "<Figure size 1200x300 with 1 Axes>"
      ]
     },
     "metadata": {},
     "output_type": "display_data"
    }
   ],
   "source": [
    "# считаем кумулятивное среднее количество заказов на посетителя\n",
    "cumulativeData['conversion'] = cumulativeData['orders']/cumulativeData['visitors']\n",
    "\n",
    "# отделяем данные по группе A\n",
    "cumulativeDataA = cumulativeData[cumulativeData['group']=='A']\n",
    "\n",
    "# отделяем данные по группе B\n",
    "cumulativeDataB = cumulativeData[cumulativeData['group']=='B']\n",
    "plt.figure(figsize=(12, 3))\n",
    "\n",
    "# строим графики\n",
    "plt.plot(cumulativeDataA['date'], cumulativeDataA['conversion'], label='A')\n",
    "plt.plot(cumulativeDataB['date'], cumulativeDataB['conversion'], label='B')\n",
    "plt.legend()\n",
    "plt.tick_params(axis='x', labelrotation = 90)\n",
    "plt.title('График кумулятивного среднего количества заказов на посетителя по группам')\n",
    "plt.xlabel('Дата тестирования') \n",
    "plt.ylabel('Среднее число заказов на пользователя');"
   ]
  },
  {
   "cell_type": "markdown",
   "id": "cef0488c",
   "metadata": {},
   "source": [
    "Значения колеблются от 3% до 3.6% - довольно незначительно. Однако уже через неделю после начала теста стабильно среднее количество заказов на посетителя у группы B выше, чем у группы А. С третьей недели показатели выровнялись и практически перестали колебаться."
   ]
  },
  {
   "cell_type": "markdown",
   "id": "b1e84e2b",
   "metadata": {},
   "source": [
    "### График относительного изменения кумулятивного количества заказов\n",
    "\n",
    "Построим график относительного изменения кумулятивного среднего количества заказов на посетителя группы B к группе A."
   ]
  },
  {
   "cell_type": "code",
   "execution_count": 20,
   "id": "2d2404a0",
   "metadata": {},
   "outputs": [
    {
     "data": {
      "image/png": "[encoded data removed]",
      "text/plain": [
       "<Figure size 1200x500 with 1 Axes>"
      ]
     },
     "metadata": {},
     "output_type": "display_data"
    }
   ],
   "source": [
    "mergedCumulativeConversions = cumulativeDataA[['date','conversion']].merge(cumulativeDataB[['date','conversion']],\n",
    "                                                                           left_on='date',\n",
    "                                                                           right_on='date',\n",
    "                                                                           how='left',\n",
    "                                                                           suffixes=['A', 'B'])\n",
    "\n",
    "plt.figure(figsize=(12, 5))\n",
    "\n",
    "plt.plot(mergedCumulativeConversions['date'],\n",
    "         mergedCumulativeConversions['conversionB']/mergedCumulativeConversions['conversionA']-1,\n",
    "         label=\"Относительное изменение кумулятивного количества заказов группы B относительно группы A\")\n",
    "\n",
    "plt.legend()\n",
    "plt.axhline(y=0, color='black', linestyle='--')\n",
    "plt.axhline(y=0.15, color='grey', linestyle='--')\n",
    "plt.tick_params(axis='x', labelrotation = 90)\n",
    "plt.title('График относительного изменения кумулятивного среднего количества заказов на посетителя группы B к группе A')\n",
    "plt.xlabel('Дата тестирования') \n",
    "plt.ylabel('Отношение количества заказов группы В к А');"
   ]
  },
  {
   "cell_type": "markdown",
   "id": "d8ac83ad",
   "metadata": {},
   "source": [
    "Со второй недели среднее количество заказов на посетителя группы B стало выше, чем в группе А.\n",
    "\n",
    "Возможно в первую неделю происходили отладочные процессы теста или \"привыкание\" к новому функционалу, т.к. значения группы В резко то падали, то поднимались относительно группы А."
   ]
  },
  {
   "cell_type": "markdown",
   "id": "d35d106b",
   "metadata": {},
   "source": [
    "### График количества заказов по пользователям\n",
    "Построим точечный график количества заказов по пользователям."
   ]
  },
  {
   "cell_type": "code",
   "execution_count": 21,
   "id": "51c250e3",
   "metadata": {},
   "outputs": [
    {
     "data": {
      "text/html": [
       "<div>\n",
       "<style scoped>\n",
       "    .dataframe tbody tr th:only-of-type {\n",
       "        vertical-align: middle;\n",
       "    }\n",
       "\n",
       "    .dataframe tbody tr th {\n",
       "        vertical-align: top;\n",
       "    }\n",
       "\n",
       "    .dataframe thead th {\n",
       "        text-align: right;\n",
       "    }\n",
       "</style>\n",
       "<table border=\"1\" class=\"dataframe\">\n",
       "  <thead>\n",
       "    <tr style=\"text-align: right;\">\n",
       "      <th></th>\n",
       "      <th>visitorId</th>\n",
       "      <th>orders</th>\n",
       "    </tr>\n",
       "  </thead>\n",
       "  <tbody>\n",
       "    <tr>\n",
       "      <th>1023</th>\n",
       "      <td>4256040402</td>\n",
       "      <td>11</td>\n",
       "    </tr>\n",
       "    <tr>\n",
       "      <th>591</th>\n",
       "      <td>2458001652</td>\n",
       "      <td>11</td>\n",
       "    </tr>\n",
       "    <tr>\n",
       "      <th>569</th>\n",
       "      <td>2378935119</td>\n",
       "      <td>9</td>\n",
       "    </tr>\n",
       "    <tr>\n",
       "      <th>487</th>\n",
       "      <td>2038680547</td>\n",
       "      <td>8</td>\n",
       "    </tr>\n",
       "    <tr>\n",
       "      <th>44</th>\n",
       "      <td>199603092</td>\n",
       "      <td>5</td>\n",
       "    </tr>\n",
       "    <tr>\n",
       "      <th>744</th>\n",
       "      <td>3062433592</td>\n",
       "      <td>5</td>\n",
       "    </tr>\n",
       "    <tr>\n",
       "      <th>55</th>\n",
       "      <td>237748145</td>\n",
       "      <td>5</td>\n",
       "    </tr>\n",
       "    <tr>\n",
       "      <th>917</th>\n",
       "      <td>3803269165</td>\n",
       "      <td>5</td>\n",
       "    </tr>\n",
       "    <tr>\n",
       "      <th>299</th>\n",
       "      <td>1230306981</td>\n",
       "      <td>5</td>\n",
       "    </tr>\n",
       "    <tr>\n",
       "      <th>897</th>\n",
       "      <td>3717692402</td>\n",
       "      <td>5</td>\n",
       "    </tr>\n",
       "  </tbody>\n",
       "</table>\n",
       "</div>"
      ],
      "text/plain": [
       "       visitorId  orders\n",
       "1023  4256040402      11\n",
       "591   2458001652      11\n",
       "569   2378935119       9\n",
       "487   2038680547       8\n",
       "44     199603092       5\n",
       "744   3062433592       5\n",
       "55     237748145       5\n",
       "917   3803269165       5\n",
       "299   1230306981       5\n",
       "897   3717692402       5"
      ]
     },
     "execution_count": 21,
     "metadata": {},
     "output_type": "execute_result"
    }
   ],
   "source": [
    "ordersByUsers = (\n",
    "    orders.groupby('visitorId', as_index=False)\n",
    "    .agg({'transactionId': 'nunique'})\n",
    ")\n",
    "ordersByUsers.columns = ['visitorId', 'orders']\n",
    "\n",
    "ordersByUsers.sort_values(by='orders', ascending=False).head(10)"
   ]
  },
  {
   "cell_type": "code",
   "execution_count": 22,
   "id": "6ed506d5",
   "metadata": {},
   "outputs": [
    {
     "data": {
      "image/png": "[encoded data removed]",
      "text/plain": [
       "<Figure size 640x480 with 1 Axes>"
      ]
     },
     "metadata": {},
     "output_type": "display_data"
    }
   ],
   "source": [
    "# серия из чисел от 0 до количества наблюдений в ordersByUsers\n",
    "x_values = pd.Series(range(0, len(ordersByUsers)))\n",
    "\n",
    "plt.scatter(x_values, ordersByUsers['orders'])\n",
    "plt.title('График количества заказов по пользователям')\n",
    "plt.xlabel('Порядковый номер пользователя, совершившего заказ') \n",
    "plt.ylabel('Число заказов');"
   ]
  },
  {
   "cell_type": "markdown",
   "id": "321a9da4",
   "metadata": {},
   "source": [
    "Пользователей, сделавших более 2 заказов не так много. Вероятно, пользователи сделавшие больше 2 заказов будут считаться аномальными и их следует исключить из выборки."
   ]
  },
  {
   "cell_type": "markdown",
   "id": "d490a661",
   "metadata": {},
   "source": [
    "Посчитаем 95-й и 99-й перцентили количества заказов на пользователя. Выберем границу для определения аномальных пользователей."
   ]
  },
  {
   "cell_type": "code",
   "execution_count": 23,
   "id": "e16a26dc",
   "metadata": {},
   "outputs": [
    {
     "name": "stdout",
     "output_type": "stream",
     "text": [
      "[1. 2. 4.]\n"
     ]
    }
   ],
   "source": [
    "print(np.percentile(ordersByUsers['orders'], [90, 95, 99])) "
   ]
  },
  {
   "cell_type": "markdown",
   "id": "89b5d5e9",
   "metadata": {},
   "source": [
    "Действительно, не более 5% совершили более 2ух заказов, и не более 1% совершили больше 4 заказов.\n",
    "\n",
    "**В дальнейшем отсеем пользователей, которые совершили 3 и более заказов. Ориентируемся на 2 персентиль.**"
   ]
  },
  {
   "cell_type": "code",
   "execution_count": 24,
   "id": "ac9cb81a",
   "metadata": {},
   "outputs": [],
   "source": [
    "orders_95 = np.percentile(ordersByUsers['orders'], 95)"
   ]
  },
  {
   "cell_type": "markdown",
   "id": "44bda2ab",
   "metadata": {},
   "source": [
    "### График стоимости заказов\n",
    "\n",
    "Построим точечный график стоимостей заказов."
   ]
  },
  {
   "cell_type": "code",
   "execution_count": 25,
   "id": "8877a6d8",
   "metadata": {},
   "outputs": [
    {
     "data": {
      "image/png": "[encoded data removed]",
      "text/plain": [
       "<Figure size 1500x1000 with 2 Axes>"
      ]
     },
     "metadata": {},
     "output_type": "display_data"
    }
   ],
   "source": [
    "x_values = pd.Series(range(0, len(orders['revenue'])))\n",
    "\n",
    "plt.figure(figsize=(15, 10))\n",
    "\n",
    "plt.subplot(211)\n",
    "plt.scatter(x_values, orders['revenue'])\n",
    "plt.title('График стоимости заказов')\n",
    "plt.xlabel('Порядковый номер пользователя, совершившего заказ') \n",
    "plt.ylabel('Стоимость заказа, млн')\n",
    "\n",
    "plt.subplot(212)\n",
    "plt.scatter(x_values, orders['revenue'])\n",
    "plt.ylim(0, 120000)\n",
    "plt.title('График стоимости заказов, приближенный')\n",
    "plt.xlabel('Порядковый номер пользователя, совершившего заказ') \n",
    "plt.ylabel('Стоимость заказа');"
   ]
  },
  {
   "cell_type": "markdown",
   "id": "71fb6c80",
   "metadata": {},
   "source": [
    "Имеется один резко выбивающийся заказ на 1.2млн. и один в 200тыс., большинство остальных заказов по стоимости визуально находятся в пределах 30 тысяч."
   ]
  },
  {
   "cell_type": "markdown",
   "id": "e3962975",
   "metadata": {},
   "source": [
    "Посчитаем 95-й и 99-й перцентили стоимости заказов. Выберем границу для определения аномальных заказов."
   ]
  },
  {
   "cell_type": "code",
   "execution_count": 26,
   "id": "7342760f",
   "metadata": {},
   "outputs": [
    {
     "name": "stdout",
     "output_type": "stream",
     "text": [
      "[18168.  28000.  58233.2]\n"
     ]
    }
   ],
   "source": [
    "print(np.percentile(orders['revenue'], [90, 95, 99]))"
   ]
  },
  {
   "cell_type": "markdown",
   "id": "a9414ef4",
   "metadata": {},
   "source": [
    "Только у 5% пользователей сумма заказа превышает 28тыс. и только у 1% пользователей превышает 58тыс.\n",
    "\n",
    "**В дальнейшем отсеем пользоваталей, у которых сумма заказа превышает 28 тысяч, ориентируемся на 95 персентиль.**"
   ]
  },
  {
   "cell_type": "code",
   "execution_count": 27,
   "id": "7fbd8ef2",
   "metadata": {},
   "outputs": [],
   "source": [
    "revenue_95 = np.percentile(orders['revenue'], 95)"
   ]
  },
  {
   "cell_type": "markdown",
   "id": "bd19a817",
   "metadata": {},
   "source": [
    "### Стат.значимость по количеству заказов, сырая\n",
    "\n",
    "Посчитаем статистическую значимость различий в среднем количестве заказов на посетителя между группами по «сырым» данным."
   ]
  },
  {
   "cell_type": "markdown",
   "id": "da97a48b",
   "metadata": {},
   "source": [
    "Сформулируем гипотезы:\n",
    "\n",
    "**Нулевая**: Статистических различий в среднем количестве заказов между группами А и В по сырым данным нет. \n",
    "\n",
    "**Альтернативная**: Статистически значимые различия в среднем количестве заказов на пользователя между группами по сырым данным есть.\n",
    "\n",
    "Примем значение **alpha = 0.05**\n",
    "\n",
    "Применим непараметрический метод Манна-Уитни, т.к. данные подвержены выбросам и вряд ли имеют нормальное распределение."
   ]
  },
  {
   "cell_type": "code",
   "execution_count": 28,
   "id": "0d1fb138",
   "metadata": {},
   "outputs": [],
   "source": [
    "def mann_whitney_u(data_1, data_2):\n",
    "    alpha = 0.05  # критический уровень статистической значимости\n",
    "\n",
    "    results = stats.mannwhitneyu(data_1, data_2)[1] # сразу получаем pvalue\n",
    "\n",
    "    print('P-value: ', \"{0:.3f}\".format(results))\n",
    "\n",
    "    if results < alpha:\n",
    "        print('Отвергаем нулевую гипотезу: разница статистически значима')\n",
    "    else:\n",
    "        print('Не получилось отвергнуть нулевую гипотезу, вывод о различии сделать нельзя') \n",
    "\n",
    "    print('Относительный прирост показателя группы B: ', '{0:.1%}'.format(data_2.mean() / data_1.mean() - 1) )\n",
    "    return"
   ]
  },
  {
   "cell_type": "code",
   "execution_count": 29,
   "id": "f091ccea",
   "metadata": {},
   "outputs": [],
   "source": [
    "# Число заказов для каждого пользователя группы A\n",
    "ordersByUsersA = (orders[orders['group'] == 'A']\n",
    "                    .groupby('visitorId', as_index=False)\n",
    "                    .agg({'transactionId': 'nunique'})\n",
    "                 )\n",
    "ordersByUsersA.columns = ['visitorId', 'orders']\n",
    "\n",
    "# Число заказов для каждого пользователя группы В\n",
    "ordersByUsersB = (orders[orders['group'] == 'B']\n",
    "                    .groupby('visitorId', as_index=False)\n",
    "                    .agg({'transactionId': 'nunique'})\n",
    "                 )\n",
    "ordersByUsersB.columns = ['visitorId', 'orders']\n",
    "\n",
    "# Выборка, где каждый элемент — число заказов определённого пользователя группы А, в том числе ноль\n",
    "sampleA = pd.concat([ordersByUsersA['orders'],\n",
    "                     pd.Series(0,\n",
    "                               index=np.arange(cumulativeDataA['visitors'].max() - len(ordersByUsersA['orders'])),\n",
    "                               name='orders')], axis=0)\n",
    "# Выборка, где каждый элемент — число заказов определённого пользователя группы В, в том числе ноль\n",
    "sampleB = pd.concat([ordersByUsersB['orders'],\n",
    "                     pd.Series(0,\n",
    "                               index=np.arange(cumulativeDataB['visitors'].max() - len(ordersByUsersB['orders'])),\n",
    "                     name='orders')], axis=0)"
   ]
  },
  {
   "cell_type": "code",
   "execution_count": 30,
   "id": "46f7c48e",
   "metadata": {},
   "outputs": [
    {
     "name": "stdout",
     "output_type": "stream",
     "text": [
      "P-value:  0.017\n",
      "Отвергаем нулевую гипотезу: разница статистически значима\n",
      "Относительный прирост показателя группы B:  13.8%\n"
     ]
    }
   ],
   "source": [
    "mann_whitney_u(sampleA, sampleB)"
   ]
  },
  {
   "cell_type": "markdown",
   "id": "bebc39f7",
   "metadata": {},
   "source": [
    "Значение P-value и относительный выигрыш группы В - почти в 14% подтверждает выводы, сделанные по графику изменения среднего количества заказов на посетителя: разница между группами есть, в группе В дела обстоят лучше."
   ]
  },
  {
   "cell_type": "markdown",
   "id": "562f18ee",
   "metadata": {},
   "source": [
    "### Стат.значимость по количеству заказов, чистая \n",
    "\n",
    "Посчитаем статистическую значимость различий в среднем количестве заказов на посетителя между группами по «очищенным» данным. \n",
    "\n",
    "Подчистим данные от аномалий и посчитаем сколько таких пользователей мы исключим из анализа:"
   ]
  },
  {
   "cell_type": "code",
   "execution_count": 31,
   "id": "70cdb895",
   "metadata": {},
   "outputs": [
    {
     "name": "stdout",
     "output_type": "stream",
     "text": [
      "Количество аномальных пользователей: 74\n"
     ]
    }
   ],
   "source": [
    "usersWithManyOrders = pd.concat(\n",
    "    [\n",
    "        ordersByUsersA[ordersByUsersA['orders'] > orders_95]['visitorId'],\n",
    "        ordersByUsersB[ordersByUsersB['orders'] > orders_95]['visitorId'],\n",
    "    ],\n",
    "    axis=0,\n",
    ")\n",
    "usersWithExpensiveOrders = orders[orders['revenue'] > revenue_95]['visitorId']\n",
    "abnormalUsers = (\n",
    "    pd.concat([usersWithManyOrders, usersWithExpensiveOrders], axis=0)\n",
    "    .drop_duplicates()\n",
    "    .sort_values()\n",
    ")\n",
    "print(f'Количество аномальных пользователей: {abnormalUsers.shape[0]}') "
   ]
  },
  {
   "cell_type": "markdown",
   "id": "9e02f636",
   "metadata": {},
   "source": [
    "Посчитаем статистическую значимость различия среднего количества заказов после удаления аномальных пользователей.\n",
    "\n",
    "Сформулируем гипотезы:\n",
    "\n",
    "**Нулевая**: Статистических различий в среднем количестве заказов между группами А и В по отфильтрованным данным нет. \n",
    "\n",
    "**Альтернативная**: Статистически значимые различия в среднем количестве заказов на пользователя между группами по отфильтрованным данным есть.\n",
    "\n",
    "Примем значение **alpha = 0.05**\n",
    "\n",
    "Применим непараметрический метод Манна-Уитни, т.к. данные подвержены выбросам и вряд ли имеют нормальное распределение."
   ]
  },
  {
   "cell_type": "code",
   "execution_count": 32,
   "id": "abdb9188",
   "metadata": {},
   "outputs": [],
   "source": [
    "sampleAFiltered = pd.concat([ordersByUsersA[np.logical_not(ordersByUsersA['visitorId'].isin(abnormalUsers))]['orders'],\n",
    "                            pd.Series(0,\n",
    "                                      index=np.arange(cumulativeDataA['visitors'].max() - len(ordersByUsersA['orders'])),\n",
    "                                      name='orders')],\n",
    "                            axis=0)\n",
    "\n",
    "sampleBFiltered = pd.concat([ordersByUsersB[np.logical_not(ordersByUsersB['visitorId'].isin(abnormalUsers))]['orders'],\n",
    "                             pd.Series(0,\n",
    "                                       index=np.arange(cumulativeDataB['visitors'].max() - len(ordersByUsersB['orders'])),\n",
    "                                       name='orders')],\n",
    "                            axis=0)"
   ]
  },
  {
   "cell_type": "code",
   "execution_count": 33,
   "id": "687ad6d6",
   "metadata": {},
   "outputs": [
    {
     "name": "stdout",
     "output_type": "stream",
     "text": [
      "P-value:  0.013\n",
      "Отвергаем нулевую гипотезу: разница статистически значима\n",
      "Относительный прирост показателя группы B:  17.3%\n"
     ]
    }
   ],
   "source": [
    "mann_whitney_u(sampleAFiltered, sampleBFiltered)"
   ]
  },
  {
   "cell_type": "markdown",
   "id": "2ba79242",
   "metadata": {},
   "source": [
    "P-value все так же меньше 0.05.\n",
    "\n",
    "Так же как и по неочищенным данным можно сделать вывод о том, что по среднему количеству заказов по группам есть существенные различия. Группа B имеет явное преимущество по количеству заказов."
   ]
  },
  {
   "cell_type": "markdown",
   "id": "e35a9fc5",
   "metadata": {},
   "source": [
    "### Стат.значимость различий в среднем чеке, сырая\n",
    "\n",
    "Посчитаем статистическую значимость различий в среднем чеке заказа между группами по «сырым» данным.\n",
    "\n",
    "Сформулируем гипотезы:\n",
    "\n",
    "**Нулевая**: Статистических различий в среднем чеке между группами А и В по сырым данным нет. \n",
    "\n",
    "**Альтернативная**: Статистически значимые различия в среднем чеке на пользователя между группами по сырым данным есть.\n",
    "\n",
    "Примем значение **alpha = 0.05**\n",
    "\n",
    "Применим непараметрический метод Манна-Уитни, т.к. данные подвержены выбросам и вряд ли имеют нормальное распределение."
   ]
  },
  {
   "cell_type": "code",
   "execution_count": 34,
   "id": "ab775596",
   "metadata": {},
   "outputs": [
    {
     "name": "stdout",
     "output_type": "stream",
     "text": [
      "P-value:  0.729\n",
      "Не получилось отвергнуть нулевую гипотезу, вывод о различии сделать нельзя\n",
      "Относительный прирост показателя группы B:  25.9%\n"
     ]
    }
   ],
   "source": [
    "mann_whitney_u(orders[orders['group']=='A']['revenue'], orders[orders['group']=='B']['revenue'])"
   ]
  },
  {
   "cell_type": "markdown",
   "id": "70da29a8",
   "metadata": {},
   "source": [
    "P-value больше 0.05, следовательно различия в величине среднего чека незначительны. Прирост среднего чека группы В может быть обусловлен выбросом в 1.2млн., поэтому по результатам проверки методом Манна-Уитни статистически значимой и устойчивой разницы между величинами сренего чека по неочищенным данным не наблюдается."
   ]
  },
  {
   "cell_type": "markdown",
   "id": "297dc073",
   "metadata": {},
   "source": [
    "### Стат.значимость различий в среднем чеке, чистая\n",
    "\n",
    "Посчитаем статистическую значимость различий в среднем чеке заказа между группами по отфильтрованным данным.\n",
    "\n",
    "Сформулируем гипотезы:\n",
    "\n",
    "**Нулевая**: Статистических различий в среднем чеке между группами А и В по отфильтрованным данным нет. \n",
    "\n",
    "**Альтернативная**: Статистически значимые различия в среднем чеке на пользователя между группами по отфильтрованным данным есть.\n",
    "\n",
    "Примем значение **alpha = 0.05**\n",
    "\n",
    "Применим непараметрический метод Манна-Уитни, т.к. данные подвержены выбросам и вряд ли имеют нормальное распределение."
   ]
  },
  {
   "cell_type": "code",
   "execution_count": 35,
   "id": "a808f6a7",
   "metadata": {},
   "outputs": [],
   "source": [
    "avg_check_A = orders[np.logical_and(orders['group'] == 'A',\n",
    "                                    np.logical_not(orders['visitorId'].isin(abnormalUsers)))]['revenue']\n",
    "avg_check_B = orders[np.logical_and(orders['group'] == 'B',\n",
    "                                    np.logical_not(orders['visitorId'].isin(abnormalUsers)))]['revenue']"
   ]
  },
  {
   "cell_type": "code",
   "execution_count": 36,
   "id": "d158b889",
   "metadata": {},
   "outputs": [
    {
     "name": "stdout",
     "output_type": "stream",
     "text": [
      "P-value:  0.738\n",
      "Не получилось отвергнуть нулевую гипотезу, вывод о различии сделать нельзя\n",
      "Относительный прирост показателя группы B:  -2.0%\n"
     ]
    }
   ],
   "source": [
    "mann_whitney_u(avg_check_A, avg_check_B)"
   ]
  },
  {
   "cell_type": "markdown",
   "id": "bddee2be",
   "metadata": {},
   "source": [
    "Так же как и по сырым данным мы получили P-value много больше, чем 0.05. Результаты сырых и отфильтрованных данных отличаются только приростом: убрав выбросы, в особенности на 1.2млн, относительная разница между средними чеками групп А и В практически исчезла.\n",
    "\n",
    "Таким образом вывод о наличии различий в величине среднего чека для двух групп сделать нельзя."
   ]
  },
  {
   "cell_type": "markdown",
   "id": "7b54a795",
   "metadata": {},
   "source": [
    "### Решение по результатам теста\n",
    "\n",
    "Варианты решений:\n",
    "- Остановить тест, зафиксировать победу одной из групп.\n",
    "- Остановить тест, зафиксировать отсутствие различий между группами.\n",
    "- Продолжить тест.\n",
    "\n",
    "Исходя из имеющихся результатов теста можно сделать следующие выводы:\n",
    "\n",
    "- существует статистически значимая разница между количеством заказом в группе А и в группе В. Группа В имеет несколько лучшие показатели.\n",
    "- статистической значимости между величинами средних чеков в группе А и группе В не наблюдается.\n",
    "\n",
    "Что бы принять решение о продолжении или остановке теста проверим, достигли ли мы достаточного объема выборки:"
   ]
  },
  {
   "cell_type": "code",
   "execution_count": 37,
   "id": "48044579",
   "metadata": {},
   "outputs": [
    {
     "name": "stdout",
     "output_type": "stream",
     "text": [
      "Количество наблюдений (посетителей сайта за весь наблюдаемый период): 37652\n"
     ]
    }
   ],
   "source": [
    "print(f'Количество наблюдений (посетителей сайта за весь наблюдаемый период): {visitors.visitors.sum()}')"
   ]
  },
  {
   "cell_type": "markdown",
   "id": "6c5c76d7",
   "metadata": {},
   "source": [
    "Посчитаем среднее число заказов для всех пользователей в первую неделю работы теста и примем это среднее за конверсию (так как иных данных у нас нет) для определения минимального числа наблюдений (количества поситителей):"
   ]
  },
  {
   "cell_type": "code",
   "execution_count": 38,
   "id": "751e0efc",
   "metadata": {},
   "outputs": [
    {
     "name": "stdout",
     "output_type": "stream",
     "text": [
      "3.21%\n"
     ]
    }
   ],
   "source": [
    "print('{:.2%}'.format(orders[orders['date'] < '2019-08-08 00:00:00']['transactionId'].nunique()\n",
    "                      /visitors[visitors['date'] < '2019-08-08 00:00:00']['visitors'].sum()))"
   ]
  },
  {
   "cell_type": "markdown",
   "id": "d4cb8a91",
   "metadata": {},
   "source": [
    "С помощью калькулятора <a href=\"http://www.evanmiller.org/ab-testing/sample-size.html\">evanmiller.org</a> определим минимальный размер выборки для определения различия между группами теста в **20%**, при базовой конверсии **3%**, мощности теста в **80%** и уровне значимости в **5%**. \n",
    "\n",
    "<a href=\"https://www.evanmiller.org/ab-testing/sample-size.html#!3;80;5;20;1\">Результат тут.</a>\n",
    "\n",
    "Таким образом для нашего теста по каждой группе нам необходимо иметь 13050 наблюдений в каждой группе.\n",
    "\n"
   ]
  },
  {
   "cell_type": "code",
   "execution_count": 39,
   "id": "e18001e4",
   "metadata": {},
   "outputs": [
    {
     "name": "stdout",
     "output_type": "stream",
     "text": [
      "Количество поситителей в группе А:  18736\n",
      "Количество поситителей в группе B:  18916\n"
     ]
    }
   ],
   "source": [
    "print('Количество поситителей в группе А: ', cumulativeDataA['visitors'].max())\n",
    "print('Количество поситителей в группе B: ', cumulativeDataB['visitors'].max())"
   ]
  },
  {
   "cell_type": "markdown",
   "id": "40415777",
   "metadata": {},
   "source": [
    "Объем выборки достаточный, для принятия решения по итогу теста.\n",
    "\n",
    "Исходя из результатов теста, мы предлагаем **остановить тест и зафиксировать победу группы В**. \n",
    "\n",
    "Так как среднее количество заказов на посетителя в группе В выше, то и выручка должна увеличиться, что являлось целью нововведений. "
   ]
  }
 ],
 "metadata": {
  "ExecuteTimeLog": [
   {
    "duration": 1198,
    "start_time": "2023-04-01T02:57:11.949Z"
   },
   {
    "duration": 101,
    "start_time": "2023-04-01T02:57:13.149Z"
   },
   {
    "duration": 108,
    "start_time": "2023-04-01T02:57:13.252Z"
   },
   {
    "duration": 87,
    "start_time": "2023-04-01T02:57:13.361Z"
   },
   {
    "duration": 2,
    "start_time": "2023-04-01T02:57:13.450Z"
   },
   {
    "duration": 14,
    "start_time": "2023-04-01T02:57:13.454Z"
   },
   {
    "duration": 19,
    "start_time": "2023-04-01T02:57:13.469Z"
   },
   {
    "duration": 21,
    "start_time": "2023-04-01T02:57:13.490Z"
   },
   {
    "duration": 8,
    "start_time": "2023-04-01T02:57:13.512Z"
   },
   {
    "duration": 9,
    "start_time": "2023-04-01T02:57:13.522Z"
   },
   {
    "duration": 22,
    "start_time": "2023-04-01T02:57:13.532Z"
   },
   {
    "duration": 11,
    "start_time": "2023-04-01T02:57:13.556Z"
   },
   {
    "duration": 11,
    "start_time": "2023-04-01T02:57:13.568Z"
   },
   {
    "duration": 10,
    "start_time": "2023-04-01T02:57:13.581Z"
   },
   {
    "duration": 9,
    "start_time": "2023-04-01T02:57:13.593Z"
   },
   {
    "duration": 513,
    "start_time": "2023-04-01T02:57:13.603Z"
   },
   {
    "duration": 183,
    "start_time": "2023-04-01T02:57:14.117Z"
   },
   {
    "duration": 283,
    "start_time": "2023-04-01T02:57:14.301Z"
   },
   {
    "duration": 202,
    "start_time": "2023-04-01T02:57:14.587Z"
   },
   {
    "duration": 292,
    "start_time": "2023-04-01T02:57:14.790Z"
   },
   {
    "duration": 117,
    "start_time": "2023-04-01T02:57:15.084Z"
   },
   {
    "duration": 4,
    "start_time": "2023-04-01T02:57:15.202Z"
   },
   {
    "duration": 142,
    "start_time": "2023-04-01T02:57:15.207Z"
   },
   {
    "duration": 3,
    "start_time": "2023-04-01T02:57:15.351Z"
   },
   {
    "duration": 300,
    "start_time": "2023-04-01T02:57:15.356Z"
   },
   {
    "duration": 160,
    "start_time": "2023-04-01T02:57:15.657Z"
   },
   {
    "duration": 24,
    "start_time": "2023-04-01T02:57:15.818Z"
   },
   {
    "duration": 9,
    "start_time": "2023-04-01T02:57:15.844Z"
   },
   {
    "duration": 27,
    "start_time": "2023-04-01T02:57:15.855Z"
   },
   {
    "duration": 11,
    "start_time": "2023-04-01T02:57:15.883Z"
   },
   {
    "duration": 11,
    "start_time": "2023-04-01T02:57:15.896Z"
   },
   {
    "duration": 8,
    "start_time": "2023-04-01T02:57:15.908Z"
   },
   {
    "duration": 1187,
    "start_time": "2023-04-01T06:11:36.230Z"
   },
   {
    "duration": 40,
    "start_time": "2023-04-01T06:11:37.419Z"
   },
   {
    "duration": 58,
    "start_time": "2023-04-01T06:11:37.460Z"
   },
   {
    "duration": 27,
    "start_time": "2023-04-01T06:11:37.520Z"
   },
   {
    "duration": 3,
    "start_time": "2023-04-01T06:11:37.548Z"
   },
   {
    "duration": 52,
    "start_time": "2023-04-01T06:11:37.553Z"
   },
   {
    "duration": 9,
    "start_time": "2023-04-01T06:11:37.607Z"
   },
   {
    "duration": 25,
    "start_time": "2023-04-01T06:11:37.618Z"
   },
   {
    "duration": 20,
    "start_time": "2023-04-01T06:11:37.645Z"
   },
   {
    "duration": 14,
    "start_time": "2023-04-01T06:11:37.668Z"
   },
   {
    "duration": 42,
    "start_time": "2023-04-01T06:11:37.683Z"
   },
   {
    "duration": 24,
    "start_time": "2023-04-01T06:11:37.727Z"
   },
   {
    "duration": 30,
    "start_time": "2023-04-01T06:11:37.753Z"
   },
   {
    "duration": 31,
    "start_time": "2023-04-01T06:11:37.784Z"
   },
   {
    "duration": 33,
    "start_time": "2023-04-01T06:11:37.816Z"
   },
   {
    "duration": 579,
    "start_time": "2023-04-01T06:11:37.850Z"
   },
   {
    "duration": 190,
    "start_time": "2023-04-01T06:11:38.431Z"
   },
   {
    "duration": 247,
    "start_time": "2023-04-01T06:11:38.623Z"
   },
   {
    "duration": 197,
    "start_time": "2023-04-01T06:11:38.871Z"
   },
   {
    "duration": 333,
    "start_time": "2023-04-01T06:11:39.069Z"
   },
   {
    "duration": 122,
    "start_time": "2023-04-01T06:11:39.403Z"
   },
   {
    "duration": 4,
    "start_time": "2023-04-01T06:11:39.527Z"
   },
   {
    "duration": 143,
    "start_time": "2023-04-01T06:11:39.532Z"
   },
   {
    "duration": 4,
    "start_time": "2023-04-01T06:11:39.682Z"
   },
   {
    "duration": 395,
    "start_time": "2023-04-01T06:11:39.688Z"
   },
   {
    "duration": 176,
    "start_time": "2023-04-01T06:11:40.085Z"
   },
   {
    "duration": 10,
    "start_time": "2023-04-01T06:11:40.262Z"
   },
   {
    "duration": 43,
    "start_time": "2023-04-01T06:11:40.285Z"
   },
   {
    "duration": 36,
    "start_time": "2023-04-01T06:11:40.329Z"
   },
   {
    "duration": 13,
    "start_time": "2023-04-01T06:11:40.367Z"
   },
   {
    "duration": 22,
    "start_time": "2023-04-01T06:11:40.382Z"
   },
   {
    "duration": 19,
    "start_time": "2023-04-01T06:11:40.405Z"
   },
   {
    "duration": 6,
    "start_time": "2023-04-01T06:27:15.451Z"
   },
   {
    "duration": 5,
    "start_time": "2023-04-01T06:27:28.084Z"
   },
   {
    "duration": 88,
    "start_time": "2023-04-01T18:48:54.336Z"
   },
   {
    "duration": 45,
    "start_time": "2023-04-01T18:48:59.674Z"
   },
   {
    "duration": 1566,
    "start_time": "2023-04-01T18:49:15.536Z"
   },
   {
    "duration": 124,
    "start_time": "2023-04-01T18:49:17.105Z"
   },
   {
    "duration": 163,
    "start_time": "2023-04-01T18:49:17.231Z"
   },
   {
    "duration": 95,
    "start_time": "2023-04-01T18:49:17.396Z"
   },
   {
    "duration": 3,
    "start_time": "2023-04-01T18:49:17.492Z"
   },
   {
    "duration": 22,
    "start_time": "2023-04-01T18:49:17.497Z"
   },
   {
    "duration": 6,
    "start_time": "2023-04-01T18:49:17.521Z"
   },
   {
    "duration": 10,
    "start_time": "2023-04-01T18:49:17.528Z"
   },
   {
    "duration": 33,
    "start_time": "2023-04-01T18:49:17.549Z"
   },
   {
    "duration": 7,
    "start_time": "2023-04-01T18:49:17.585Z"
   },
   {
    "duration": 7,
    "start_time": "2023-04-01T18:49:17.594Z"
   },
   {
    "duration": 15,
    "start_time": "2023-04-01T18:49:17.603Z"
   },
   {
    "duration": 152,
    "start_time": "2023-04-01T18:49:17.620Z"
   },
   {
    "duration": 0,
    "start_time": "2023-04-01T18:49:17.775Z"
   },
   {
    "duration": 0,
    "start_time": "2023-04-01T18:49:17.776Z"
   },
   {
    "duration": 0,
    "start_time": "2023-04-01T18:49:17.782Z"
   },
   {
    "duration": 1,
    "start_time": "2023-04-01T18:49:17.783Z"
   },
   {
    "duration": 0,
    "start_time": "2023-04-01T18:49:17.785Z"
   },
   {
    "duration": 0,
    "start_time": "2023-04-01T18:49:17.786Z"
   },
   {
    "duration": 0,
    "start_time": "2023-04-01T18:49:17.787Z"
   },
   {
    "duration": 0,
    "start_time": "2023-04-01T18:49:17.788Z"
   },
   {
    "duration": 1,
    "start_time": "2023-04-01T18:49:17.789Z"
   },
   {
    "duration": 0,
    "start_time": "2023-04-01T18:49:17.791Z"
   },
   {
    "duration": 0,
    "start_time": "2023-04-01T18:49:17.792Z"
   },
   {
    "duration": 0,
    "start_time": "2023-04-01T18:49:17.794Z"
   },
   {
    "duration": 0,
    "start_time": "2023-04-01T18:49:17.795Z"
   },
   {
    "duration": 0,
    "start_time": "2023-04-01T18:49:17.797Z"
   },
   {
    "duration": 0,
    "start_time": "2023-04-01T18:49:17.799Z"
   },
   {
    "duration": 0,
    "start_time": "2023-04-01T18:49:17.801Z"
   },
   {
    "duration": 0,
    "start_time": "2023-04-01T18:49:17.802Z"
   },
   {
    "duration": 0,
    "start_time": "2023-04-01T18:49:17.803Z"
   },
   {
    "duration": 0,
    "start_time": "2023-04-01T18:49:17.805Z"
   },
   {
    "duration": 15,
    "start_time": "2023-04-01T18:49:37.162Z"
   },
   {
    "duration": 11,
    "start_time": "2023-04-01T18:49:55.908Z"
   },
   {
    "duration": 9,
    "start_time": "2023-04-01T18:50:06.417Z"
   },
   {
    "duration": 94,
    "start_time": "2023-04-01T18:51:09.174Z"
   },
   {
    "duration": 1181,
    "start_time": "2023-04-01T18:52:06.412Z"
   },
   {
    "duration": 38,
    "start_time": "2023-04-01T18:52:07.595Z"
   },
   {
    "duration": 60,
    "start_time": "2023-04-01T18:52:07.635Z"
   },
   {
    "duration": 24,
    "start_time": "2023-04-01T18:52:07.697Z"
   },
   {
    "duration": 3,
    "start_time": "2023-04-01T18:52:07.724Z"
   },
   {
    "duration": 26,
    "start_time": "2023-04-01T18:52:07.728Z"
   },
   {
    "duration": 7,
    "start_time": "2023-04-01T18:52:07.758Z"
   },
   {
    "duration": 12,
    "start_time": "2023-04-01T18:52:07.767Z"
   },
   {
    "duration": 10,
    "start_time": "2023-04-01T18:52:07.781Z"
   },
   {
    "duration": 7,
    "start_time": "2023-04-01T18:52:07.792Z"
   },
   {
    "duration": 5,
    "start_time": "2023-04-01T18:52:07.800Z"
   },
   {
    "duration": 12,
    "start_time": "2023-04-01T18:52:07.807Z"
   },
   {
    "duration": 42,
    "start_time": "2023-04-01T18:52:07.821Z"
   },
   {
    "duration": 12,
    "start_time": "2023-04-01T18:52:07.869Z"
   },
   {
    "duration": 9,
    "start_time": "2023-04-01T18:52:07.882Z"
   },
   {
    "duration": 596,
    "start_time": "2023-04-01T18:52:07.893Z"
   },
   {
    "duration": 217,
    "start_time": "2023-04-01T18:52:08.491Z"
   },
   {
    "duration": 385,
    "start_time": "2023-04-01T18:52:08.710Z"
   },
   {
    "duration": 231,
    "start_time": "2023-04-01T18:52:09.097Z"
   },
   {
    "duration": 349,
    "start_time": "2023-04-01T18:52:09.329Z"
   },
   {
    "duration": 124,
    "start_time": "2023-04-01T18:52:09.680Z"
   },
   {
    "duration": 3,
    "start_time": "2023-04-01T18:52:09.806Z"
   },
   {
    "duration": 120,
    "start_time": "2023-04-01T18:52:09.810Z"
   },
   {
    "duration": 9,
    "start_time": "2023-04-01T18:52:09.931Z"
   },
   {
    "duration": 281,
    "start_time": "2023-04-01T18:52:09.958Z"
   },
   {
    "duration": 161,
    "start_time": "2023-04-01T18:52:10.255Z"
   },
   {
    "duration": 39,
    "start_time": "2023-04-01T18:52:10.418Z"
   },
   {
    "duration": 10,
    "start_time": "2023-04-01T18:52:10.466Z"
   },
   {
    "duration": 24,
    "start_time": "2023-04-01T18:52:10.478Z"
   },
   {
    "duration": 16,
    "start_time": "2023-04-01T18:52:10.503Z"
   },
   {
    "duration": 4,
    "start_time": "2023-04-01T18:52:10.520Z"
   },
   {
    "duration": 30,
    "start_time": "2023-04-01T18:52:10.525Z"
   },
   {
    "duration": 428,
    "start_time": "2023-04-01T18:59:50.412Z"
   },
   {
    "duration": 186,
    "start_time": "2023-04-01T19:00:38.208Z"
   },
   {
    "duration": 449,
    "start_time": "2023-04-01T19:01:17.411Z"
   },
   {
    "duration": 188,
    "start_time": "2023-04-01T19:01:32.830Z"
   },
   {
    "duration": 182,
    "start_time": "2023-04-01T19:01:45.838Z"
   },
   {
    "duration": 327,
    "start_time": "2023-04-01T19:02:53.019Z"
   },
   {
    "duration": 175,
    "start_time": "2023-04-01T19:03:43.400Z"
   },
   {
    "duration": 80,
    "start_time": "2023-04-01T19:08:08.627Z"
   },
   {
    "duration": 272,
    "start_time": "2023-04-01T19:10:29.859Z"
   },
   {
    "duration": 350,
    "start_time": "2023-04-01T19:10:49.313Z"
   },
   {
    "duration": 363,
    "start_time": "2023-04-01T19:11:02.418Z"
   },
   {
    "duration": 68,
    "start_time": "2023-04-01T19:29:52.733Z"
   },
   {
    "duration": 190,
    "start_time": "2023-04-01T19:31:14.133Z"
   },
   {
    "duration": 11,
    "start_time": "2023-04-01T19:31:55.302Z"
   },
   {
    "duration": 153,
    "start_time": "2023-04-01T19:31:56.195Z"
   },
   {
    "duration": 93,
    "start_time": "2023-04-01T19:50:21.528Z"
   },
   {
    "duration": 245,
    "start_time": "2023-04-01T19:50:25.303Z"
   },
   {
    "duration": 124,
    "start_time": "2023-04-01T19:50:44.843Z"
   },
   {
    "duration": 100,
    "start_time": "2023-04-01T19:53:12.187Z"
   },
   {
    "duration": 139,
    "start_time": "2023-04-01T19:53:22.844Z"
   },
   {
    "duration": 137,
    "start_time": "2023-04-01T19:53:33.406Z"
   },
   {
    "duration": 127,
    "start_time": "2023-04-01T19:53:49.614Z"
   },
   {
    "duration": 129,
    "start_time": "2023-04-01T19:59:41.916Z"
   },
   {
    "duration": 117,
    "start_time": "2023-04-01T19:59:50.508Z"
   },
   {
    "duration": 130,
    "start_time": "2023-04-01T20:00:32.632Z"
   },
   {
    "duration": 216,
    "start_time": "2023-04-01T20:00:37.111Z"
   },
   {
    "duration": 275,
    "start_time": "2023-04-01T20:00:44.313Z"
   },
   {
    "duration": 72,
    "start_time": "2023-04-01T20:02:05.189Z"
   },
   {
    "duration": 274,
    "start_time": "2023-04-01T20:02:13.119Z"
   },
   {
    "duration": 248,
    "start_time": "2023-04-01T20:02:17.406Z"
   },
   {
    "duration": 255,
    "start_time": "2023-04-01T20:02:20.410Z"
   },
   {
    "duration": 262,
    "start_time": "2023-04-01T20:02:23.343Z"
   },
   {
    "duration": 236,
    "start_time": "2023-04-01T20:02:47.574Z"
   },
   {
    "duration": 257,
    "start_time": "2023-04-01T20:03:00.217Z"
   },
   {
    "duration": 234,
    "start_time": "2023-04-01T20:03:17.712Z"
   },
   {
    "duration": 252,
    "start_time": "2023-04-01T20:03:36.712Z"
   },
   {
    "duration": 238,
    "start_time": "2023-04-01T20:03:42.117Z"
   },
   {
    "duration": 261,
    "start_time": "2023-04-01T20:04:02.192Z"
   },
   {
    "duration": 349,
    "start_time": "2023-04-01T20:04:05.958Z"
   },
   {
    "duration": 390,
    "start_time": "2023-04-01T20:05:31.341Z"
   },
   {
    "duration": 295,
    "start_time": "2023-04-01T20:05:36.150Z"
   },
   {
    "duration": 283,
    "start_time": "2023-04-01T20:05:40.533Z"
   },
   {
    "duration": 273,
    "start_time": "2023-04-01T20:05:50.602Z"
   },
   {
    "duration": 275,
    "start_time": "2023-04-01T20:06:04.514Z"
   },
   {
    "duration": 286,
    "start_time": "2023-04-01T20:07:10.854Z"
   },
   {
    "duration": 268,
    "start_time": "2023-04-01T20:07:17.853Z"
   },
   {
    "duration": 275,
    "start_time": "2023-04-01T20:07:20.814Z"
   },
   {
    "duration": 71,
    "start_time": "2023-04-01T20:13:49.746Z"
   },
   {
    "duration": 70,
    "start_time": "2023-04-01T20:42:03.766Z"
   },
   {
    "duration": 71,
    "start_time": "2023-04-01T20:42:06.525Z"
   },
   {
    "duration": 148,
    "start_time": "2023-04-01T21:01:31.011Z"
   },
   {
    "duration": 149,
    "start_time": "2023-04-01T21:03:35.603Z"
   },
   {
    "duration": 163,
    "start_time": "2023-04-01T21:05:05.235Z"
   },
   {
    "duration": 79,
    "start_time": "2023-04-01T21:05:56.036Z"
   },
   {
    "duration": 140,
    "start_time": "2023-04-01T21:08:05.691Z"
   },
   {
    "duration": 170,
    "start_time": "2023-04-01T21:08:27.041Z"
   },
   {
    "duration": 154,
    "start_time": "2023-04-01T21:08:41.999Z"
   },
   {
    "duration": 180,
    "start_time": "2023-04-01T21:17:54.630Z"
   },
   {
    "duration": 28,
    "start_time": "2023-04-01T21:17:56.836Z"
   },
   {
    "duration": 128,
    "start_time": "2023-04-01T21:19:34.061Z"
   },
   {
    "duration": 4,
    "start_time": "2023-04-01T21:22:31.603Z"
   },
   {
    "duration": 24,
    "start_time": "2023-04-01T21:22:38.406Z"
   },
   {
    "duration": 32,
    "start_time": "2023-04-01T21:22:53.712Z"
   },
   {
    "duration": 67,
    "start_time": "2023-04-01T21:24:01.718Z"
   },
   {
    "duration": 12,
    "start_time": "2023-04-01T21:24:17.457Z"
   },
   {
    "duration": 7,
    "start_time": "2023-04-01T21:24:52.358Z"
   },
   {
    "duration": 9,
    "start_time": "2023-04-01T21:25:11.755Z"
   },
   {
    "duration": 556,
    "start_time": "2023-04-01T21:35:10.726Z"
   },
   {
    "duration": 4,
    "start_time": "2023-04-01T21:36:35.794Z"
   },
   {
    "duration": 3,
    "start_time": "2023-04-01T21:39:11.763Z"
   },
   {
    "duration": 4,
    "start_time": "2023-04-01T21:40:42.166Z"
   },
   {
    "duration": 9,
    "start_time": "2023-04-01T21:40:59.266Z"
   },
   {
    "duration": 71,
    "start_time": "2023-04-01T21:41:20.314Z"
   },
   {
    "duration": 20,
    "start_time": "2023-04-01T21:47:15.610Z"
   },
   {
    "duration": 7,
    "start_time": "2023-04-01T21:56:12.232Z"
   },
   {
    "duration": 6,
    "start_time": "2023-04-01T21:56:18.944Z"
   },
   {
    "duration": 12,
    "start_time": "2023-04-01T21:56:28.923Z"
   },
   {
    "duration": 10,
    "start_time": "2023-04-01T21:57:52.518Z"
   },
   {
    "duration": 7,
    "start_time": "2023-04-01T21:57:55.824Z"
   },
   {
    "duration": 7,
    "start_time": "2023-04-01T21:57:56.047Z"
   },
   {
    "duration": 71,
    "start_time": "2023-04-01T22:09:23.205Z"
   },
   {
    "duration": 8,
    "start_time": "2023-04-01T22:15:41.697Z"
   },
   {
    "duration": 3,
    "start_time": "2023-04-01T22:16:10.031Z"
   },
   {
    "duration": 72,
    "start_time": "2023-04-01T22:17:05.240Z"
   },
   {
    "duration": 5,
    "start_time": "2023-04-01T22:17:17.016Z"
   },
   {
    "duration": 4,
    "start_time": "2023-04-01T22:17:40.590Z"
   },
   {
    "duration": 1050,
    "start_time": "2023-04-01T22:23:17.386Z"
   },
   {
    "duration": 38,
    "start_time": "2023-04-01T22:23:18.438Z"
   },
   {
    "duration": 45,
    "start_time": "2023-04-01T22:23:18.477Z"
   },
   {
    "duration": 25,
    "start_time": "2023-04-01T22:23:18.524Z"
   },
   {
    "duration": 2,
    "start_time": "2023-04-01T22:23:18.551Z"
   },
   {
    "duration": 15,
    "start_time": "2023-04-01T22:23:18.554Z"
   },
   {
    "duration": 3,
    "start_time": "2023-04-01T22:23:18.570Z"
   },
   {
    "duration": 8,
    "start_time": "2023-04-01T22:23:18.575Z"
   },
   {
    "duration": 8,
    "start_time": "2023-04-01T22:23:18.584Z"
   },
   {
    "duration": 6,
    "start_time": "2023-04-01T22:23:18.593Z"
   },
   {
    "duration": 40,
    "start_time": "2023-04-01T22:23:18.600Z"
   },
   {
    "duration": 12,
    "start_time": "2023-04-01T22:23:18.641Z"
   },
   {
    "duration": 11,
    "start_time": "2023-04-01T22:23:18.654Z"
   },
   {
    "duration": 11,
    "start_time": "2023-04-01T22:23:18.668Z"
   },
   {
    "duration": 8,
    "start_time": "2023-04-01T22:23:18.680Z"
   },
   {
    "duration": 552,
    "start_time": "2023-04-01T22:23:18.689Z"
   },
   {
    "duration": 192,
    "start_time": "2023-04-01T22:23:19.243Z"
   },
   {
    "duration": 304,
    "start_time": "2023-04-01T22:23:19.436Z"
   },
   {
    "duration": 199,
    "start_time": "2023-04-01T22:23:19.741Z"
   },
   {
    "duration": 334,
    "start_time": "2023-04-01T22:23:19.941Z"
   },
   {
    "duration": 10,
    "start_time": "2023-04-01T22:23:20.276Z"
   },
   {
    "duration": 133,
    "start_time": "2023-04-01T22:23:20.288Z"
   },
   {
    "duration": 4,
    "start_time": "2023-04-01T22:23:20.423Z"
   },
   {
    "duration": 4,
    "start_time": "2023-04-01T22:23:20.440Z"
   },
   {
    "duration": 314,
    "start_time": "2023-04-01T22:23:20.445Z"
   },
   {
    "duration": 4,
    "start_time": "2023-04-01T22:23:20.760Z"
   },
   {
    "duration": 4,
    "start_time": "2023-04-01T22:23:20.765Z"
   },
   {
    "duration": 287,
    "start_time": "2023-04-01T22:23:20.770Z"
   },
   {
    "duration": 4,
    "start_time": "2023-04-01T22:23:21.058Z"
   },
   {
    "duration": 156,
    "start_time": "2023-04-01T22:23:21.063Z"
   },
   {
    "duration": 31,
    "start_time": "2023-04-01T22:23:21.220Z"
   },
   {
    "duration": 8,
    "start_time": "2023-04-01T22:23:21.252Z"
   },
   {
    "duration": 7,
    "start_time": "2023-04-01T22:23:21.261Z"
   },
   {
    "duration": 7,
    "start_time": "2023-04-01T22:23:21.270Z"
   },
   {
    "duration": 19,
    "start_time": "2023-04-01T22:23:21.278Z"
   },
   {
    "duration": 6,
    "start_time": "2023-04-01T22:23:21.298Z"
   },
   {
    "duration": 36,
    "start_time": "2023-04-01T22:23:21.305Z"
   },
   {
    "duration": 3,
    "start_time": "2023-04-01T22:23:21.342Z"
   },
   {
    "duration": 19,
    "start_time": "2023-04-01T22:23:21.346Z"
   },
   {
    "duration": 11,
    "start_time": "2023-04-01T22:23:21.367Z"
   },
   {
    "duration": 1612,
    "start_time": "2023-04-02T02:43:10.590Z"
   },
   {
    "duration": 100,
    "start_time": "2023-04-02T02:43:12.205Z"
   },
   {
    "duration": 103,
    "start_time": "2023-04-02T02:43:12.307Z"
   },
   {
    "duration": 75,
    "start_time": "2023-04-02T02:43:12.413Z"
   },
   {
    "duration": 4,
    "start_time": "2023-04-02T02:43:12.489Z"
   },
   {
    "duration": 18,
    "start_time": "2023-04-02T02:43:12.494Z"
   },
   {
    "duration": 16,
    "start_time": "2023-04-02T02:43:12.514Z"
   },
   {
    "duration": 22,
    "start_time": "2023-04-02T02:43:12.532Z"
   },
   {
    "duration": 18,
    "start_time": "2023-04-02T02:43:12.556Z"
   },
   {
    "duration": 8,
    "start_time": "2023-04-02T02:43:12.577Z"
   },
   {
    "duration": 20,
    "start_time": "2023-04-02T02:43:12.586Z"
   },
   {
    "duration": 21,
    "start_time": "2023-04-02T02:43:12.608Z"
   },
   {
    "duration": 15,
    "start_time": "2023-04-02T02:43:12.631Z"
   },
   {
    "duration": 36,
    "start_time": "2023-04-02T02:43:12.648Z"
   },
   {
    "duration": 33,
    "start_time": "2023-04-02T02:43:12.686Z"
   },
   {
    "duration": 576,
    "start_time": "2023-04-02T02:43:12.720Z"
   },
   {
    "duration": 198,
    "start_time": "2023-04-02T02:43:13.297Z"
   },
   {
    "duration": 382,
    "start_time": "2023-04-02T02:43:13.496Z"
   },
   {
    "duration": 191,
    "start_time": "2023-04-02T02:43:13.881Z"
   },
   {
    "duration": 351,
    "start_time": "2023-04-02T02:43:14.074Z"
   },
   {
    "duration": 18,
    "start_time": "2023-04-02T02:43:14.427Z"
   },
   {
    "duration": 170,
    "start_time": "2023-04-02T02:43:14.447Z"
   },
   {
    "duration": 16,
    "start_time": "2023-04-02T02:43:14.619Z"
   },
   {
    "duration": 8,
    "start_time": "2023-04-02T02:43:14.637Z"
   },
   {
    "duration": 336,
    "start_time": "2023-04-02T02:43:14.648Z"
   },
   {
    "duration": 4,
    "start_time": "2023-04-02T02:43:14.986Z"
   },
   {
    "duration": 6,
    "start_time": "2023-04-02T02:43:14.991Z"
   },
   {
    "duration": 319,
    "start_time": "2023-04-02T02:43:15.000Z"
   },
   {
    "duration": 14,
    "start_time": "2023-04-02T02:43:15.321Z"
   },
   {
    "duration": 199,
    "start_time": "2023-04-02T02:43:15.337Z"
   },
   {
    "duration": 24,
    "start_time": "2023-04-02T02:43:15.538Z"
   },
   {
    "duration": 9,
    "start_time": "2023-04-02T02:43:15.564Z"
   },
   {
    "duration": 9,
    "start_time": "2023-04-02T02:43:15.575Z"
   },
   {
    "duration": 14,
    "start_time": "2023-04-02T02:43:15.585Z"
   },
   {
    "duration": 51,
    "start_time": "2023-04-02T02:43:15.601Z"
   },
   {
    "duration": 9,
    "start_time": "2023-04-02T02:43:15.654Z"
   },
   {
    "duration": 8,
    "start_time": "2023-04-02T02:43:15.664Z"
   },
   {
    "duration": 5,
    "start_time": "2023-04-02T02:43:15.674Z"
   },
   {
    "duration": 10,
    "start_time": "2023-04-02T02:43:15.680Z"
   },
   {
    "duration": 21,
    "start_time": "2023-04-02T02:43:15.691Z"
   }
  ],
  "kernelspec": {
   "display_name": "Python 3 (ipykernel)",
   "language": "python",
   "name": "python3"
  },
  "language_info": {
   "codemirror_mode": {
    "name": "ipython",
    "version": 3
   },
   "file_extension": ".py",
   "mimetype": "text/x-python",
   "name": "python",
   "nbconvert_exporter": "python",
   "pygments_lexer": "ipython3",
   "version": "3.9.15"
  },
  "toc": {
   "base_numbering": 1,
   "nav_menu": {},
   "number_sections": true,
   "sideBar": true,
   "skip_h1_title": true,
   "title_cell": "Table of Contents",
   "title_sidebar": "Contents",
   "toc_cell": false,
   "toc_position": {
    "height": "calc(100% - 180px)",
    "left": "10px",
    "top": "150px",
    "width": "273.411px"
   },
   "toc_section_display": true,
   "toc_window_display": true
  }
 },
 "nbformat": 4,
 "nbformat_minor": 5
}
