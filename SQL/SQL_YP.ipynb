{
 "cells": [
  {
   "cell_type": "markdown",
   "metadata": {},
   "source": [
    "# SQL \n",
    "\n",
    "## Цель исследования:\n",
    "\n",
    "Анализ базы данных сервиса для чтения книг\n",
    "\n",
    "**Задачи:**\n",
    "* Посчитать, сколько книг вышло после 1 января 2000 года;\n",
    "* Для каждой книги посчитать количество обзоров и среднюю оценку;\n",
    "* Определить издательство, которое выпустило наибольшее число книг толще 50 страниц — с исключением брошюр;\n",
    "* Определить автора с самой высокой средней оценкой книг (учесть только книги с 50 и более оценками);\n",
    "* Посчитать среднее количество обзоров от пользователей, которые поставили больше 48 оценок;\n",
    "* Сделать выводы по каждой задаче.\n"
   ]
  },
  {
   "cell_type": "markdown",
   "metadata": {},
   "source": [
    "## Инструменты\n",
    "### Библиотеки"
   ]
  },
  {
   "cell_type": "code",
   "execution_count": 1,
   "metadata": {},
   "outputs": [],
   "source": [
    "# импортируем библиотеки\n",
    "import pandas as pd\n",
    "from sqlalchemy import text, create_engine\n",
    "from IPython.display import Markdown, display, display_html"
   ]
  },
  {
   "cell_type": "markdown",
   "metadata": {},
   "source": [
    "### Подключение к базе данных"
   ]
  },
  {
   "cell_type": "code",
   "execution_count": 2,
   "metadata": {},
   "outputs": [],
   "source": [
    "# устанавливаем параметры\n",
    "db_config = {'user': 'praktikum_student', # имя пользователя\n",
    "'pwd': '--', # Интеллектуальная собственность Яндекс.Практикума \n",
    "'host': '--', # Интеллектуальная собственность Яндекс.Практикума\n",
    "'port': 6432, # порт подключения\n",
    "'db': 'data-analyst-final-project-db'} # название базы данных\n",
    "\n",
    "connection_string = 'postgresql://{user}:{pwd}@{host}:{port}/{db}'.format(**db_config)\n",
    "# сохраняем коннектор\n",
    "engine = create_engine(connection_string, connect_args={'sslmode':'require'})\n",
    "# чтобы выполнить SQL-запрос, используем Pandas\n",
    "\n",
    "con = engine.connect()"
   ]
  },
  {
   "cell_type": "markdown",
   "metadata": {},
   "source": [
    "### Функции"
   ]
  },
  {
   "cell_type": "code",
   "execution_count": 3,
   "metadata": {},
   "outputs": [],
   "source": [
    "def sql(query, prnt=True):\n",
    "    data = pd.io.sql.read_sql(sql=text(query), con = con)\n",
    "    if prnt==True:\n",
    "        display(data)\n",
    "        return\n",
    "    return data"
   ]
  },
  {
   "cell_type": "code",
   "execution_count": 4,
   "metadata": {},
   "outputs": [],
   "source": [
    "def read_table(tables):\n",
    "    for i in tables:\n",
    "        print() # Отступ\n",
    "        display(Markdown(f'<b><big>{i}</big></b>'))\n",
    "        sql('''\n",
    "            SELECT * \n",
    "            FROM ''' + i +\n",
    "           ''' LIMIT 5 ''')\n",
    "        t_shape = sql('''\n",
    "            SELECT count(*) \n",
    "            FROM ''' + i, \n",
    "                      False # Не отображаем таблицу по умолчанию\n",
    "                     ).at[0,'count']\n",
    "        display(Markdown(f'Количество строк в таблице: **{t_shape}**'))\n",
    "    return"
   ]
  },
  {
   "cell_type": "markdown",
   "metadata": {},
   "source": [
    "## Чтение и изучение данных"
   ]
  },
  {
   "cell_type": "code",
   "execution_count": 5,
   "metadata": {
    "scrolled": false
   },
   "outputs": [
    {
     "name": "stdout",
     "output_type": "stream",
     "text": [
      "\n"
     ]
    },
    {
     "data": {
      "text/markdown": [
       "<b><big>books</big></b>"
      ],
      "text/plain": [
       "<IPython.core.display.Markdown object>"
      ]
     },
     "metadata": {},
     "output_type": "display_data"
    },
    {
     "data": {
      "text/html": [
       "<div>\n",
       "<style scoped>\n",
       "    .dataframe tbody tr th:only-of-type {\n",
       "        vertical-align: middle;\n",
       "    }\n",
       "\n",
       "    .dataframe tbody tr th {\n",
       "        vertical-align: top;\n",
       "    }\n",
       "\n",
       "    .dataframe thead th {\n",
       "        text-align: right;\n",
       "    }\n",
       "</style>\n",
       "<table border=\"1\" class=\"dataframe\">\n",
       "  <thead>\n",
       "    <tr style=\"text-align: right;\">\n",
       "      <th></th>\n",
       "      <th>book_id</th>\n",
       "      <th>author_id</th>\n",
       "      <th>title</th>\n",
       "      <th>num_pages</th>\n",
       "      <th>publication_date</th>\n",
       "      <th>publisher_id</th>\n",
       "    </tr>\n",
       "  </thead>\n",
       "  <tbody>\n",
       "    <tr>\n",
       "      <th>0</th>\n",
       "      <td>1</td>\n",
       "      <td>546</td>\n",
       "      <td>'Salem's Lot</td>\n",
       "      <td>594</td>\n",
       "      <td>2005-11-01</td>\n",
       "      <td>93</td>\n",
       "    </tr>\n",
       "    <tr>\n",
       "      <th>1</th>\n",
       "      <td>2</td>\n",
       "      <td>465</td>\n",
       "      <td>1 000 Places to See Before You Die</td>\n",
       "      <td>992</td>\n",
       "      <td>2003-05-22</td>\n",
       "      <td>336</td>\n",
       "    </tr>\n",
       "    <tr>\n",
       "      <th>2</th>\n",
       "      <td>3</td>\n",
       "      <td>407</td>\n",
       "      <td>13 Little Blue Envelopes (Little Blue Envelope...</td>\n",
       "      <td>322</td>\n",
       "      <td>2010-12-21</td>\n",
       "      <td>135</td>\n",
       "    </tr>\n",
       "    <tr>\n",
       "      <th>3</th>\n",
       "      <td>4</td>\n",
       "      <td>82</td>\n",
       "      <td>1491: New Revelations of the Americas Before C...</td>\n",
       "      <td>541</td>\n",
       "      <td>2006-10-10</td>\n",
       "      <td>309</td>\n",
       "    </tr>\n",
       "    <tr>\n",
       "      <th>4</th>\n",
       "      <td>5</td>\n",
       "      <td>125</td>\n",
       "      <td>1776</td>\n",
       "      <td>386</td>\n",
       "      <td>2006-07-04</td>\n",
       "      <td>268</td>\n",
       "    </tr>\n",
       "  </tbody>\n",
       "</table>\n",
       "</div>"
      ],
      "text/plain": [
       "   book_id  author_id                                              title  \\\n",
       "0        1        546                                       'Salem's Lot   \n",
       "1        2        465                 1 000 Places to See Before You Die   \n",
       "2        3        407  13 Little Blue Envelopes (Little Blue Envelope...   \n",
       "3        4         82  1491: New Revelations of the Americas Before C...   \n",
       "4        5        125                                               1776   \n",
       "\n",
       "   num_pages publication_date  publisher_id  \n",
       "0        594       2005-11-01            93  \n",
       "1        992       2003-05-22           336  \n",
       "2        322       2010-12-21           135  \n",
       "3        541       2006-10-10           309  \n",
       "4        386       2006-07-04           268  "
      ]
     },
     "metadata": {},
     "output_type": "display_data"
    },
    {
     "data": {
      "text/markdown": [
       "Количество строк в таблице: **1000**"
      ],
      "text/plain": [
       "<IPython.core.display.Markdown object>"
      ]
     },
     "metadata": {},
     "output_type": "display_data"
    },
    {
     "name": "stdout",
     "output_type": "stream",
     "text": [
      "\n"
     ]
    },
    {
     "data": {
      "text/markdown": [
       "<b><big>authors</big></b>"
      ],
      "text/plain": [
       "<IPython.core.display.Markdown object>"
      ]
     },
     "metadata": {},
     "output_type": "display_data"
    },
    {
     "data": {
      "text/html": [
       "<div>\n",
       "<style scoped>\n",
       "    .dataframe tbody tr th:only-of-type {\n",
       "        vertical-align: middle;\n",
       "    }\n",
       "\n",
       "    .dataframe tbody tr th {\n",
       "        vertical-align: top;\n",
       "    }\n",
       "\n",
       "    .dataframe thead th {\n",
       "        text-align: right;\n",
       "    }\n",
       "</style>\n",
       "<table border=\"1\" class=\"dataframe\">\n",
       "  <thead>\n",
       "    <tr style=\"text-align: right;\">\n",
       "      <th></th>\n",
       "      <th>author_id</th>\n",
       "      <th>author</th>\n",
       "    </tr>\n",
       "  </thead>\n",
       "  <tbody>\n",
       "    <tr>\n",
       "      <th>0</th>\n",
       "      <td>1</td>\n",
       "      <td>A.S. Byatt</td>\n",
       "    </tr>\n",
       "    <tr>\n",
       "      <th>1</th>\n",
       "      <td>2</td>\n",
       "      <td>Aesop/Laura Harris/Laura Gibbs</td>\n",
       "    </tr>\n",
       "    <tr>\n",
       "      <th>2</th>\n",
       "      <td>3</td>\n",
       "      <td>Agatha Christie</td>\n",
       "    </tr>\n",
       "    <tr>\n",
       "      <th>3</th>\n",
       "      <td>4</td>\n",
       "      <td>Alan Brennert</td>\n",
       "    </tr>\n",
       "    <tr>\n",
       "      <th>4</th>\n",
       "      <td>5</td>\n",
       "      <td>Alan Moore/David   Lloyd</td>\n",
       "    </tr>\n",
       "  </tbody>\n",
       "</table>\n",
       "</div>"
      ],
      "text/plain": [
       "   author_id                          author\n",
       "0          1                      A.S. Byatt\n",
       "1          2  Aesop/Laura Harris/Laura Gibbs\n",
       "2          3                 Agatha Christie\n",
       "3          4                   Alan Brennert\n",
       "4          5        Alan Moore/David   Lloyd"
      ]
     },
     "metadata": {},
     "output_type": "display_data"
    },
    {
     "data": {
      "text/markdown": [
       "Количество строк в таблице: **636**"
      ],
      "text/plain": [
       "<IPython.core.display.Markdown object>"
      ]
     },
     "metadata": {},
     "output_type": "display_data"
    },
    {
     "name": "stdout",
     "output_type": "stream",
     "text": [
      "\n"
     ]
    },
    {
     "data": {
      "text/markdown": [
       "<b><big>publishers</big></b>"
      ],
      "text/plain": [
       "<IPython.core.display.Markdown object>"
      ]
     },
     "metadata": {},
     "output_type": "display_data"
    },
    {
     "data": {
      "text/html": [
       "<div>\n",
       "<style scoped>\n",
       "    .dataframe tbody tr th:only-of-type {\n",
       "        vertical-align: middle;\n",
       "    }\n",
       "\n",
       "    .dataframe tbody tr th {\n",
       "        vertical-align: top;\n",
       "    }\n",
       "\n",
       "    .dataframe thead th {\n",
       "        text-align: right;\n",
       "    }\n",
       "</style>\n",
       "<table border=\"1\" class=\"dataframe\">\n",
       "  <thead>\n",
       "    <tr style=\"text-align: right;\">\n",
       "      <th></th>\n",
       "      <th>publisher_id</th>\n",
       "      <th>publisher</th>\n",
       "    </tr>\n",
       "  </thead>\n",
       "  <tbody>\n",
       "    <tr>\n",
       "      <th>0</th>\n",
       "      <td>1</td>\n",
       "      <td>Ace</td>\n",
       "    </tr>\n",
       "    <tr>\n",
       "      <th>1</th>\n",
       "      <td>2</td>\n",
       "      <td>Ace Book</td>\n",
       "    </tr>\n",
       "    <tr>\n",
       "      <th>2</th>\n",
       "      <td>3</td>\n",
       "      <td>Ace Books</td>\n",
       "    </tr>\n",
       "    <tr>\n",
       "      <th>3</th>\n",
       "      <td>4</td>\n",
       "      <td>Ace Hardcover</td>\n",
       "    </tr>\n",
       "    <tr>\n",
       "      <th>4</th>\n",
       "      <td>5</td>\n",
       "      <td>Addison Wesley Publishing Company</td>\n",
       "    </tr>\n",
       "  </tbody>\n",
       "</table>\n",
       "</div>"
      ],
      "text/plain": [
       "   publisher_id                          publisher\n",
       "0             1                                Ace\n",
       "1             2                           Ace Book\n",
       "2             3                          Ace Books\n",
       "3             4                      Ace Hardcover\n",
       "4             5  Addison Wesley Publishing Company"
      ]
     },
     "metadata": {},
     "output_type": "display_data"
    },
    {
     "data": {
      "text/markdown": [
       "Количество строк в таблице: **340**"
      ],
      "text/plain": [
       "<IPython.core.display.Markdown object>"
      ]
     },
     "metadata": {},
     "output_type": "display_data"
    },
    {
     "name": "stdout",
     "output_type": "stream",
     "text": [
      "\n"
     ]
    },
    {
     "data": {
      "text/markdown": [
       "<b><big>ratings</big></b>"
      ],
      "text/plain": [
       "<IPython.core.display.Markdown object>"
      ]
     },
     "metadata": {},
     "output_type": "display_data"
    },
    {
     "data": {
      "text/html": [
       "<div>\n",
       "<style scoped>\n",
       "    .dataframe tbody tr th:only-of-type {\n",
       "        vertical-align: middle;\n",
       "    }\n",
       "\n",
       "    .dataframe tbody tr th {\n",
       "        vertical-align: top;\n",
       "    }\n",
       "\n",
       "    .dataframe thead th {\n",
       "        text-align: right;\n",
       "    }\n",
       "</style>\n",
       "<table border=\"1\" class=\"dataframe\">\n",
       "  <thead>\n",
       "    <tr style=\"text-align: right;\">\n",
       "      <th></th>\n",
       "      <th>rating_id</th>\n",
       "      <th>book_id</th>\n",
       "      <th>username</th>\n",
       "      <th>rating</th>\n",
       "    </tr>\n",
       "  </thead>\n",
       "  <tbody>\n",
       "    <tr>\n",
       "      <th>0</th>\n",
       "      <td>1</td>\n",
       "      <td>1</td>\n",
       "      <td>ryanfranco</td>\n",
       "      <td>4</td>\n",
       "    </tr>\n",
       "    <tr>\n",
       "      <th>1</th>\n",
       "      <td>2</td>\n",
       "      <td>1</td>\n",
       "      <td>grantpatricia</td>\n",
       "      <td>2</td>\n",
       "    </tr>\n",
       "    <tr>\n",
       "      <th>2</th>\n",
       "      <td>3</td>\n",
       "      <td>1</td>\n",
       "      <td>brandtandrea</td>\n",
       "      <td>5</td>\n",
       "    </tr>\n",
       "    <tr>\n",
       "      <th>3</th>\n",
       "      <td>4</td>\n",
       "      <td>2</td>\n",
       "      <td>lorichen</td>\n",
       "      <td>3</td>\n",
       "    </tr>\n",
       "    <tr>\n",
       "      <th>4</th>\n",
       "      <td>5</td>\n",
       "      <td>2</td>\n",
       "      <td>mariokeller</td>\n",
       "      <td>2</td>\n",
       "    </tr>\n",
       "  </tbody>\n",
       "</table>\n",
       "</div>"
      ],
      "text/plain": [
       "   rating_id  book_id       username  rating\n",
       "0          1        1     ryanfranco       4\n",
       "1          2        1  grantpatricia       2\n",
       "2          3        1   brandtandrea       5\n",
       "3          4        2       lorichen       3\n",
       "4          5        2    mariokeller       2"
      ]
     },
     "metadata": {},
     "output_type": "display_data"
    },
    {
     "data": {
      "text/markdown": [
       "Количество строк в таблице: **6456**"
      ],
      "text/plain": [
       "<IPython.core.display.Markdown object>"
      ]
     },
     "metadata": {},
     "output_type": "display_data"
    },
    {
     "name": "stdout",
     "output_type": "stream",
     "text": [
      "\n"
     ]
    },
    {
     "data": {
      "text/markdown": [
       "<b><big>reviews</big></b>"
      ],
      "text/plain": [
       "<IPython.core.display.Markdown object>"
      ]
     },
     "metadata": {},
     "output_type": "display_data"
    },
    {
     "data": {
      "text/html": [
       "<div>\n",
       "<style scoped>\n",
       "    .dataframe tbody tr th:only-of-type {\n",
       "        vertical-align: middle;\n",
       "    }\n",
       "\n",
       "    .dataframe tbody tr th {\n",
       "        vertical-align: top;\n",
       "    }\n",
       "\n",
       "    .dataframe thead th {\n",
       "        text-align: right;\n",
       "    }\n",
       "</style>\n",
       "<table border=\"1\" class=\"dataframe\">\n",
       "  <thead>\n",
       "    <tr style=\"text-align: right;\">\n",
       "      <th></th>\n",
       "      <th>review_id</th>\n",
       "      <th>book_id</th>\n",
       "      <th>username</th>\n",
       "      <th>text</th>\n",
       "    </tr>\n",
       "  </thead>\n",
       "  <tbody>\n",
       "    <tr>\n",
       "      <th>0</th>\n",
       "      <td>1</td>\n",
       "      <td>1</td>\n",
       "      <td>brandtandrea</td>\n",
       "      <td>Mention society tell send professor analysis. ...</td>\n",
       "    </tr>\n",
       "    <tr>\n",
       "      <th>1</th>\n",
       "      <td>2</td>\n",
       "      <td>1</td>\n",
       "      <td>ryanfranco</td>\n",
       "      <td>Foot glass pretty audience hit themselves. Amo...</td>\n",
       "    </tr>\n",
       "    <tr>\n",
       "      <th>2</th>\n",
       "      <td>3</td>\n",
       "      <td>2</td>\n",
       "      <td>lorichen</td>\n",
       "      <td>Listen treat keep worry. Miss husband tax but ...</td>\n",
       "    </tr>\n",
       "    <tr>\n",
       "      <th>3</th>\n",
       "      <td>4</td>\n",
       "      <td>3</td>\n",
       "      <td>johnsonamanda</td>\n",
       "      <td>Finally month interesting blue could nature cu...</td>\n",
       "    </tr>\n",
       "    <tr>\n",
       "      <th>4</th>\n",
       "      <td>5</td>\n",
       "      <td>3</td>\n",
       "      <td>scotttamara</td>\n",
       "      <td>Nation purpose heavy give wait song will. List...</td>\n",
       "    </tr>\n",
       "  </tbody>\n",
       "</table>\n",
       "</div>"
      ],
      "text/plain": [
       "   review_id  book_id       username  \\\n",
       "0          1        1   brandtandrea   \n",
       "1          2        1     ryanfranco   \n",
       "2          3        2       lorichen   \n",
       "3          4        3  johnsonamanda   \n",
       "4          5        3    scotttamara   \n",
       "\n",
       "                                                text  \n",
       "0  Mention society tell send professor analysis. ...  \n",
       "1  Foot glass pretty audience hit themselves. Amo...  \n",
       "2  Listen treat keep worry. Miss husband tax but ...  \n",
       "3  Finally month interesting blue could nature cu...  \n",
       "4  Nation purpose heavy give wait song will. List...  "
      ]
     },
     "metadata": {},
     "output_type": "display_data"
    },
    {
     "data": {
      "text/markdown": [
       "Количество строк в таблице: **2793**"
      ],
      "text/plain": [
       "<IPython.core.display.Markdown object>"
      ]
     },
     "metadata": {},
     "output_type": "display_data"
    }
   ],
   "source": [
    "read_table(['books', 'authors', 'publishers', 'ratings', 'reviews'])"
   ]
  },
  {
   "cell_type": "markdown",
   "metadata": {},
   "source": [
    "### Описание данных\n",
    "Таблица **`books`** \n",
    "Содержит данные о книгах:\n",
    "* `book_id` — идентификатор книги;\n",
    "* `author_id` — идентификатор автора;\n",
    "* `title` — название книги;\n",
    "* `num_pages` — количество страниц;\n",
    "* `publication_date` — дата публикации книги;\n",
    "* `publisher_id` — идентификатор издателя.\n",
    "\n",
    "Таблица **`authors`** \n",
    "Содержит данные об авторах:\n",
    "* `author_id` — идентификатор автора;\n",
    "* `author` — имя автора.\n",
    "\n",
    "Таблица **`publishers`**\n",
    "Содержит данные об издательствах:\n",
    "* `publisher_id` — идентификатор издательства;\n",
    "* `publisher` — название издательства;\n",
    "\n",
    "Таблица **`ratings`**\n",
    "Содержит данные о пользовательских оценках книг:\n",
    "* `rating_id` — идентификатор оценки;\n",
    "* `book_id` — идентификатор книги;\n",
    "* `username` — имя пользователя, оставившего оценку;\n",
    "* `rating` — оценка книги.\n",
    "\n",
    "Таблица **`reviews`**\n",
    "Содержит данные о пользовательских обзорах:\n",
    "* `review_id` — идентификатор обзора;\n",
    "* `book_id` — идентификатор книги;\n",
    "* `username` — имя автора обзора;\n",
    "* `text` — текст обзора."
   ]
  },
  {
   "cell_type": "markdown",
   "metadata": {},
   "source": [
    "## Анализ данных"
   ]
  },
  {
   "cell_type": "markdown",
   "metadata": {},
   "source": [
    "### Количество вышедших книг после 1 января 2000 года"
   ]
  },
  {
   "cell_type": "code",
   "execution_count": 6,
   "metadata": {},
   "outputs": [
    {
     "data": {
      "text/html": [
       "<div>\n",
       "<style scoped>\n",
       "    .dataframe tbody tr th:only-of-type {\n",
       "        vertical-align: middle;\n",
       "    }\n",
       "\n",
       "    .dataframe tbody tr th {\n",
       "        vertical-align: top;\n",
       "    }\n",
       "\n",
       "    .dataframe thead th {\n",
       "        text-align: right;\n",
       "    }\n",
       "</style>\n",
       "<table border=\"1\" class=\"dataframe\">\n",
       "  <thead>\n",
       "    <tr style=\"text-align: right;\">\n",
       "      <th></th>\n",
       "      <th>book_cnt</th>\n",
       "    </tr>\n",
       "  </thead>\n",
       "  <tbody>\n",
       "    <tr>\n",
       "      <th>0</th>\n",
       "      <td>821</td>\n",
       "    </tr>\n",
       "  </tbody>\n",
       "</table>\n",
       "</div>"
      ],
      "text/plain": [
       "   book_cnt\n",
       "0       821"
      ]
     },
     "metadata": {},
     "output_type": "display_data"
    }
   ],
   "source": [
    "sql('''\n",
    "\n",
    "SELECT DISTINCT count(book_id) AS book_cnt\n",
    "FROM books\n",
    "WHERE publication_date >= '2000-01-01' \n",
    "LIMIT 5\n",
    "\n",
    "''')"
   ]
  },
  {
   "cell_type": "markdown",
   "metadata": {},
   "source": [
    "После 1 января 2000 (включительно) года вышла 821 книга."
   ]
  },
  {
   "cell_type": "markdown",
   "metadata": {},
   "source": [
    "### Количество обзоров и средняя оценка для каждой книги"
   ]
  },
  {
   "cell_type": "code",
   "execution_count": 7,
   "metadata": {},
   "outputs": [
    {
     "data": {
      "text/html": [
       "<div>\n",
       "<style scoped>\n",
       "    .dataframe tbody tr th:only-of-type {\n",
       "        vertical-align: middle;\n",
       "    }\n",
       "\n",
       "    .dataframe tbody tr th {\n",
       "        vertical-align: top;\n",
       "    }\n",
       "\n",
       "    .dataframe thead th {\n",
       "        text-align: right;\n",
       "    }\n",
       "</style>\n",
       "<table border=\"1\" class=\"dataframe\">\n",
       "  <thead>\n",
       "    <tr style=\"text-align: right;\">\n",
       "      <th></th>\n",
       "      <th>title</th>\n",
       "      <th>avg_rating</th>\n",
       "      <th>cnt_review</th>\n",
       "    </tr>\n",
       "  </thead>\n",
       "  <tbody>\n",
       "    <tr>\n",
       "      <th>0</th>\n",
       "      <td>A Dirty Job (Grim Reaper  #1)</td>\n",
       "      <td>5.00</td>\n",
       "      <td>16</td>\n",
       "    </tr>\n",
       "    <tr>\n",
       "      <th>1</th>\n",
       "      <td>School's Out—Forever (Maximum Ride  #2)</td>\n",
       "      <td>5.00</td>\n",
       "      <td>12</td>\n",
       "    </tr>\n",
       "    <tr>\n",
       "      <th>2</th>\n",
       "      <td>Moneyball: The Art of Winning an Unfair Game</td>\n",
       "      <td>5.00</td>\n",
       "      <td>9</td>\n",
       "    </tr>\n",
       "    <tr>\n",
       "      <th>3</th>\n",
       "      <td>In the Hand of the Goddess (Song of the Liones...</td>\n",
       "      <td>5.00</td>\n",
       "      <td>6</td>\n",
       "    </tr>\n",
       "    <tr>\n",
       "      <th>4</th>\n",
       "      <td>The Walking Dead  Book One (The Walking Dead #...</td>\n",
       "      <td>5.00</td>\n",
       "      <td>4</td>\n",
       "    </tr>\n",
       "    <tr>\n",
       "      <th>...</th>\n",
       "      <td>...</td>\n",
       "      <td>...</td>\n",
       "      <td>...</td>\n",
       "    </tr>\n",
       "    <tr>\n",
       "      <th>994</th>\n",
       "      <td>The World Is Flat: A Brief History of the Twen...</td>\n",
       "      <td>2.25</td>\n",
       "      <td>12</td>\n",
       "    </tr>\n",
       "    <tr>\n",
       "      <th>995</th>\n",
       "      <td>Drowning Ruth</td>\n",
       "      <td>2.00</td>\n",
       "      <td>9</td>\n",
       "    </tr>\n",
       "    <tr>\n",
       "      <th>996</th>\n",
       "      <td>Junky</td>\n",
       "      <td>2.00</td>\n",
       "      <td>4</td>\n",
       "    </tr>\n",
       "    <tr>\n",
       "      <th>997</th>\n",
       "      <td>His Excellency: George Washington</td>\n",
       "      <td>2.00</td>\n",
       "      <td>4</td>\n",
       "    </tr>\n",
       "    <tr>\n",
       "      <th>998</th>\n",
       "      <td>Harvesting the Heart</td>\n",
       "      <td>1.50</td>\n",
       "      <td>4</td>\n",
       "    </tr>\n",
       "  </tbody>\n",
       "</table>\n",
       "<p>999 rows × 3 columns</p>\n",
       "</div>"
      ],
      "text/plain": [
       "                                                 title  avg_rating  cnt_review\n",
       "0                        A Dirty Job (Grim Reaper  #1)        5.00          16\n",
       "1              School's Out—Forever (Maximum Ride  #2)        5.00          12\n",
       "2         Moneyball: The Art of Winning an Unfair Game        5.00           9\n",
       "3    In the Hand of the Goddess (Song of the Liones...        5.00           6\n",
       "4    The Walking Dead  Book One (The Walking Dead #...        5.00           4\n",
       "..                                                 ...         ...         ...\n",
       "994  The World Is Flat: A Brief History of the Twen...        2.25          12\n",
       "995                                      Drowning Ruth        2.00           9\n",
       "996                                              Junky        2.00           4\n",
       "997                  His Excellency: George Washington        2.00           4\n",
       "998                               Harvesting the Heart        1.50           4\n",
       "\n",
       "[999 rows x 3 columns]"
      ]
     },
     "metadata": {},
     "output_type": "display_data"
    }
   ],
   "source": [
    "sql('''\n",
    "\n",
    "SELECT b.title,\n",
    "       avg(rat.rating) AS avg_rating,\n",
    "       count(rev.review_id) AS cnt_review\n",
    "FROM books AS b\n",
    "LEFT JOIN ratings AS rat\n",
    "    ON b.book_id = rat.book_id\n",
    "LEFT JOIN reviews AS rev\n",
    "    ON b.book_id = rev.book_id\n",
    "GROUP BY  b.title\n",
    "ORDER BY  avg_rating desc, cnt_review desc\n",
    "\n",
    "''')"
   ]
  },
  {
   "cell_type": "markdown",
   "metadata": {},
   "source": [
    "Книга с максимальным средним рейтингом и максимальным количеством обзоров **\"A Dirty Job (Grim Reaper #1)\"**"
   ]
  },
  {
   "cell_type": "markdown",
   "metadata": {},
   "source": [
    "### Издательство, которое выпустило наибольшее число книг толще 50 страниц (исключая из анализа брошюры)"
   ]
  },
  {
   "cell_type": "code",
   "execution_count": 8,
   "metadata": {},
   "outputs": [
    {
     "data": {
      "text/html": [
       "<div>\n",
       "<style scoped>\n",
       "    .dataframe tbody tr th:only-of-type {\n",
       "        vertical-align: middle;\n",
       "    }\n",
       "\n",
       "    .dataframe tbody tr th {\n",
       "        vertical-align: top;\n",
       "    }\n",
       "\n",
       "    .dataframe thead th {\n",
       "        text-align: right;\n",
       "    }\n",
       "</style>\n",
       "<table border=\"1\" class=\"dataframe\">\n",
       "  <thead>\n",
       "    <tr style=\"text-align: right;\">\n",
       "      <th></th>\n",
       "      <th>publisher</th>\n",
       "      <th>count_books</th>\n",
       "    </tr>\n",
       "  </thead>\n",
       "  <tbody>\n",
       "    <tr>\n",
       "      <th>0</th>\n",
       "      <td>Penguin Books</td>\n",
       "      <td>42</td>\n",
       "    </tr>\n",
       "  </tbody>\n",
       "</table>\n",
       "</div>"
      ],
      "text/plain": [
       "       publisher  count_books\n",
       "0  Penguin Books           42"
      ]
     },
     "metadata": {},
     "output_type": "display_data"
    }
   ],
   "source": [
    "sql('''\n",
    "\n",
    "SELECT publisher,\n",
    "       count(b.book_id) AS count_books\n",
    "FROM books AS b\n",
    "INNER JOIN publishers AS p\n",
    "    ON b.publisher_id = p.publisher_id\n",
    "WHERE b.num_pages >50\n",
    "GROUP BY  p.publisher\n",
    "ORDER BY  count_books DESC limit 1\n",
    "\n",
    "''')"
   ]
  },
  {
   "cell_type": "markdown",
   "metadata": {},
   "source": [
    "Наибольшее количество книг (исключая брошюры) выпустило издательство **\"Penguin Books\"**. Оно выпустило 42 книги."
   ]
  },
  {
   "cell_type": "markdown",
   "metadata": {},
   "source": [
    "### Автор с самой высокой средней оценкой книг (учитывая самые оцениваемые книги- книги с 50 и более оценками)"
   ]
  },
  {
   "cell_type": "code",
   "execution_count": 9,
   "metadata": {},
   "outputs": [
    {
     "data": {
      "text/html": [
       "<div>\n",
       "<style scoped>\n",
       "    .dataframe tbody tr th:only-of-type {\n",
       "        vertical-align: middle;\n",
       "    }\n",
       "\n",
       "    .dataframe tbody tr th {\n",
       "        vertical-align: top;\n",
       "    }\n",
       "\n",
       "    .dataframe thead th {\n",
       "        text-align: right;\n",
       "    }\n",
       "</style>\n",
       "<table border=\"1\" class=\"dataframe\">\n",
       "  <thead>\n",
       "    <tr style=\"text-align: right;\">\n",
       "      <th></th>\n",
       "      <th>author</th>\n",
       "      <th>avg_rating</th>\n",
       "    </tr>\n",
       "  </thead>\n",
       "  <tbody>\n",
       "    <tr>\n",
       "      <th>0</th>\n",
       "      <td>J.K. Rowling/Mary GrandPré</td>\n",
       "      <td>4.287097</td>\n",
       "    </tr>\n",
       "  </tbody>\n",
       "</table>\n",
       "</div>"
      ],
      "text/plain": [
       "                       author  avg_rating\n",
       "0  J.K. Rowling/Mary GrandPré    4.287097"
      ]
     },
     "metadata": {},
     "output_type": "display_data"
    }
   ],
   "source": [
    "# Запрос с использованием временной таблицы\n",
    "sql('''\n",
    "with cnt_rat AS \n",
    "        (SELECT b.book_id,\n",
    "                count(rat.rating_id)\n",
    "        FROM books AS b\n",
    "        INNER JOIN ratings AS rat\n",
    "            ON b.book_id = rat.book_id\n",
    "        GROUP BY  b.book_id\n",
    "        HAVING count(rat.rating_id) >=50\n",
    "        ORDER BY  avg(rat.rating) DESC \n",
    "        )\n",
    "SELECT a.author,\n",
    "       avg(rat.rating) AS avg_rating\n",
    "FROM cnt_rat AS cnt\n",
    "LEFT JOIN books AS b\n",
    "    ON cnt.book_id = b.book_id\n",
    "LEFT JOIN ratings AS rat\n",
    "    ON b.book_id = rat.book_id\n",
    "INNER JOIN authors AS a\n",
    "    ON b.author_id = a.author_id\n",
    "GROUP BY  a.author\n",
    "ORDER BY  avg(rat.rating) DESC \n",
    "LIMIT 1\n",
    "''')"
   ]
  },
  {
   "cell_type": "code",
   "execution_count": 10,
   "metadata": {},
   "outputs": [
    {
     "data": {
      "text/html": [
       "<div>\n",
       "<style scoped>\n",
       "    .dataframe tbody tr th:only-of-type {\n",
       "        vertical-align: middle;\n",
       "    }\n",
       "\n",
       "    .dataframe tbody tr th {\n",
       "        vertical-align: top;\n",
       "    }\n",
       "\n",
       "    .dataframe thead th {\n",
       "        text-align: right;\n",
       "    }\n",
       "</style>\n",
       "<table border=\"1\" class=\"dataframe\">\n",
       "  <thead>\n",
       "    <tr style=\"text-align: right;\">\n",
       "      <th></th>\n",
       "      <th>author</th>\n",
       "      <th>avg_rating</th>\n",
       "    </tr>\n",
       "  </thead>\n",
       "  <tbody>\n",
       "    <tr>\n",
       "      <th>0</th>\n",
       "      <td>J.K. Rowling/Mary GrandPré</td>\n",
       "      <td>4.287097</td>\n",
       "    </tr>\n",
       "  </tbody>\n",
       "</table>\n",
       "</div>"
      ],
      "text/plain": [
       "                       author  avg_rating\n",
       "0  J.K. Rowling/Mary GrandPré    4.287097"
      ]
     },
     "metadata": {},
     "output_type": "display_data"
    }
   ],
   "source": [
    "# Альтернативный запрос с использованием оконной функции \n",
    "sql('''\n",
    "SELECT a.author, avg(rat.rating) as avg_rating\n",
    "FROM books b\n",
    "INNER JOIN \n",
    "        (SELECT book_id, \n",
    "                rating, \n",
    "                count(rating) over(partition by book_id) as cnt_of_rating\n",
    "         FROM ratings\n",
    "         ) rat\n",
    "      ON b.book_id = rat.book_id \n",
    "      AND cnt_of_rating >=50\n",
    "LEFT JOIN authors AS a\n",
    "    ON b.author_id = a.author_id \n",
    "group by a.author\n",
    "ORDER BY avg_rating DESC\n",
    "LIMIT 1\n",
    "''')"
   ]
  },
  {
   "cell_type": "markdown",
   "metadata": {},
   "source": [
    "Автор с самой высокой средней оценкой книг с более 50 оценок за книгу - **J.K. Rowling** с книгами иллюстрации **Mary GrandPré** "
   ]
  },
  {
   "cell_type": "markdown",
   "metadata": {},
   "source": [
    "### Среднее количество обзоров от пользователей, которые поставили больше 48 оценок."
   ]
  },
  {
   "cell_type": "code",
   "execution_count": 11,
   "metadata": {},
   "outputs": [
    {
     "data": {
      "text/html": [
       "<div>\n",
       "<style scoped>\n",
       "    .dataframe tbody tr th:only-of-type {\n",
       "        vertical-align: middle;\n",
       "    }\n",
       "\n",
       "    .dataframe tbody tr th {\n",
       "        vertical-align: top;\n",
       "    }\n",
       "\n",
       "    .dataframe thead th {\n",
       "        text-align: right;\n",
       "    }\n",
       "</style>\n",
       "<table border=\"1\" class=\"dataframe\">\n",
       "  <thead>\n",
       "    <tr style=\"text-align: right;\">\n",
       "      <th></th>\n",
       "      <th>avg_review</th>\n",
       "    </tr>\n",
       "  </thead>\n",
       "  <tbody>\n",
       "    <tr>\n",
       "      <th>0</th>\n",
       "      <td>24.0</td>\n",
       "    </tr>\n",
       "  </tbody>\n",
       "</table>\n",
       "</div>"
      ],
      "text/plain": [
       "   avg_review\n",
       "0        24.0"
      ]
     },
     "metadata": {},
     "output_type": "display_data"
    }
   ],
   "source": [
    "sql('''\n",
    "with cnt_rat AS \n",
    "    (SELECT username,\n",
    "    count(rating_id) AS rating_cnt\n",
    "    FROM ratings\n",
    "    GROUP BY  username\n",
    "    HAVING count(rating_id) > 48 \n",
    "    ), \n",
    "cnt_rev AS \n",
    "    (SELECT username,\n",
    "     count(review_id) AS review_cnt\n",
    "    FROM reviews\n",
    "    GROUP BY  username \n",
    "    )\n",
    "SELECT avg(rev.review_cnt) AS avg_review\n",
    "FROM cnt_rat AS rat\n",
    "LEFT JOIN cnt_rev AS rev\n",
    "    ON rat.username = rev.username\n",
    "''')"
   ]
  },
  {
   "cell_type": "markdown",
   "metadata": {},
   "source": [
    "Пользователи, поставившие более 48 оценок книгам в среднем оставили по **24** обзора."
   ]
  },
  {
   "cell_type": "markdown",
   "metadata": {},
   "source": [
    "### Выводы\n",
    "Из тысячи книг в базе данных **821** книга (включая брошюры) вышла после 1 января 2020 года.\n",
    "\n",
    "За это время самым продуктивным изданием было издание **Penguin Books**.\n",
    "\n",
    "А автором с самой большой среней оценкой за книги, учитывая только наиболее оцениваемые (более 50 оценок) **J.K. Rowling** с серией книг о Гарри Поттере с иллюстрациями **Mary GrandPré** "
   ]
  },
  {
   "cell_type": "code",
   "execution_count": null,
   "metadata": {},
   "outputs": [],
   "source": []
  }
 ],
 "metadata": {
  "ExecuteTimeLog": [
   {
    "duration": 15148,
    "start_time": "2023-06-12T09:39:34.963Z"
   },
   {
    "duration": 6,
    "start_time": "2023-06-12T09:42:03.652Z"
   },
   {
    "duration": 44,
    "start_time": "2023-06-12T09:42:07.216Z"
   },
   {
    "duration": 248,
    "start_time": "2023-06-12T09:44:19.024Z"
   },
   {
    "duration": 4,
    "start_time": "2023-06-12T09:46:18.104Z"
   },
   {
    "duration": 3,
    "start_time": "2023-06-12T09:46:32.206Z"
   },
   {
    "duration": 9,
    "start_time": "2023-06-12T09:46:33.875Z"
   },
   {
    "duration": 16,
    "start_time": "2023-06-12T09:46:47.711Z"
   },
   {
    "duration": 8,
    "start_time": "2023-06-12T09:47:03.271Z"
   },
   {
    "duration": 14,
    "start_time": "2023-06-12T09:47:04.869Z"
   },
   {
    "duration": 4,
    "start_time": "2023-06-12T09:47:40.068Z"
   },
   {
    "duration": 102,
    "start_time": "2023-06-12T09:55:49.450Z"
   },
   {
    "duration": 5,
    "start_time": "2023-06-12T09:55:55.167Z"
   },
   {
    "duration": 75,
    "start_time": "2023-06-12T09:56:02.015Z"
   },
   {
    "duration": 4,
    "start_time": "2023-06-12T09:56:29.078Z"
   },
   {
    "duration": 3,
    "start_time": "2023-06-12T09:58:29.494Z"
   },
   {
    "duration": 39,
    "start_time": "2023-06-12T09:58:36.933Z"
   },
   {
    "duration": 33,
    "start_time": "2023-06-12T09:58:43.429Z"
   },
   {
    "duration": 34,
    "start_time": "2023-06-12T09:58:46.276Z"
   },
   {
    "duration": 26,
    "start_time": "2023-06-12T09:58:49.116Z"
   },
   {
    "duration": 4,
    "start_time": "2023-06-12T09:58:59.813Z"
   },
   {
    "duration": 30,
    "start_time": "2023-06-12T09:59:01.660Z"
   },
   {
    "duration": 7,
    "start_time": "2023-06-12T09:59:11.095Z"
   },
   {
    "duration": 32,
    "start_time": "2023-06-12T09:59:13.677Z"
   },
   {
    "duration": 3,
    "start_time": "2023-06-12T10:08:27.526Z"
   },
   {
    "duration": 35,
    "start_time": "2023-06-12T10:08:35.173Z"
   },
   {
    "duration": 3,
    "start_time": "2023-06-12T10:09:02.812Z"
   },
   {
    "duration": 29,
    "start_time": "2023-06-12T10:09:03.313Z"
   },
   {
    "duration": 31,
    "start_time": "2023-06-12T10:09:46.897Z"
   },
   {
    "duration": 31,
    "start_time": "2023-06-12T10:10:29.420Z"
   },
   {
    "duration": 30,
    "start_time": "2023-06-12T10:10:29.932Z"
   },
   {
    "duration": 31,
    "start_time": "2023-06-12T10:11:11.216Z"
   },
   {
    "duration": 30,
    "start_time": "2023-06-12T10:11:11.653Z"
   },
   {
    "duration": 29,
    "start_time": "2023-06-12T10:11:12.739Z"
   },
   {
    "duration": 31,
    "start_time": "2023-06-12T10:11:13.710Z"
   },
   {
    "duration": 31,
    "start_time": "2023-06-12T10:11:14.251Z"
   },
   {
    "duration": 33,
    "start_time": "2023-06-12T10:20:03.040Z"
   },
   {
    "duration": 32,
    "start_time": "2023-06-12T10:20:18.616Z"
   },
   {
    "duration": 42,
    "start_time": "2023-06-12T10:30:47.145Z"
   },
   {
    "duration": 143,
    "start_time": "2023-06-12T10:31:06.596Z"
   },
   {
    "duration": 205,
    "start_time": "2023-06-12T10:31:27.463Z"
   },
   {
    "duration": 50,
    "start_time": "2023-06-12T10:31:34.663Z"
   },
   {
    "duration": 52,
    "start_time": "2023-06-12T10:32:44.312Z"
   },
   {
    "duration": 81,
    "start_time": "2023-06-12T10:33:08.055Z"
   },
   {
    "duration": 65,
    "start_time": "2023-06-12T10:33:13.142Z"
   },
   {
    "duration": 51,
    "start_time": "2023-06-12T10:33:24.118Z"
   },
   {
    "duration": 48,
    "start_time": "2023-06-12T10:36:25.531Z"
   },
   {
    "duration": 32,
    "start_time": "2023-06-12T10:36:41.219Z"
   },
   {
    "duration": 59,
    "start_time": "2023-06-12T10:36:47.773Z"
   },
   {
    "duration": 69,
    "start_time": "2023-06-12T10:38:10.802Z"
   },
   {
    "duration": 88,
    "start_time": "2023-06-12T10:38:17.083Z"
   },
   {
    "duration": 56,
    "start_time": "2023-06-12T10:38:20.874Z"
   },
   {
    "duration": 96,
    "start_time": "2023-06-12T10:39:02.538Z"
   },
   {
    "duration": 91,
    "start_time": "2023-06-12T10:39:32.217Z"
   },
   {
    "duration": 73,
    "start_time": "2023-06-12T10:41:05.753Z"
   },
   {
    "duration": 149,
    "start_time": "2023-06-12T10:41:48.385Z"
   },
   {
    "duration": 88,
    "start_time": "2023-06-12T10:42:18.055Z"
   },
   {
    "duration": 83,
    "start_time": "2023-06-12T10:43:33.118Z"
   },
   {
    "duration": 29,
    "start_time": "2023-06-12T10:45:14.997Z"
   },
   {
    "duration": 76,
    "start_time": "2023-06-12T10:45:41.244Z"
   },
   {
    "duration": 54,
    "start_time": "2023-06-12T10:45:52.139Z"
   },
   {
    "duration": 30,
    "start_time": "2023-06-12T10:46:07.788Z"
   },
   {
    "duration": 34,
    "start_time": "2023-06-12T10:47:02.984Z"
   },
   {
    "duration": 40,
    "start_time": "2023-06-12T10:48:33.579Z"
   },
   {
    "duration": 30,
    "start_time": "2023-06-12T10:48:40.167Z"
   },
   {
    "duration": 69,
    "start_time": "2023-06-12T10:49:06.105Z"
   },
   {
    "duration": 333,
    "start_time": "2023-06-12T10:50:32.870Z"
   },
   {
    "duration": 109,
    "start_time": "2023-06-12T10:51:16.801Z"
   },
   {
    "duration": 151,
    "start_time": "2023-06-12T10:51:46.611Z"
   },
   {
    "duration": 55,
    "start_time": "2023-06-12T10:53:46.936Z"
   },
   {
    "duration": 50,
    "start_time": "2023-06-12T10:53:56.551Z"
   },
   {
    "duration": 59,
    "start_time": "2023-06-12T10:54:18.413Z"
   },
   {
    "duration": 36,
    "start_time": "2023-06-12T10:55:51.493Z"
   },
   {
    "duration": 41,
    "start_time": "2023-06-12T10:56:23.344Z"
   },
   {
    "duration": 36,
    "start_time": "2023-06-12T10:58:14.971Z"
   },
   {
    "duration": 67,
    "start_time": "2023-06-12T10:59:39.844Z"
   },
   {
    "duration": 360,
    "start_time": "2023-06-12T10:59:44.764Z"
   },
   {
    "duration": 52,
    "start_time": "2023-06-12T11:03:30.279Z"
   },
   {
    "duration": 134,
    "start_time": "2023-06-12T11:03:35.583Z"
   },
   {
    "duration": 693,
    "start_time": "2023-06-12T11:32:46.765Z"
   },
   {
    "duration": 59,
    "start_time": "2023-06-12T11:37:21.615Z"
   },
   {
    "duration": 57,
    "start_time": "2023-06-12T11:37:36.591Z"
   },
   {
    "duration": 57,
    "start_time": "2023-06-12T11:38:08.082Z"
   },
   {
    "duration": 60,
    "start_time": "2023-06-12T11:38:58.464Z"
   },
   {
    "duration": 57,
    "start_time": "2023-06-12T11:39:20.392Z"
   },
   {
    "duration": 52,
    "start_time": "2023-06-12T11:41:37.263Z"
   },
   {
    "duration": 71,
    "start_time": "2023-06-12T11:42:58.963Z"
   },
   {
    "duration": 104,
    "start_time": "2023-06-12T11:44:04.462Z"
   },
   {
    "duration": 118,
    "start_time": "2023-06-12T11:46:24.780Z"
   },
   {
    "duration": 117,
    "start_time": "2023-06-12T11:46:45.924Z"
   },
   {
    "duration": 108,
    "start_time": "2023-06-12T11:46:51.153Z"
   },
   {
    "duration": 107,
    "start_time": "2023-06-12T11:49:43.194Z"
   },
   {
    "duration": 105,
    "start_time": "2023-06-12T11:50:17.395Z"
   },
   {
    "duration": 55,
    "start_time": "2023-06-12T11:50:30.655Z"
   },
   {
    "duration": 79,
    "start_time": "2023-06-12T11:51:22.239Z"
   },
   {
    "duration": 55,
    "start_time": "2023-06-12T11:51:38.201Z"
   },
   {
    "duration": 57,
    "start_time": "2023-06-12T11:51:42.855Z"
   },
   {
    "duration": 56,
    "start_time": "2023-06-12T11:51:49.504Z"
   },
   {
    "duration": 64,
    "start_time": "2023-06-12T11:56:05.068Z"
   },
   {
    "duration": 58,
    "start_time": "2023-06-12T11:56:16.893Z"
   },
   {
    "duration": 56,
    "start_time": "2023-06-12T12:02:40.254Z"
   },
   {
    "duration": 76,
    "start_time": "2023-06-12T12:02:52.283Z"
   },
   {
    "duration": 76,
    "start_time": "2023-06-12T12:03:16.638Z"
   },
   {
    "duration": 72,
    "start_time": "2023-06-12T12:03:41.252Z"
   },
   {
    "duration": 66,
    "start_time": "2023-06-12T12:06:04.279Z"
   },
   {
    "duration": 63,
    "start_time": "2023-06-12T12:06:18.695Z"
   },
   {
    "duration": 43,
    "start_time": "2023-06-12T12:06:24.072Z"
   },
   {
    "duration": 57,
    "start_time": "2023-06-12T12:06:36.888Z"
   },
   {
    "duration": 32,
    "start_time": "2023-06-12T12:07:18.222Z"
   },
   {
    "duration": 34,
    "start_time": "2023-06-12T12:09:16.893Z"
   },
   {
    "duration": 32,
    "start_time": "2023-06-12T12:11:22.739Z"
   },
   {
    "duration": 33,
    "start_time": "2023-06-12T12:11:59.950Z"
   },
   {
    "duration": 31,
    "start_time": "2023-06-12T12:12:04.747Z"
   },
   {
    "duration": 68,
    "start_time": "2023-06-12T12:13:13.162Z"
   },
   {
    "duration": 60,
    "start_time": "2023-06-12T12:13:35.635Z"
   },
   {
    "duration": 53,
    "start_time": "2023-06-12T12:15:54.488Z"
   },
   {
    "duration": 63,
    "start_time": "2023-06-12T12:16:00.073Z"
   },
   {
    "duration": 70,
    "start_time": "2023-06-12T12:16:09.305Z"
   },
   {
    "duration": 52,
    "start_time": "2023-06-12T12:16:35.864Z"
   },
   {
    "duration": 50,
    "start_time": "2023-06-12T12:16:43.658Z"
   },
   {
    "duration": 36,
    "start_time": "2023-06-12T12:17:46.583Z"
   },
   {
    "duration": 38,
    "start_time": "2023-06-12T12:18:20.847Z"
   },
   {
    "duration": 40,
    "start_time": "2023-06-12T12:19:02.015Z"
   },
   {
    "duration": 34,
    "start_time": "2023-06-12T12:21:19.701Z"
   },
   {
    "duration": 35,
    "start_time": "2023-06-12T12:21:30.957Z"
   },
   {
    "duration": 63,
    "start_time": "2023-06-12T12:22:30.006Z"
   },
   {
    "duration": 64,
    "start_time": "2023-06-12T12:22:39.117Z"
   },
   {
    "duration": 47,
    "start_time": "2023-06-12T12:22:58.909Z"
   },
   {
    "duration": 38,
    "start_time": "2023-06-12T12:40:37.698Z"
   },
   {
    "duration": 39,
    "start_time": "2023-06-12T12:40:57.646Z"
   },
   {
    "duration": 42,
    "start_time": "2023-06-12T12:41:24.624Z"
   },
   {
    "duration": 36,
    "start_time": "2023-06-12T12:41:38.272Z"
   },
   {
    "duration": 39,
    "start_time": "2023-06-12T12:41:49.592Z"
   },
   {
    "duration": 77,
    "start_time": "2023-06-12T12:49:08.643Z"
   },
   {
    "duration": 77,
    "start_time": "2023-06-12T12:49:52.059Z"
   },
   {
    "duration": 44,
    "start_time": "2023-06-12T12:51:08.818Z"
   },
   {
    "duration": 55,
    "start_time": "2023-06-12T12:51:23.186Z"
   },
   {
    "duration": 64,
    "start_time": "2023-06-12T12:51:39.954Z"
   },
   {
    "duration": 46,
    "start_time": "2023-06-12T12:51:44.093Z"
   },
   {
    "duration": 47,
    "start_time": "2023-06-12T12:52:30.705Z"
   },
   {
    "duration": 40,
    "start_time": "2023-06-12T12:53:56.976Z"
   },
   {
    "duration": 40,
    "start_time": "2023-06-12T12:56:00.393Z"
   },
   {
    "duration": 53,
    "start_time": "2023-06-12T12:59:00.156Z"
   },
   {
    "duration": 45,
    "start_time": "2023-06-12T12:59:07.244Z"
   },
   {
    "duration": 34,
    "start_time": "2023-06-12T12:59:15.268Z"
   },
   {
    "duration": 36,
    "start_time": "2023-06-12T12:59:36.553Z"
   },
   {
    "duration": 41,
    "start_time": "2023-06-12T13:00:39.153Z"
   },
   {
    "duration": 52,
    "start_time": "2023-06-12T13:01:16.004Z"
   },
   {
    "duration": 38,
    "start_time": "2023-06-12T13:01:55.058Z"
   },
   {
    "duration": 580,
    "start_time": "2023-06-12T17:23:47.255Z"
   },
   {
    "duration": 19257,
    "start_time": "2023-06-12T17:23:47.837Z"
   },
   {
    "duration": 4,
    "start_time": "2023-06-12T17:24:07.096Z"
   },
   {
    "duration": 90,
    "start_time": "2023-06-12T17:24:07.102Z"
   },
   {
    "duration": 30,
    "start_time": "2023-06-12T17:24:07.195Z"
   },
   {
    "duration": 36,
    "start_time": "2023-06-12T17:24:07.227Z"
   },
   {
    "duration": 34,
    "start_time": "2023-06-12T17:24:07.265Z"
   },
   {
    "duration": 34,
    "start_time": "2023-06-12T17:24:07.301Z"
   },
   {
    "duration": 48,
    "start_time": "2023-06-12T17:24:07.338Z"
   },
   {
    "duration": 34,
    "start_time": "2023-06-12T17:24:07.388Z"
   },
   {
    "duration": 62,
    "start_time": "2023-06-12T17:24:07.425Z"
   },
   {
    "duration": 31,
    "start_time": "2023-06-12T17:24:07.489Z"
   },
   {
    "duration": 41,
    "start_time": "2023-06-12T17:24:07.522Z"
   },
   {
    "duration": 36,
    "start_time": "2023-06-12T17:24:07.566Z"
   },
   {
    "duration": 40,
    "start_time": "2023-06-12T17:24:07.604Z"
   },
   {
    "duration": 77,
    "start_time": "2023-06-12T17:27:11.787Z"
   },
   {
    "duration": 162,
    "start_time": "2023-06-12T17:28:48.594Z"
   },
   {
    "duration": 104,
    "start_time": "2023-06-12T17:29:08.345Z"
   },
   {
    "duration": 186,
    "start_time": "2023-06-12T17:29:23.039Z"
   },
   {
    "duration": 61,
    "start_time": "2023-06-12T17:31:26.401Z"
   },
   {
    "duration": 40,
    "start_time": "2023-06-12T17:31:49.289Z"
   },
   {
    "duration": 35,
    "start_time": "2023-06-12T17:32:06.395Z"
   },
   {
    "duration": 59,
    "start_time": "2023-06-12T17:33:30.597Z"
   },
   {
    "duration": 69,
    "start_time": "2023-06-12T17:33:33.892Z"
   },
   {
    "duration": 48,
    "start_time": "2023-06-12T17:33:49.821Z"
   },
   {
    "duration": 44,
    "start_time": "2023-06-12T17:34:25.289Z"
   },
   {
    "duration": 45,
    "start_time": "2023-06-12T17:34:52.485Z"
   },
   {
    "duration": 40,
    "start_time": "2023-06-12T17:35:33.412Z"
   },
   {
    "duration": 48,
    "start_time": "2023-06-12T17:36:32.786Z"
   },
   {
    "duration": 37,
    "start_time": "2023-06-12T17:36:37.507Z"
   },
   {
    "duration": 132,
    "start_time": "2023-06-12T18:07:44.297Z"
   },
   {
    "duration": 60,
    "start_time": "2023-06-12T18:09:03.576Z"
   },
   {
    "duration": 138,
    "start_time": "2023-06-12T18:10:37.571Z"
   },
   {
    "duration": 102,
    "start_time": "2023-06-12T18:11:03.609Z"
   },
   {
    "duration": 37,
    "start_time": "2023-06-12T18:11:48.193Z"
   },
   {
    "duration": 47,
    "start_time": "2023-06-12T18:12:38.956Z"
   },
   {
    "duration": 75,
    "start_time": "2023-06-12T18:14:16.760Z"
   },
   {
    "duration": 75,
    "start_time": "2023-06-12T18:14:22.598Z"
   },
   {
    "duration": 66,
    "start_time": "2023-06-12T18:15:03.758Z"
   },
   {
    "duration": 70,
    "start_time": "2023-06-12T18:16:54.741Z"
   },
   {
    "duration": 72,
    "start_time": "2023-06-12T18:17:07.030Z"
   },
   {
    "duration": 76,
    "start_time": "2023-06-12T18:17:58.541Z"
   },
   {
    "duration": 86,
    "start_time": "2023-06-12T18:18:08.563Z"
   },
   {
    "duration": 90,
    "start_time": "2023-06-12T18:18:28.420Z"
   },
   {
    "duration": 72,
    "start_time": "2023-06-12T18:19:06.162Z"
   },
   {
    "duration": 76,
    "start_time": "2023-06-12T18:20:06.628Z"
   },
   {
    "duration": 61,
    "start_time": "2023-06-12T19:13:05.095Z"
   },
   {
    "duration": 165,
    "start_time": "2023-06-12T19:13:22.016Z"
   },
   {
    "duration": 59,
    "start_time": "2023-06-12T19:15:53.469Z"
   },
   {
    "duration": 76,
    "start_time": "2023-06-12T19:16:54.212Z"
   },
   {
    "duration": 63,
    "start_time": "2023-06-12T19:19:00.843Z"
   },
   {
    "duration": 85,
    "start_time": "2023-06-12T19:19:03.779Z"
   },
   {
    "duration": 138,
    "start_time": "2023-06-12T19:19:26.626Z"
   },
   {
    "duration": 73,
    "start_time": "2023-06-12T19:19:56.235Z"
   },
   {
    "duration": 3,
    "start_time": "2023-06-12T19:38:27.433Z"
   },
   {
    "duration": 10,
    "start_time": "2023-06-12T19:40:52.744Z"
   },
   {
    "duration": 58,
    "start_time": "2023-06-12T19:41:06.584Z"
   },
   {
    "duration": 10,
    "start_time": "2023-06-12T19:42:03.327Z"
   },
   {
    "duration": 12,
    "start_time": "2023-06-12T19:43:11.142Z"
   },
   {
    "duration": 3,
    "start_time": "2023-06-12T19:43:15.406Z"
   },
   {
    "duration": 232,
    "start_time": "2023-06-12T19:43:16.861Z"
   },
   {
    "duration": 3,
    "start_time": "2023-06-12T19:44:54.270Z"
   },
   {
    "duration": 149,
    "start_time": "2023-06-12T19:44:54.815Z"
   },
   {
    "duration": 113,
    "start_time": "2023-06-12T19:47:30.708Z"
   },
   {
    "duration": 3,
    "start_time": "2023-06-12T19:47:37.476Z"
   },
   {
    "duration": 18,
    "start_time": "2023-06-12T19:47:38.044Z"
   },
   {
    "duration": 3,
    "start_time": "2023-06-12T19:48:42.235Z"
   },
   {
    "duration": 3,
    "start_time": "2023-06-12T19:48:47.218Z"
   },
   {
    "duration": 492,
    "start_time": "2023-06-12T19:48:47.715Z"
   },
   {
    "duration": 3,
    "start_time": "2023-06-12T19:49:14.922Z"
   },
   {
    "duration": 398,
    "start_time": "2023-06-12T19:49:15.475Z"
   },
   {
    "duration": 4,
    "start_time": "2023-06-12T19:50:25.770Z"
   },
   {
    "duration": 388,
    "start_time": "2023-06-12T19:50:26.202Z"
   },
   {
    "duration": 4,
    "start_time": "2023-06-12T19:50:31.433Z"
   },
   {
    "duration": 475,
    "start_time": "2023-06-12T19:50:32.019Z"
   },
   {
    "duration": 4,
    "start_time": "2023-06-12T19:51:20.462Z"
   },
   {
    "duration": 416,
    "start_time": "2023-06-12T19:51:20.634Z"
   },
   {
    "duration": 3,
    "start_time": "2023-06-12T19:51:35.922Z"
   },
   {
    "duration": 411,
    "start_time": "2023-06-12T19:51:36.562Z"
   },
   {
    "duration": 4,
    "start_time": "2023-06-12T19:51:58.962Z"
   },
   {
    "duration": 561,
    "start_time": "2023-06-12T19:51:59.359Z"
   },
   {
    "duration": 4,
    "start_time": "2023-06-12T19:52:13.369Z"
   },
   {
    "duration": 395,
    "start_time": "2023-06-12T19:52:14.226Z"
   },
   {
    "duration": 5,
    "start_time": "2023-06-12T19:52:32.270Z"
   },
   {
    "duration": 414,
    "start_time": "2023-06-12T19:52:32.786Z"
   },
   {
    "duration": 3,
    "start_time": "2023-06-12T19:57:27.774Z"
   },
   {
    "duration": 382,
    "start_time": "2023-06-12T19:57:29.334Z"
   },
   {
    "duration": 4,
    "start_time": "2023-06-12T19:57:43.788Z"
   },
   {
    "duration": 364,
    "start_time": "2023-06-12T19:57:44.294Z"
   },
   {
    "duration": 4,
    "start_time": "2023-06-12T19:58:06.756Z"
   },
   {
    "duration": 3,
    "start_time": "2023-06-12T20:03:46.880Z"
   },
   {
    "duration": 78,
    "start_time": "2023-06-12T20:11:06.901Z"
   },
   {
    "duration": 74,
    "start_time": "2023-06-12T20:11:25.388Z"
   },
   {
    "duration": 68,
    "start_time": "2023-06-12T20:11:29.276Z"
   },
   {
    "duration": 98,
    "start_time": "2023-06-12T20:11:52.911Z"
   },
   {
    "duration": 108,
    "start_time": "2023-06-12T20:14:02.018Z"
   },
   {
    "duration": 5,
    "start_time": "2023-06-12T20:35:54.972Z"
   },
   {
    "duration": 1026,
    "start_time": "2023-06-12T20:35:56.301Z"
   },
   {
    "duration": 4,
    "start_time": "2023-06-12T20:37:44.067Z"
   },
   {
    "duration": 146,
    "start_time": "2023-06-12T20:37:44.933Z"
   },
   {
    "duration": 3,
    "start_time": "2023-06-12T20:38:00.026Z"
   },
   {
    "duration": 861,
    "start_time": "2023-06-12T20:38:00.962Z"
   },
   {
    "duration": 4,
    "start_time": "2023-06-12T20:42:39.607Z"
   },
   {
    "duration": 122,
    "start_time": "2023-06-12T20:42:40.867Z"
   },
   {
    "duration": 3,
    "start_time": "2023-06-12T20:43:09.120Z"
   },
   {
    "duration": 128,
    "start_time": "2023-06-12T20:43:10.488Z"
   },
   {
    "duration": 5,
    "start_time": "2023-06-12T20:43:16.831Z"
   },
   {
    "duration": 144,
    "start_time": "2023-06-12T20:43:18.935Z"
   },
   {
    "duration": 5,
    "start_time": "2023-06-12T20:43:49.199Z"
   },
   {
    "duration": 115,
    "start_time": "2023-06-12T20:43:49.872Z"
   },
   {
    "duration": 5,
    "start_time": "2023-06-12T20:44:46.342Z"
   },
   {
    "duration": 754,
    "start_time": "2023-06-12T20:44:48.365Z"
   },
   {
    "duration": 4,
    "start_time": "2023-06-12T20:47:44.275Z"
   },
   {
    "duration": 90,
    "start_time": "2023-06-12T20:47:46.443Z"
   },
   {
    "duration": 3,
    "start_time": "2023-06-12T20:48:00.787Z"
   },
   {
    "duration": 4,
    "start_time": "2023-06-12T20:48:02.380Z"
   },
   {
    "duration": 149,
    "start_time": "2023-06-12T20:48:04.163Z"
   },
   {
    "duration": 26,
    "start_time": "2023-06-12T20:48:35.995Z"
   },
   {
    "duration": 27,
    "start_time": "2023-06-12T20:48:45.083Z"
   },
   {
    "duration": 4,
    "start_time": "2023-06-12T20:49:00.123Z"
   },
   {
    "duration": 4,
    "start_time": "2023-06-12T20:49:02.514Z"
   },
   {
    "duration": 1486,
    "start_time": "2023-06-12T20:49:04.306Z"
   },
   {
    "duration": 4,
    "start_time": "2023-06-12T20:49:12.195Z"
   },
   {
    "duration": 33,
    "start_time": "2023-06-12T20:49:12.626Z"
   },
   {
    "duration": 2915,
    "start_time": "2023-06-12T20:49:15.619Z"
   },
   {
    "duration": 6,
    "start_time": "2023-06-12T20:49:29.060Z"
   },
   {
    "duration": 29,
    "start_time": "2023-06-12T20:49:29.978Z"
   },
   {
    "duration": 1362,
    "start_time": "2023-06-12T20:49:31.381Z"
   },
   {
    "duration": 1889,
    "start_time": "2023-06-12T20:49:44.402Z"
   },
   {
    "duration": 28,
    "start_time": "2023-06-12T20:50:03.683Z"
   },
   {
    "duration": 35,
    "start_time": "2023-06-12T20:50:12.826Z"
   },
   {
    "duration": 5,
    "start_time": "2023-06-12T20:50:42.073Z"
   },
   {
    "duration": 801,
    "start_time": "2023-06-12T20:50:43.434Z"
   },
   {
    "duration": 5,
    "start_time": "2023-06-12T20:51:31.825Z"
   },
   {
    "duration": 4,
    "start_time": "2023-06-12T20:51:40.296Z"
   },
   {
    "duration": 560,
    "start_time": "2023-06-12T20:51:46.077Z"
   },
   {
    "duration": 10318,
    "start_time": "2023-06-12T20:51:46.640Z"
   },
   {
    "duration": 5,
    "start_time": "2023-06-12T20:51:56.960Z"
   },
   {
    "duration": 32,
    "start_time": "2023-06-12T20:51:56.967Z"
   },
   {
    "duration": 808,
    "start_time": "2023-06-12T20:51:57.002Z"
   },
   {
    "duration": 32,
    "start_time": "2023-06-12T20:51:57.812Z"
   },
   {
    "duration": 35,
    "start_time": "2023-06-12T20:51:57.847Z"
   },
   {
    "duration": 79,
    "start_time": "2023-06-12T20:51:57.883Z"
   },
   {
    "duration": 33,
    "start_time": "2023-06-12T20:51:57.964Z"
   },
   {
    "duration": 39,
    "start_time": "2023-06-12T20:51:57.998Z"
   },
   {
    "duration": 41,
    "start_time": "2023-06-12T20:51:58.039Z"
   },
   {
    "duration": 13,
    "start_time": "2023-06-12T20:58:29.645Z"
   },
   {
    "duration": 816,
    "start_time": "2023-06-12T20:58:31.885Z"
   },
   {
    "duration": 31,
    "start_time": "2023-06-12T20:58:35.516Z"
   },
   {
    "duration": 29,
    "start_time": "2023-06-12T20:58:37.707Z"
   },
   {
    "duration": 80,
    "start_time": "2023-06-12T20:58:39.644Z"
   },
   {
    "duration": 4,
    "start_time": "2023-06-12T20:59:07.075Z"
   },
   {
    "duration": 3,
    "start_time": "2023-06-12T20:59:09.471Z"
   },
   {
    "duration": 865,
    "start_time": "2023-06-12T20:59:10.574Z"
   },
   {
    "duration": 33,
    "start_time": "2023-06-12T20:59:15.663Z"
   },
   {
    "duration": 31,
    "start_time": "2023-06-12T20:59:16.779Z"
   },
   {
    "duration": 82,
    "start_time": "2023-06-12T20:59:28.492Z"
   },
   {
    "duration": 30,
    "start_time": "2023-06-12T20:59:30.203Z"
   },
   {
    "duration": 44,
    "start_time": "2023-06-12T20:59:32.157Z"
   },
   {
    "duration": 33,
    "start_time": "2023-06-12T20:59:37.871Z"
   },
   {
    "duration": 47,
    "start_time": "2023-06-12T21:00:05.332Z"
   },
   {
    "duration": 28,
    "start_time": "2023-06-12T21:00:30.492Z"
   },
   {
    "duration": 576,
    "start_time": "2023-06-12T21:04:18.422Z"
   },
   {
    "duration": 13304,
    "start_time": "2023-06-12T21:04:19.000Z"
   },
   {
    "duration": 4,
    "start_time": "2023-06-12T21:04:32.306Z"
   },
   {
    "duration": 79,
    "start_time": "2023-06-12T21:04:32.312Z"
   },
   {
    "duration": 1096,
    "start_time": "2023-06-12T21:04:32.393Z"
   },
   {
    "duration": 29,
    "start_time": "2023-06-12T21:04:33.491Z"
   },
   {
    "duration": 84,
    "start_time": "2023-06-12T21:04:33.522Z"
   },
   {
    "duration": 29,
    "start_time": "2023-06-12T21:04:33.607Z"
   },
   {
    "duration": 49,
    "start_time": "2023-06-12T21:04:33.638Z"
   },
   {
    "duration": 31,
    "start_time": "2023-06-12T21:04:33.689Z"
   },
   {
    "duration": 550,
    "start_time": "2023-06-25T10:59:08.882Z"
   },
   {
    "duration": 13683,
    "start_time": "2023-06-25T10:59:09.434Z"
   },
   {
    "duration": 3,
    "start_time": "2023-06-25T10:59:23.119Z"
   },
   {
    "duration": 12,
    "start_time": "2023-06-25T10:59:23.123Z"
   },
   {
    "duration": 620,
    "start_time": "2023-06-25T10:59:23.137Z"
   },
   {
    "duration": 10,
    "start_time": "2023-06-25T10:59:23.758Z"
   },
   {
    "duration": 27,
    "start_time": "2023-06-25T10:59:23.770Z"
   },
   {
    "duration": 10,
    "start_time": "2023-06-25T10:59:23.799Z"
   },
   {
    "duration": 15,
    "start_time": "2023-06-25T10:59:23.810Z"
   },
   {
    "duration": 11,
    "start_time": "2023-06-25T10:59:23.827Z"
   }
  ],
  "kernelspec": {
   "display_name": "Python 3 (ipykernel)",
   "language": "python",
   "name": "python3"
  },
  "language_info": {
   "codemirror_mode": {
    "name": "ipython",
    "version": 3
   },
   "file_extension": ".py",
   "mimetype": "text/x-python",
   "name": "python",
   "nbconvert_exporter": "python",
   "pygments_lexer": "ipython3",
   "version": "3.9.15"
  },
  "toc": {
   "base_numbering": 1,
   "nav_menu": {},
   "number_sections": true,
   "sideBar": true,
   "skip_h1_title": true,
   "title_cell": "Table of Contents",
   "title_sidebar": "Contents",
   "toc_cell": false,
   "toc_position": {
    "height": "1077.13px",
    "left": "182px",
    "top": "413.119px",
    "width": "165px"
   },
   "toc_section_display": true,
   "toc_window_display": true
  }
 },
 "nbformat": 4,
 "nbformat_minor": 2
}
