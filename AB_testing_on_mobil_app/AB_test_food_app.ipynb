{
 "cells": [
  {
   "cell_type": "markdown",
   "id": "0357a23e",
   "metadata": {},
   "source": [
    "# Описание проекта\n",
    "\n",
    "Дизайнеры захотели поменять шрифты во всём приложении, а менеджеры испугались, что пользователям будет непривычно. Договорились принять решение по результатам A/A/B-теста. Пользователей разбили на 3 группы: 2 контрольные со старыми шрифтами и одну экспериментальную — с новыми.\n",
    "\n",
    "**Цели и задачи:**\n",
    "\n",
    "- Разобраться, как ведут себя пользователи мобильного приложения:\n",
    "    - Изучить воронку продаж. \n",
    "    - Узнать, как пользователи доходят до покупки. \n",
    "    - Узнать сколько пользователей доходит до покупки, а сколько — «застревает» на предыдущих шагах, на каких именно.\n",
    "\n",
    "- Исследовать результаты A/A/B-эксперимента:\n",
    "    - Провести А1/А2 тест\n",
    "    - Провести А1/В и А2/В тесты\n",
    "    - Провести А1+А2/В тест\n",
    "    \n",
    "- Сделать выводы, выяснть, какой шрифт лучше."
   ]
  },
  {
   "cell_type": "markdown",
   "id": "f41b37bf",
   "metadata": {},
   "source": [
    "# Импорт библиотек и блок функций"
   ]
  },
  {
   "cell_type": "code",
   "execution_count": 1,
   "id": "f0c3e580",
   "metadata": {},
   "outputs": [],
   "source": [
    "#Загружаем библиотеки\n",
    "import pandas as pd\n",
    "pd.options.display.float_format = '{:.2f}'.format # округление всех значений флота до 2 знаков после запятой\n",
    "pd.set_option('max_colwidth', 200) # макс. кол-во знаков в ячейке\n",
    "\n",
    "from pandas.plotting import register_matplotlib_converters\n",
    "register_matplotlib_converters() # редактирование подписей в таблице\n",
    "\n",
    "import matplotlib.pyplot as plt\n",
    "import matplotlib.ticker as ticker # кручуверчу подписи на графиках\n",
    "\n",
    "import plotly.express as px # для построения воронки\n",
    "from plotly import graph_objects as go\n",
    "\n",
    "import datetime as dt\n",
    "import numpy as np\n",
    "import scipy.stats as stats # статистика\n",
    "import math as mth\n",
    "\n",
    "import warnings # предупреждения\n",
    "warnings.filterwarnings(\"ignore\")\n",
    "\n",
    "import seaborn as sns\n",
    "sns.set_palette('Dark2', 3) #цветовая палитра\n",
    "\n",
    "# отображение текста/таблиц с markdown\n",
    "from IPython.display import Markdown, display, display_html\n",
    "\n",
    "import plotly.io as pio\n",
    "pio.renderers.default = \"png\"\n",
    "svg_renderer = pio.renderers[\"png\"]\n",
    "svg_renderer.scale = 1.2"
   ]
  },
  {
   "cell_type": "code",
   "execution_count": 2,
   "id": "bd0979e5",
   "metadata": {},
   "outputs": [],
   "source": [
    "# Дубликаты, пропуски, инфо\n",
    "def df_info(df):\n",
    "    print('Количество полных строк-дубликатов: ', df.duplicated().sum(), '\\n')\n",
    "    print('Количество пропусков в столбцах: \\n', df.isna().sum(), '\\n')\n",
    "    print('Общая информация:')\n",
    "    df.info()\n",
    "    return"
   ]
  },
  {
   "cell_type": "code",
   "execution_count": 3,
   "id": "0fc247b5",
   "metadata": {},
   "outputs": [],
   "source": [
    "# Проверка пользователей на вхождение сразу в несколько групп\n",
    "def duplicate_users(a, b):\n",
    "    dupl_users = (data[data['group'] == a]\n",
    "                       .merge(data[data['group'] == b], on='id', how='inner')['id']\n",
    "                      )\n",
    "    print(f'Количество уникальных пользователей, которые нахоятся в группе {a} и {b} одновременно {dupl_users.nunique()}')\n",
    "    if dupl_users.nunique() !=0:\n",
    "        print('Процент данных, подлежащих удалению: ', '{:.2%}'.format(dupl_users.count() / data.shape[0]))\n",
    "    return"
   ]
  },
  {
   "cell_type": "code",
   "execution_count": 4,
   "id": "bccde8a4",
   "metadata": {},
   "outputs": [],
   "source": [
    "# Изменение значений в ячейках\n",
    "def changing_values(df, col, rename):#df, столбец, что, где\n",
    "    for re in rename:\n",
    "        df.loc[df[col] == re[0], col] = re[1]\n",
    "    return"
   ]
  },
  {
   "cell_type": "code",
   "execution_count": 5,
   "id": "d14e4531",
   "metadata": {},
   "outputs": [],
   "source": [
    "# z-test для определения стат различий в выборках\n",
    "def hypothesis_testing(group1, group2, alpha = 0.05):\n",
    "    \n",
    "    display(Markdown('**Гипотезы:**'))\n",
    "    display(Markdown(f'**Нулевая гипотеза**: Статистических различий в долях пользователей, \\\n",
    "    совершивших событие между группами **{group1}** и **{group2}** нет.'))\n",
    "    display(Markdown(f'**Альтернативная**: Статистически значимые различия в долях пользователей, \\\n",
    "    совершивших событие между группами **{group1}** и **{group2}** есть.'))\n",
    "    display(Markdown(f'Статистическая значимость **alfa = {alpha}**'))\n",
    "    print()\n",
    "    \n",
    "    for i in grouped_data.query('event_name != \"Уникальные\"')['event_name'].unique():\n",
    "        \n",
    "        purchases = (grouped_data.loc[grouped_data['event_name']==i, group1].tolist()[0],\n",
    "                          grouped_data.loc[grouped_data['event_name']==i, group2].tolist()[0])\n",
    "        leads = (grouped_data.loc[grouped_data['event_name']=='Уникальные', group1].tolist()[0],\n",
    "                          grouped_data.loc[grouped_data['event_name']=='Уникальные', group2].tolist()[0])\n",
    "        \n",
    "        p1 = purchases[0]/leads[0]\n",
    "        p2 = purchases[1]/leads[1]\n",
    "\n",
    "        p_combined = (purchases[0] + purchases[1]) / (leads[0]+leads[1])\n",
    "\n",
    "        difference = p1 - p2\n",
    "\n",
    "        z_value = difference / mth.sqrt(p_combined * (1 - p_combined) * (1/leads[0] + 1/leads[1]))\n",
    "        distr = stats.norm(0,1)\n",
    "\n",
    "        p_value = (1 - distr.cdf(abs(z_value))) * 2\n",
    "\n",
    "        display(Markdown(f'Для события **{i!r}**  значение p_value: **{p_value}** результат теста:'))\n",
    "        \n",
    "        if p_value < alpha:\n",
    "            display(Markdown(f'**Отвергаем нулевую гипотезу**: \\\n",
    "            между долями событий {i!r} в группах {group1} и {group2} есть значимая разница.'))\n",
    "        else:\n",
    "            display(Markdown(f'**Не получилось отвергнуть нулевую гипотезу**, \\\n",
    "            нет оснований считать доли событий {i!r} в группах {group1} и {group2} разными.'))"
   ]
  },
  {
   "cell_type": "markdown",
   "id": "9de85a45",
   "metadata": {},
   "source": [
    "## Изучение общей информации "
   ]
  },
  {
   "cell_type": "code",
   "execution_count": 6,
   "id": "89abd160",
   "metadata": {},
   "outputs": [
    {
     "data": {
      "text/html": [
       "<div>\n",
       "<style scoped>\n",
       "    .dataframe tbody tr th:only-of-type {\n",
       "        vertical-align: middle;\n",
       "    }\n",
       "\n",
       "    .dataframe tbody tr th {\n",
       "        vertical-align: top;\n",
       "    }\n",
       "\n",
       "    .dataframe thead th {\n",
       "        text-align: right;\n",
       "    }\n",
       "</style>\n",
       "<table border=\"1\" class=\"dataframe\">\n",
       "  <thead>\n",
       "    <tr style=\"text-align: right;\">\n",
       "      <th></th>\n",
       "      <th>EventName</th>\n",
       "      <th>DeviceIDHash</th>\n",
       "      <th>EventTimestamp</th>\n",
       "      <th>ExpId</th>\n",
       "    </tr>\n",
       "  </thead>\n",
       "  <tbody>\n",
       "    <tr>\n",
       "      <th>0</th>\n",
       "      <td>MainScreenAppear</td>\n",
       "      <td>4575588528974610257</td>\n",
       "      <td>1564029816</td>\n",
       "      <td>246</td>\n",
       "    </tr>\n",
       "    <tr>\n",
       "      <th>1</th>\n",
       "      <td>MainScreenAppear</td>\n",
       "      <td>7416695313311560658</td>\n",
       "      <td>1564053102</td>\n",
       "      <td>246</td>\n",
       "    </tr>\n",
       "    <tr>\n",
       "      <th>2</th>\n",
       "      <td>PaymentScreenSuccessful</td>\n",
       "      <td>3518123091307005509</td>\n",
       "      <td>1564054127</td>\n",
       "      <td>248</td>\n",
       "    </tr>\n",
       "    <tr>\n",
       "      <th>3</th>\n",
       "      <td>CartScreenAppear</td>\n",
       "      <td>3518123091307005509</td>\n",
       "      <td>1564054127</td>\n",
       "      <td>248</td>\n",
       "    </tr>\n",
       "    <tr>\n",
       "      <th>4</th>\n",
       "      <td>PaymentScreenSuccessful</td>\n",
       "      <td>6217807653094995999</td>\n",
       "      <td>1564055322</td>\n",
       "      <td>248</td>\n",
       "    </tr>\n",
       "    <tr>\n",
       "      <th>...</th>\n",
       "      <td>...</td>\n",
       "      <td>...</td>\n",
       "      <td>...</td>\n",
       "      <td>...</td>\n",
       "    </tr>\n",
       "    <tr>\n",
       "      <th>244121</th>\n",
       "      <td>MainScreenAppear</td>\n",
       "      <td>4599628364049201812</td>\n",
       "      <td>1565212345</td>\n",
       "      <td>247</td>\n",
       "    </tr>\n",
       "    <tr>\n",
       "      <th>244122</th>\n",
       "      <td>MainScreenAppear</td>\n",
       "      <td>5849806612437486590</td>\n",
       "      <td>1565212439</td>\n",
       "      <td>246</td>\n",
       "    </tr>\n",
       "    <tr>\n",
       "      <th>244123</th>\n",
       "      <td>MainScreenAppear</td>\n",
       "      <td>5746969938801999050</td>\n",
       "      <td>1565212483</td>\n",
       "      <td>246</td>\n",
       "    </tr>\n",
       "    <tr>\n",
       "      <th>244124</th>\n",
       "      <td>MainScreenAppear</td>\n",
       "      <td>5746969938801999050</td>\n",
       "      <td>1565212498</td>\n",
       "      <td>246</td>\n",
       "    </tr>\n",
       "    <tr>\n",
       "      <th>244125</th>\n",
       "      <td>OffersScreenAppear</td>\n",
       "      <td>5746969938801999050</td>\n",
       "      <td>1565212517</td>\n",
       "      <td>246</td>\n",
       "    </tr>\n",
       "  </tbody>\n",
       "</table>\n",
       "<p>244126 rows × 4 columns</p>\n",
       "</div>"
      ],
      "text/plain": [
       "                      EventName         DeviceIDHash  EventTimestamp  ExpId\n",
       "0              MainScreenAppear  4575588528974610257      1564029816    246\n",
       "1              MainScreenAppear  7416695313311560658      1564053102    246\n",
       "2       PaymentScreenSuccessful  3518123091307005509      1564054127    248\n",
       "3              CartScreenAppear  3518123091307005509      1564054127    248\n",
       "4       PaymentScreenSuccessful  6217807653094995999      1564055322    248\n",
       "...                         ...                  ...             ...    ...\n",
       "244121         MainScreenAppear  4599628364049201812      1565212345    247\n",
       "244122         MainScreenAppear  5849806612437486590      1565212439    246\n",
       "244123         MainScreenAppear  5746969938801999050      1565212483    246\n",
       "244124         MainScreenAppear  5746969938801999050      1565212498    246\n",
       "244125       OffersScreenAppear  5746969938801999050      1565212517    246\n",
       "\n",
       "[244126 rows x 4 columns]"
      ]
     },
     "execution_count": 6,
     "metadata": {},
     "output_type": "execute_result"
    }
   ],
   "source": [
    "try:\n",
    "    data = pd.read_csv('/datasets/logs_exp.csv', sep='\\t') # в практикуме\n",
    "except:\n",
    "    data = pd.read_csv('logs_exp.csv', sep='\\t') # локально\n",
    "data"
   ]
  },
  {
   "cell_type": "code",
   "execution_count": 7,
   "id": "6effee1c",
   "metadata": {},
   "outputs": [
    {
     "name": "stdout",
     "output_type": "stream",
     "text": [
      "Количество полных строк-дубликатов:  413 \n",
      "\n",
      "Количество пропусков в столбцах: \n",
      " EventName         0\n",
      "DeviceIDHash      0\n",
      "EventTimestamp    0\n",
      "ExpId             0\n",
      "dtype: int64 \n",
      "\n",
      "Общая информация:\n",
      "<class 'pandas.core.frame.DataFrame'>\n",
      "RangeIndex: 244126 entries, 0 to 244125\n",
      "Data columns (total 4 columns):\n",
      " #   Column          Non-Null Count   Dtype \n",
      "---  ------          --------------   ----- \n",
      " 0   EventName       244126 non-null  object\n",
      " 1   DeviceIDHash    244126 non-null  int64 \n",
      " 2   EventTimestamp  244126 non-null  int64 \n",
      " 3   ExpId           244126 non-null  int64 \n",
      "dtypes: int64(3), object(1)\n",
      "memory usage: 7.5+ MB\n"
     ]
    }
   ],
   "source": [
    "df_info(data)"
   ]
  },
  {
   "cell_type": "markdown",
   "id": "dbee005d",
   "metadata": {},
   "source": [
    "**Описание данных**\n",
    "\n",
    "Каждая запись в логе — это действие пользователя, или событие. \n",
    "\n",
    "- `EventName` — название события;\n",
    "- `DeviceIDHash` — уникальный идентификатор пользователя;\n",
    "- `EventTimestamp` — время события;\n",
    "- `ExpId` — номер эксперимента: 246 и 247 — контрольные группы, а 248 — экспериментальная.\n",
    "\n",
    "\n",
    "В данных отсутсвуют пропуски, однако есть дубликаты. Названия столбцов не очень удобны для работы, а столбец с датой и временем события имеет некорректный формат. Все это необходимо поправить."
   ]
  },
  {
   "cell_type": "markdown",
   "id": "95cd4385",
   "metadata": {},
   "source": [
    "## Предобработка данных"
   ]
  },
  {
   "cell_type": "markdown",
   "id": "798b22b5",
   "metadata": {},
   "source": [
    "Исправим недочеты в данных:"
   ]
  },
  {
   "cell_type": "code",
   "execution_count": 8,
   "id": "15d897c2",
   "metadata": {},
   "outputs": [
    {
     "name": "stdout",
     "output_type": "stream",
     "text": [
      "Количество полных строк-дубликатов:  0 \n",
      "\n",
      "Количество пропусков в столбцах: \n",
      " event_name_old    0\n",
      "id                0\n",
      "event_time        0\n",
      "exp_id            0\n",
      "dtype: int64 \n",
      "\n",
      "Общая информация:\n",
      "<class 'pandas.core.frame.DataFrame'>\n",
      "Int64Index: 243713 entries, 0 to 244125\n",
      "Data columns (total 4 columns):\n",
      " #   Column          Non-Null Count   Dtype         \n",
      "---  ------          --------------   -----         \n",
      " 0   event_name_old  243713 non-null  object        \n",
      " 1   id              243713 non-null  int64         \n",
      " 2   event_time      243713 non-null  datetime64[ns]\n",
      " 3   exp_id          243713 non-null  int64         \n",
      "dtypes: datetime64[ns](1), int64(2), object(1)\n",
      "memory usage: 9.3+ MB\n"
     ]
    }
   ],
   "source": [
    "# Удаляем дубликаты, найденые ранее\n",
    "data = data.drop_duplicates()\n",
    "\n",
    "# Изменяем названия столбцов\n",
    "data = data.rename(columns={'EventName':'event_name_old',\n",
    "                            'DeviceIDHash':'id',\n",
    "                            'EventTimestamp':'event_time', \n",
    "                            'ExpId':'exp_id'\n",
    "                           }\n",
    "                  )\n",
    "\n",
    "# Исправляем типы данных с датой\n",
    "data['event_time'] = pd.to_datetime(data['event_time'], unit='s')\n",
    "\n",
    "#Проверяем\n",
    "df_info(data)"
   ]
  },
  {
   "cell_type": "markdown",
   "id": "3bf037d9",
   "metadata": {},
   "source": [
    "Добавим отдельный столбец с датой события:"
   ]
  },
  {
   "cell_type": "code",
   "execution_count": 9,
   "id": "5dffc0ac",
   "metadata": {
    "scrolled": false
   },
   "outputs": [
    {
     "name": "stdout",
     "output_type": "stream",
     "text": [
      "<class 'pandas.core.frame.DataFrame'>\n",
      "Int64Index: 243713 entries, 0 to 244125\n",
      "Data columns (total 5 columns):\n",
      " #   Column          Non-Null Count   Dtype         \n",
      "---  ------          --------------   -----         \n",
      " 0   event_name_old  243713 non-null  object        \n",
      " 1   id              243713 non-null  int64         \n",
      " 2   event_time      243713 non-null  datetime64[ns]\n",
      " 3   exp_id          243713 non-null  int64         \n",
      " 4   event_date      243713 non-null  datetime64[ns]\n",
      "dtypes: datetime64[ns](2), int64(2), object(1)\n",
      "memory usage: 11.2+ MB\n"
     ]
    }
   ],
   "source": [
    "# Создаем столбец с датой события\n",
    "data['event_date'] = data['event_time'].dt.floor(\"d\")\n",
    "data.info()"
   ]
  },
  {
   "cell_type": "markdown",
   "id": "2f3cf9b2",
   "metadata": {},
   "source": [
    "Пользователи разделены на 3 группы. Изменим названия групп: контрольные группы обозначим `A1` и `A2`, эксперементальную группу - `B`, названия будем изменять в новом столбце."
   ]
  },
  {
   "cell_type": "code",
   "execution_count": 10,
   "id": "c6fb27ba",
   "metadata": {
    "scrolled": false
   },
   "outputs": [
    {
     "data": {
      "text/html": [
       "<div>\n",
       "<style scoped>\n",
       "    .dataframe tbody tr th:only-of-type {\n",
       "        vertical-align: middle;\n",
       "    }\n",
       "\n",
       "    .dataframe tbody tr th {\n",
       "        vertical-align: top;\n",
       "    }\n",
       "\n",
       "    .dataframe thead th {\n",
       "        text-align: right;\n",
       "    }\n",
       "</style>\n",
       "<table border=\"1\" class=\"dataframe\">\n",
       "  <thead>\n",
       "    <tr style=\"text-align: right;\">\n",
       "      <th></th>\n",
       "      <th>event_name_old</th>\n",
       "      <th>id</th>\n",
       "      <th>event_time</th>\n",
       "      <th>exp_id</th>\n",
       "      <th>event_date</th>\n",
       "      <th>group</th>\n",
       "    </tr>\n",
       "  </thead>\n",
       "  <tbody>\n",
       "    <tr>\n",
       "      <th>0</th>\n",
       "      <td>MainScreenAppear</td>\n",
       "      <td>4575588528974610257</td>\n",
       "      <td>2019-07-25 04:43:36</td>\n",
       "      <td>246</td>\n",
       "      <td>2019-07-25</td>\n",
       "      <td>A1</td>\n",
       "    </tr>\n",
       "    <tr>\n",
       "      <th>1</th>\n",
       "      <td>MainScreenAppear</td>\n",
       "      <td>7416695313311560658</td>\n",
       "      <td>2019-07-25 11:11:42</td>\n",
       "      <td>246</td>\n",
       "      <td>2019-07-25</td>\n",
       "      <td>A1</td>\n",
       "    </tr>\n",
       "    <tr>\n",
       "      <th>2</th>\n",
       "      <td>PaymentScreenSuccessful</td>\n",
       "      <td>3518123091307005509</td>\n",
       "      <td>2019-07-25 11:28:47</td>\n",
       "      <td>248</td>\n",
       "      <td>2019-07-25</td>\n",
       "      <td>B</td>\n",
       "    </tr>\n",
       "    <tr>\n",
       "      <th>3</th>\n",
       "      <td>CartScreenAppear</td>\n",
       "      <td>3518123091307005509</td>\n",
       "      <td>2019-07-25 11:28:47</td>\n",
       "      <td>248</td>\n",
       "      <td>2019-07-25</td>\n",
       "      <td>B</td>\n",
       "    </tr>\n",
       "    <tr>\n",
       "      <th>4</th>\n",
       "      <td>PaymentScreenSuccessful</td>\n",
       "      <td>6217807653094995999</td>\n",
       "      <td>2019-07-25 11:48:42</td>\n",
       "      <td>248</td>\n",
       "      <td>2019-07-25</td>\n",
       "      <td>B</td>\n",
       "    </tr>\n",
       "    <tr>\n",
       "      <th>...</th>\n",
       "      <td>...</td>\n",
       "      <td>...</td>\n",
       "      <td>...</td>\n",
       "      <td>...</td>\n",
       "      <td>...</td>\n",
       "      <td>...</td>\n",
       "    </tr>\n",
       "    <tr>\n",
       "      <th>244121</th>\n",
       "      <td>MainScreenAppear</td>\n",
       "      <td>4599628364049201812</td>\n",
       "      <td>2019-08-07 21:12:25</td>\n",
       "      <td>247</td>\n",
       "      <td>2019-08-07</td>\n",
       "      <td>A2</td>\n",
       "    </tr>\n",
       "    <tr>\n",
       "      <th>244122</th>\n",
       "      <td>MainScreenAppear</td>\n",
       "      <td>5849806612437486590</td>\n",
       "      <td>2019-08-07 21:13:59</td>\n",
       "      <td>246</td>\n",
       "      <td>2019-08-07</td>\n",
       "      <td>A1</td>\n",
       "    </tr>\n",
       "    <tr>\n",
       "      <th>244123</th>\n",
       "      <td>MainScreenAppear</td>\n",
       "      <td>5746969938801999050</td>\n",
       "      <td>2019-08-07 21:14:43</td>\n",
       "      <td>246</td>\n",
       "      <td>2019-08-07</td>\n",
       "      <td>A1</td>\n",
       "    </tr>\n",
       "    <tr>\n",
       "      <th>244124</th>\n",
       "      <td>MainScreenAppear</td>\n",
       "      <td>5746969938801999050</td>\n",
       "      <td>2019-08-07 21:14:58</td>\n",
       "      <td>246</td>\n",
       "      <td>2019-08-07</td>\n",
       "      <td>A1</td>\n",
       "    </tr>\n",
       "    <tr>\n",
       "      <th>244125</th>\n",
       "      <td>OffersScreenAppear</td>\n",
       "      <td>5746969938801999050</td>\n",
       "      <td>2019-08-07 21:15:17</td>\n",
       "      <td>246</td>\n",
       "      <td>2019-08-07</td>\n",
       "      <td>A1</td>\n",
       "    </tr>\n",
       "  </tbody>\n",
       "</table>\n",
       "<p>243713 rows × 6 columns</p>\n",
       "</div>"
      ],
      "text/plain": [
       "                 event_name_old                   id          event_time  \\\n",
       "0              MainScreenAppear  4575588528974610257 2019-07-25 04:43:36   \n",
       "1              MainScreenAppear  7416695313311560658 2019-07-25 11:11:42   \n",
       "2       PaymentScreenSuccessful  3518123091307005509 2019-07-25 11:28:47   \n",
       "3              CartScreenAppear  3518123091307005509 2019-07-25 11:28:47   \n",
       "4       PaymentScreenSuccessful  6217807653094995999 2019-07-25 11:48:42   \n",
       "...                         ...                  ...                 ...   \n",
       "244121         MainScreenAppear  4599628364049201812 2019-08-07 21:12:25   \n",
       "244122         MainScreenAppear  5849806612437486590 2019-08-07 21:13:59   \n",
       "244123         MainScreenAppear  5746969938801999050 2019-08-07 21:14:43   \n",
       "244124         MainScreenAppear  5746969938801999050 2019-08-07 21:14:58   \n",
       "244125       OffersScreenAppear  5746969938801999050 2019-08-07 21:15:17   \n",
       "\n",
       "        exp_id event_date group  \n",
       "0          246 2019-07-25    A1  \n",
       "1          246 2019-07-25    A1  \n",
       "2          248 2019-07-25     B  \n",
       "3          248 2019-07-25     B  \n",
       "4          248 2019-07-25     B  \n",
       "...        ...        ...   ...  \n",
       "244121     247 2019-08-07    A2  \n",
       "244122     246 2019-08-07    A1  \n",
       "244123     246 2019-08-07    A1  \n",
       "244124     246 2019-08-07    A1  \n",
       "244125     246 2019-08-07    A1  \n",
       "\n",
       "[243713 rows x 6 columns]"
      ]
     },
     "execution_count": 10,
     "metadata": {},
     "output_type": "execute_result"
    }
   ],
   "source": [
    "#Дубликат для преобразования содержимого\n",
    "data['group'] = data['exp_id']\n",
    "\n",
    "changing_values(data, 'group', [(246, 'A1'), \n",
    "                                (247, 'A2'), \n",
    "                                (248, 'B')])\n",
    "data"
   ]
  },
  {
   "cell_type": "markdown",
   "id": "d354da0c",
   "metadata": {},
   "source": [
    "**Вывод**\n",
    "Мы изменили названия столбцов:\n",
    "- EventName на event_name_old,\n",
    "- DeviceIDHash на id,\n",
    "- EventTimestamp на event_time,\n",
    "- ExpId на exp_id'.\n",
    "\n",
    "Изменили тип данных у столбца с датой\n",
    "\n",
    "Добавили два новых столбца:\n",
    "- Дата события без времени\n",
    "- Столбец с переименованными группами: контрольные 246 и 247 в А1 и А2 соответственно и эксперементальная 248 в В."
   ]
  },
  {
   "cell_type": "markdown",
   "id": "5a7c7d6b",
   "metadata": {},
   "source": [
    "## Проверка имеющихся данных"
   ]
  },
  {
   "cell_type": "markdown",
   "id": "df8a5d39",
   "metadata": {},
   "source": [
    "### Проверка временного промежутка\n",
    "Для начала изучим период, за который у нас имеются данные:"
   ]
  },
  {
   "cell_type": "code",
   "execution_count": 11,
   "id": "af0a5b44",
   "metadata": {},
   "outputs": [
    {
     "name": "stdout",
     "output_type": "stream",
     "text": [
      "Начальная дата: 2019-07-25 04:43:36, конечная дата: 2019-08-07 21:15:17\n"
     ]
    }
   ],
   "source": [
    "print(f'Начальная дата: {data.event_time.min()}, конечная дата: {data.event_time.max()}')"
   ]
  },
  {
   "cell_type": "markdown",
   "id": "cb80a16b",
   "metadata": {},
   "source": [
    "На первый взгляд мы имеем данные за две недели. Посмотрим на гиcтограмму распределения событий:"
   ]
  },
  {
   "cell_type": "code",
   "execution_count": 12,
   "id": "7ba2bce4",
   "metadata": {},
   "outputs": [
    {
     "data": {
      "image/png": "[encoded data removed]",
      "text/plain": [
       "<Figure size 1200x300 with 1 Axes>"
      ]
     },
     "metadata": {},
     "output_type": "display_data"
    }
   ],
   "source": [
    "plt.figure(figsize=(12, 3))\n",
    "data['event_time'].hist(bins=200)\n",
    "plt.tick_params(axis='x', labelrotation = 90)\n",
    "plt.title('Количество событий по времени')\n",
    "plt.xlabel('Дата') \n",
    "plt.ylabel('Количество событий');"
   ]
  },
  {
   "cell_type": "markdown",
   "id": "c36bd872",
   "metadata": {},
   "source": [
    "По гистограмме видно, что за первую неделю у пользователей не происходило практически никаких событий, тогда как во вторую неделю четко прослеживается активность пользователей в течении суток. Таким образом данные за первую неделю мусорные, скорее всего от них можно избавиться. Проверим, какой процент они составляют от всех событий:"
   ]
  },
  {
   "cell_type": "code",
   "execution_count": 13,
   "id": "0c537924",
   "metadata": {},
   "outputs": [
    {
     "name": "stdout",
     "output_type": "stream",
     "text": [
      "События за первую неделю от общего числа событий:  1.16%\n"
     ]
    }
   ],
   "source": [
    "first_week_event = data[data['event_time'] < '2019-08-01 00:00:00']['event_time'].count()\n",
    "print('События за первую неделю от общего числа событий: ', '{:.2%}'.format(first_week_event / data.shape[0]))"
   ]
  },
  {
   "cell_type": "markdown",
   "id": "4d182f24",
   "metadata": {},
   "source": [
    "Посчитаем какой процент уникальных пользователей мы потеряем, если возьмем данные только за вторую неделю:"
   ]
  },
  {
   "cell_type": "code",
   "execution_count": 14,
   "id": "bafc68c4",
   "metadata": {},
   "outputs": [
    {
     "name": "stdout",
     "output_type": "stream",
     "text": [
      "Процент уникальных пользователей, которые могут быть утеряны:  0.23%\n"
     ]
    }
   ],
   "source": [
    "print('Процент уникальных пользователей, которые могут быть утеряны: ',\n",
    "      '{:.2%}'.format(\n",
    "          (data['id'].nunique() - data[data['event_time'] >= '2019-08-01 00:00:00']['id'].nunique())/data['id'].nunique()\n",
    "      )\n",
    "     )"
   ]
  },
  {
   "cell_type": "markdown",
   "id": "5707ffee",
   "metadata": {},
   "source": [
    "Так как потери незначительны, для дальнейшего анализа начальной датой проведения теста будем считать 2019-08-01 00:00:00, данные за ранний период удалим из выборки."
   ]
  },
  {
   "cell_type": "code",
   "execution_count": 15,
   "id": "570616f4",
   "metadata": {},
   "outputs": [
    {
     "data": {
      "image/png": "[encoded data removed]",
      "text/plain": [
       "<Figure size 1200x300 with 1 Axes>"
      ]
     },
     "metadata": {},
     "output_type": "display_data"
    }
   ],
   "source": [
    "data = data[data['event_time'] >= '2019-08-01 00:00:00']\n",
    "plt.figure(figsize=(12, 3))\n",
    "data['event_time'].hist(bins=200)\n",
    "plt.tick_params(axis='x', labelrotation = 90)\n",
    "plt.title('Количество событий по времени')\n",
    "plt.xlabel('Дата') \n",
    "plt.ylabel('Количество событий');"
   ]
  },
  {
   "cell_type": "markdown",
   "id": "d4ab4779",
   "metadata": {},
   "source": [
    "Теперь данные выглядят аккуратно. \n",
    "### Проверка количества пользователей\n",
    "Изучим количество пользователей, использующих приложение в исследуемую неделю. "
   ]
  },
  {
   "cell_type": "code",
   "execution_count": 16,
   "id": "a04e8347",
   "metadata": {},
   "outputs": [
    {
     "name": "stdout",
     "output_type": "stream",
     "text": [
      "Количество анализируемых событий:  240887\n",
      "Количество пользователей:  7534\n",
      "Среднее количество событий на пользователя:  31.97\n"
     ]
    }
   ],
   "source": [
    "print('Количество анализируемых событий: ', data['id'].count())\n",
    "print('Количество пользователей: ', data['id'].nunique())\n",
    "print('Среднее количество событий на пользователя: ', '{:.2f}'.format(data['id'].count() / data['id'].nunique()))"
   ]
  },
  {
   "cell_type": "markdown",
   "id": "f9e5c84f",
   "metadata": {},
   "source": [
    "Проверим распределение пользователей по группам:"
   ]
  },
  {
   "cell_type": "code",
   "execution_count": 17,
   "id": "5e71d165",
   "metadata": {},
   "outputs": [
    {
     "data": {
      "image/png": "[encoded data removed]",
      "text/plain": [
       "<Figure size 1000x200 with 1 Axes>"
      ]
     },
     "metadata": {},
     "output_type": "display_data"
    }
   ],
   "source": [
    "plt.figure(figsize=(10, 2))\n",
    "data.groupby('group')['id'].count().plot(kind='barh')\n",
    "plt.title('Распределение пользователей по группам')\n",
    "plt.xlabel('Количество пользователей') \n",
    "plt.ylabel('Группа');"
   ]
  },
  {
   "cell_type": "code",
   "execution_count": 18,
   "id": "58afa0c5",
   "metadata": {},
   "outputs": [
    {
     "name": "stdout",
     "output_type": "stream",
     "text": [
      "Количество уникальных пользователей, которые нахоятся в группе A1 и A2 одновременно 0\n",
      "Количество уникальных пользователей, которые нахоятся в группе A1 и B одновременно 0\n",
      "Количество уникальных пользователей, которые нахоятся в группе A2 и B одновременно 0\n"
     ]
    }
   ],
   "source": [
    "duplicate_users('A1', 'A2')\n",
    "duplicate_users('A1', 'B')\n",
    "duplicate_users('A2', 'B')"
   ]
  },
  {
   "cell_type": "markdown",
   "id": "3fb8e82f",
   "metadata": {},
   "source": [
    "### Вывод\n",
    "\n",
    "Мы располагаем данными за одну неделю: с 2019-08-01 по 2019-08-07 включительно. \n",
    "\n",
    "На 240887 событий приходится 7534 уникальных пользователей, в среднем на каждого пользователя приходится 32 события.\n",
    "\n",
    "Пользователи для проведения A/A/B теста распределены на три группы. Визуально распределение по группам равномерно. Нет пользователей, которые одновременно присутствовали бы в двух или трех группах."
   ]
  },
  {
   "cell_type": "markdown",
   "id": "33623e08",
   "metadata": {},
   "source": [
    "## Воронка событий\n"
   ]
  },
  {
   "cell_type": "markdown",
   "id": "6bb8bed9",
   "metadata": {},
   "source": [
    "### Построение воронки событий\n",
    "Изучим события, которые отслеживаются приложением:"
   ]
  },
  {
   "cell_type": "code",
   "execution_count": 19,
   "id": "3483a6e3",
   "metadata": {},
   "outputs": [
    {
     "name": "stdout",
     "output_type": "stream",
     "text": [
      "Количество уникальных событий:  5 \n",
      "\n",
      "События: \n",
      " ['Tutorial' 'MainScreenAppear' 'OffersScreenAppear' 'CartScreenAppear'\n",
      " 'PaymentScreenSuccessful'] \n",
      "\n"
     ]
    }
   ],
   "source": [
    "print(f'Количество уникальных событий: ', (data['event_name_old'].nunique()), '\\n')\n",
    "print('События: \\n', data['event_name_old'].unique(), '\\n')"
   ]
  },
  {
   "cell_type": "markdown",
   "id": "45e82b13",
   "metadata": {},
   "source": [
    "Переименуем события для своего удобства, создадим новый столбец:"
   ]
  },
  {
   "cell_type": "code",
   "execution_count": 20,
   "id": "51b8e380",
   "metadata": {},
   "outputs": [],
   "source": [
    "data['event_name'] = data['event_name_old']\n",
    "changing_values(data, 'event_name', [('MainScreenAppear', 'Главный экран'),\n",
    "                                      ('OffersScreenAppear', 'Предложения'),\n",
    "                                      ('CartScreenAppear', 'Корзина'),\n",
    "                                      ('PaymentScreenSuccessful', 'Успешная оплата'),\n",
    "                                      ('Tutorial', 'Обучение')])"
   ]
  },
  {
   "cell_type": "code",
   "execution_count": 21,
   "id": "3d9221b8",
   "metadata": {},
   "outputs": [
    {
     "name": "stdout",
     "output_type": "stream",
     "text": [
      "Количество событий:\n"
     ]
    },
    {
     "data": {
      "text/html": [
       "<div>\n",
       "<style scoped>\n",
       "    .dataframe tbody tr th:only-of-type {\n",
       "        vertical-align: middle;\n",
       "    }\n",
       "\n",
       "    .dataframe tbody tr th {\n",
       "        vertical-align: top;\n",
       "    }\n",
       "\n",
       "    .dataframe thead th {\n",
       "        text-align: right;\n",
       "    }\n",
       "</style>\n",
       "<table border=\"1\" class=\"dataframe\">\n",
       "  <thead>\n",
       "    <tr style=\"text-align: right;\">\n",
       "      <th></th>\n",
       "      <th>event_name</th>\n",
       "      <th>all_views</th>\n",
       "    </tr>\n",
       "  </thead>\n",
       "  <tbody>\n",
       "    <tr>\n",
       "      <th>0</th>\n",
       "      <td>Главный экран</td>\n",
       "      <td>117328</td>\n",
       "    </tr>\n",
       "    <tr>\n",
       "      <th>1</th>\n",
       "      <td>Предложения</td>\n",
       "      <td>46333</td>\n",
       "    </tr>\n",
       "    <tr>\n",
       "      <th>2</th>\n",
       "      <td>Корзина</td>\n",
       "      <td>42303</td>\n",
       "    </tr>\n",
       "    <tr>\n",
       "      <th>3</th>\n",
       "      <td>Успешная оплата</td>\n",
       "      <td>33918</td>\n",
       "    </tr>\n",
       "    <tr>\n",
       "      <th>4</th>\n",
       "      <td>Обучение</td>\n",
       "      <td>1005</td>\n",
       "    </tr>\n",
       "  </tbody>\n",
       "</table>\n",
       "</div>"
      ],
      "text/plain": [
       "        event_name  all_views\n",
       "0    Главный экран     117328\n",
       "1      Предложения      46333\n",
       "2          Корзина      42303\n",
       "3  Успешная оплата      33918\n",
       "4         Обучение       1005"
      ]
     },
     "execution_count": 21,
     "metadata": {},
     "output_type": "execute_result"
    }
   ],
   "source": [
    "print('Количество событий:')\n",
    "(data.groupby('event_name')\n",
    "     .agg({'id': 'count'})\n",
    "     .sort_values(by='id', ascending=False)\n",
    "     .rename(columns = {'id':'all_views'})\n",
    "     .reset_index()\n",
    ")"
   ]
  },
  {
   "cell_type": "markdown",
   "id": "286bfe2b",
   "metadata": {},
   "source": [
    "Очевидно, самое популярное событие - просмотр главного экрана. \n",
    "\n",
    "Подсчитаем сколько уникальных пользователей совершали каждое событие, а так же какую долю уникальные пользователи составляют от каждого события."
   ]
  },
  {
   "cell_type": "code",
   "execution_count": 22,
   "id": "d79b9817",
   "metadata": {},
   "outputs": [
    {
     "data": {
      "text/html": [
       "<div>\n",
       "<style scoped>\n",
       "    .dataframe tbody tr th:only-of-type {\n",
       "        vertical-align: middle;\n",
       "    }\n",
       "\n",
       "    .dataframe tbody tr th {\n",
       "        vertical-align: top;\n",
       "    }\n",
       "\n",
       "    .dataframe thead th {\n",
       "        text-align: right;\n",
       "    }\n",
       "</style>\n",
       "<table border=\"1\" class=\"dataframe\">\n",
       "  <thead>\n",
       "    <tr style=\"text-align: right;\">\n",
       "      <th></th>\n",
       "      <th>event_name</th>\n",
       "      <th>all_views</th>\n",
       "      <th>unic_user_views</th>\n",
       "      <th>part</th>\n",
       "    </tr>\n",
       "  </thead>\n",
       "  <tbody>\n",
       "    <tr>\n",
       "      <th>0</th>\n",
       "      <td>Главный экран</td>\n",
       "      <td>117328</td>\n",
       "      <td>7419</td>\n",
       "      <td>0.98</td>\n",
       "    </tr>\n",
       "    <tr>\n",
       "      <th>1</th>\n",
       "      <td>Предложения</td>\n",
       "      <td>46333</td>\n",
       "      <td>4593</td>\n",
       "      <td>0.61</td>\n",
       "    </tr>\n",
       "    <tr>\n",
       "      <th>2</th>\n",
       "      <td>Корзина</td>\n",
       "      <td>42303</td>\n",
       "      <td>3734</td>\n",
       "      <td>0.50</td>\n",
       "    </tr>\n",
       "    <tr>\n",
       "      <th>3</th>\n",
       "      <td>Успешная оплата</td>\n",
       "      <td>33918</td>\n",
       "      <td>3539</td>\n",
       "      <td>0.47</td>\n",
       "    </tr>\n",
       "    <tr>\n",
       "      <th>4</th>\n",
       "      <td>Обучение</td>\n",
       "      <td>1005</td>\n",
       "      <td>840</td>\n",
       "      <td>0.11</td>\n",
       "    </tr>\n",
       "  </tbody>\n",
       "</table>\n",
       "</div>"
      ],
      "text/plain": [
       "        event_name  all_views  unic_user_views  part\n",
       "0    Главный экран     117328             7419  0.98\n",
       "1      Предложения      46333             4593  0.61\n",
       "2          Корзина      42303             3734  0.50\n",
       "3  Успешная оплата      33918             3539  0.47\n",
       "4         Обучение       1005              840  0.11"
      ]
     },
     "execution_count": 22,
     "metadata": {},
     "output_type": "execute_result"
    }
   ],
   "source": [
    "events = (data.groupby('event_name', as_index=False)\n",
    "              .agg({'event_date': 'count', 'id' : 'nunique'})\n",
    "              .rename(columns={'event_date':'all_views', 'id':'unic_user_views'})\n",
    "              .sort_values(by='all_views', ascending=False)\n",
    "              .reset_index(drop=True)\n",
    "         )\n",
    "events['part'] = events['unic_user_views'] / data['id'].nunique()\n",
    "events"
   ]
  },
  {
   "cell_type": "markdown",
   "id": "98844aaa",
   "metadata": {},
   "source": [
    "Около 2% пользователей миновали главный экран, возможно пользователи попадают на страницу предложений по прямой ссылке через уведомления, рекламу или поисковик. Так же возможно в эти 2% вошли пользователи, у которых первое событие пришлось на первую, отсеченную неделю."
   ]
  },
  {
   "cell_type": "markdown",
   "id": "af2e8e5d",
   "metadata": {},
   "source": [
    "Исходя из логики \"пришел, увидел, купил\" можем предположить что обязательный порядок страниц в приложении будет следующим:\n",
    "\n",
    "- `Main Screen Appear` - Посещение главной страницы\n",
    "- `Offers Screen Appear` - Просмотр предложений\n",
    "- `Cart Screen Appear` - Посещение корзины\n",
    "- `Payment Screen Successful` - Успешная оплата товаров\n",
    "\n",
    "Событие `Tutorial` - просмотр обучения, возможно является необязательным и его можно пропустить, либо обучение открывается при первом открытии приложения после установки, т.е. за изучаемый 840 пользователей впервые воспользовались приложением.\n",
    "\n",
    "\n",
    "Так как мы не может четко определить местоположение события `Tutorial` - 'Обучение' исключаем его из воронки.\n",
    "\n",
    "Добавим данные для расчета воронки:\n",
    "- `convABC` - часть пользователей, которые перешли с предыдущего события\n",
    "- `loss` - \"потеряная\" часть пользователей с перыущего этапа\n",
    "- `convA-C` - часть пользователей, дошедшая до этапа начиная с первого события."
   ]
  },
  {
   "cell_type": "code",
   "execution_count": 23,
   "id": "66125c35",
   "metadata": {
    "scrolled": false
   },
   "outputs": [
    {
     "data": {
      "text/html": [
       "<div>\n",
       "<style scoped>\n",
       "    .dataframe tbody tr th:only-of-type {\n",
       "        vertical-align: middle;\n",
       "    }\n",
       "\n",
       "    .dataframe tbody tr th {\n",
       "        vertical-align: top;\n",
       "    }\n",
       "\n",
       "    .dataframe thead th {\n",
       "        text-align: right;\n",
       "    }\n",
       "</style>\n",
       "<table border=\"1\" class=\"dataframe\">\n",
       "  <thead>\n",
       "    <tr style=\"text-align: right;\">\n",
       "      <th></th>\n",
       "      <th>event_name</th>\n",
       "      <th>all_views</th>\n",
       "      <th>unic_user_views</th>\n",
       "      <th>part</th>\n",
       "      <th>convABC</th>\n",
       "      <th>loss</th>\n",
       "      <th>convA-C</th>\n",
       "    </tr>\n",
       "  </thead>\n",
       "  <tbody>\n",
       "    <tr>\n",
       "      <th>0</th>\n",
       "      <td>Главный экран</td>\n",
       "      <td>117328</td>\n",
       "      <td>7419</td>\n",
       "      <td>0.98</td>\n",
       "      <td>1.00</td>\n",
       "      <td>0.00</td>\n",
       "      <td>1.00</td>\n",
       "    </tr>\n",
       "    <tr>\n",
       "      <th>1</th>\n",
       "      <td>Предложения</td>\n",
       "      <td>46333</td>\n",
       "      <td>4593</td>\n",
       "      <td>0.61</td>\n",
       "      <td>0.62</td>\n",
       "      <td>0.38</td>\n",
       "      <td>0.62</td>\n",
       "    </tr>\n",
       "    <tr>\n",
       "      <th>2</th>\n",
       "      <td>Корзина</td>\n",
       "      <td>42303</td>\n",
       "      <td>3734</td>\n",
       "      <td>0.50</td>\n",
       "      <td>0.81</td>\n",
       "      <td>0.19</td>\n",
       "      <td>0.50</td>\n",
       "    </tr>\n",
       "    <tr>\n",
       "      <th>3</th>\n",
       "      <td>Успешная оплата</td>\n",
       "      <td>33918</td>\n",
       "      <td>3539</td>\n",
       "      <td>0.47</td>\n",
       "      <td>0.95</td>\n",
       "      <td>0.05</td>\n",
       "      <td>0.48</td>\n",
       "    </tr>\n",
       "  </tbody>\n",
       "</table>\n",
       "</div>"
      ],
      "text/plain": [
       "        event_name  all_views  unic_user_views  part  convABC  loss  convA-C\n",
       "0    Главный экран     117328             7419  0.98     1.00  0.00     1.00\n",
       "1      Предложения      46333             4593  0.61     0.62  0.38     0.62\n",
       "2          Корзина      42303             3734  0.50     0.81  0.19     0.50\n",
       "3  Успешная оплата      33918             3539  0.47     0.95  0.05     0.48"
      ]
     },
     "metadata": {},
     "output_type": "display_data"
    },
    {
     "data": {
      "image/png": "[encoded data removed]"
     },
     "metadata": {},
     "output_type": "display_data"
    }
   ],
   "source": [
    "events = events.query('event_name != \"Обучение\"')\n",
    "\n",
    "events['convABC'] = events['unic_user_views'] / (events['unic_user_views'].shift(1, fill_value=events.loc[0,'unic_user_views']))\n",
    "events['loss'] = 1 - events['convABC']\n",
    "events['convA-C'] = events['unic_user_views'] / events.loc[0,'unic_user_views']\n",
    "display(events)\n",
    "fig = px.funnel(events, x='unic_user_views', y='event_name',\n",
    "                title='Воронка продаж',\n",
    "                width=800, height=400         \n",
    "               )\n",
    "fig.show()"
   ]
  },
  {
   "cell_type": "markdown",
   "id": "25fb0e3e",
   "metadata": {},
   "source": [
    "### Вывод\n",
    "\n",
    "Всего приложение отслеживает 5 событий в следующем порядке:\n",
    "- Посещение главной страницы\n",
    "- Просмотр предложений\n",
    "- Посещение корзины\n",
    "- Успешная оплата товаров\n",
    "\n",
    "И событие 'Обучение' которое не имеет четко определенного места в цепочке.\n",
    "\n",
    "Самый большой процент клиентов теряется сразу после главной страницы, т.е. клиенты даже не заходят в раздел с товарами.\n",
    "При этом 48% пользователей успешно доходят от первого события (просмотр главного экрана) до последнего (оплата заказа). "
   ]
  },
  {
   "cell_type": "markdown",
   "id": "a6d8d48d",
   "metadata": {},
   "source": [
    "## Результаты эксперимента"
   ]
  },
  {
   "cell_type": "markdown",
   "id": "1f837dfb",
   "metadata": {},
   "source": [
    "### Подготовка данных\n",
    "Для оценки результатов эксперимента проведем вычисления:\n",
    "- Подсчитаем количество пользователей в каждой группе\n",
    "- Соберем таблицу, которая будет отображать события и количество пользователей в каждой группе, которые совершили это событие.\n",
    "- Добавим суммарные значения для пользователей контрольных групп. \n",
    "- Добавим столбец с количеством уникальных пользователей в каждой группе."
   ]
  },
  {
   "cell_type": "code",
   "execution_count": 24,
   "id": "72ac37df",
   "metadata": {},
   "outputs": [
    {
     "data": {
      "text/html": [
       "<div>\n",
       "<style scoped>\n",
       "    .dataframe tbody tr th:only-of-type {\n",
       "        vertical-align: middle;\n",
       "    }\n",
       "\n",
       "    .dataframe tbody tr th {\n",
       "        vertical-align: top;\n",
       "    }\n",
       "\n",
       "    .dataframe thead th {\n",
       "        text-align: right;\n",
       "    }\n",
       "</style>\n",
       "<table border=\"1\" class=\"dataframe\">\n",
       "  <thead>\n",
       "    <tr style=\"text-align: right;\">\n",
       "      <th>group</th>\n",
       "      <th>event_name</th>\n",
       "      <th>A1</th>\n",
       "      <th>A2</th>\n",
       "      <th>B</th>\n",
       "      <th>A1+A2</th>\n",
       "    </tr>\n",
       "  </thead>\n",
       "  <tbody>\n",
       "    <tr>\n",
       "      <th>0</th>\n",
       "      <td>Главный экран</td>\n",
       "      <td>2450</td>\n",
       "      <td>2476</td>\n",
       "      <td>2493</td>\n",
       "      <td>4926</td>\n",
       "    </tr>\n",
       "    <tr>\n",
       "      <th>1</th>\n",
       "      <td>Предложения</td>\n",
       "      <td>1542</td>\n",
       "      <td>1520</td>\n",
       "      <td>1531</td>\n",
       "      <td>3062</td>\n",
       "    </tr>\n",
       "    <tr>\n",
       "      <th>2</th>\n",
       "      <td>Корзина</td>\n",
       "      <td>1266</td>\n",
       "      <td>1238</td>\n",
       "      <td>1230</td>\n",
       "      <td>2504</td>\n",
       "    </tr>\n",
       "    <tr>\n",
       "      <th>3</th>\n",
       "      <td>Успешная оплата</td>\n",
       "      <td>1200</td>\n",
       "      <td>1158</td>\n",
       "      <td>1181</td>\n",
       "      <td>2358</td>\n",
       "    </tr>\n",
       "    <tr>\n",
       "      <th>4</th>\n",
       "      <td>Уникальные</td>\n",
       "      <td>2484</td>\n",
       "      <td>2513</td>\n",
       "      <td>2537</td>\n",
       "      <td>4997</td>\n",
       "    </tr>\n",
       "  </tbody>\n",
       "</table>\n",
       "</div>"
      ],
      "text/plain": [
       "group       event_name    A1    A2     B  A1+A2\n",
       "0        Главный экран  2450  2476  2493   4926\n",
       "1          Предложения  1542  1520  1531   3062\n",
       "2              Корзина  1266  1238  1230   2504\n",
       "3      Успешная оплата  1200  1158  1181   2358\n",
       "4           Уникальные  2484  2513  2537   4997"
      ]
     },
     "execution_count": 24,
     "metadata": {},
     "output_type": "execute_result"
    }
   ],
   "source": [
    "grouped_count = data.groupby('group').agg({'id' : 'nunique'})\n",
    "#Собираем таблицу, события и количество уникальных пользователей в каждой группе\n",
    "grouped_data = (pd.pivot_table(data,\n",
    "                               index='event_name',\n",
    "                               columns='group',\n",
    "                               values='id',\n",
    "                               aggfunc={'id' : 'nunique'}).sort_values(by='A1', ascending=False)\n",
    "                .reset_index()\n",
    "                .query('event_name !=\"Обучение\"') # Исключаем событие \"обучение\"\n",
    "                .append(grouped_count.T, ignore_index=True) # добавляем число уникальных пользователей в каждой группе\n",
    "               )\n",
    "grouped_data.loc[grouped_data['event_name'].isnull(), 'event_name'] = 'Уникальные' # подписываем строчку\n",
    "grouped_data['A1+A2']=grouped_data['A1'] + grouped_data['A2'] # Суммируем данные по контрольным группам\n",
    "grouped_data"
   ]
  },
  {
   "cell_type": "code",
   "execution_count": 25,
   "id": "52ec9548",
   "metadata": {
    "scrolled": false
   },
   "outputs": [
    {
     "data": {
      "image/png": "[encoded data removed]"
     },
     "metadata": {},
     "output_type": "display_data"
    }
   ],
   "source": [
    "fig = go.Figure()\n",
    "\n",
    "for i in ['A1', 'A2', 'B']:\n",
    "    fig.add_trace(go.Funnel(\n",
    "        name = i,\n",
    "        y = grouped_data.query('event_name != \"Уникальные\"')['event_name'].unique(),\n",
    "        x = grouped_data[i],\n",
    "        textinfo = \"value+percent initial\"))\n",
    "fig.update_layout(title='Воронка продаж')\n",
    "fig.show();"
   ]
  },
  {
   "cell_type": "markdown",
   "id": "fb8c912e",
   "metadata": {},
   "source": [
    "Даже визуально уже видно что группы имеют примерно одинаковыое распределение пользователей по событиям."
   ]
  },
  {
   "cell_type": "markdown",
   "id": "3bea68e9",
   "metadata": {},
   "source": [
    "### A1/A2 эксперимент. Проверка расчетов\n",
    "\n",
    "Так как у нас имеется 2 контрольные группы для эксперимента, мы можем провести А/А-тест и проверить корректность всех механизмов и расчётов. Проверим, находят ли статистические критерии разницу между выборками A1 и A2.\n",
    "\n",
    "Так как мы хотим сравнить конверсию пользователей из посетивших первую страницу в успешно оформивших заказ воспользуемся двусторонним **z-test**'ом с показателем статистической значимости **alfa = 0.05**."
   ]
  },
  {
   "cell_type": "code",
   "execution_count": 26,
   "id": "793e937c",
   "metadata": {},
   "outputs": [
    {
     "data": {
      "text/markdown": [
       "**Гипотезы:**"
      ],
      "text/plain": [
       "<IPython.core.display.Markdown object>"
      ]
     },
     "metadata": {},
     "output_type": "display_data"
    },
    {
     "data": {
      "text/markdown": [
       "**Нулевая гипотеза**: Статистических различий в долях пользователей,     совершивших событие между группами **A1** и **A2** нет."
      ],
      "text/plain": [
       "<IPython.core.display.Markdown object>"
      ]
     },
     "metadata": {},
     "output_type": "display_data"
    },
    {
     "data": {
      "text/markdown": [
       "**Альтернативная**: Статистически значимые различия в долях пользователей,     совершивших событие между группами **A1** и **A2** есть."
      ],
      "text/plain": [
       "<IPython.core.display.Markdown object>"
      ]
     },
     "metadata": {},
     "output_type": "display_data"
    },
    {
     "data": {
      "text/markdown": [
       "Статистическая значимость **alfa = 0.05**"
      ],
      "text/plain": [
       "<IPython.core.display.Markdown object>"
      ]
     },
     "metadata": {},
     "output_type": "display_data"
    },
    {
     "name": "stdout",
     "output_type": "stream",
     "text": [
      "\n"
     ]
    },
    {
     "data": {
      "text/markdown": [
       "Для события **'Главный экран'**  значение p_value: **0.7570597232046099** результат теста:"
      ],
      "text/plain": [
       "<IPython.core.display.Markdown object>"
      ]
     },
     "metadata": {},
     "output_type": "display_data"
    },
    {
     "data": {
      "text/markdown": [
       "**Не получилось отвергнуть нулевую гипотезу**,             нет оснований считать доли событий 'Главный экран' в группах A1 и A2 разными."
      ],
      "text/plain": [
       "<IPython.core.display.Markdown object>"
      ]
     },
     "metadata": {},
     "output_type": "display_data"
    },
    {
     "data": {
      "text/markdown": [
       "Для события **'Предложения'**  значение p_value: **0.2480954578522181** результат теста:"
      ],
      "text/plain": [
       "<IPython.core.display.Markdown object>"
      ]
     },
     "metadata": {},
     "output_type": "display_data"
    },
    {
     "data": {
      "text/markdown": [
       "**Не получилось отвергнуть нулевую гипотезу**,             нет оснований считать доли событий 'Предложения' в группах A1 и A2 разными."
      ],
      "text/plain": [
       "<IPython.core.display.Markdown object>"
      ]
     },
     "metadata": {},
     "output_type": "display_data"
    },
    {
     "data": {
      "text/markdown": [
       "Для события **'Корзина'**  значение p_value: **0.22883372237997213** результат теста:"
      ],
      "text/plain": [
       "<IPython.core.display.Markdown object>"
      ]
     },
     "metadata": {},
     "output_type": "display_data"
    },
    {
     "data": {
      "text/markdown": [
       "**Не получилось отвергнуть нулевую гипотезу**,             нет оснований считать доли событий 'Корзина' в группах A1 и A2 разными."
      ],
      "text/plain": [
       "<IPython.core.display.Markdown object>"
      ]
     },
     "metadata": {},
     "output_type": "display_data"
    },
    {
     "data": {
      "text/markdown": [
       "Для события **'Успешная оплата'**  значение p_value: **0.11456679313141849** результат теста:"
      ],
      "text/plain": [
       "<IPython.core.display.Markdown object>"
      ]
     },
     "metadata": {},
     "output_type": "display_data"
    },
    {
     "data": {
      "text/markdown": [
       "**Не получилось отвергнуть нулевую гипотезу**,             нет оснований считать доли событий 'Успешная оплата' в группах A1 и A2 разными."
      ],
      "text/plain": [
       "<IPython.core.display.Markdown object>"
      ]
     },
     "metadata": {},
     "output_type": "display_data"
    }
   ],
   "source": [
    "hypothesis_testing('A1', 'A2')"
   ]
  },
  {
   "cell_type": "markdown",
   "id": "c8075df3",
   "metadata": {},
   "source": [
    "Так как тест не нашел статистически значимых различий между группами, у нас есть основания полагать что расчеты корректны.\n",
    "\n",
    "### А1/В и А2/В эксперимент"
   ]
  },
  {
   "cell_type": "code",
   "execution_count": 27,
   "id": "49272899",
   "metadata": {},
   "outputs": [
    {
     "data": {
      "text/markdown": [
       "**Гипотезы:**"
      ],
      "text/plain": [
       "<IPython.core.display.Markdown object>"
      ]
     },
     "metadata": {},
     "output_type": "display_data"
    },
    {
     "data": {
      "text/markdown": [
       "**Нулевая гипотеза**: Статистических различий в долях пользователей,     совершивших событие между группами **A1** и **B** нет."
      ],
      "text/plain": [
       "<IPython.core.display.Markdown object>"
      ]
     },
     "metadata": {},
     "output_type": "display_data"
    },
    {
     "data": {
      "text/markdown": [
       "**Альтернативная**: Статистически значимые различия в долях пользователей,     совершивших событие между группами **A1** и **B** есть."
      ],
      "text/plain": [
       "<IPython.core.display.Markdown object>"
      ]
     },
     "metadata": {},
     "output_type": "display_data"
    },
    {
     "data": {
      "text/markdown": [
       "Статистическая значимость **alfa = 0.05**"
      ],
      "text/plain": [
       "<IPython.core.display.Markdown object>"
      ]
     },
     "metadata": {},
     "output_type": "display_data"
    },
    {
     "name": "stdout",
     "output_type": "stream",
     "text": [
      "\n"
     ]
    },
    {
     "data": {
      "text/markdown": [
       "Для события **'Главный экран'**  значение p_value: **0.2949721933554552** результат теста:"
      ],
      "text/plain": [
       "<IPython.core.display.Markdown object>"
      ]
     },
     "metadata": {},
     "output_type": "display_data"
    },
    {
     "data": {
      "text/markdown": [
       "**Не получилось отвергнуть нулевую гипотезу**,             нет оснований считать доли событий 'Главный экран' в группах A1 и B разными."
      ],
      "text/plain": [
       "<IPython.core.display.Markdown object>"
      ]
     },
     "metadata": {},
     "output_type": "display_data"
    },
    {
     "data": {
      "text/markdown": [
       "Для события **'Предложения'**  значение p_value: **0.20836205402738917** результат теста:"
      ],
      "text/plain": [
       "<IPython.core.display.Markdown object>"
      ]
     },
     "metadata": {},
     "output_type": "display_data"
    },
    {
     "data": {
      "text/markdown": [
       "**Не получилось отвергнуть нулевую гипотезу**,             нет оснований считать доли событий 'Предложения' в группах A1 и B разными."
      ],
      "text/plain": [
       "<IPython.core.display.Markdown object>"
      ]
     },
     "metadata": {},
     "output_type": "display_data"
    },
    {
     "data": {
      "text/markdown": [
       "Для события **'Корзина'**  значение p_value: **0.07842923237520116** результат теста:"
      ],
      "text/plain": [
       "<IPython.core.display.Markdown object>"
      ]
     },
     "metadata": {},
     "output_type": "display_data"
    },
    {
     "data": {
      "text/markdown": [
       "**Не получилось отвергнуть нулевую гипотезу**,             нет оснований считать доли событий 'Корзина' в группах A1 и B разными."
      ],
      "text/plain": [
       "<IPython.core.display.Markdown object>"
      ]
     },
     "metadata": {},
     "output_type": "display_data"
    },
    {
     "data": {
      "text/markdown": [
       "Для события **'Успешная оплата'**  значение p_value: **0.2122553275697796** результат теста:"
      ],
      "text/plain": [
       "<IPython.core.display.Markdown object>"
      ]
     },
     "metadata": {},
     "output_type": "display_data"
    },
    {
     "data": {
      "text/markdown": [
       "**Не получилось отвергнуть нулевую гипотезу**,             нет оснований считать доли событий 'Успешная оплата' в группах A1 и B разными."
      ],
      "text/plain": [
       "<IPython.core.display.Markdown object>"
      ]
     },
     "metadata": {},
     "output_type": "display_data"
    }
   ],
   "source": [
    "hypothesis_testing('A1', 'B')"
   ]
  },
  {
   "cell_type": "code",
   "execution_count": 28,
   "id": "35e433c3",
   "metadata": {},
   "outputs": [
    {
     "data": {
      "text/markdown": [
       "**Гипотезы:**"
      ],
      "text/plain": [
       "<IPython.core.display.Markdown object>"
      ]
     },
     "metadata": {},
     "output_type": "display_data"
    },
    {
     "data": {
      "text/markdown": [
       "**Нулевая гипотеза**: Статистических различий в долях пользователей,     совершивших событие между группами **A2** и **B** нет."
      ],
      "text/plain": [
       "<IPython.core.display.Markdown object>"
      ]
     },
     "metadata": {},
     "output_type": "display_data"
    },
    {
     "data": {
      "text/markdown": [
       "**Альтернативная**: Статистически значимые различия в долях пользователей,     совершивших событие между группами **A2** и **B** есть."
      ],
      "text/plain": [
       "<IPython.core.display.Markdown object>"
      ]
     },
     "metadata": {},
     "output_type": "display_data"
    },
    {
     "data": {
      "text/markdown": [
       "Статистическая значимость **alfa = 0.05**"
      ],
      "text/plain": [
       "<IPython.core.display.Markdown object>"
      ]
     },
     "metadata": {},
     "output_type": "display_data"
    },
    {
     "name": "stdout",
     "output_type": "stream",
     "text": [
      "\n"
     ]
    },
    {
     "data": {
      "text/markdown": [
       "Для события **'Главный экран'**  значение p_value: **0.4587053616621515** результат теста:"
      ],
      "text/plain": [
       "<IPython.core.display.Markdown object>"
      ]
     },
     "metadata": {},
     "output_type": "display_data"
    },
    {
     "data": {
      "text/markdown": [
       "**Не получилось отвергнуть нулевую гипотезу**,             нет оснований считать доли событий 'Главный экран' в группах A2 и B разными."
      ],
      "text/plain": [
       "<IPython.core.display.Markdown object>"
      ]
     },
     "metadata": {},
     "output_type": "display_data"
    },
    {
     "data": {
      "text/markdown": [
       "Для события **'Предложения'**  значение p_value: **0.9197817830592261** результат теста:"
      ],
      "text/plain": [
       "<IPython.core.display.Markdown object>"
      ]
     },
     "metadata": {},
     "output_type": "display_data"
    },
    {
     "data": {
      "text/markdown": [
       "**Не получилось отвергнуть нулевую гипотезу**,             нет оснований считать доли событий 'Предложения' в группах A2 и B разными."
      ],
      "text/plain": [
       "<IPython.core.display.Markdown object>"
      ]
     },
     "metadata": {},
     "output_type": "display_data"
    },
    {
     "data": {
      "text/markdown": [
       "Для события **'Корзина'**  значение p_value: **0.5786197879539783** результат теста:"
      ],
      "text/plain": [
       "<IPython.core.display.Markdown object>"
      ]
     },
     "metadata": {},
     "output_type": "display_data"
    },
    {
     "data": {
      "text/markdown": [
       "**Не получилось отвергнуть нулевую гипотезу**,             нет оснований считать доли событий 'Корзина' в группах A2 и B разными."
      ],
      "text/plain": [
       "<IPython.core.display.Markdown object>"
      ]
     },
     "metadata": {},
     "output_type": "display_data"
    },
    {
     "data": {
      "text/markdown": [
       "Для события **'Успешная оплата'**  значение p_value: **0.7373415053803964** результат теста:"
      ],
      "text/plain": [
       "<IPython.core.display.Markdown object>"
      ]
     },
     "metadata": {},
     "output_type": "display_data"
    },
    {
     "data": {
      "text/markdown": [
       "**Не получилось отвергнуть нулевую гипотезу**,             нет оснований считать доли событий 'Успешная оплата' в группах A2 и B разными."
      ],
      "text/plain": [
       "<IPython.core.display.Markdown object>"
      ]
     },
     "metadata": {},
     "output_type": "display_data"
    }
   ],
   "source": [
    "hypothesis_testing('A2', 'B')"
   ]
  },
  {
   "cell_type": "markdown",
   "id": "17f7ebf8",
   "metadata": {},
   "source": [
    "При проведении тестов А1/В и А2/В ни по одному из событий статистических различий не обнаружено.\n",
    "### А1+А2/В эксперимент"
   ]
  },
  {
   "cell_type": "code",
   "execution_count": 29,
   "id": "bdf97a6a",
   "metadata": {},
   "outputs": [
    {
     "data": {
      "text/markdown": [
       "**Гипотезы:**"
      ],
      "text/plain": [
       "<IPython.core.display.Markdown object>"
      ]
     },
     "metadata": {},
     "output_type": "display_data"
    },
    {
     "data": {
      "text/markdown": [
       "**Нулевая гипотеза**: Статистических различий в долях пользователей,     совершивших событие между группами **A1+A2** и **B** нет."
      ],
      "text/plain": [
       "<IPython.core.display.Markdown object>"
      ]
     },
     "metadata": {},
     "output_type": "display_data"
    },
    {
     "data": {
      "text/markdown": [
       "**Альтернативная**: Статистически значимые различия в долях пользователей,     совершивших событие между группами **A1+A2** и **B** есть."
      ],
      "text/plain": [
       "<IPython.core.display.Markdown object>"
      ]
     },
     "metadata": {},
     "output_type": "display_data"
    },
    {
     "data": {
      "text/markdown": [
       "Статистическая значимость **alfa = 0.05**"
      ],
      "text/plain": [
       "<IPython.core.display.Markdown object>"
      ]
     },
     "metadata": {},
     "output_type": "display_data"
    },
    {
     "name": "stdout",
     "output_type": "stream",
     "text": [
      "\n"
     ]
    },
    {
     "data": {
      "text/markdown": [
       "Для события **'Главный экран'**  значение p_value: **0.29424526837179577** результат теста:"
      ],
      "text/plain": [
       "<IPython.core.display.Markdown object>"
      ]
     },
     "metadata": {},
     "output_type": "display_data"
    },
    {
     "data": {
      "text/markdown": [
       "**Не получилось отвергнуть нулевую гипотезу**,             нет оснований считать доли событий 'Главный экран' в группах A1+A2 и B разными."
      ],
      "text/plain": [
       "<IPython.core.display.Markdown object>"
      ]
     },
     "metadata": {},
     "output_type": "display_data"
    },
    {
     "data": {
      "text/markdown": [
       "Для события **'Предложения'**  значение p_value: **0.43425549655188256** результат теста:"
      ],
      "text/plain": [
       "<IPython.core.display.Markdown object>"
      ]
     },
     "metadata": {},
     "output_type": "display_data"
    },
    {
     "data": {
      "text/markdown": [
       "**Не получилось отвергнуть нулевую гипотезу**,             нет оснований считать доли событий 'Предложения' в группах A1+A2 и B разными."
      ],
      "text/plain": [
       "<IPython.core.display.Markdown object>"
      ]
     },
     "metadata": {},
     "output_type": "display_data"
    },
    {
     "data": {
      "text/markdown": [
       "Для события **'Корзина'**  значение p_value: **0.18175875284404386** результат теста:"
      ],
      "text/plain": [
       "<IPython.core.display.Markdown object>"
      ]
     },
     "metadata": {},
     "output_type": "display_data"
    },
    {
     "data": {
      "text/markdown": [
       "**Не получилось отвергнуть нулевую гипотезу**,             нет оснований считать доли событий 'Корзина' в группах A1+A2 и B разными."
      ],
      "text/plain": [
       "<IPython.core.display.Markdown object>"
      ]
     },
     "metadata": {},
     "output_type": "display_data"
    },
    {
     "data": {
      "text/markdown": [
       "Для события **'Успешная оплата'**  значение p_value: **0.6004294282308704** результат теста:"
      ],
      "text/plain": [
       "<IPython.core.display.Markdown object>"
      ]
     },
     "metadata": {},
     "output_type": "display_data"
    },
    {
     "data": {
      "text/markdown": [
       "**Не получилось отвергнуть нулевую гипотезу**,             нет оснований считать доли событий 'Успешная оплата' в группах A1+A2 и B разными."
      ],
      "text/plain": [
       "<IPython.core.display.Markdown object>"
      ]
     },
     "metadata": {},
     "output_type": "display_data"
    }
   ],
   "source": [
    "hypothesis_testing('A1+A2', 'B')"
   ]
  },
  {
   "cell_type": "markdown",
   "id": "597cbac3",
   "metadata": {},
   "source": [
    "### Вывод\n",
    "\n",
    "Тест показал, что отношение количества пользователей дошедших до оплаты ко всем пользователям в контрольных и эксперементальной группах практически совпадает.\n",
    "\n",
    "Так как мы проводим множественное тестирование, а именно 16 тестов, чтобы снизить вероятность ложнопозитивного результата было бы необходимо применить поправки, например поправку Бонферрони."
   ]
  },
  {
   "cell_type": "code",
   "execution_count": 30,
   "id": "672f8829",
   "metadata": {},
   "outputs": [
    {
     "data": {
      "text/plain": [
       "0.003125"
      ]
     },
     "execution_count": 30,
     "metadata": {},
     "output_type": "execute_result"
    }
   ],
   "source": [
    "bonferroni_alpha = 0.05 / 16\n",
    "bonferroni_alpha"
   ]
  },
  {
   "cell_type": "markdown",
   "id": "96cf567d",
   "metadata": {},
   "source": [
    "В случае использования поправки критический уровень статистической значимости станет меньше, но так как мы не получили ни одного положительного результата теста, т.е. значение p_value ни разу не было выше значения alfa, то и применять поправку не имеет смысла."
   ]
  },
  {
   "cell_type": "markdown",
   "id": "da93f715",
   "metadata": {},
   "source": [
    "## Общий вывод"
   ]
  },
  {
   "cell_type": "markdown",
   "id": "10ed8ef9",
   "metadata": {},
   "source": [
    "В ходе исслеодвания мы изучили воронку событий:\n",
    "- Самое частое событие - просмотр главного экрана, затем пользователи переходят на страницу с предложениями, в корзину и, наконец, успешно оплачивают свой заказ.\n",
    "- Самая большая потеря клиентов происходит после посещения главной страницы - 38% пользователей не идут смотреть предложения.\n",
    "- Тем не менее, дальнейшие потери не так значительны и 48% пользователей в итоге успешно оформляют заказ.\n",
    "    \n",
    "Возможно стоит обратить внимание разработчиков на такую большую потерю клиентов после первого же события. Возможно у пользователей возникают какие-то трудности при переходе с одной страницы на другую.\n",
    "    \n",
    "При изучении результатов проведения A/A/B эксперимента:\n",
    "\n",
    "- По результатам A1/A2 эксперимента можно утверждать, что пльзователи корректно разделены на группы. По каждому из событий в группах А1 и А2 между долями пользователей совершивших покупки не наблюдается значительной статистической значимости. \n",
    "- Однако, и по результатам A1/В A2/И и A1+A2/В экспериментов значительных изменений не наблюдается, следовательно новый шрифт дизайнеров нельзя признать успешным. Тем не менее так же он и не отпугивает пользователей. \n",
    "- В связи с тем, что при проведении 16 тестов мы не получили ни одного положительного результата, поправки значения стат.значимости можно не применять.\n",
    "\n",
    "Так как шрифт не повлиял на поведение пользователей, его введение можно оставить на усмотрение дизайнеров."
   ]
  }
 ],
 "metadata": {
  "ExecuteTimeLog": [
   {
    "duration": 1453,
    "start_time": "2023-04-15T07:24:57.449Z"
   },
   {
    "duration": 4,
    "start_time": "2023-04-15T07:24:58.904Z"
   },
   {
    "duration": 5,
    "start_time": "2023-04-15T07:24:58.910Z"
   },
   {
    "duration": 11,
    "start_time": "2023-04-15T07:24:58.917Z"
   },
   {
    "duration": 10,
    "start_time": "2023-04-15T07:24:58.930Z"
   },
   {
    "duration": 173,
    "start_time": "2023-04-15T07:24:58.957Z"
   },
   {
    "duration": 102,
    "start_time": "2023-04-15T07:24:59.132Z"
   },
   {
    "duration": 200,
    "start_time": "2023-04-15T07:24:59.236Z"
   },
   {
    "duration": 103,
    "start_time": "2023-04-15T07:24:59.438Z"
   },
   {
    "duration": 74,
    "start_time": "2023-04-15T07:24:59.543Z"
   },
   {
    "duration": 6,
    "start_time": "2023-04-15T07:24:59.619Z"
   },
   {
    "duration": 606,
    "start_time": "2023-04-15T07:24:59.627Z"
   },
   {
    "duration": 38,
    "start_time": "2023-04-15T07:25:00.236Z"
   },
   {
    "duration": 580,
    "start_time": "2023-04-15T07:25:00.283Z"
   },
   {
    "duration": 22,
    "start_time": "2023-04-15T07:25:00.865Z"
   },
   {
    "duration": 277,
    "start_time": "2023-04-15T07:25:00.888Z"
   },
   {
    "duration": 200,
    "start_time": "2023-04-15T07:25:01.166Z"
   },
   {
    "duration": 49,
    "start_time": "2023-04-15T07:25:01.377Z"
   },
   {
    "duration": 159,
    "start_time": "2023-04-15T07:25:01.428Z"
   },
   {
    "duration": 32,
    "start_time": "2023-04-15T07:25:01.590Z"
   },
   {
    "duration": 118,
    "start_time": "2023-04-15T07:25:01.624Z"
   },
   {
    "duration": 583,
    "start_time": "2023-04-15T07:25:01.744Z"
   },
   {
    "duration": 265,
    "start_time": "2023-04-15T07:25:02.330Z"
   },
   {
    "duration": 1375,
    "start_time": "2023-04-15T07:25:02.596Z"
   },
   {
    "duration": 786,
    "start_time": "2023-04-15T07:25:03.973Z"
   },
   {
    "duration": 712,
    "start_time": "2023-04-15T07:25:04.764Z"
   },
   {
    "duration": 817,
    "start_time": "2023-04-15T07:25:05.479Z"
   },
   {
    "duration": 4,
    "start_time": "2023-04-15T07:25:06.298Z"
   },
   {
    "duration": 61,
    "start_time": "2023-04-15T07:31:59.429Z"
   },
   {
    "duration": 183,
    "start_time": "2023-04-15T07:42:53.680Z"
   },
   {
    "duration": 1406,
    "start_time": "2023-04-15T07:50:58.302Z"
   },
   {
    "duration": 4,
    "start_time": "2023-04-15T07:50:59.710Z"
   },
   {
    "duration": 6,
    "start_time": "2023-04-15T07:50:59.716Z"
   },
   {
    "duration": 7,
    "start_time": "2023-04-15T07:50:59.724Z"
   },
   {
    "duration": 32,
    "start_time": "2023-04-15T07:50:59.734Z"
   },
   {
    "duration": 227,
    "start_time": "2023-04-15T07:50:59.768Z"
   },
   {
    "duration": 122,
    "start_time": "2023-04-15T07:50:59.997Z"
   },
   {
    "duration": 201,
    "start_time": "2023-04-15T07:51:00.121Z"
   },
   {
    "duration": 101,
    "start_time": "2023-04-15T07:51:00.324Z"
   },
   {
    "duration": 92,
    "start_time": "2023-04-15T07:51:00.428Z"
   },
   {
    "duration": 6,
    "start_time": "2023-04-15T07:51:00.522Z"
   },
   {
    "duration": 690,
    "start_time": "2023-04-15T07:51:00.530Z"
   },
   {
    "duration": 40,
    "start_time": "2023-04-15T07:51:01.222Z"
   },
   {
    "duration": 536,
    "start_time": "2023-04-15T07:51:01.270Z"
   },
   {
    "duration": 14,
    "start_time": "2023-04-15T07:51:01.808Z"
   },
   {
    "duration": 297,
    "start_time": "2023-04-15T07:51:01.824Z"
   },
   {
    "duration": 226,
    "start_time": "2023-04-15T07:51:02.123Z"
   },
   {
    "duration": 66,
    "start_time": "2023-04-15T07:51:02.350Z"
   },
   {
    "duration": 115,
    "start_time": "2023-04-15T07:51:02.418Z"
   },
   {
    "duration": 44,
    "start_time": "2023-04-15T07:51:02.534Z"
   },
   {
    "duration": 89,
    "start_time": "2023-04-15T07:51:02.584Z"
   },
   {
    "duration": 537,
    "start_time": "2023-04-15T07:51:02.676Z"
   },
   {
    "duration": 368,
    "start_time": "2023-04-15T07:51:03.215Z"
   },
   {
    "duration": 863,
    "start_time": "2023-04-15T07:51:03.589Z"
   },
   {
    "duration": 899,
    "start_time": "2023-04-15T07:51:04.454Z"
   },
   {
    "duration": 899,
    "start_time": "2023-04-15T07:51:05.355Z"
   },
   {
    "duration": 852,
    "start_time": "2023-04-15T07:51:06.256Z"
   },
   {
    "duration": 4,
    "start_time": "2023-04-15T07:51:07.109Z"
   },
   {
    "duration": 1667,
    "start_time": "2023-04-15T07:52:00.914Z"
   },
   {
    "duration": 5,
    "start_time": "2023-04-15T07:52:02.583Z"
   },
   {
    "duration": 9,
    "start_time": "2023-04-15T07:52:02.592Z"
   },
   {
    "duration": 13,
    "start_time": "2023-04-15T07:52:02.603Z"
   },
   {
    "duration": 13,
    "start_time": "2023-04-15T07:52:02.619Z"
   },
   {
    "duration": 323,
    "start_time": "2023-04-15T07:52:02.634Z"
   },
   {
    "duration": 152,
    "start_time": "2023-04-15T07:52:02.959Z"
   },
   {
    "duration": 239,
    "start_time": "2023-04-15T07:52:03.113Z"
   },
   {
    "duration": 138,
    "start_time": "2023-04-15T07:52:03.355Z"
   },
   {
    "duration": 122,
    "start_time": "2023-04-15T07:52:03.499Z"
   },
   {
    "duration": 7,
    "start_time": "2023-04-15T07:52:03.623Z"
   },
   {
    "duration": 807,
    "start_time": "2023-04-15T07:52:03.632Z"
   },
   {
    "duration": 34,
    "start_time": "2023-04-15T07:52:04.441Z"
   },
   {
    "duration": 1016,
    "start_time": "2023-04-15T07:52:04.483Z"
   },
   {
    "duration": 33,
    "start_time": "2023-04-15T07:52:05.508Z"
   },
   {
    "duration": 306,
    "start_time": "2023-04-15T07:52:05.544Z"
   },
   {
    "duration": 238,
    "start_time": "2023-04-15T07:52:05.853Z"
   },
   {
    "duration": 64,
    "start_time": "2023-04-15T07:52:06.101Z"
   },
   {
    "duration": 112,
    "start_time": "2023-04-15T07:52:06.170Z"
   },
   {
    "duration": 38,
    "start_time": "2023-04-15T07:52:06.285Z"
   },
   {
    "duration": 110,
    "start_time": "2023-04-15T07:52:06.325Z"
   },
   {
    "duration": 613,
    "start_time": "2023-04-15T07:52:06.438Z"
   },
   {
    "duration": 292,
    "start_time": "2023-04-15T07:52:07.053Z"
   },
   {
    "duration": 1099,
    "start_time": "2023-04-15T07:52:07.346Z"
   },
   {
    "duration": 1067,
    "start_time": "2023-04-15T07:52:08.448Z"
   },
   {
    "duration": 975,
    "start_time": "2023-04-15T07:52:09.517Z"
   },
   {
    "duration": 1093,
    "start_time": "2023-04-15T07:52:10.498Z"
   },
   {
    "duration": 18,
    "start_time": "2023-04-15T07:52:11.594Z"
   },
   {
    "duration": 1456,
    "start_time": "2023-04-15T07:52:27.589Z"
   },
   {
    "duration": 3,
    "start_time": "2023-04-15T07:52:29.048Z"
   },
   {
    "duration": 33,
    "start_time": "2023-04-15T07:52:29.055Z"
   },
   {
    "duration": 5,
    "start_time": "2023-04-15T07:52:29.103Z"
   },
   {
    "duration": 19,
    "start_time": "2023-04-15T07:52:29.116Z"
   },
   {
    "duration": 226,
    "start_time": "2023-04-15T07:52:29.138Z"
   },
   {
    "duration": 148,
    "start_time": "2023-04-15T07:52:29.366Z"
   },
   {
    "duration": 206,
    "start_time": "2023-04-15T07:52:29.515Z"
   },
   {
    "duration": 108,
    "start_time": "2023-04-15T07:52:29.723Z"
   },
   {
    "duration": 83,
    "start_time": "2023-04-15T07:52:29.834Z"
   },
   {
    "duration": 9,
    "start_time": "2023-04-15T07:52:29.923Z"
   },
   {
    "duration": 704,
    "start_time": "2023-04-15T07:52:29.934Z"
   },
   {
    "duration": 29,
    "start_time": "2023-04-15T07:52:30.640Z"
   },
   {
    "duration": 647,
    "start_time": "2023-04-15T07:52:30.672Z"
   },
   {
    "duration": 25,
    "start_time": "2023-04-15T07:52:31.322Z"
   },
   {
    "duration": 344,
    "start_time": "2023-04-15T07:52:31.349Z"
   },
   {
    "duration": 215,
    "start_time": "2023-04-15T07:52:31.695Z"
   },
   {
    "duration": 54,
    "start_time": "2023-04-15T07:52:31.915Z"
   },
   {
    "duration": 129,
    "start_time": "2023-04-15T07:52:31.975Z"
   },
   {
    "duration": 38,
    "start_time": "2023-04-15T07:52:32.111Z"
   },
   {
    "duration": 118,
    "start_time": "2023-04-15T07:52:32.151Z"
   },
   {
    "duration": 659,
    "start_time": "2023-04-15T07:52:32.277Z"
   },
   {
    "duration": 399,
    "start_time": "2023-04-15T07:52:32.940Z"
   },
   {
    "duration": 1113,
    "start_time": "2023-04-15T07:52:33.341Z"
   },
   {
    "duration": 1080,
    "start_time": "2023-04-15T07:52:34.456Z"
   },
   {
    "duration": 1096,
    "start_time": "2023-04-15T07:52:35.540Z"
   },
   {
    "duration": 1086,
    "start_time": "2023-04-15T07:52:36.639Z"
   },
   {
    "duration": 5,
    "start_time": "2023-04-15T07:52:37.729Z"
   },
   {
    "duration": 1526,
    "start_time": "2023-04-15T07:53:47.919Z"
   },
   {
    "duration": 4,
    "start_time": "2023-04-15T07:53:49.448Z"
   },
   {
    "duration": 13,
    "start_time": "2023-04-15T07:53:49.455Z"
   },
   {
    "duration": 3,
    "start_time": "2023-04-15T07:53:49.477Z"
   },
   {
    "duration": 12,
    "start_time": "2023-04-15T07:53:49.482Z"
   },
   {
    "duration": 215,
    "start_time": "2023-04-15T07:53:49.497Z"
   },
   {
    "duration": 117,
    "start_time": "2023-04-15T07:53:49.717Z"
   },
   {
    "duration": 210,
    "start_time": "2023-04-15T07:53:49.835Z"
   },
   {
    "duration": 121,
    "start_time": "2023-04-15T07:53:50.047Z"
   },
   {
    "duration": 76,
    "start_time": "2023-04-15T07:53:50.170Z"
   },
   {
    "duration": 8,
    "start_time": "2023-04-15T07:53:50.248Z"
   },
   {
    "duration": 672,
    "start_time": "2023-04-15T07:53:50.261Z"
   },
   {
    "duration": 33,
    "start_time": "2023-04-15T07:53:50.935Z"
   },
   {
    "duration": 659,
    "start_time": "2023-04-15T07:53:50.972Z"
   },
   {
    "duration": 12,
    "start_time": "2023-04-15T07:53:51.634Z"
   },
   {
    "duration": 342,
    "start_time": "2023-04-15T07:53:51.647Z"
   },
   {
    "duration": 228,
    "start_time": "2023-04-15T07:53:52.002Z"
   },
   {
    "duration": 70,
    "start_time": "2023-04-15T07:53:52.232Z"
   },
   {
    "duration": 118,
    "start_time": "2023-04-15T07:53:52.304Z"
   },
   {
    "duration": 29,
    "start_time": "2023-04-15T07:53:52.424Z"
   },
   {
    "duration": 99,
    "start_time": "2023-04-15T07:53:52.455Z"
   },
   {
    "duration": 585,
    "start_time": "2023-04-15T07:53:52.558Z"
   },
   {
    "duration": 306,
    "start_time": "2023-04-15T07:53:53.146Z"
   },
   {
    "duration": 944,
    "start_time": "2023-04-15T07:53:53.454Z"
   },
   {
    "duration": 1009,
    "start_time": "2023-04-15T07:53:54.400Z"
   },
   {
    "duration": 932,
    "start_time": "2023-04-15T07:53:55.411Z"
   },
   {
    "duration": 1013,
    "start_time": "2023-04-15T07:53:56.346Z"
   },
   {
    "duration": 5,
    "start_time": "2023-04-15T07:53:57.361Z"
   },
   {
    "duration": 1488,
    "start_time": "2023-04-15T07:54:57.009Z"
   },
   {
    "duration": 11,
    "start_time": "2023-04-15T07:54:58.502Z"
   },
   {
    "duration": 4,
    "start_time": "2023-04-15T07:54:58.518Z"
   },
   {
    "duration": 58,
    "start_time": "2023-04-15T07:54:58.524Z"
   },
   {
    "duration": 13,
    "start_time": "2023-04-15T07:54:58.596Z"
   },
   {
    "duration": 215,
    "start_time": "2023-04-15T07:54:58.610Z"
   },
   {
    "duration": 112,
    "start_time": "2023-04-15T07:54:58.826Z"
   },
   {
    "duration": 197,
    "start_time": "2023-04-15T07:54:58.939Z"
   },
   {
    "duration": 113,
    "start_time": "2023-04-15T07:54:59.137Z"
   },
   {
    "duration": 95,
    "start_time": "2023-04-15T07:54:59.252Z"
   },
   {
    "duration": 11,
    "start_time": "2023-04-15T07:54:59.349Z"
   },
   {
    "duration": 633,
    "start_time": "2023-04-15T07:54:59.376Z"
   },
   {
    "duration": 20,
    "start_time": "2023-04-15T07:55:00.013Z"
   },
   {
    "duration": 592,
    "start_time": "2023-04-15T07:55:00.036Z"
   },
   {
    "duration": 35,
    "start_time": "2023-04-15T07:55:00.630Z"
   },
   {
    "duration": 343,
    "start_time": "2023-04-15T07:55:00.667Z"
   },
   {
    "duration": 219,
    "start_time": "2023-04-15T07:55:01.013Z"
   },
   {
    "duration": 57,
    "start_time": "2023-04-15T07:55:01.234Z"
   },
   {
    "duration": 125,
    "start_time": "2023-04-15T07:55:01.293Z"
   },
   {
    "duration": 32,
    "start_time": "2023-04-15T07:55:01.419Z"
   },
   {
    "duration": 121,
    "start_time": "2023-04-15T07:55:01.453Z"
   },
   {
    "duration": 659,
    "start_time": "2023-04-15T07:55:01.577Z"
   },
   {
    "duration": 283,
    "start_time": "2023-04-15T07:55:02.238Z"
   },
   {
    "duration": 1068,
    "start_time": "2023-04-15T07:55:02.523Z"
   },
   {
    "duration": 1026,
    "start_time": "2023-04-15T07:55:03.593Z"
   },
   {
    "duration": 1000,
    "start_time": "2023-04-15T07:55:04.621Z"
   },
   {
    "duration": 1055,
    "start_time": "2023-04-15T07:55:05.623Z"
   },
   {
    "duration": 7,
    "start_time": "2023-04-15T07:55:06.683Z"
   },
   {
    "duration": 1465,
    "start_time": "2023-04-15T11:53:12.041Z"
   },
   {
    "duration": 4,
    "start_time": "2023-04-15T11:53:13.508Z"
   },
   {
    "duration": 7,
    "start_time": "2023-04-15T11:53:13.513Z"
   },
   {
    "duration": 7,
    "start_time": "2023-04-15T11:53:13.522Z"
   },
   {
    "duration": 15,
    "start_time": "2023-04-15T11:53:13.531Z"
   },
   {
    "duration": 672,
    "start_time": "2023-04-15T11:53:13.547Z"
   },
   {
    "duration": 92,
    "start_time": "2023-04-15T11:53:14.221Z"
   },
   {
    "duration": 175,
    "start_time": "2023-04-15T11:53:14.315Z"
   },
   {
    "duration": 78,
    "start_time": "2023-04-15T11:53:14.492Z"
   },
   {
    "duration": 56,
    "start_time": "2023-04-15T11:53:14.588Z"
   },
   {
    "duration": 5,
    "start_time": "2023-04-15T11:53:14.645Z"
   },
   {
    "duration": 542,
    "start_time": "2023-04-15T11:53:14.652Z"
   },
   {
    "duration": 20,
    "start_time": "2023-04-15T11:53:15.196Z"
   },
   {
    "duration": 523,
    "start_time": "2023-04-15T11:53:15.217Z"
   },
   {
    "duration": 12,
    "start_time": "2023-04-15T11:53:15.741Z"
   },
   {
    "duration": 162,
    "start_time": "2023-04-15T11:53:15.755Z"
   },
   {
    "duration": 177,
    "start_time": "2023-04-15T11:53:15.919Z"
   },
   {
    "duration": 44,
    "start_time": "2023-04-15T11:53:16.098Z"
   },
   {
    "duration": 98,
    "start_time": "2023-04-15T11:53:16.144Z"
   },
   {
    "duration": 31,
    "start_time": "2023-04-15T11:53:16.244Z"
   },
   {
    "duration": 72,
    "start_time": "2023-04-15T11:53:16.288Z"
   },
   {
    "duration": 414,
    "start_time": "2023-04-15T11:53:16.362Z"
   },
   {
    "duration": 203,
    "start_time": "2023-04-15T11:53:16.777Z"
   },
   {
    "duration": 473,
    "start_time": "2023-04-15T11:53:16.989Z"
   },
   {
    "duration": 469,
    "start_time": "2023-04-15T11:53:17.464Z"
   },
   {
    "duration": 450,
    "start_time": "2023-04-15T11:53:17.935Z"
   },
   {
    "duration": 438,
    "start_time": "2023-04-15T11:53:18.387Z"
   },
   {
    "duration": 4,
    "start_time": "2023-04-15T11:53:18.829Z"
   },
   {
    "duration": 103,
    "start_time": "2023-04-15T11:57:12.657Z"
   },
   {
    "duration": 1373,
    "start_time": "2023-04-15T17:35:16.032Z"
   },
   {
    "duration": 3,
    "start_time": "2023-04-15T17:35:17.407Z"
   },
   {
    "duration": 6,
    "start_time": "2023-04-15T17:35:17.412Z"
   },
   {
    "duration": 6,
    "start_time": "2023-04-15T17:35:17.420Z"
   },
   {
    "duration": 8,
    "start_time": "2023-04-15T17:35:17.428Z"
   },
   {
    "duration": 678,
    "start_time": "2023-04-15T17:35:17.438Z"
   },
   {
    "duration": 96,
    "start_time": "2023-04-15T17:35:18.118Z"
   },
   {
    "duration": 179,
    "start_time": "2023-04-15T17:35:18.215Z"
   },
   {
    "duration": 102,
    "start_time": "2023-04-15T17:35:18.395Z"
   },
   {
    "duration": 55,
    "start_time": "2023-04-15T17:35:18.499Z"
   },
   {
    "duration": 4,
    "start_time": "2023-04-15T17:35:18.556Z"
   },
   {
    "duration": 517,
    "start_time": "2023-04-15T17:35:18.562Z"
   },
   {
    "duration": 19,
    "start_time": "2023-04-15T17:35:19.081Z"
   },
   {
    "duration": 496,
    "start_time": "2023-04-15T17:35:19.103Z"
   },
   {
    "duration": 13,
    "start_time": "2023-04-15T17:35:19.600Z"
   },
   {
    "duration": 145,
    "start_time": "2023-04-15T17:35:19.615Z"
   },
   {
    "duration": 170,
    "start_time": "2023-04-15T17:35:19.762Z"
   },
   {
    "duration": 54,
    "start_time": "2023-04-15T17:35:19.934Z"
   },
   {
    "duration": 95,
    "start_time": "2023-04-15T17:35:19.990Z"
   },
   {
    "duration": 30,
    "start_time": "2023-04-15T17:35:20.087Z"
   },
   {
    "duration": 85,
    "start_time": "2023-04-15T17:35:20.119Z"
   },
   {
    "duration": 397,
    "start_time": "2023-04-15T17:35:20.206Z"
   },
   {
    "duration": 245,
    "start_time": "2023-04-15T17:35:20.605Z"
   },
   {
    "duration": 484,
    "start_time": "2023-04-15T17:35:20.851Z"
   },
   {
    "duration": 457,
    "start_time": "2023-04-15T17:35:21.337Z"
   },
   {
    "duration": 452,
    "start_time": "2023-04-15T17:35:21.796Z"
   },
   {
    "duration": 448,
    "start_time": "2023-04-15T17:35:22.249Z"
   },
   {
    "duration": 3,
    "start_time": "2023-04-15T17:35:22.699Z"
   },
   {
    "duration": 1299,
    "start_time": "2023-04-15T17:39:31.619Z"
   },
   {
    "duration": 5,
    "start_time": "2023-04-15T17:39:32.920Z"
   },
   {
    "duration": 11,
    "start_time": "2023-04-15T17:39:32.927Z"
   },
   {
    "duration": 6,
    "start_time": "2023-04-15T17:39:32.940Z"
   },
   {
    "duration": 9,
    "start_time": "2023-04-15T17:39:32.949Z"
   },
   {
    "duration": 184,
    "start_time": "2023-04-15T17:39:32.960Z"
   },
   {
    "duration": 107,
    "start_time": "2023-04-15T17:39:33.146Z"
   },
   {
    "duration": 1349,
    "start_time": "2023-04-15T17:39:33.254Z"
   },
   {
    "duration": 0,
    "start_time": "2023-04-15T17:39:34.605Z"
   },
   {
    "duration": 0,
    "start_time": "2023-04-15T17:39:34.607Z"
   },
   {
    "duration": 0,
    "start_time": "2023-04-15T17:39:34.608Z"
   },
   {
    "duration": 0,
    "start_time": "2023-04-15T17:39:34.609Z"
   },
   {
    "duration": 0,
    "start_time": "2023-04-15T17:39:34.610Z"
   },
   {
    "duration": 0,
    "start_time": "2023-04-15T17:39:34.611Z"
   },
   {
    "duration": 0,
    "start_time": "2023-04-15T17:39:34.612Z"
   },
   {
    "duration": 0,
    "start_time": "2023-04-15T17:39:34.613Z"
   },
   {
    "duration": 0,
    "start_time": "2023-04-15T17:39:34.614Z"
   },
   {
    "duration": 0,
    "start_time": "2023-04-15T17:39:34.615Z"
   },
   {
    "duration": 0,
    "start_time": "2023-04-15T17:39:34.616Z"
   },
   {
    "duration": 0,
    "start_time": "2023-04-15T17:39:34.618Z"
   },
   {
    "duration": 1,
    "start_time": "2023-04-15T17:39:34.618Z"
   },
   {
    "duration": 0,
    "start_time": "2023-04-15T17:39:34.619Z"
   },
   {
    "duration": 1,
    "start_time": "2023-04-15T17:39:34.620Z"
   },
   {
    "duration": 0,
    "start_time": "2023-04-15T17:39:34.622Z"
   },
   {
    "duration": 0,
    "start_time": "2023-04-15T17:39:34.622Z"
   },
   {
    "duration": 1,
    "start_time": "2023-04-15T17:39:34.623Z"
   },
   {
    "duration": 0,
    "start_time": "2023-04-15T17:39:34.625Z"
   },
   {
    "duration": 0,
    "start_time": "2023-04-15T17:39:34.628Z"
   },
   {
    "duration": 178,
    "start_time": "2023-04-15T17:40:39.647Z"
   },
   {
    "duration": 1318,
    "start_time": "2023-04-15T17:41:38.874Z"
   },
   {
    "duration": 4,
    "start_time": "2023-04-15T17:41:40.193Z"
   },
   {
    "duration": 5,
    "start_time": "2023-04-15T17:41:40.198Z"
   },
   {
    "duration": 6,
    "start_time": "2023-04-15T17:41:40.205Z"
   },
   {
    "duration": 9,
    "start_time": "2023-04-15T17:41:40.213Z"
   },
   {
    "duration": 180,
    "start_time": "2023-04-15T17:41:40.223Z"
   },
   {
    "duration": 116,
    "start_time": "2023-04-15T17:41:40.405Z"
   },
   {
    "duration": 188,
    "start_time": "2023-04-15T17:41:40.522Z"
   },
   {
    "duration": 100,
    "start_time": "2023-04-15T17:41:40.712Z"
   },
   {
    "duration": 56,
    "start_time": "2023-04-15T17:41:40.814Z"
   },
   {
    "duration": 16,
    "start_time": "2023-04-15T17:41:40.872Z"
   },
   {
    "duration": 518,
    "start_time": "2023-04-15T17:41:40.890Z"
   },
   {
    "duration": 23,
    "start_time": "2023-04-15T17:41:41.410Z"
   },
   {
    "duration": 458,
    "start_time": "2023-04-15T17:41:41.434Z"
   },
   {
    "duration": 13,
    "start_time": "2023-04-15T17:41:41.894Z"
   },
   {
    "duration": 237,
    "start_time": "2023-04-15T17:41:41.908Z"
   },
   {
    "duration": 176,
    "start_time": "2023-04-15T17:41:42.147Z"
   },
   {
    "duration": 43,
    "start_time": "2023-04-15T17:41:42.325Z"
   },
   {
    "duration": 101,
    "start_time": "2023-04-15T17:41:42.386Z"
   },
   {
    "duration": 30,
    "start_time": "2023-04-15T17:41:42.489Z"
   },
   {
    "duration": 93,
    "start_time": "2023-04-15T17:41:42.521Z"
   },
   {
    "duration": 399,
    "start_time": "2023-04-15T17:41:42.616Z"
   },
   {
    "duration": 211,
    "start_time": "2023-04-15T17:41:43.016Z"
   },
   {
    "duration": 430,
    "start_time": "2023-04-15T17:41:43.229Z"
   },
   {
    "duration": 427,
    "start_time": "2023-04-15T17:41:43.661Z"
   },
   {
    "duration": 490,
    "start_time": "2023-04-15T17:41:44.091Z"
   },
   {
    "duration": 483,
    "start_time": "2023-04-15T17:41:44.583Z"
   },
   {
    "duration": 4,
    "start_time": "2023-04-15T17:41:45.069Z"
   },
   {
    "duration": 47,
    "start_time": "2023-04-15T17:44:20.972Z"
   },
   {
    "duration": 182,
    "start_time": "2023-04-15T17:44:49.868Z"
   },
   {
    "duration": 15,
    "start_time": "2023-04-15T17:45:36.422Z"
   },
   {
    "duration": 123,
    "start_time": "2023-04-15T17:45:49.442Z"
   },
   {
    "duration": 81,
    "start_time": "2023-04-15T17:45:59.210Z"
   },
   {
    "duration": 145,
    "start_time": "2023-04-15T17:46:02.632Z"
   },
   {
    "duration": 80,
    "start_time": "2023-04-15T17:50:41.456Z"
   },
   {
    "duration": 19,
    "start_time": "2023-04-15T17:51:02.680Z"
   },
   {
    "duration": 16,
    "start_time": "2023-04-15T17:58:25.815Z"
   },
   {
    "duration": 1227,
    "start_time": "2023-04-15T17:58:33.438Z"
   },
   {
    "duration": 1312,
    "start_time": "2023-04-15T17:59:26.416Z"
   },
   {
    "duration": 4,
    "start_time": "2023-04-15T17:59:27.730Z"
   },
   {
    "duration": 10,
    "start_time": "2023-04-15T17:59:27.735Z"
   },
   {
    "duration": 11,
    "start_time": "2023-04-15T17:59:27.747Z"
   },
   {
    "duration": 9,
    "start_time": "2023-04-15T17:59:27.761Z"
   },
   {
    "duration": 202,
    "start_time": "2023-04-15T17:59:27.771Z"
   },
   {
    "duration": 100,
    "start_time": "2023-04-15T17:59:27.975Z"
   },
   {
    "duration": 196,
    "start_time": "2023-04-15T17:59:28.076Z"
   },
   {
    "duration": 415,
    "start_time": "2023-04-15T17:59:28.275Z"
   },
   {
    "duration": 0,
    "start_time": "2023-04-15T17:59:28.692Z"
   },
   {
    "duration": 0,
    "start_time": "2023-04-15T17:59:28.693Z"
   },
   {
    "duration": 0,
    "start_time": "2023-04-15T17:59:28.694Z"
   },
   {
    "duration": 0,
    "start_time": "2023-04-15T17:59:28.695Z"
   },
   {
    "duration": 0,
    "start_time": "2023-04-15T17:59:28.697Z"
   },
   {
    "duration": 0,
    "start_time": "2023-04-15T17:59:28.698Z"
   },
   {
    "duration": 0,
    "start_time": "2023-04-15T17:59:28.699Z"
   },
   {
    "duration": 0,
    "start_time": "2023-04-15T17:59:28.700Z"
   },
   {
    "duration": 0,
    "start_time": "2023-04-15T17:59:28.701Z"
   },
   {
    "duration": 0,
    "start_time": "2023-04-15T17:59:28.702Z"
   },
   {
    "duration": 0,
    "start_time": "2023-04-15T17:59:28.703Z"
   },
   {
    "duration": 0,
    "start_time": "2023-04-15T17:59:28.704Z"
   },
   {
    "duration": 0,
    "start_time": "2023-04-15T17:59:28.705Z"
   },
   {
    "duration": 0,
    "start_time": "2023-04-15T17:59:28.706Z"
   },
   {
    "duration": 0,
    "start_time": "2023-04-15T17:59:28.707Z"
   },
   {
    "duration": 0,
    "start_time": "2023-04-15T17:59:28.708Z"
   },
   {
    "duration": 0,
    "start_time": "2023-04-15T17:59:28.709Z"
   },
   {
    "duration": 0,
    "start_time": "2023-04-15T17:59:28.710Z"
   },
   {
    "duration": 0,
    "start_time": "2023-04-15T17:59:28.711Z"
   },
   {
    "duration": 158,
    "start_time": "2023-04-15T18:04:45.871Z"
   },
   {
    "duration": 379,
    "start_time": "2023-04-15T18:07:32.336Z"
   },
   {
    "duration": 17,
    "start_time": "2023-04-15T18:11:31.926Z"
   },
   {
    "duration": 258,
    "start_time": "2023-04-15T18:16:24.489Z"
   },
   {
    "duration": 1326,
    "start_time": "2023-04-15T18:16:35.991Z"
   },
   {
    "duration": 3,
    "start_time": "2023-04-15T18:16:37.320Z"
   },
   {
    "duration": 14,
    "start_time": "2023-04-15T18:16:37.324Z"
   },
   {
    "duration": 27,
    "start_time": "2023-04-15T18:16:37.340Z"
   },
   {
    "duration": 8,
    "start_time": "2023-04-15T18:16:37.745Z"
   },
   {
    "duration": 196,
    "start_time": "2023-04-15T18:16:38.208Z"
   },
   {
    "duration": 118,
    "start_time": "2023-04-15T18:16:38.406Z"
   },
   {
    "duration": 199,
    "start_time": "2023-04-15T18:16:41.193Z"
   },
   {
    "duration": 26,
    "start_time": "2023-04-15T18:16:46.360Z"
   },
   {
    "duration": 38,
    "start_time": "2023-04-15T18:18:32.368Z"
   },
   {
    "duration": 332,
    "start_time": "2023-04-15T18:18:49.806Z"
   },
   {
    "duration": 456,
    "start_time": "2023-04-15T18:18:58.598Z"
   },
   {
    "duration": 337,
    "start_time": "2023-04-15T18:19:01.667Z"
   },
   {
    "duration": 350,
    "start_time": "2023-04-15T18:20:42.946Z"
   },
   {
    "duration": 1326,
    "start_time": "2023-04-15T18:22:26.969Z"
   },
   {
    "duration": 4,
    "start_time": "2023-04-15T18:22:28.297Z"
   },
   {
    "duration": 9,
    "start_time": "2023-04-15T18:22:28.302Z"
   },
   {
    "duration": 4,
    "start_time": "2023-04-15T18:22:28.314Z"
   },
   {
    "duration": 9,
    "start_time": "2023-04-15T18:22:28.319Z"
   },
   {
    "duration": 184,
    "start_time": "2023-04-15T18:22:28.330Z"
   },
   {
    "duration": 108,
    "start_time": "2023-04-15T18:22:28.516Z"
   },
   {
    "duration": 187,
    "start_time": "2023-04-15T18:22:28.626Z"
   },
   {
    "duration": 36,
    "start_time": "2023-04-15T18:22:28.815Z"
   },
   {
    "duration": 79,
    "start_time": "2023-04-15T18:22:28.854Z"
   },
   {
    "duration": 8,
    "start_time": "2023-04-15T18:22:28.935Z"
   },
   {
    "duration": 511,
    "start_time": "2023-04-15T18:22:28.945Z"
   },
   {
    "duration": 15,
    "start_time": "2023-04-15T18:22:29.458Z"
   },
   {
    "duration": 463,
    "start_time": "2023-04-15T18:22:29.474Z"
   },
   {
    "duration": 12,
    "start_time": "2023-04-15T18:22:29.939Z"
   },
   {
    "duration": 245,
    "start_time": "2023-04-15T18:22:29.953Z"
   },
   {
    "duration": 166,
    "start_time": "2023-04-15T18:22:30.200Z"
   },
   {
    "duration": 49,
    "start_time": "2023-04-15T18:22:30.368Z"
   },
   {
    "duration": 107,
    "start_time": "2023-04-15T18:22:30.419Z"
   },
   {
    "duration": 29,
    "start_time": "2023-04-15T18:22:30.528Z"
   },
   {
    "duration": 79,
    "start_time": "2023-04-15T18:22:30.560Z"
   },
   {
    "duration": 383,
    "start_time": "2023-04-15T18:22:30.641Z"
   },
   {
    "duration": 197,
    "start_time": "2023-04-15T18:22:31.026Z"
   },
   {
    "duration": 509,
    "start_time": "2023-04-15T18:22:31.224Z"
   },
   {
    "duration": 442,
    "start_time": "2023-04-15T18:22:31.735Z"
   },
   {
    "duration": 519,
    "start_time": "2023-04-15T18:22:32.178Z"
   },
   {
    "duration": 494,
    "start_time": "2023-04-15T18:22:32.699Z"
   },
   {
    "duration": 4,
    "start_time": "2023-04-15T18:22:33.197Z"
   },
   {
    "duration": 53,
    "start_time": "2023-04-15T18:23:23.991Z"
   },
   {
    "duration": 1209,
    "start_time": "2023-04-15T18:23:39.212Z"
   },
   {
    "duration": 4,
    "start_time": "2023-04-15T18:23:40.424Z"
   },
   {
    "duration": 10,
    "start_time": "2023-04-15T18:23:40.430Z"
   },
   {
    "duration": 8,
    "start_time": "2023-04-15T18:23:40.442Z"
   },
   {
    "duration": 10,
    "start_time": "2023-04-15T18:23:40.453Z"
   },
   {
    "duration": 178,
    "start_time": "2023-04-15T18:23:40.465Z"
   },
   {
    "duration": 101,
    "start_time": "2023-04-15T18:23:40.645Z"
   },
   {
    "duration": 178,
    "start_time": "2023-04-15T18:23:40.748Z"
   },
   {
    "duration": 25,
    "start_time": "2023-04-15T18:23:40.928Z"
   },
   {
    "duration": 69,
    "start_time": "2023-04-15T18:23:40.954Z"
   },
   {
    "duration": 5,
    "start_time": "2023-04-15T18:23:41.025Z"
   },
   {
    "duration": 514,
    "start_time": "2023-04-15T18:23:41.031Z"
   },
   {
    "duration": 19,
    "start_time": "2023-04-15T18:23:41.546Z"
   },
   {
    "duration": 434,
    "start_time": "2023-04-15T18:23:41.568Z"
   },
   {
    "duration": 12,
    "start_time": "2023-04-15T18:23:42.004Z"
   },
   {
    "duration": 234,
    "start_time": "2023-04-15T18:23:42.017Z"
   },
   {
    "duration": 165,
    "start_time": "2023-04-15T18:23:42.252Z"
   },
   {
    "duration": 66,
    "start_time": "2023-04-15T18:23:42.419Z"
   },
   {
    "duration": 98,
    "start_time": "2023-04-15T18:23:42.487Z"
   },
   {
    "duration": 31,
    "start_time": "2023-04-15T18:23:42.588Z"
   },
   {
    "duration": 80,
    "start_time": "2023-04-15T18:23:42.621Z"
   },
   {
    "duration": 376,
    "start_time": "2023-04-15T18:23:42.703Z"
   },
   {
    "duration": 204,
    "start_time": "2023-04-15T18:23:43.081Z"
   },
   {
    "duration": 462,
    "start_time": "2023-04-15T18:23:43.287Z"
   },
   {
    "duration": 447,
    "start_time": "2023-04-15T18:23:43.751Z"
   },
   {
    "duration": 444,
    "start_time": "2023-04-15T18:23:44.199Z"
   },
   {
    "duration": 486,
    "start_time": "2023-04-15T18:23:44.644Z"
   },
   {
    "duration": 4,
    "start_time": "2023-04-15T18:23:45.132Z"
   },
   {
    "duration": 265,
    "start_time": "2023-04-15T19:31:08.153Z"
   },
   {
    "duration": 6,
    "start_time": "2023-04-15T19:31:14.913Z"
   },
   {
    "duration": 1264,
    "start_time": "2023-04-15T19:36:25.835Z"
   },
   {
    "duration": 4,
    "start_time": "2023-04-15T19:36:27.101Z"
   },
   {
    "duration": 8,
    "start_time": "2023-04-15T19:36:27.106Z"
   },
   {
    "duration": 8,
    "start_time": "2023-04-15T19:36:27.116Z"
   },
   {
    "duration": 9,
    "start_time": "2023-04-15T19:36:27.127Z"
   },
   {
    "duration": 189,
    "start_time": "2023-04-15T19:36:27.138Z"
   },
   {
    "duration": 121,
    "start_time": "2023-04-15T19:36:27.329Z"
   },
   {
    "duration": 197,
    "start_time": "2023-04-15T19:36:27.452Z"
   },
   {
    "duration": 37,
    "start_time": "2023-04-15T19:36:27.651Z"
   },
   {
    "duration": 69,
    "start_time": "2023-04-15T19:36:27.690Z"
   },
   {
    "duration": 6,
    "start_time": "2023-04-15T19:36:27.761Z"
   },
   {
    "duration": 566,
    "start_time": "2023-04-15T19:36:27.784Z"
   },
   {
    "duration": 17,
    "start_time": "2023-04-15T19:36:28.352Z"
   },
   {
    "duration": 7,
    "start_time": "2023-04-15T19:36:28.384Z"
   },
   {
    "duration": 11,
    "start_time": "2023-04-15T19:37:36.476Z"
   },
   {
    "duration": 11,
    "start_time": "2023-04-15T19:38:53.826Z"
   },
   {
    "duration": 10,
    "start_time": "2023-04-15T19:39:05.147Z"
   },
   {
    "duration": 11,
    "start_time": "2023-04-15T19:39:32.843Z"
   },
   {
    "duration": 26,
    "start_time": "2023-04-15T19:44:53.150Z"
   },
   {
    "duration": 21,
    "start_time": "2023-04-15T19:45:16.315Z"
   },
   {
    "duration": 30,
    "start_time": "2023-04-15T19:46:15.158Z"
   },
   {
    "duration": 1311,
    "start_time": "2023-04-15T19:48:38.271Z"
   },
   {
    "duration": 6,
    "start_time": "2023-04-15T19:48:39.586Z"
   },
   {
    "duration": 18,
    "start_time": "2023-04-15T19:48:39.594Z"
   },
   {
    "duration": 9,
    "start_time": "2023-04-15T19:48:39.615Z"
   },
   {
    "duration": 11,
    "start_time": "2023-04-15T19:48:39.627Z"
   },
   {
    "duration": 255,
    "start_time": "2023-04-15T19:48:39.641Z"
   },
   {
    "duration": 111,
    "start_time": "2023-04-15T19:48:39.897Z"
   },
   {
    "duration": 182,
    "start_time": "2023-04-15T19:48:40.009Z"
   },
   {
    "duration": 25,
    "start_time": "2023-04-15T19:48:40.192Z"
   },
   {
    "duration": 73,
    "start_time": "2023-04-15T19:48:40.218Z"
   },
   {
    "duration": 5,
    "start_time": "2023-04-15T19:48:40.293Z"
   },
   {
    "duration": 550,
    "start_time": "2023-04-15T19:48:40.300Z"
   },
   {
    "duration": 17,
    "start_time": "2023-04-15T19:48:40.851Z"
   },
   {
    "duration": 35,
    "start_time": "2023-04-15T19:48:40.871Z"
   },
   {
    "duration": 447,
    "start_time": "2023-04-15T19:48:40.908Z"
   },
   {
    "duration": 13,
    "start_time": "2023-04-15T19:48:41.356Z"
   },
   {
    "duration": 240,
    "start_time": "2023-04-15T19:48:41.370Z"
   },
   {
    "duration": 174,
    "start_time": "2023-04-15T19:48:41.611Z"
   },
   {
    "duration": 46,
    "start_time": "2023-04-15T19:48:41.787Z"
   },
   {
    "duration": 99,
    "start_time": "2023-04-15T19:48:41.835Z"
   },
   {
    "duration": 29,
    "start_time": "2023-04-15T19:48:41.936Z"
   },
   {
    "duration": 79,
    "start_time": "2023-04-15T19:48:41.967Z"
   },
   {
    "duration": 376,
    "start_time": "2023-04-15T19:48:42.048Z"
   },
   {
    "duration": 207,
    "start_time": "2023-04-15T19:48:42.427Z"
   },
   {
    "duration": 466,
    "start_time": "2023-04-15T19:48:42.636Z"
   },
   {
    "duration": 448,
    "start_time": "2023-04-15T19:48:43.104Z"
   },
   {
    "duration": 431,
    "start_time": "2023-04-15T19:48:43.554Z"
   },
   {
    "duration": 429,
    "start_time": "2023-04-15T19:48:43.987Z"
   },
   {
    "duration": 4,
    "start_time": "2023-04-15T19:48:44.420Z"
   },
   {
    "duration": 155,
    "start_time": "2023-04-15T19:56:51.576Z"
   },
   {
    "duration": 5,
    "start_time": "2023-04-15T19:57:23.019Z"
   },
   {
    "duration": 8,
    "start_time": "2023-04-15T19:57:25.775Z"
   },
   {
    "duration": 19,
    "start_time": "2023-04-15T19:57:29.827Z"
   },
   {
    "duration": 74,
    "start_time": "2023-04-15T20:00:22.777Z"
   },
   {
    "duration": 71,
    "start_time": "2023-04-15T20:00:27.921Z"
   },
   {
    "duration": 15,
    "start_time": "2023-04-15T20:00:51.356Z"
   },
   {
    "duration": 1120,
    "start_time": "2023-04-15T20:01:25.127Z"
   },
   {
    "duration": 14,
    "start_time": "2023-04-15T20:01:37.613Z"
   },
   {
    "duration": 14,
    "start_time": "2023-04-15T20:02:48.555Z"
   },
   {
    "duration": 14,
    "start_time": "2023-04-15T20:03:05.157Z"
   },
   {
    "duration": 24,
    "start_time": "2023-04-15T20:05:39.642Z"
   },
   {
    "duration": 27,
    "start_time": "2023-04-15T20:06:08.265Z"
   },
   {
    "duration": 18,
    "start_time": "2023-04-15T20:07:31.944Z"
   },
   {
    "duration": 20,
    "start_time": "2023-04-15T20:07:46.216Z"
   },
   {
    "duration": 14,
    "start_time": "2023-04-15T20:10:17.618Z"
   },
   {
    "duration": 14,
    "start_time": "2023-04-15T20:10:23.983Z"
   },
   {
    "duration": 13,
    "start_time": "2023-04-15T20:10:27.005Z"
   },
   {
    "duration": 16,
    "start_time": "2023-04-15T20:13:08.829Z"
   },
   {
    "duration": 17,
    "start_time": "2023-04-15T20:13:20.442Z"
   },
   {
    "duration": 18,
    "start_time": "2023-04-15T20:14:07.113Z"
   },
   {
    "duration": 24,
    "start_time": "2023-04-15T20:16:47.641Z"
   },
   {
    "duration": 16,
    "start_time": "2023-04-15T20:17:12.337Z"
   },
   {
    "duration": 19,
    "start_time": "2023-04-15T20:17:26.276Z"
   },
   {
    "duration": 21,
    "start_time": "2023-04-15T20:18:29.626Z"
   },
   {
    "duration": 20,
    "start_time": "2023-04-15T20:19:28.672Z"
   },
   {
    "duration": 14,
    "start_time": "2023-04-15T20:19:34.314Z"
   },
   {
    "duration": 18,
    "start_time": "2023-04-15T20:19:51.699Z"
   },
   {
    "duration": 18,
    "start_time": "2023-04-15T20:19:55.110Z"
   },
   {
    "duration": 116,
    "start_time": "2023-04-15T20:20:00.158Z"
   },
   {
    "duration": 20,
    "start_time": "2023-04-15T20:20:07.960Z"
   },
   {
    "duration": 23,
    "start_time": "2023-04-15T20:23:27.772Z"
   },
   {
    "duration": 32,
    "start_time": "2023-04-15T20:23:33.475Z"
   },
   {
    "duration": 22,
    "start_time": "2023-04-15T20:23:38.836Z"
   },
   {
    "duration": 13,
    "start_time": "2023-04-15T20:24:50.642Z"
   },
   {
    "duration": 1277,
    "start_time": "2023-04-15T21:08:47.057Z"
   },
   {
    "duration": 3,
    "start_time": "2023-04-15T21:08:48.336Z"
   },
   {
    "duration": 5,
    "start_time": "2023-04-15T21:08:48.341Z"
   },
   {
    "duration": 8,
    "start_time": "2023-04-15T21:08:48.347Z"
   },
   {
    "duration": 8,
    "start_time": "2023-04-15T21:08:48.356Z"
   },
   {
    "duration": 191,
    "start_time": "2023-04-15T21:08:48.366Z"
   },
   {
    "duration": 133,
    "start_time": "2023-04-15T21:08:48.558Z"
   },
   {
    "duration": 233,
    "start_time": "2023-04-15T21:08:48.693Z"
   },
   {
    "duration": 25,
    "start_time": "2023-04-15T21:08:48.928Z"
   },
   {
    "duration": 80,
    "start_time": "2023-04-15T21:08:48.954Z"
   },
   {
    "duration": 5,
    "start_time": "2023-04-15T21:08:49.036Z"
   },
   {
    "duration": 521,
    "start_time": "2023-04-15T21:08:49.043Z"
   },
   {
    "duration": 21,
    "start_time": "2023-04-15T21:08:49.566Z"
   },
   {
    "duration": 25,
    "start_time": "2023-04-15T21:08:49.590Z"
   },
   {
    "duration": 439,
    "start_time": "2023-04-15T21:08:49.617Z"
   },
   {
    "duration": 12,
    "start_time": "2023-04-15T21:08:50.058Z"
   },
   {
    "duration": 223,
    "start_time": "2023-04-15T21:08:50.085Z"
   },
   {
    "duration": 174,
    "start_time": "2023-04-15T21:08:50.310Z"
   },
   {
    "duration": 47,
    "start_time": "2023-04-15T21:08:50.486Z"
   },
   {
    "duration": 107,
    "start_time": "2023-04-15T21:08:50.535Z"
   },
   {
    "duration": 30,
    "start_time": "2023-04-15T21:08:50.644Z"
   },
   {
    "duration": 65,
    "start_time": "2023-04-15T21:08:50.685Z"
   },
   {
    "duration": 402,
    "start_time": "2023-04-15T21:08:50.752Z"
   },
   {
    "duration": 213,
    "start_time": "2023-04-15T21:08:51.156Z"
   },
   {
    "duration": 17,
    "start_time": "2023-04-15T21:08:51.385Z"
   },
   {
    "duration": 503,
    "start_time": "2023-04-15T21:08:51.404Z"
   },
   {
    "duration": 477,
    "start_time": "2023-04-15T21:08:51.909Z"
   },
   {
    "duration": 458,
    "start_time": "2023-04-15T21:08:52.388Z"
   },
   {
    "duration": 431,
    "start_time": "2023-04-15T21:08:52.848Z"
   },
   {
    "duration": 4,
    "start_time": "2023-04-15T21:08:53.281Z"
   },
   {
    "duration": 440,
    "start_time": "2023-04-15T21:14:26.131Z"
   },
   {
    "duration": 1294,
    "start_time": "2023-04-15T21:14:34.313Z"
   },
   {
    "duration": 3,
    "start_time": "2023-04-15T21:14:35.609Z"
   },
   {
    "duration": 7,
    "start_time": "2023-04-15T21:14:35.614Z"
   },
   {
    "duration": 8,
    "start_time": "2023-04-15T21:14:35.623Z"
   },
   {
    "duration": 8,
    "start_time": "2023-04-15T21:14:35.633Z"
   },
   {
    "duration": 182,
    "start_time": "2023-04-15T21:14:35.643Z"
   },
   {
    "duration": 106,
    "start_time": "2023-04-15T21:14:35.827Z"
   },
   {
    "duration": 193,
    "start_time": "2023-04-15T21:14:35.935Z"
   },
   {
    "duration": 25,
    "start_time": "2023-04-15T21:14:36.130Z"
   },
   {
    "duration": 99,
    "start_time": "2023-04-15T21:14:36.158Z"
   },
   {
    "duration": 5,
    "start_time": "2023-04-15T21:14:36.259Z"
   },
   {
    "duration": 522,
    "start_time": "2023-04-15T21:14:36.266Z"
   },
   {
    "duration": 17,
    "start_time": "2023-04-15T21:14:36.790Z"
   },
   {
    "duration": 23,
    "start_time": "2023-04-15T21:14:36.809Z"
   },
   {
    "duration": 475,
    "start_time": "2023-04-15T21:14:36.833Z"
   },
   {
    "duration": 13,
    "start_time": "2023-04-15T21:14:37.310Z"
   },
   {
    "duration": 243,
    "start_time": "2023-04-15T21:14:37.325Z"
   },
   {
    "duration": 180,
    "start_time": "2023-04-15T21:14:37.569Z"
   },
   {
    "duration": 54,
    "start_time": "2023-04-15T21:14:37.750Z"
   },
   {
    "duration": 95,
    "start_time": "2023-04-15T21:14:37.806Z"
   },
   {
    "duration": 30,
    "start_time": "2023-04-15T21:14:37.903Z"
   },
   {
    "duration": 85,
    "start_time": "2023-04-15T21:14:37.934Z"
   },
   {
    "duration": 403,
    "start_time": "2023-04-15T21:14:38.021Z"
   },
   {
    "duration": 234,
    "start_time": "2023-04-15T21:14:38.426Z"
   },
   {
    "duration": 28,
    "start_time": "2023-04-15T21:14:38.661Z"
   },
   {
    "duration": 475,
    "start_time": "2023-04-15T21:14:38.691Z"
   },
   {
    "duration": 497,
    "start_time": "2023-04-15T21:14:39.168Z"
   },
   {
    "duration": 482,
    "start_time": "2023-04-15T21:14:39.669Z"
   },
   {
    "duration": 468,
    "start_time": "2023-04-15T21:14:40.153Z"
   },
   {
    "duration": 4,
    "start_time": "2023-04-15T21:14:40.622Z"
   },
   {
    "duration": 1266,
    "start_time": "2023-04-15T22:03:52.340Z"
   },
   {
    "duration": 3,
    "start_time": "2023-04-15T22:03:53.608Z"
   },
   {
    "duration": 11,
    "start_time": "2023-04-15T22:03:53.613Z"
   },
   {
    "duration": 5,
    "start_time": "2023-04-15T22:03:53.626Z"
   },
   {
    "duration": 8,
    "start_time": "2023-04-15T22:03:53.633Z"
   },
   {
    "duration": 199,
    "start_time": "2023-04-15T22:03:53.643Z"
   },
   {
    "duration": 105,
    "start_time": "2023-04-15T22:03:53.844Z"
   },
   {
    "duration": 198,
    "start_time": "2023-04-15T22:03:53.951Z"
   },
   {
    "duration": 43,
    "start_time": "2023-04-15T22:03:54.151Z"
   },
   {
    "duration": 59,
    "start_time": "2023-04-15T22:03:54.196Z"
   },
   {
    "duration": 6,
    "start_time": "2023-04-15T22:03:54.256Z"
   },
   {
    "duration": 539,
    "start_time": "2023-04-15T22:03:54.263Z"
   },
   {
    "duration": 18,
    "start_time": "2023-04-15T22:03:54.804Z"
   },
   {
    "duration": 29,
    "start_time": "2023-04-15T22:03:54.826Z"
   },
   {
    "duration": 481,
    "start_time": "2023-04-15T22:03:54.857Z"
   },
   {
    "duration": 13,
    "start_time": "2023-04-15T22:03:55.340Z"
   },
   {
    "duration": 249,
    "start_time": "2023-04-15T22:03:55.355Z"
   },
   {
    "duration": 179,
    "start_time": "2023-04-15T22:03:55.606Z"
   },
   {
    "duration": 46,
    "start_time": "2023-04-15T22:03:55.788Z"
   },
   {
    "duration": 102,
    "start_time": "2023-04-15T22:03:55.836Z"
   },
   {
    "duration": 30,
    "start_time": "2023-04-15T22:03:55.939Z"
   },
   {
    "duration": 68,
    "start_time": "2023-04-15T22:03:55.988Z"
   },
   {
    "duration": 503,
    "start_time": "2023-04-15T22:03:56.058Z"
   },
   {
    "duration": 274,
    "start_time": "2023-04-15T22:03:56.563Z"
   },
   {
    "duration": 18,
    "start_time": "2023-04-15T22:03:56.839Z"
   },
   {
    "duration": 485,
    "start_time": "2023-04-15T22:03:56.858Z"
   },
   {
    "duration": 460,
    "start_time": "2023-04-15T22:03:57.345Z"
   },
   {
    "duration": 483,
    "start_time": "2023-04-15T22:03:57.807Z"
   },
   {
    "duration": 502,
    "start_time": "2023-04-15T22:03:58.292Z"
   },
   {
    "duration": 5,
    "start_time": "2023-04-15T22:03:58.796Z"
   },
   {
    "duration": 1286,
    "start_time": "2023-04-15T22:14:14.437Z"
   },
   {
    "duration": 4,
    "start_time": "2023-04-15T22:14:15.725Z"
   },
   {
    "duration": 11,
    "start_time": "2023-04-15T22:14:15.731Z"
   },
   {
    "duration": 12,
    "start_time": "2023-04-15T22:14:15.744Z"
   },
   {
    "duration": 12,
    "start_time": "2023-04-15T22:14:15.759Z"
   },
   {
    "duration": 185,
    "start_time": "2023-04-15T22:14:15.773Z"
   },
   {
    "duration": 110,
    "start_time": "2023-04-15T22:14:15.960Z"
   },
   {
    "duration": 194,
    "start_time": "2023-04-15T22:14:16.071Z"
   },
   {
    "duration": 35,
    "start_time": "2023-04-15T22:14:16.267Z"
   },
   {
    "duration": 66,
    "start_time": "2023-04-15T22:14:16.304Z"
   },
   {
    "duration": 15,
    "start_time": "2023-04-15T22:14:16.372Z"
   },
   {
    "duration": 552,
    "start_time": "2023-04-15T22:14:16.389Z"
   },
   {
    "duration": 18,
    "start_time": "2023-04-15T22:14:16.943Z"
   },
   {
    "duration": 42,
    "start_time": "2023-04-15T22:14:16.964Z"
   },
   {
    "duration": 457,
    "start_time": "2023-04-15T22:14:17.009Z"
   },
   {
    "duration": 22,
    "start_time": "2023-04-15T22:14:17.468Z"
   },
   {
    "duration": 395,
    "start_time": "2023-04-15T22:14:17.492Z"
   },
   {
    "duration": 179,
    "start_time": "2023-04-15T22:14:17.890Z"
   },
   {
    "duration": 50,
    "start_time": "2023-04-15T22:14:18.071Z"
   },
   {
    "duration": 101,
    "start_time": "2023-04-15T22:14:18.123Z"
   },
   {
    "duration": 29,
    "start_time": "2023-04-15T22:14:18.226Z"
   },
   {
    "duration": 86,
    "start_time": "2023-04-15T22:14:18.257Z"
   },
   {
    "duration": 491,
    "start_time": "2023-04-15T22:14:18.345Z"
   },
   {
    "duration": 220,
    "start_time": "2023-04-15T22:14:18.838Z"
   },
   {
    "duration": 36,
    "start_time": "2023-04-15T22:14:19.060Z"
   },
   {
    "duration": 526,
    "start_time": "2023-04-15T22:14:19.098Z"
   },
   {
    "duration": 542,
    "start_time": "2023-04-15T22:14:19.626Z"
   },
   {
    "duration": 516,
    "start_time": "2023-04-15T22:14:20.170Z"
   },
   {
    "duration": 698,
    "start_time": "2023-04-15T22:14:20.689Z"
   },
   {
    "duration": 5,
    "start_time": "2023-04-15T22:14:21.388Z"
   },
   {
    "duration": 1278,
    "start_time": "2023-04-15T22:14:32.846Z"
   },
   {
    "duration": 4,
    "start_time": "2023-04-15T22:14:34.126Z"
   },
   {
    "duration": 11,
    "start_time": "2023-04-15T22:14:34.132Z"
   },
   {
    "duration": 14,
    "start_time": "2023-04-15T22:14:34.145Z"
   },
   {
    "duration": 9,
    "start_time": "2023-04-15T22:14:34.161Z"
   },
   {
    "duration": 184,
    "start_time": "2023-04-15T22:14:34.172Z"
   },
   {
    "duration": 108,
    "start_time": "2023-04-15T22:14:34.357Z"
   },
   {
    "duration": 196,
    "start_time": "2023-04-15T22:14:34.466Z"
   },
   {
    "duration": 35,
    "start_time": "2023-04-15T22:14:34.663Z"
   },
   {
    "duration": 62,
    "start_time": "2023-04-15T22:14:34.701Z"
   },
   {
    "duration": 6,
    "start_time": "2023-04-15T22:14:34.764Z"
   },
   {
    "duration": 525,
    "start_time": "2023-04-15T22:14:34.788Z"
   },
   {
    "duration": 18,
    "start_time": "2023-04-15T22:14:35.316Z"
   },
   {
    "duration": 26,
    "start_time": "2023-04-15T22:14:35.335Z"
   },
   {
    "duration": 469,
    "start_time": "2023-04-15T22:14:35.363Z"
   },
   {
    "duration": 13,
    "start_time": "2023-04-15T22:14:35.834Z"
   },
   {
    "duration": 273,
    "start_time": "2023-04-15T22:14:35.849Z"
   },
   {
    "duration": 169,
    "start_time": "2023-04-15T22:14:36.123Z"
   },
   {
    "duration": 44,
    "start_time": "2023-04-15T22:14:36.294Z"
   },
   {
    "duration": 111,
    "start_time": "2023-04-15T22:14:36.340Z"
   },
   {
    "duration": 41,
    "start_time": "2023-04-15T22:14:36.454Z"
   },
   {
    "duration": 73,
    "start_time": "2023-04-15T22:14:36.498Z"
   },
   {
    "duration": 451,
    "start_time": "2023-04-15T22:14:36.586Z"
   },
   {
    "duration": 213,
    "start_time": "2023-04-15T22:14:37.041Z"
   },
   {
    "duration": 18,
    "start_time": "2023-04-15T22:14:37.255Z"
   },
   {
    "duration": 553,
    "start_time": "2023-04-15T22:14:37.275Z"
   },
   {
    "duration": 962,
    "start_time": "2023-04-15T22:14:37.830Z"
   },
   {
    "duration": 517,
    "start_time": "2023-04-15T22:14:38.796Z"
   },
   {
    "duration": 662,
    "start_time": "2023-04-15T22:14:39.315Z"
   },
   {
    "duration": 4,
    "start_time": "2023-04-15T22:14:39.979Z"
   },
   {
    "duration": 1412,
    "start_time": "2023-04-16T11:11:49.646Z"
   },
   {
    "duration": 4,
    "start_time": "2023-04-16T11:11:51.060Z"
   },
   {
    "duration": 13,
    "start_time": "2023-04-16T11:11:51.066Z"
   },
   {
    "duration": 12,
    "start_time": "2023-04-16T11:11:51.081Z"
   },
   {
    "duration": 21,
    "start_time": "2023-04-16T11:11:51.096Z"
   },
   {
    "duration": 724,
    "start_time": "2023-04-16T11:11:51.119Z"
   },
   {
    "duration": 122,
    "start_time": "2023-04-16T11:11:51.845Z"
   },
   {
    "duration": 193,
    "start_time": "2023-04-16T11:11:51.969Z"
   },
   {
    "duration": 34,
    "start_time": "2023-04-16T11:11:52.163Z"
   },
   {
    "duration": 56,
    "start_time": "2023-04-16T11:11:52.199Z"
   },
   {
    "duration": 10,
    "start_time": "2023-04-16T11:11:52.258Z"
   },
   {
    "duration": 584,
    "start_time": "2023-04-16T11:11:52.271Z"
   },
   {
    "duration": 16,
    "start_time": "2023-04-16T11:11:52.857Z"
   },
   {
    "duration": 33,
    "start_time": "2023-04-16T11:11:52.876Z"
   },
   {
    "duration": 592,
    "start_time": "2023-04-16T11:11:52.911Z"
   },
   {
    "duration": 13,
    "start_time": "2023-04-16T11:11:53.505Z"
   },
   {
    "duration": 166,
    "start_time": "2023-04-16T11:11:53.520Z"
   },
   {
    "duration": 166,
    "start_time": "2023-04-16T11:11:53.693Z"
   },
   {
    "duration": 56,
    "start_time": "2023-04-16T11:11:53.861Z"
   },
   {
    "duration": 105,
    "start_time": "2023-04-16T11:11:53.920Z"
   },
   {
    "duration": 31,
    "start_time": "2023-04-16T11:11:54.028Z"
   },
   {
    "duration": 91,
    "start_time": "2023-04-16T11:11:54.061Z"
   },
   {
    "duration": 445,
    "start_time": "2023-04-16T11:11:54.154Z"
   },
   {
    "duration": 265,
    "start_time": "2023-04-16T11:11:54.601Z"
   },
   {
    "duration": 35,
    "start_time": "2023-04-16T11:11:54.868Z"
   },
   {
    "duration": 471,
    "start_time": "2023-04-16T11:11:54.904Z"
   },
   {
    "duration": 455,
    "start_time": "2023-04-16T11:11:55.377Z"
   },
   {
    "duration": 467,
    "start_time": "2023-04-16T11:11:55.835Z"
   },
   {
    "duration": 502,
    "start_time": "2023-04-16T11:11:56.304Z"
   },
   {
    "duration": 5,
    "start_time": "2023-04-16T11:11:56.808Z"
   },
   {
    "duration": 3369,
    "start_time": "2023-06-10T18:22:22.823Z"
   },
   {
    "duration": 5,
    "start_time": "2023-06-10T18:22:26.195Z"
   },
   {
    "duration": 14,
    "start_time": "2023-06-10T18:22:26.203Z"
   },
   {
    "duration": 12,
    "start_time": "2023-06-10T18:22:26.220Z"
   },
   {
    "duration": 25,
    "start_time": "2023-06-10T18:22:26.235Z"
   },
   {
    "duration": 774,
    "start_time": "2023-06-10T18:22:26.264Z"
   },
   {
    "duration": 170,
    "start_time": "2023-06-10T18:22:27.041Z"
   },
   {
    "duration": 282,
    "start_time": "2023-06-10T18:22:27.214Z"
   },
   {
    "duration": 56,
    "start_time": "2023-06-10T18:22:27.498Z"
   },
   {
    "duration": 108,
    "start_time": "2023-06-10T18:22:27.562Z"
   },
   {
    "duration": 8,
    "start_time": "2023-06-10T18:22:27.673Z"
   },
   {
    "duration": 999,
    "start_time": "2023-06-10T18:22:27.683Z"
   },
   {
    "duration": 24,
    "start_time": "2023-06-10T18:22:28.685Z"
   },
   {
    "duration": 59,
    "start_time": "2023-06-10T18:22:28.712Z"
   },
   {
    "duration": 913,
    "start_time": "2023-06-10T18:22:28.773Z"
   },
   {
    "duration": 24,
    "start_time": "2023-06-10T18:22:29.689Z"
   },
   {
    "duration": 271,
    "start_time": "2023-06-10T18:22:29.715Z"
   },
   {
    "duration": 235,
    "start_time": "2023-06-10T18:22:29.989Z"
   },
   {
    "duration": 84,
    "start_time": "2023-06-10T18:22:30.226Z"
   },
   {
    "duration": 155,
    "start_time": "2023-06-10T18:22:30.312Z"
   },
   {
    "duration": 51,
    "start_time": "2023-06-10T18:22:30.470Z"
   },
   {
    "duration": 181,
    "start_time": "2023-06-10T18:22:30.524Z"
   },
   {
    "duration": 6523,
    "start_time": "2023-06-10T18:22:30.708Z"
   },
   {
    "duration": 349,
    "start_time": "2023-06-10T18:22:37.234Z"
   },
   {
    "duration": 48,
    "start_time": "2023-06-10T18:22:37.586Z"
   },
   {
    "duration": 765,
    "start_time": "2023-06-10T18:22:37.636Z"
   },
   {
    "duration": 755,
    "start_time": "2023-06-10T18:22:38.403Z"
   },
   {
    "duration": 646,
    "start_time": "2023-06-10T18:22:39.170Z"
   },
   {
    "duration": 793,
    "start_time": "2023-06-10T18:22:39.819Z"
   },
   {
    "duration": 6,
    "start_time": "2023-06-10T18:22:40.616Z"
   }
  ],
  "kernelspec": {
   "display_name": "Python 3 (ipykernel)",
   "language": "python",
   "name": "python3"
  },
  "language_info": {
   "codemirror_mode": {
    "name": "ipython",
    "version": 3
   },
   "file_extension": ".py",
   "mimetype": "text/x-python",
   "name": "python",
   "nbconvert_exporter": "python",
   "pygments_lexer": "ipython3",
   "version": "3.9.15"
  },
  "toc": {
   "base_numbering": 1,
   "nav_menu": {},
   "number_sections": true,
   "sideBar": true,
   "skip_h1_title": true,
   "title_cell": "Table of Contents",
   "title_sidebar": "Contents",
   "toc_cell": false,
   "toc_position": {
    "height": "calc(100% - 180px)",
    "left": "10px",
    "top": "150px",
    "width": "340.634px"
   },
   "toc_section_display": true,
   "toc_window_display": true
  }
 },
 "nbformat": 4,
 "nbformat_minor": 5
}
