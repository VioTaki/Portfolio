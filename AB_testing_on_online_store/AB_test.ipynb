{
 "cells": [
  {
   "cell_type": "markdown",
   "id": "9c1ee688",
   "metadata": {},
   "source": [
    "# Финальный проект по А/В тестированию"
   ]
  },
  {
   "cell_type": "markdown",
   "id": "df3e65fb",
   "metadata": {},
   "source": [
    "## Вводные данные"
   ]
  },
  {
   "cell_type": "markdown",
   "id": "88d0f466",
   "metadata": {},
   "source": [
    "### Цель и задачи\n",
    "\n",
    "**Цель:** Провести оценку результатов A/B-теста.\n",
    "\n",
    "**Задачи:**\n",
    "\n",
    "* оценить корректность проведения теста;\n",
    "* проанализировать его результаты.\n",
    "\n",
    "### Данные\n",
    "* датасет с действиями пользователей;\n",
    "* техническое задание;\n",
    "* несколько вспомогательных датасетов."
   ]
  },
  {
   "cell_type": "markdown",
   "id": "efd8bcc3",
   "metadata": {},
   "source": [
    "### Техническое задание\n",
    "* Название теста: recommender_system_test;\n",
    "* Группы: А (контрольная), B (новая платёжная воронка);\n",
    "* Дата запуска: 2020-12-07;\n",
    "* Дата остановки набора новых пользователей: 2020-12-21;\n",
    "* Дата остановки: 2021-01-04;\n",
    "* Аудитория: 15% новых пользователей из региона EU;\n",
    "* Назначение теста: тестирование изменений, связанных с внедрением улучшенной рекомендательной системы;\n",
    "* Ожидаемое количество участников теста: 6000.\n",
    "* Ожидаемый эффект: за 14 дней с момента регистрации в системе пользователи покажут улучшение каждой метрики не менее, чем на 10%:\n",
    "    * конверсии в просмотр карточек товаров — событие product_page\n",
    "    * просмотры корзины — product_cart\n",
    "    * покупки — purchase."
   ]
  },
  {
   "cell_type": "markdown",
   "id": "bbe2744f",
   "metadata": {},
   "source": [
    "### План работы\n",
    "1. Описание целей, задач исследования.\n",
    "2. Изучение и предобработка данных: \n",
    "    * описать данные;\n",
    "    * оценить (и исправить, при необходимости) пропуски и дубликаты.\n",
    "3. Оценить корректность проведения теста:\n",
    "    * соответствие данных требованиям технического задания\n",
    "    * время проведения теста, проверить не совпадает ли тест с маркетинговыми и другими активностями.\n",
    "    * проверить аудиторию теста, пересечения по группам и другим тестам\n",
    "    * изучить равномерность распределения аудитории и правильность её формирования.\n",
    "4. Провести исследовательский анализ данных:\n",
    "    * Оценить распределение количества событий на пользователя в выборках;\n",
    "    * Оценить распределение событий в выборках по дням;\n",
    "    * Изучить как меняется конверсия в воронке в выборках на разных этапах.\n",
    "    * Какие особенности данных нужно учесть, прежде чем приступать к A/B-тестированию?\n",
    "5. Проведите оценку результатов A/B-тестирования:\n",
    "    * Оценить результаты A/B-тестирования;\n",
    "    * Указать особенности данных;\n",
    "    * Проверить статистическую разницу долей z-критерием.\n",
    "6. Описать выводы по этапу исследовательского анализа данных и по проведённой оценке результатов A/B-тестирования. Сделать общее заключение о корректности проведения теста."
   ]
  },
  {
   "cell_type": "markdown",
   "id": "c06b6e8c",
   "metadata": {},
   "source": [
    "## Инструменты\n",
    "### Библиотеки"
   ]
  },
  {
   "cell_type": "code",
   "execution_count": 1,
   "id": "313f90ab",
   "metadata": {
    "code_folding": []
   },
   "outputs": [],
   "source": [
    "# Основные\n",
    "import pandas as pd\n",
    "import datetime as dt\n",
    "from datetime import datetime, timedelta\n",
    "import numpy as np\n",
    "import math as mth\n",
    "\n",
    "# Графики \n",
    "import matplotlib.pyplot as plt\n",
    "import plotly.express as px #для построения красивой воронки\n",
    "from plotly import graph_objects as go\n",
    "\n",
    "#Опции\n",
    "pd.options.display.float_format = '{:.2f}'.format #округление всех значений флота до 2 знаков после запятой\n",
    "pd.set_option('max_colwidth', 200) #макс. кол-во знаков в ячейке\n",
    "from IPython.display import Markdown, display, display_html\n",
    "\n",
    "# Статистика\n",
    "import scipy.stats as stats\n",
    "\n",
    "# Предупреждения\n",
    "import warnings\n",
    "warnings.filterwarnings(\"ignore\")\n",
    "\n",
    "# Корректное отображение plotly для GitHub\n",
    "import plotly.io as pio\n",
    "pio.renderers.default = \"png\"\n",
    "svg_renderer = pio.renderers[\"png\"]\n",
    "svg_renderer.scale = 1.2"
   ]
  },
  {
   "cell_type": "markdown",
   "id": "b7bb3207",
   "metadata": {},
   "source": [
    "### Функции"
   ]
  },
  {
   "cell_type": "code",
   "execution_count": 2,
   "id": "ef0b4de6",
   "metadata": {
    "code_folding": [
     0
    ]
   },
   "outputs": [],
   "source": [
    "def read_df(way):\n",
    "    \"\"\"\n",
    "    Чтение файла на локальном устройстве, либо в практикуме\n",
    "    Передается название файла .csv\n",
    "    \"\"\"\n",
    "    \n",
    "    try:\n",
    "        data = pd.read_csv('/datasets/'+way) # в практикуме\n",
    "    except:\n",
    "        data = pd.read_csv(way) # на моем устройстве\n",
    "    \n",
    "    return data"
   ]
  },
  {
   "cell_type": "code",
   "execution_count": 3,
   "id": "0a9e294f",
   "metadata": {
    "code_folding": [
     0
    ]
   },
   "outputs": [],
   "source": [
    "def full_info_check(data):\n",
    "    \"\"\"\n",
    "    Сборка всего инфо по датасету\n",
    "    \"\"\"\n",
    "    display(data)\n",
    "    info_check(data)\n",
    "    duplicate_check(data)  \n",
    "    #pass_check(data)\n",
    "    return"
   ]
  },
  {
   "cell_type": "code",
   "execution_count": 4,
   "id": "871a9c90",
   "metadata": {
    "code_folding": [
     0
    ]
   },
   "outputs": [],
   "source": [
    "def info_check(data):\n",
    "    \"\"\"\n",
    "    Общая информация о датасете\n",
    "    \n",
    "    Тип данных, количество строк, количество уникальных значений,\n",
    "    количество пропусков, процент пропуска, 5 первых уникальных значений\n",
    "    \"\"\"\n",
    "    display(Markdown('**Общая информация:**'))\n",
    "    \n",
    "    inform = data.dtypes.to_frame().rename(columns={0:'type'})\n",
    "    nunique = []\n",
    "    unique_first_5 = []\n",
    "    \n",
    "    for i in data.columns:\n",
    "        nunique.append(data[i].nunique())\n",
    "        unique_first_5.append(data[i].astype('str').unique().tolist()[0:5]) # str для корректного отображения времени\n",
    "    \n",
    "    inform['quantity'] = data.shape[0]    \n",
    "    inform['nunique'] = nunique\n",
    "    \n",
    "    passed = data.isna().sum().to_frame().rename(columns = {0:'cnt_of_pass'}).sort_values(by = 'cnt_of_pass', ascending = True)\n",
    "    passed['persent_of_pass'] = (data.isna().mean()).to_frame()\n",
    "    inform = inform.merge(passed, left_index = True, right_index = True)\n",
    "    \n",
    "    inform['unique_first_5'] = unique_first_5\n",
    "        \n",
    "    display(inform.style.format({'persent_of_pass':'{:.0%}'}))\n",
    "    return"
   ]
  },
  {
   "cell_type": "code",
   "execution_count": 5,
   "id": "459356a4",
   "metadata": {
    "code_folding": [
     0
    ]
   },
   "outputs": [],
   "source": [
    "def duplicate_check(data):\n",
    "    \"\"\"\n",
    "    Проверка явных дубликатов\n",
    "    Передается датафрейм для проверки\n",
    "    \"\"\"\n",
    "    display(Markdown('**Дубликаты:**'))\n",
    "    \n",
    "    print('Количество полных строк-дубликатов: ', data.duplicated().sum())\n",
    "    print('Процент дубликатов от всех данных: ', '{:.2%}'.format(data.duplicated().sum() / data.shape[0]))\n",
    "    if data.duplicated().sum() != 0:\n",
    "        display(data.loc[data.duplicated()])\n",
    "    return"
   ]
  },
  {
   "cell_type": "code",
   "execution_count": 6,
   "id": "aa55f558",
   "metadata": {
    "code_folding": [
     0
    ]
   },
   "outputs": [],
   "source": [
    "def pass_check(data):\n",
    "    \"\"\"\n",
    "    Пропуски. Абсолютное и относительное значение.\n",
    "    Передается датафрейм для проверки\n",
    "    \"\"\"\n",
    "    display(Markdown('**Пропуски:**'))\n",
    "    \n",
    "    passed = data.isna().sum().to_frame().rename(columns = {0:'cnt_of_pass'}).sort_values(by = 'cnt_of_pass', ascending = True)\n",
    "    passed['persent_of_pass'] = (data.isna().mean()).to_frame()\n",
    "    display(passed.style.format({'persent_of_pass':'{:.0%}'}))\n",
    "    return"
   ]
  },
  {
   "cell_type": "code",
   "execution_count": 7,
   "id": "368bf8fa",
   "metadata": {
    "code_folding": [
     0
    ]
   },
   "outputs": [],
   "source": [
    "def time_check (column):\n",
    "    \"\"\"\n",
    "    Проверка дат\n",
    "    начальная, конечная, период\n",
    "    \"\"\"\n",
    "    print('Начальная дата: ', column.min(),\n",
    "          '\\nКонечная дата: ', column.max(),\n",
    "          '\\nПериод в: ', column.max() - column.min()\n",
    "         )\n",
    "    return"
   ]
  },
  {
   "cell_type": "code",
   "execution_count": 8,
   "id": "fefab468",
   "metadata": {
    "code_folding": []
   },
   "outputs": [],
   "source": [
    "def len_check(lt):\n",
    "    print('Количество пользователей в тесте: ', len(lt))\n",
    "    return"
   ]
  },
  {
   "cell_type": "code",
   "execution_count": 9,
   "id": "a0c6572d",
   "metadata": {
    "code_folding": []
   },
   "outputs": [],
   "source": [
    "def events(data):\n",
    "    \"\"\"\n",
    "    Сборка таблицы с конверсией \n",
    "    все события, уникальные опльзователи, изменение конверсии\n",
    "    \"\"\"\n",
    "    events = (data.groupby('event_name', as_index=False)\n",
    "                  .agg({'event_dt': 'count', 'user_id' : 'nunique'})\n",
    "                  .rename(columns={'event_dt':'all_views', 'user_id':'unic_user_views'})\n",
    "                  .reset_index(drop=True)\n",
    "             )\n",
    "    events.loc[ len(events.index )] = ['0. Регистрация', data['user_id'].nunique(), data['user_id'].nunique()]\n",
    "    events['part'] = events['unic_user_views'] / data['user_id'].nunique()\n",
    "    events = events.sort_values('event_name').reset_index(drop=True)\n",
    "    events['part_active'] = events['unic_user_views'] / events.at[1, 'unic_user_views']\n",
    "    events['convABC'] = (events['unic_user_views'] / \n",
    "                        (events['unic_user_views'].shift(1, fill_value=events.loc[0,'unic_user_views'])))\n",
    "    events['loss'] = 1 - events['convABC']\n",
    "    events['convA-C'] = events['unic_user_views'] / events.loc[0,'unic_user_views']\n",
    "    \n",
    "    return events"
   ]
  },
  {
   "cell_type": "code",
   "execution_count": 10,
   "id": "f4e7e075",
   "metadata": {
    "code_folding": []
   },
   "outputs": [],
   "source": [
    "def merge_events(data1, data2):\n",
    "    data = events(data1).merge(events(data2), on='event_name', how='inner', suffixes=('_A', '_B'))\n",
    "    return data"
   ]
  },
  {
   "cell_type": "code",
   "execution_count": 11,
   "id": "c12ab68d",
   "metadata": {
    "code_folding": []
   },
   "outputs": [],
   "source": [
    "# z-test для определения стат различий в выборках\n",
    "def hypothesis_testing(data, group1, group2, alpha = 0.05):\n",
    "    \"\"\"\n",
    "    z-тест, адаптированный под задачу\n",
    "    \"\"\"\n",
    "    \n",
    "    data = data.reset_index(drop=True)\n",
    "   \n",
    "    for i in data.loc[1:5]['event_name'].unique():\n",
    "        \n",
    "        purchases = (data.loc[data['event_name']==i, group1].tolist()[0],\n",
    "                          data.loc[data['event_name']==i, group2].tolist()[0])\n",
    "        leads = (data.loc[0, group1],\n",
    "                          data.loc[0, group2])\n",
    "        \n",
    "        p1 = purchases[0]/leads[0]\n",
    "        p2 = purchases[1]/leads[1]\n",
    "\n",
    "        p_combined = (purchases[0] + purchases[1]) / (leads[0]+leads[1])\n",
    "\n",
    "        difference = p1 - p2\n",
    "\n",
    "        z_value = difference / mth.sqrt(p_combined * (1 - p_combined) * (1/leads[0] + 1/leads[1]))\n",
    "        distr = stats.norm(0,1)\n",
    "\n",
    "        p_value = (1 - distr.cdf(abs(z_value))) * 2\n",
    "        p = '{:.3f}'.format(p_value)\n",
    "        diff = '{:.2%}'.format(float(data.loc[data['event_name']==i, 'diff']))\n",
    "        al = '{:.3f}'.format(alpha)\n",
    "        display(Markdown(f'Событие: **{i!r}** <br> Значение p_value: **{p}** <br> Значение alpha: = **{al}** <br> Отличие конверсии группы В от группы А: **{diff}** <br> Результат теста:'))\n",
    "        \n",
    "        if p_value < alpha:\n",
    "            display(Markdown(f'<font color=\"red\">Отвергаем нулевую гипотезу</font>: \\\n",
    "            между долями событий {i} в группах А и В есть значимая разница.'))\n",
    "        else:\n",
    "            display(Markdown(f'<font color=\"green\">Не получилось отвергнуть нулевую гипотезу</font>, \\\n",
    "            нет оснований считать доли событий {i} в группах А и В разными.'))"
   ]
  },
  {
   "cell_type": "markdown",
   "id": "70ffe4c5",
   "metadata": {},
   "source": [
    "## Загрузка"
   ]
  },
  {
   "cell_type": "markdown",
   "id": "9997b98f",
   "metadata": {},
   "source": [
    "Загрузим исходные данные."
   ]
  },
  {
   "cell_type": "code",
   "execution_count": 12,
   "id": "e6b219ce",
   "metadata": {},
   "outputs": [],
   "source": [
    "marketing_events = read_df('ab_project_marketing_events.csv')"
   ]
  },
  {
   "cell_type": "code",
   "execution_count": 13,
   "id": "21eec120",
   "metadata": {},
   "outputs": [],
   "source": [
    "new_users = read_df('final_ab_new_users.csv')"
   ]
  },
  {
   "cell_type": "code",
   "execution_count": 14,
   "id": "fe365ead",
   "metadata": {},
   "outputs": [],
   "source": [
    "ab_events = read_df('final_ab_events.csv')"
   ]
  },
  {
   "cell_type": "code",
   "execution_count": 15,
   "id": "d9bcc27e",
   "metadata": {
    "scrolled": true
   },
   "outputs": [],
   "source": [
    "ab_participants = read_df('final_ab_participants.csv')"
   ]
  },
  {
   "cell_type": "markdown",
   "id": "62c20dc6",
   "metadata": {},
   "source": [
    "## Изучение и предобработка \n",
    "Рассмотрим каждый датасет отдельно. Изучим основные данные и выполним предобработку, если она необходима. Опишим полученные данные."
   ]
  },
  {
   "cell_type": "markdown",
   "id": "51b07095",
   "metadata": {},
   "source": [
    "### **marketing_events**\n",
    "\n",
    "#### Описание данных "
   ]
  },
  {
   "cell_type": "code",
   "execution_count": 16,
   "id": "a0b7504a",
   "metadata": {},
   "outputs": [
    {
     "data": {
      "text/html": [
       "<div>\n",
       "<style scoped>\n",
       "    .dataframe tbody tr th:only-of-type {\n",
       "        vertical-align: middle;\n",
       "    }\n",
       "\n",
       "    .dataframe tbody tr th {\n",
       "        vertical-align: top;\n",
       "    }\n",
       "\n",
       "    .dataframe thead th {\n",
       "        text-align: right;\n",
       "    }\n",
       "</style>\n",
       "<table border=\"1\" class=\"dataframe\">\n",
       "  <thead>\n",
       "    <tr style=\"text-align: right;\">\n",
       "      <th></th>\n",
       "      <th>name</th>\n",
       "      <th>regions</th>\n",
       "      <th>start_dt</th>\n",
       "      <th>finish_dt</th>\n",
       "    </tr>\n",
       "  </thead>\n",
       "  <tbody>\n",
       "    <tr>\n",
       "      <th>0</th>\n",
       "      <td>Christmas&amp;New Year Promo</td>\n",
       "      <td>EU, N.America</td>\n",
       "      <td>2020-12-25</td>\n",
       "      <td>2021-01-03</td>\n",
       "    </tr>\n",
       "    <tr>\n",
       "      <th>1</th>\n",
       "      <td>St. Valentine's Day Giveaway</td>\n",
       "      <td>EU, CIS, APAC, N.America</td>\n",
       "      <td>2020-02-14</td>\n",
       "      <td>2020-02-16</td>\n",
       "    </tr>\n",
       "    <tr>\n",
       "      <th>2</th>\n",
       "      <td>St. Patric's Day Promo</td>\n",
       "      <td>EU, N.America</td>\n",
       "      <td>2020-03-17</td>\n",
       "      <td>2020-03-19</td>\n",
       "    </tr>\n",
       "    <tr>\n",
       "      <th>3</th>\n",
       "      <td>Easter Promo</td>\n",
       "      <td>EU, CIS, APAC, N.America</td>\n",
       "      <td>2020-04-12</td>\n",
       "      <td>2020-04-19</td>\n",
       "    </tr>\n",
       "    <tr>\n",
       "      <th>4</th>\n",
       "      <td>4th of July Promo</td>\n",
       "      <td>N.America</td>\n",
       "      <td>2020-07-04</td>\n",
       "      <td>2020-07-11</td>\n",
       "    </tr>\n",
       "    <tr>\n",
       "      <th>5</th>\n",
       "      <td>Black Friday Ads Campaign</td>\n",
       "      <td>EU, CIS, APAC, N.America</td>\n",
       "      <td>2020-11-26</td>\n",
       "      <td>2020-12-01</td>\n",
       "    </tr>\n",
       "    <tr>\n",
       "      <th>6</th>\n",
       "      <td>Chinese New Year Promo</td>\n",
       "      <td>APAC</td>\n",
       "      <td>2020-01-25</td>\n",
       "      <td>2020-02-07</td>\n",
       "    </tr>\n",
       "    <tr>\n",
       "      <th>7</th>\n",
       "      <td>Labor day (May 1st) Ads Campaign</td>\n",
       "      <td>EU, CIS, APAC</td>\n",
       "      <td>2020-05-01</td>\n",
       "      <td>2020-05-03</td>\n",
       "    </tr>\n",
       "    <tr>\n",
       "      <th>8</th>\n",
       "      <td>International Women's Day Promo</td>\n",
       "      <td>EU, CIS, APAC</td>\n",
       "      <td>2020-03-08</td>\n",
       "      <td>2020-03-10</td>\n",
       "    </tr>\n",
       "    <tr>\n",
       "      <th>9</th>\n",
       "      <td>Victory Day CIS (May 9th) Event</td>\n",
       "      <td>CIS</td>\n",
       "      <td>2020-05-09</td>\n",
       "      <td>2020-05-11</td>\n",
       "    </tr>\n",
       "    <tr>\n",
       "      <th>10</th>\n",
       "      <td>CIS New Year Gift Lottery</td>\n",
       "      <td>CIS</td>\n",
       "      <td>2020-12-30</td>\n",
       "      <td>2021-01-07</td>\n",
       "    </tr>\n",
       "    <tr>\n",
       "      <th>11</th>\n",
       "      <td>Dragon Boat Festival Giveaway</td>\n",
       "      <td>APAC</td>\n",
       "      <td>2020-06-25</td>\n",
       "      <td>2020-07-01</td>\n",
       "    </tr>\n",
       "    <tr>\n",
       "      <th>12</th>\n",
       "      <td>Single's Day Gift Promo</td>\n",
       "      <td>APAC</td>\n",
       "      <td>2020-11-11</td>\n",
       "      <td>2020-11-12</td>\n",
       "    </tr>\n",
       "    <tr>\n",
       "      <th>13</th>\n",
       "      <td>Chinese Moon Festival</td>\n",
       "      <td>APAC</td>\n",
       "      <td>2020-10-01</td>\n",
       "      <td>2020-10-07</td>\n",
       "    </tr>\n",
       "  </tbody>\n",
       "</table>\n",
       "</div>"
      ],
      "text/plain": [
       "                                name                   regions    start_dt  \\\n",
       "0           Christmas&New Year Promo             EU, N.America  2020-12-25   \n",
       "1       St. Valentine's Day Giveaway  EU, CIS, APAC, N.America  2020-02-14   \n",
       "2             St. Patric's Day Promo             EU, N.America  2020-03-17   \n",
       "3                       Easter Promo  EU, CIS, APAC, N.America  2020-04-12   \n",
       "4                  4th of July Promo                 N.America  2020-07-04   \n",
       "5          Black Friday Ads Campaign  EU, CIS, APAC, N.America  2020-11-26   \n",
       "6             Chinese New Year Promo                      APAC  2020-01-25   \n",
       "7   Labor day (May 1st) Ads Campaign             EU, CIS, APAC  2020-05-01   \n",
       "8    International Women's Day Promo             EU, CIS, APAC  2020-03-08   \n",
       "9    Victory Day CIS (May 9th) Event                       CIS  2020-05-09   \n",
       "10         CIS New Year Gift Lottery                       CIS  2020-12-30   \n",
       "11     Dragon Boat Festival Giveaway                      APAC  2020-06-25   \n",
       "12           Single's Day Gift Promo                      APAC  2020-11-11   \n",
       "13             Chinese Moon Festival                      APAC  2020-10-01   \n",
       "\n",
       "     finish_dt  \n",
       "0   2021-01-03  \n",
       "1   2020-02-16  \n",
       "2   2020-03-19  \n",
       "3   2020-04-19  \n",
       "4   2020-07-11  \n",
       "5   2020-12-01  \n",
       "6   2020-02-07  \n",
       "7   2020-05-03  \n",
       "8   2020-03-10  \n",
       "9   2020-05-11  \n",
       "10  2021-01-07  \n",
       "11  2020-07-01  \n",
       "12  2020-11-12  \n",
       "13  2020-10-07  "
      ]
     },
     "metadata": {},
     "output_type": "display_data"
    },
    {
     "data": {
      "text/markdown": [
       "**Общая информация:**"
      ],
      "text/plain": [
       "<IPython.core.display.Markdown object>"
      ]
     },
     "metadata": {},
     "output_type": "display_data"
    },
    {
     "data": {
      "text/html": [
       "<style  type=\"text/css\" >\n",
       "</style><table id=\"T_fb817_\" ><thead>    <tr>        <th class=\"blank level0\" ></th>        <th class=\"col_heading level0 col0\" >type</th>        <th class=\"col_heading level0 col1\" >quantity</th>        <th class=\"col_heading level0 col2\" >nunique</th>        <th class=\"col_heading level0 col3\" >cnt_of_pass</th>        <th class=\"col_heading level0 col4\" >persent_of_pass</th>        <th class=\"col_heading level0 col5\" >unique_first_5</th>    </tr></thead><tbody>\n",
       "                <tr>\n",
       "                        <th id=\"T_fb817_level0_row0\" class=\"row_heading level0 row0\" >name</th>\n",
       "                        <td id=\"T_fb817_row0_col0\" class=\"data row0 col0\" >object</td>\n",
       "                        <td id=\"T_fb817_row0_col1\" class=\"data row0 col1\" >14</td>\n",
       "                        <td id=\"T_fb817_row0_col2\" class=\"data row0 col2\" >14</td>\n",
       "                        <td id=\"T_fb817_row0_col3\" class=\"data row0 col3\" >0</td>\n",
       "                        <td id=\"T_fb817_row0_col4\" class=\"data row0 col4\" >0%</td>\n",
       "                        <td id=\"T_fb817_row0_col5\" class=\"data row0 col5\" >['Christmas&New Year Promo', \"St. Valentine's Day Giveaway\", \"St. Patric's Day Promo\", 'Easter Promo', '4th of July Promo']</td>\n",
       "            </tr>\n",
       "            <tr>\n",
       "                        <th id=\"T_fb817_level0_row1\" class=\"row_heading level0 row1\" >regions</th>\n",
       "                        <td id=\"T_fb817_row1_col0\" class=\"data row1 col0\" >object</td>\n",
       "                        <td id=\"T_fb817_row1_col1\" class=\"data row1 col1\" >14</td>\n",
       "                        <td id=\"T_fb817_row1_col2\" class=\"data row1 col2\" >6</td>\n",
       "                        <td id=\"T_fb817_row1_col3\" class=\"data row1 col3\" >0</td>\n",
       "                        <td id=\"T_fb817_row1_col4\" class=\"data row1 col4\" >0%</td>\n",
       "                        <td id=\"T_fb817_row1_col5\" class=\"data row1 col5\" >['EU, N.America', 'EU, CIS, APAC, N.America', 'N.America', 'APAC', 'EU, CIS, APAC']</td>\n",
       "            </tr>\n",
       "            <tr>\n",
       "                        <th id=\"T_fb817_level0_row2\" class=\"row_heading level0 row2\" >start_dt</th>\n",
       "                        <td id=\"T_fb817_row2_col0\" class=\"data row2 col0\" >object</td>\n",
       "                        <td id=\"T_fb817_row2_col1\" class=\"data row2 col1\" >14</td>\n",
       "                        <td id=\"T_fb817_row2_col2\" class=\"data row2 col2\" >14</td>\n",
       "                        <td id=\"T_fb817_row2_col3\" class=\"data row2 col3\" >0</td>\n",
       "                        <td id=\"T_fb817_row2_col4\" class=\"data row2 col4\" >0%</td>\n",
       "                        <td id=\"T_fb817_row2_col5\" class=\"data row2 col5\" >['2020-12-25', '2020-02-14', '2020-03-17', '2020-04-12', '2020-07-04']</td>\n",
       "            </tr>\n",
       "            <tr>\n",
       "                        <th id=\"T_fb817_level0_row3\" class=\"row_heading level0 row3\" >finish_dt</th>\n",
       "                        <td id=\"T_fb817_row3_col0\" class=\"data row3 col0\" >object</td>\n",
       "                        <td id=\"T_fb817_row3_col1\" class=\"data row3 col1\" >14</td>\n",
       "                        <td id=\"T_fb817_row3_col2\" class=\"data row3 col2\" >14</td>\n",
       "                        <td id=\"T_fb817_row3_col3\" class=\"data row3 col3\" >0</td>\n",
       "                        <td id=\"T_fb817_row3_col4\" class=\"data row3 col4\" >0%</td>\n",
       "                        <td id=\"T_fb817_row3_col5\" class=\"data row3 col5\" >['2021-01-03', '2020-02-16', '2020-03-19', '2020-04-19', '2020-07-11']</td>\n",
       "            </tr>\n",
       "    </tbody></table>"
      ],
      "text/plain": [
       "<pandas.io.formats.style.Styler at 0x26204d03fd0>"
      ]
     },
     "metadata": {},
     "output_type": "display_data"
    },
    {
     "data": {
      "text/markdown": [
       "**Дубликаты:**"
      ],
      "text/plain": [
       "<IPython.core.display.Markdown object>"
      ]
     },
     "metadata": {},
     "output_type": "display_data"
    },
    {
     "name": "stdout",
     "output_type": "stream",
     "text": [
      "Количество полных строк-дубликатов:  0\n",
      "Процент дубликатов от всех данных:  0.00%\n"
     ]
    }
   ],
   "source": [
    "full_info_check(marketing_events)"
   ]
  },
  {
   "cell_type": "markdown",
   "id": "d46ae441",
   "metadata": {},
   "source": [
    "Небольшой датасет — календарь маркетинговых событий на 2020 год:\n",
    "* `name` — название маркетингового события;\n",
    "* `regions` — регионы, в которых будет проводиться рекламная кампания, включает в себя:\n",
    "    * APAC -Азиатско-Тихоокеанский регион,\n",
    "    * EU - Евросоюз\n",
    "    * N.America - Сверная Америка\n",
    "    * CIS - Страны СНГ    \n",
    "* `start_dt` — дата начала кампании;\n",
    "* `finish_dt` — дата завершения кампании.\n",
    "\n",
    "Данные не имеют дубликатов и пропусков, необходимо только исправить типы данных\n",
    "\n",
    "#### Предобработка\n",
    "\n",
    "Исправим типы данных в столбцах `start_dt` и `finish_dt` на datetime"
   ]
  },
  {
   "cell_type": "code",
   "execution_count": 17,
   "id": "4d00fa53",
   "metadata": {},
   "outputs": [],
   "source": [
    "marketing_events['start_dt'] = pd.to_datetime(marketing_events['start_dt'])\n",
    "marketing_events['finish_dt'] = pd.to_datetime(marketing_events['finish_dt'])"
   ]
  },
  {
   "cell_type": "code",
   "execution_count": 18,
   "id": "76bc883e",
   "metadata": {},
   "outputs": [
    {
     "name": "stdout",
     "output_type": "stream",
     "text": [
      "Начальная дата:  2020-01-25 00:00:00 \n",
      "Конечная дата:  2020-12-30 00:00:00 \n",
      "Период в:  340 days 00:00:00\n"
     ]
    }
   ],
   "source": [
    "time_check (marketing_events['start_dt'])"
   ]
  },
  {
   "cell_type": "code",
   "execution_count": 19,
   "id": "9b9f2c76",
   "metadata": {},
   "outputs": [
    {
     "name": "stdout",
     "output_type": "stream",
     "text": [
      "Начальная дата:  2020-02-07 00:00:00 \n",
      "Конечная дата:  2021-01-07 00:00:00 \n",
      "Период в:  335 days 00:00:00\n"
     ]
    }
   ],
   "source": [
    "time_check (marketing_events['finish_dt'])"
   ]
  },
  {
   "cell_type": "markdown",
   "id": "cd681dd4",
   "metadata": {},
   "source": [
    "Данные о маркектинговых акциях предоставлены с 25 января 2020 года по 7 января 2021 года."
   ]
  },
  {
   "cell_type": "markdown",
   "id": "6aa1d3ea",
   "metadata": {},
   "source": [
    "Данные готовы к работе\n",
    "\n",
    "### **new_users**\n",
    "\n",
    "#### Описание данных "
   ]
  },
  {
   "cell_type": "code",
   "execution_count": 20,
   "id": "4c335c5c",
   "metadata": {},
   "outputs": [
    {
     "data": {
      "text/html": [
       "<div>\n",
       "<style scoped>\n",
       "    .dataframe tbody tr th:only-of-type {\n",
       "        vertical-align: middle;\n",
       "    }\n",
       "\n",
       "    .dataframe tbody tr th {\n",
       "        vertical-align: top;\n",
       "    }\n",
       "\n",
       "    .dataframe thead th {\n",
       "        text-align: right;\n",
       "    }\n",
       "</style>\n",
       "<table border=\"1\" class=\"dataframe\">\n",
       "  <thead>\n",
       "    <tr style=\"text-align: right;\">\n",
       "      <th></th>\n",
       "      <th>user_id</th>\n",
       "      <th>first_date</th>\n",
       "      <th>region</th>\n",
       "      <th>device</th>\n",
       "    </tr>\n",
       "  </thead>\n",
       "  <tbody>\n",
       "    <tr>\n",
       "      <th>0</th>\n",
       "      <td>D72A72121175D8BE</td>\n",
       "      <td>2020-12-07</td>\n",
       "      <td>EU</td>\n",
       "      <td>PC</td>\n",
       "    </tr>\n",
       "    <tr>\n",
       "      <th>1</th>\n",
       "      <td>F1C668619DFE6E65</td>\n",
       "      <td>2020-12-07</td>\n",
       "      <td>N.America</td>\n",
       "      <td>Android</td>\n",
       "    </tr>\n",
       "    <tr>\n",
       "      <th>2</th>\n",
       "      <td>2E1BF1D4C37EA01F</td>\n",
       "      <td>2020-12-07</td>\n",
       "      <td>EU</td>\n",
       "      <td>PC</td>\n",
       "    </tr>\n",
       "    <tr>\n",
       "      <th>3</th>\n",
       "      <td>50734A22C0C63768</td>\n",
       "      <td>2020-12-07</td>\n",
       "      <td>EU</td>\n",
       "      <td>iPhone</td>\n",
       "    </tr>\n",
       "    <tr>\n",
       "      <th>4</th>\n",
       "      <td>E1BDDCE0DAFA2679</td>\n",
       "      <td>2020-12-07</td>\n",
       "      <td>N.America</td>\n",
       "      <td>iPhone</td>\n",
       "    </tr>\n",
       "    <tr>\n",
       "      <th>...</th>\n",
       "      <td>...</td>\n",
       "      <td>...</td>\n",
       "      <td>...</td>\n",
       "      <td>...</td>\n",
       "    </tr>\n",
       "    <tr>\n",
       "      <th>61728</th>\n",
       "      <td>1DB53B933257165D</td>\n",
       "      <td>2020-12-20</td>\n",
       "      <td>EU</td>\n",
       "      <td>Android</td>\n",
       "    </tr>\n",
       "    <tr>\n",
       "      <th>61729</th>\n",
       "      <td>538643EB4527ED03</td>\n",
       "      <td>2020-12-20</td>\n",
       "      <td>EU</td>\n",
       "      <td>Mac</td>\n",
       "    </tr>\n",
       "    <tr>\n",
       "      <th>61730</th>\n",
       "      <td>7ADEE837D5D8CBBD</td>\n",
       "      <td>2020-12-20</td>\n",
       "      <td>EU</td>\n",
       "      <td>PC</td>\n",
       "    </tr>\n",
       "    <tr>\n",
       "      <th>61731</th>\n",
       "      <td>1C7D23927835213F</td>\n",
       "      <td>2020-12-20</td>\n",
       "      <td>EU</td>\n",
       "      <td>iPhone</td>\n",
       "    </tr>\n",
       "    <tr>\n",
       "      <th>61732</th>\n",
       "      <td>8F04273BB2860229</td>\n",
       "      <td>2020-12-20</td>\n",
       "      <td>EU</td>\n",
       "      <td>Android</td>\n",
       "    </tr>\n",
       "  </tbody>\n",
       "</table>\n",
       "<p>61733 rows × 4 columns</p>\n",
       "</div>"
      ],
      "text/plain": [
       "                user_id  first_date     region   device\n",
       "0      D72A72121175D8BE  2020-12-07         EU       PC\n",
       "1      F1C668619DFE6E65  2020-12-07  N.America  Android\n",
       "2      2E1BF1D4C37EA01F  2020-12-07         EU       PC\n",
       "3      50734A22C0C63768  2020-12-07         EU   iPhone\n",
       "4      E1BDDCE0DAFA2679  2020-12-07  N.America   iPhone\n",
       "...                 ...         ...        ...      ...\n",
       "61728  1DB53B933257165D  2020-12-20         EU  Android\n",
       "61729  538643EB4527ED03  2020-12-20         EU      Mac\n",
       "61730  7ADEE837D5D8CBBD  2020-12-20         EU       PC\n",
       "61731  1C7D23927835213F  2020-12-20         EU   iPhone\n",
       "61732  8F04273BB2860229  2020-12-20         EU  Android\n",
       "\n",
       "[61733 rows x 4 columns]"
      ]
     },
     "metadata": {},
     "output_type": "display_data"
    },
    {
     "data": {
      "text/markdown": [
       "**Общая информация:**"
      ],
      "text/plain": [
       "<IPython.core.display.Markdown object>"
      ]
     },
     "metadata": {},
     "output_type": "display_data"
    },
    {
     "data": {
      "text/html": [
       "<style  type=\"text/css\" >\n",
       "</style><table id=\"T_8296f_\" ><thead>    <tr>        <th class=\"blank level0\" ></th>        <th class=\"col_heading level0 col0\" >type</th>        <th class=\"col_heading level0 col1\" >quantity</th>        <th class=\"col_heading level0 col2\" >nunique</th>        <th class=\"col_heading level0 col3\" >cnt_of_pass</th>        <th class=\"col_heading level0 col4\" >persent_of_pass</th>        <th class=\"col_heading level0 col5\" >unique_first_5</th>    </tr></thead><tbody>\n",
       "                <tr>\n",
       "                        <th id=\"T_8296f_level0_row0\" class=\"row_heading level0 row0\" >user_id</th>\n",
       "                        <td id=\"T_8296f_row0_col0\" class=\"data row0 col0\" >object</td>\n",
       "                        <td id=\"T_8296f_row0_col1\" class=\"data row0 col1\" >61733</td>\n",
       "                        <td id=\"T_8296f_row0_col2\" class=\"data row0 col2\" >61733</td>\n",
       "                        <td id=\"T_8296f_row0_col3\" class=\"data row0 col3\" >0</td>\n",
       "                        <td id=\"T_8296f_row0_col4\" class=\"data row0 col4\" >0%</td>\n",
       "                        <td id=\"T_8296f_row0_col5\" class=\"data row0 col5\" >['D72A72121175D8BE', 'F1C668619DFE6E65', '2E1BF1D4C37EA01F', '50734A22C0C63768', 'E1BDDCE0DAFA2679']</td>\n",
       "            </tr>\n",
       "            <tr>\n",
       "                        <th id=\"T_8296f_level0_row1\" class=\"row_heading level0 row1\" >first_date</th>\n",
       "                        <td id=\"T_8296f_row1_col0\" class=\"data row1 col0\" >object</td>\n",
       "                        <td id=\"T_8296f_row1_col1\" class=\"data row1 col1\" >61733</td>\n",
       "                        <td id=\"T_8296f_row1_col2\" class=\"data row1 col2\" >17</td>\n",
       "                        <td id=\"T_8296f_row1_col3\" class=\"data row1 col3\" >0</td>\n",
       "                        <td id=\"T_8296f_row1_col4\" class=\"data row1 col4\" >0%</td>\n",
       "                        <td id=\"T_8296f_row1_col5\" class=\"data row1 col5\" >['2020-12-07', '2020-12-14', '2020-12-21', '2020-12-08', '2020-12-15']</td>\n",
       "            </tr>\n",
       "            <tr>\n",
       "                        <th id=\"T_8296f_level0_row2\" class=\"row_heading level0 row2\" >region</th>\n",
       "                        <td id=\"T_8296f_row2_col0\" class=\"data row2 col0\" >object</td>\n",
       "                        <td id=\"T_8296f_row2_col1\" class=\"data row2 col1\" >61733</td>\n",
       "                        <td id=\"T_8296f_row2_col2\" class=\"data row2 col2\" >4</td>\n",
       "                        <td id=\"T_8296f_row2_col3\" class=\"data row2 col3\" >0</td>\n",
       "                        <td id=\"T_8296f_row2_col4\" class=\"data row2 col4\" >0%</td>\n",
       "                        <td id=\"T_8296f_row2_col5\" class=\"data row2 col5\" >['EU', 'N.America', 'APAC', 'CIS']</td>\n",
       "            </tr>\n",
       "            <tr>\n",
       "                        <th id=\"T_8296f_level0_row3\" class=\"row_heading level0 row3\" >device</th>\n",
       "                        <td id=\"T_8296f_row3_col0\" class=\"data row3 col0\" >object</td>\n",
       "                        <td id=\"T_8296f_row3_col1\" class=\"data row3 col1\" >61733</td>\n",
       "                        <td id=\"T_8296f_row3_col2\" class=\"data row3 col2\" >4</td>\n",
       "                        <td id=\"T_8296f_row3_col3\" class=\"data row3 col3\" >0</td>\n",
       "                        <td id=\"T_8296f_row3_col4\" class=\"data row3 col4\" >0%</td>\n",
       "                        <td id=\"T_8296f_row3_col5\" class=\"data row3 col5\" >['PC', 'Android', 'iPhone', 'Mac']</td>\n",
       "            </tr>\n",
       "    </tbody></table>"
      ],
      "text/plain": [
       "<pandas.io.formats.style.Styler at 0x26216f73a00>"
      ]
     },
     "metadata": {},
     "output_type": "display_data"
    },
    {
     "data": {
      "text/markdown": [
       "**Дубликаты:**"
      ],
      "text/plain": [
       "<IPython.core.display.Markdown object>"
      ]
     },
     "metadata": {},
     "output_type": "display_data"
    },
    {
     "name": "stdout",
     "output_type": "stream",
     "text": [
      "Количество полных строк-дубликатов:  0\n",
      "Процент дубликатов от всех данных:  0.00%\n"
     ]
    }
   ],
   "source": [
    "full_info_check(new_users)"
   ]
  },
  {
   "cell_type": "markdown",
   "id": "1e436f53",
   "metadata": {},
   "source": [
    "Данные о всех пользователях, зарегистрировавшихся в интернет-магазине в период с 7 по 21 декабря 2020 года;\n",
    "\n",
    "* `user_id` — идентификатор пользователя;\n",
    "* `first_date` — дата регистрации;\n",
    "* `region` — регион пользователя:\n",
    "    * APAC -Азиатско-Тихоокеанский регион,\n",
    "    * EU - Евросоюз\n",
    "    * N.America - Сверная Америка\n",
    "    * CIS - Страны СНГ   \n",
    "* `device` — устройство, с которого происходила регистрация:\n",
    "    * PC\n",
    "    * Android\n",
    "    * iPhone\n",
    "    * Mac.\n",
    "\n",
    "Данные не имеют дубликатов и пропусков, необходимо только исправить типы данных\n",
    "\n",
    "#### Предобработка\n",
    "\n",
    "Исправим тип данных в столбце `first_date` на datetime"
   ]
  },
  {
   "cell_type": "code",
   "execution_count": 21,
   "id": "22f38ede",
   "metadata": {},
   "outputs": [],
   "source": [
    "new_users['first_date'] = pd.to_datetime(new_users['first_date'])"
   ]
  },
  {
   "cell_type": "markdown",
   "id": "3d19917e",
   "metadata": {},
   "source": [
    "Данные готовы к работе\n",
    "\n",
    "### **ab_events**\n",
    "\n",
    "#### Описание данных "
   ]
  },
  {
   "cell_type": "code",
   "execution_count": 22,
   "id": "d8ba8ee9",
   "metadata": {},
   "outputs": [
    {
     "data": {
      "text/html": [
       "<div>\n",
       "<style scoped>\n",
       "    .dataframe tbody tr th:only-of-type {\n",
       "        vertical-align: middle;\n",
       "    }\n",
       "\n",
       "    .dataframe tbody tr th {\n",
       "        vertical-align: top;\n",
       "    }\n",
       "\n",
       "    .dataframe thead th {\n",
       "        text-align: right;\n",
       "    }\n",
       "</style>\n",
       "<table border=\"1\" class=\"dataframe\">\n",
       "  <thead>\n",
       "    <tr style=\"text-align: right;\">\n",
       "      <th></th>\n",
       "      <th>user_id</th>\n",
       "      <th>event_dt</th>\n",
       "      <th>event_name</th>\n",
       "      <th>details</th>\n",
       "    </tr>\n",
       "  </thead>\n",
       "  <tbody>\n",
       "    <tr>\n",
       "      <th>0</th>\n",
       "      <td>E1BDDCE0DAFA2679</td>\n",
       "      <td>2020-12-07 20:22:03</td>\n",
       "      <td>purchase</td>\n",
       "      <td>99.99</td>\n",
       "    </tr>\n",
       "    <tr>\n",
       "      <th>1</th>\n",
       "      <td>7B6452F081F49504</td>\n",
       "      <td>2020-12-07 09:22:53</td>\n",
       "      <td>purchase</td>\n",
       "      <td>9.99</td>\n",
       "    </tr>\n",
       "    <tr>\n",
       "      <th>2</th>\n",
       "      <td>9CD9F34546DF254C</td>\n",
       "      <td>2020-12-07 12:59:29</td>\n",
       "      <td>purchase</td>\n",
       "      <td>4.99</td>\n",
       "    </tr>\n",
       "    <tr>\n",
       "      <th>3</th>\n",
       "      <td>96F27A054B191457</td>\n",
       "      <td>2020-12-07 04:02:40</td>\n",
       "      <td>purchase</td>\n",
       "      <td>4.99</td>\n",
       "    </tr>\n",
       "    <tr>\n",
       "      <th>4</th>\n",
       "      <td>1FD7660FDF94CA1F</td>\n",
       "      <td>2020-12-07 10:15:09</td>\n",
       "      <td>purchase</td>\n",
       "      <td>4.99</td>\n",
       "    </tr>\n",
       "    <tr>\n",
       "      <th>...</th>\n",
       "      <td>...</td>\n",
       "      <td>...</td>\n",
       "      <td>...</td>\n",
       "      <td>...</td>\n",
       "    </tr>\n",
       "    <tr>\n",
       "      <th>440312</th>\n",
       "      <td>245E85F65C358E08</td>\n",
       "      <td>2020-12-30 19:35:55</td>\n",
       "      <td>login</td>\n",
       "      <td>NaN</td>\n",
       "    </tr>\n",
       "    <tr>\n",
       "      <th>440313</th>\n",
       "      <td>9385A108F5A0A7A7</td>\n",
       "      <td>2020-12-30 10:54:15</td>\n",
       "      <td>login</td>\n",
       "      <td>NaN</td>\n",
       "    </tr>\n",
       "    <tr>\n",
       "      <th>440314</th>\n",
       "      <td>DB650B7559AC6EAC</td>\n",
       "      <td>2020-12-30 10:59:09</td>\n",
       "      <td>login</td>\n",
       "      <td>NaN</td>\n",
       "    </tr>\n",
       "    <tr>\n",
       "      <th>440315</th>\n",
       "      <td>F80C9BDDEA02E53C</td>\n",
       "      <td>2020-12-30 09:53:39</td>\n",
       "      <td>login</td>\n",
       "      <td>NaN</td>\n",
       "    </tr>\n",
       "    <tr>\n",
       "      <th>440316</th>\n",
       "      <td>7AEC61159B672CC5</td>\n",
       "      <td>2020-12-30 11:36:13</td>\n",
       "      <td>login</td>\n",
       "      <td>NaN</td>\n",
       "    </tr>\n",
       "  </tbody>\n",
       "</table>\n",
       "<p>440317 rows × 4 columns</p>\n",
       "</div>"
      ],
      "text/plain": [
       "                 user_id             event_dt event_name  details\n",
       "0       E1BDDCE0DAFA2679  2020-12-07 20:22:03   purchase    99.99\n",
       "1       7B6452F081F49504  2020-12-07 09:22:53   purchase     9.99\n",
       "2       9CD9F34546DF254C  2020-12-07 12:59:29   purchase     4.99\n",
       "3       96F27A054B191457  2020-12-07 04:02:40   purchase     4.99\n",
       "4       1FD7660FDF94CA1F  2020-12-07 10:15:09   purchase     4.99\n",
       "...                  ...                  ...        ...      ...\n",
       "440312  245E85F65C358E08  2020-12-30 19:35:55      login      NaN\n",
       "440313  9385A108F5A0A7A7  2020-12-30 10:54:15      login      NaN\n",
       "440314  DB650B7559AC6EAC  2020-12-30 10:59:09      login      NaN\n",
       "440315  F80C9BDDEA02E53C  2020-12-30 09:53:39      login      NaN\n",
       "440316  7AEC61159B672CC5  2020-12-30 11:36:13      login      NaN\n",
       "\n",
       "[440317 rows x 4 columns]"
      ]
     },
     "metadata": {},
     "output_type": "display_data"
    },
    {
     "data": {
      "text/markdown": [
       "**Общая информация:**"
      ],
      "text/plain": [
       "<IPython.core.display.Markdown object>"
      ]
     },
     "metadata": {},
     "output_type": "display_data"
    },
    {
     "data": {
      "text/html": [
       "<style  type=\"text/css\" >\n",
       "</style><table id=\"T_6198a_\" ><thead>    <tr>        <th class=\"blank level0\" ></th>        <th class=\"col_heading level0 col0\" >type</th>        <th class=\"col_heading level0 col1\" >quantity</th>        <th class=\"col_heading level0 col2\" >nunique</th>        <th class=\"col_heading level0 col3\" >cnt_of_pass</th>        <th class=\"col_heading level0 col4\" >persent_of_pass</th>        <th class=\"col_heading level0 col5\" >unique_first_5</th>    </tr></thead><tbody>\n",
       "                <tr>\n",
       "                        <th id=\"T_6198a_level0_row0\" class=\"row_heading level0 row0\" >user_id</th>\n",
       "                        <td id=\"T_6198a_row0_col0\" class=\"data row0 col0\" >object</td>\n",
       "                        <td id=\"T_6198a_row0_col1\" class=\"data row0 col1\" >440317</td>\n",
       "                        <td id=\"T_6198a_row0_col2\" class=\"data row0 col2\" >58703</td>\n",
       "                        <td id=\"T_6198a_row0_col3\" class=\"data row0 col3\" >0</td>\n",
       "                        <td id=\"T_6198a_row0_col4\" class=\"data row0 col4\" >0%</td>\n",
       "                        <td id=\"T_6198a_row0_col5\" class=\"data row0 col5\" >['E1BDDCE0DAFA2679', '7B6452F081F49504', '9CD9F34546DF254C', '96F27A054B191457', '1FD7660FDF94CA1F']</td>\n",
       "            </tr>\n",
       "            <tr>\n",
       "                        <th id=\"T_6198a_level0_row1\" class=\"row_heading level0 row1\" >event_dt</th>\n",
       "                        <td id=\"T_6198a_row1_col0\" class=\"data row1 col0\" >object</td>\n",
       "                        <td id=\"T_6198a_row1_col1\" class=\"data row1 col1\" >440317</td>\n",
       "                        <td id=\"T_6198a_row1_col2\" class=\"data row1 col2\" >267268</td>\n",
       "                        <td id=\"T_6198a_row1_col3\" class=\"data row1 col3\" >0</td>\n",
       "                        <td id=\"T_6198a_row1_col4\" class=\"data row1 col4\" >0%</td>\n",
       "                        <td id=\"T_6198a_row1_col5\" class=\"data row1 col5\" >['2020-12-07 20:22:03', '2020-12-07 09:22:53', '2020-12-07 12:59:29', '2020-12-07 04:02:40', '2020-12-07 10:15:09']</td>\n",
       "            </tr>\n",
       "            <tr>\n",
       "                        <th id=\"T_6198a_level0_row2\" class=\"row_heading level0 row2\" >event_name</th>\n",
       "                        <td id=\"T_6198a_row2_col0\" class=\"data row2 col0\" >object</td>\n",
       "                        <td id=\"T_6198a_row2_col1\" class=\"data row2 col1\" >440317</td>\n",
       "                        <td id=\"T_6198a_row2_col2\" class=\"data row2 col2\" >4</td>\n",
       "                        <td id=\"T_6198a_row2_col3\" class=\"data row2 col3\" >0</td>\n",
       "                        <td id=\"T_6198a_row2_col4\" class=\"data row2 col4\" >0%</td>\n",
       "                        <td id=\"T_6198a_row2_col5\" class=\"data row2 col5\" >['purchase', 'product_cart', 'product_page', 'login']</td>\n",
       "            </tr>\n",
       "            <tr>\n",
       "                        <th id=\"T_6198a_level0_row3\" class=\"row_heading level0 row3\" >details</th>\n",
       "                        <td id=\"T_6198a_row3_col0\" class=\"data row3 col0\" >float64</td>\n",
       "                        <td id=\"T_6198a_row3_col1\" class=\"data row3 col1\" >440317</td>\n",
       "                        <td id=\"T_6198a_row3_col2\" class=\"data row3 col2\" >4</td>\n",
       "                        <td id=\"T_6198a_row3_col3\" class=\"data row3 col3\" >377577</td>\n",
       "                        <td id=\"T_6198a_row3_col4\" class=\"data row3 col4\" >86%</td>\n",
       "                        <td id=\"T_6198a_row3_col5\" class=\"data row3 col5\" >['99.99', '9.99', '4.99', '499.99', 'nan']</td>\n",
       "            </tr>\n",
       "    </tbody></table>"
      ],
      "text/plain": [
       "<pandas.io.formats.style.Styler at 0x26216f73f40>"
      ]
     },
     "metadata": {},
     "output_type": "display_data"
    },
    {
     "data": {
      "text/markdown": [
       "**Дубликаты:**"
      ],
      "text/plain": [
       "<IPython.core.display.Markdown object>"
      ]
     },
     "metadata": {},
     "output_type": "display_data"
    },
    {
     "name": "stdout",
     "output_type": "stream",
     "text": [
      "Количество полных строк-дубликатов:  0\n",
      "Процент дубликатов от всех данных:  0.00%\n"
     ]
    }
   ],
   "source": [
    "full_info_check(ab_events)"
   ]
  },
  {
   "cell_type": "markdown",
   "id": "8d25a673",
   "metadata": {},
   "source": [
    "Данные обо всех событиях новых пользователей в период с 7 декабря 2020 по 4 января 2021 года;\n",
    "* `user_id` — идентификатор пользователя;\n",
    "* `event_dt` — дата и время события;\n",
    "* `event_name` — тип события:\n",
    "    * purchase - покупка;\n",
    "    * product_cart - просмотр продуктовой карты;\n",
    "    * product_page - просмотр страницы продукта;\n",
    "    * login - вход в систему;\n",
    "* `details` — дополнительные данные о событии. Например, для покупок, purchase, в этом поле хранится стоимость покупки в долларах.\n",
    "\n",
    "Данные не имеют дубликатов, однако имеются пропуски и неверный тип даты.\n",
    "\n",
    "#### Предобработка\n",
    "\n",
    "Исправим тип данных в столбце `event_dt` и  на datetime"
   ]
  },
  {
   "cell_type": "code",
   "execution_count": 23,
   "id": "b85bd6d0",
   "metadata": {},
   "outputs": [],
   "source": [
    "ab_events['event_dt'] = pd.to_datetime(ab_events['event_dt'])"
   ]
  },
  {
   "cell_type": "markdown",
   "id": "4087bc68",
   "metadata": {},
   "source": [
    "Изучим пропуски. посмотрим как распределены пропуски по типам события"
   ]
  },
  {
   "cell_type": "code",
   "execution_count": 24,
   "id": "945e14a2",
   "metadata": {},
   "outputs": [
    {
     "data": {
      "text/markdown": [
       "**Пропуски:**"
      ],
      "text/plain": [
       "<IPython.core.display.Markdown object>"
      ]
     },
     "metadata": {},
     "output_type": "display_data"
    },
    {
     "data": {
      "text/html": [
       "<style  type=\"text/css\" >\n",
       "</style><table id=\"T_bd113_\" ><thead>    <tr>        <th class=\"blank level0\" ></th>        <th class=\"col_heading level0 col0\" >cnt_of_pass</th>        <th class=\"col_heading level0 col1\" >persent_of_pass</th>    </tr>    <tr>        <th class=\"index_name level0\" >event_name</th>        <th class=\"blank\" ></th>        <th class=\"blank\" ></th>    </tr></thead><tbody>\n",
       "                <tr>\n",
       "                        <th id=\"T_bd113_level0_row0\" class=\"row_heading level0 row0\" >purchase</th>\n",
       "                        <td id=\"T_bd113_row0_col0\" class=\"data row0 col0\" >0</td>\n",
       "                        <td id=\"T_bd113_row0_col1\" class=\"data row0 col1\" >0%</td>\n",
       "            </tr>\n",
       "            <tr>\n",
       "                        <th id=\"T_bd113_level0_row1\" class=\"row_heading level0 row1\" >login</th>\n",
       "                        <td id=\"T_bd113_row1_col0\" class=\"data row1 col0\" >1</td>\n",
       "                        <td id=\"T_bd113_row1_col1\" class=\"data row1 col1\" >100%</td>\n",
       "            </tr>\n",
       "            <tr>\n",
       "                        <th id=\"T_bd113_level0_row2\" class=\"row_heading level0 row2\" >product_cart</th>\n",
       "                        <td id=\"T_bd113_row2_col0\" class=\"data row2 col0\" >1</td>\n",
       "                        <td id=\"T_bd113_row2_col1\" class=\"data row2 col1\" >100%</td>\n",
       "            </tr>\n",
       "            <tr>\n",
       "                        <th id=\"T_bd113_level0_row3\" class=\"row_heading level0 row3\" >product_page</th>\n",
       "                        <td id=\"T_bd113_row3_col0\" class=\"data row3 col0\" >1</td>\n",
       "                        <td id=\"T_bd113_row3_col1\" class=\"data row3 col1\" >100%</td>\n",
       "            </tr>\n",
       "    </tbody></table>"
      ],
      "text/plain": [
       "<pandas.io.formats.style.Styler at 0x26216f73ac0>"
      ]
     },
     "metadata": {},
     "output_type": "display_data"
    }
   ],
   "source": [
    "pass_check(ab_events[['event_name', 'details']].pivot_table(index='event_name', dropna = False).T)"
   ]
  },
  {
   "cell_type": "markdown",
   "id": "53dbf4f9",
   "metadata": {},
   "source": [
    "Таким образом пропуски связаны с отсутсвием дополнительных данных о всех событиях кроме purchase. \n",
    "\n",
    "Дополнительные данные к событию \"покупка\", со слов заказчика, относятся к цене покупки.\n",
    "\n",
    "Пропуски в этих данных не нуждаются в заполнении или удалении.\n",
    "\n",
    "Данные готовы к работе."
   ]
  },
  {
   "cell_type": "markdown",
   "id": "e933af64",
   "metadata": {},
   "source": [
    "### **ab_participants**\n",
    "\n",
    "#### Описание данных"
   ]
  },
  {
   "cell_type": "code",
   "execution_count": 25,
   "id": "2cc717c6",
   "metadata": {},
   "outputs": [
    {
     "data": {
      "text/html": [
       "<div>\n",
       "<style scoped>\n",
       "    .dataframe tbody tr th:only-of-type {\n",
       "        vertical-align: middle;\n",
       "    }\n",
       "\n",
       "    .dataframe tbody tr th {\n",
       "        vertical-align: top;\n",
       "    }\n",
       "\n",
       "    .dataframe thead th {\n",
       "        text-align: right;\n",
       "    }\n",
       "</style>\n",
       "<table border=\"1\" class=\"dataframe\">\n",
       "  <thead>\n",
       "    <tr style=\"text-align: right;\">\n",
       "      <th></th>\n",
       "      <th>user_id</th>\n",
       "      <th>group</th>\n",
       "      <th>ab_test</th>\n",
       "    </tr>\n",
       "  </thead>\n",
       "  <tbody>\n",
       "    <tr>\n",
       "      <th>0</th>\n",
       "      <td>D1ABA3E2887B6A73</td>\n",
       "      <td>A</td>\n",
       "      <td>recommender_system_test</td>\n",
       "    </tr>\n",
       "    <tr>\n",
       "      <th>1</th>\n",
       "      <td>A7A3664BD6242119</td>\n",
       "      <td>A</td>\n",
       "      <td>recommender_system_test</td>\n",
       "    </tr>\n",
       "    <tr>\n",
       "      <th>2</th>\n",
       "      <td>DABC14FDDFADD29E</td>\n",
       "      <td>A</td>\n",
       "      <td>recommender_system_test</td>\n",
       "    </tr>\n",
       "    <tr>\n",
       "      <th>3</th>\n",
       "      <td>04988C5DF189632E</td>\n",
       "      <td>A</td>\n",
       "      <td>recommender_system_test</td>\n",
       "    </tr>\n",
       "    <tr>\n",
       "      <th>4</th>\n",
       "      <td>482F14783456D21B</td>\n",
       "      <td>B</td>\n",
       "      <td>recommender_system_test</td>\n",
       "    </tr>\n",
       "    <tr>\n",
       "      <th>...</th>\n",
       "      <td>...</td>\n",
       "      <td>...</td>\n",
       "      <td>...</td>\n",
       "    </tr>\n",
       "    <tr>\n",
       "      <th>18263</th>\n",
       "      <td>1D302F8688B91781</td>\n",
       "      <td>B</td>\n",
       "      <td>interface_eu_test</td>\n",
       "    </tr>\n",
       "    <tr>\n",
       "      <th>18264</th>\n",
       "      <td>3DE51B726983B657</td>\n",
       "      <td>A</td>\n",
       "      <td>interface_eu_test</td>\n",
       "    </tr>\n",
       "    <tr>\n",
       "      <th>18265</th>\n",
       "      <td>F501F79D332BE86C</td>\n",
       "      <td>A</td>\n",
       "      <td>interface_eu_test</td>\n",
       "    </tr>\n",
       "    <tr>\n",
       "      <th>18266</th>\n",
       "      <td>63FBE257B05F2245</td>\n",
       "      <td>A</td>\n",
       "      <td>interface_eu_test</td>\n",
       "    </tr>\n",
       "    <tr>\n",
       "      <th>18267</th>\n",
       "      <td>79F9ABFB029CF724</td>\n",
       "      <td>B</td>\n",
       "      <td>interface_eu_test</td>\n",
       "    </tr>\n",
       "  </tbody>\n",
       "</table>\n",
       "<p>18268 rows × 3 columns</p>\n",
       "</div>"
      ],
      "text/plain": [
       "                user_id group                  ab_test\n",
       "0      D1ABA3E2887B6A73     A  recommender_system_test\n",
       "1      A7A3664BD6242119     A  recommender_system_test\n",
       "2      DABC14FDDFADD29E     A  recommender_system_test\n",
       "3      04988C5DF189632E     A  recommender_system_test\n",
       "4      482F14783456D21B     B  recommender_system_test\n",
       "...                 ...   ...                      ...\n",
       "18263  1D302F8688B91781     B        interface_eu_test\n",
       "18264  3DE51B726983B657     A        interface_eu_test\n",
       "18265  F501F79D332BE86C     A        interface_eu_test\n",
       "18266  63FBE257B05F2245     A        interface_eu_test\n",
       "18267  79F9ABFB029CF724     B        interface_eu_test\n",
       "\n",
       "[18268 rows x 3 columns]"
      ]
     },
     "metadata": {},
     "output_type": "display_data"
    },
    {
     "data": {
      "text/markdown": [
       "**Общая информация:**"
      ],
      "text/plain": [
       "<IPython.core.display.Markdown object>"
      ]
     },
     "metadata": {},
     "output_type": "display_data"
    },
    {
     "data": {
      "text/html": [
       "<style  type=\"text/css\" >\n",
       "</style><table id=\"T_f04c5_\" ><thead>    <tr>        <th class=\"blank level0\" ></th>        <th class=\"col_heading level0 col0\" >type</th>        <th class=\"col_heading level0 col1\" >quantity</th>        <th class=\"col_heading level0 col2\" >nunique</th>        <th class=\"col_heading level0 col3\" >cnt_of_pass</th>        <th class=\"col_heading level0 col4\" >persent_of_pass</th>        <th class=\"col_heading level0 col5\" >unique_first_5</th>    </tr></thead><tbody>\n",
       "                <tr>\n",
       "                        <th id=\"T_f04c5_level0_row0\" class=\"row_heading level0 row0\" >user_id</th>\n",
       "                        <td id=\"T_f04c5_row0_col0\" class=\"data row0 col0\" >object</td>\n",
       "                        <td id=\"T_f04c5_row0_col1\" class=\"data row0 col1\" >18268</td>\n",
       "                        <td id=\"T_f04c5_row0_col2\" class=\"data row0 col2\" >16666</td>\n",
       "                        <td id=\"T_f04c5_row0_col3\" class=\"data row0 col3\" >0</td>\n",
       "                        <td id=\"T_f04c5_row0_col4\" class=\"data row0 col4\" >0%</td>\n",
       "                        <td id=\"T_f04c5_row0_col5\" class=\"data row0 col5\" >['D1ABA3E2887B6A73', 'A7A3664BD6242119', 'DABC14FDDFADD29E', '04988C5DF189632E', '482F14783456D21B']</td>\n",
       "            </tr>\n",
       "            <tr>\n",
       "                        <th id=\"T_f04c5_level0_row1\" class=\"row_heading level0 row1\" >group</th>\n",
       "                        <td id=\"T_f04c5_row1_col0\" class=\"data row1 col0\" >object</td>\n",
       "                        <td id=\"T_f04c5_row1_col1\" class=\"data row1 col1\" >18268</td>\n",
       "                        <td id=\"T_f04c5_row1_col2\" class=\"data row1 col2\" >2</td>\n",
       "                        <td id=\"T_f04c5_row1_col3\" class=\"data row1 col3\" >0</td>\n",
       "                        <td id=\"T_f04c5_row1_col4\" class=\"data row1 col4\" >0%</td>\n",
       "                        <td id=\"T_f04c5_row1_col5\" class=\"data row1 col5\" >['A', 'B']</td>\n",
       "            </tr>\n",
       "            <tr>\n",
       "                        <th id=\"T_f04c5_level0_row2\" class=\"row_heading level0 row2\" >ab_test</th>\n",
       "                        <td id=\"T_f04c5_row2_col0\" class=\"data row2 col0\" >object</td>\n",
       "                        <td id=\"T_f04c5_row2_col1\" class=\"data row2 col1\" >18268</td>\n",
       "                        <td id=\"T_f04c5_row2_col2\" class=\"data row2 col2\" >2</td>\n",
       "                        <td id=\"T_f04c5_row2_col3\" class=\"data row2 col3\" >0</td>\n",
       "                        <td id=\"T_f04c5_row2_col4\" class=\"data row2 col4\" >0%</td>\n",
       "                        <td id=\"T_f04c5_row2_col5\" class=\"data row2 col5\" >['recommender_system_test', 'interface_eu_test']</td>\n",
       "            </tr>\n",
       "    </tbody></table>"
      ],
      "text/plain": [
       "<pandas.io.formats.style.Styler at 0x26215dee580>"
      ]
     },
     "metadata": {},
     "output_type": "display_data"
    },
    {
     "data": {
      "text/markdown": [
       "**Дубликаты:**"
      ],
      "text/plain": [
       "<IPython.core.display.Markdown object>"
      ]
     },
     "metadata": {},
     "output_type": "display_data"
    },
    {
     "name": "stdout",
     "output_type": "stream",
     "text": [
      "Количество полных строк-дубликатов:  0\n",
      "Процент дубликатов от всех данных:  0.00%\n"
     ]
    }
   ],
   "source": [
    "full_info_check(ab_participants)"
   ]
  },
  {
   "cell_type": "markdown",
   "id": "811deb70",
   "metadata": {},
   "source": [
    "Таблица участников тестов.\n",
    "* `user_id` — идентификатор пользователя;\n",
    "* `ab_test` — название теста:\n",
    "    * recommender_system_test;\n",
    "    * interface_eu_test.\n",
    "* `group` — группа пользователя:\n",
    "    * A; \n",
    "    * B.\n",
    "    \n",
    "Полных дубликатов, пропусков, ошибок в типах данных нет. \n",
    "\n",
    "Возможно встречаются дубликаты в user_id, но их проверка относится к проверке критериев А/В тестирования, поэтому выполним эту проверку позже.\n",
    "\n",
    "Данные готовы для работы."
   ]
  },
  {
   "cell_type": "markdown",
   "id": "d6bb64fd",
   "metadata": {},
   "source": [
    "## Оценка корректности проведения теста\n",
    "\n",
    "Продублируем для удобства технического задание\n",
    "\n",
    "**Техническое задание:**\n",
    "\n",
    "* Назначение теста: тестирование изменений, связанных с внедрением улучшенной рекомендательной системы;\n",
    "* Ожидаемое количество участников теста: 6000.\n",
    "* Ожидаемый эффект: за 14 дней с момента регистрации в системе пользователи покажут улучшение каждой метрики не менее, чем на 10%:\n",
    "    * конверсии в просмотр карточек товаров — событие product_page\n",
    "    * просмотры корзины — product_cart\n",
    "    * покупки — purchase.\n",
    "    \n",
    "\n",
    "* Требования к данным: \n",
    "    * Название теста: recommender_system_test;\n",
    "    * Группы: А (контрольная), B (новая платёжная воронка);\n",
    "    * Дата запуска: 2020-12-07;\n",
    "    * Дата остановки набора новых пользователей: 2020-12-21;\n",
    "    * Дата остановки: 2021-01-04;\n",
    "    * Аудитория: 15% новых пользователей из региона EU;\n",
    "\n",
    "\n",
    "\n",
    "Так же необходимо проверить не пересекается ли проведение теста с другими маркетинговыми событиями или другими тестами."
   ]
  },
  {
   "cell_type": "markdown",
   "id": "835fb5f2",
   "metadata": {},
   "source": [
    "### Соответствие данных требованиям технического задания.\n",
    "\n",
    "#### Название теста и группы"
   ]
  },
  {
   "cell_type": "markdown",
   "id": "b277c66e",
   "metadata": {},
   "source": [
    "Еще раз посмотрим на данные, которые нам предоставлены:"
   ]
  },
  {
   "cell_type": "code",
   "execution_count": 26,
   "id": "73f013ad",
   "metadata": {},
   "outputs": [
    {
     "data": {
      "text/markdown": [
       "**Общая информация:**"
      ],
      "text/plain": [
       "<IPython.core.display.Markdown object>"
      ]
     },
     "metadata": {},
     "output_type": "display_data"
    },
    {
     "data": {
      "text/html": [
       "<style  type=\"text/css\" >\n",
       "</style><table id=\"T_fccbc_\" ><thead>    <tr>        <th class=\"blank level0\" ></th>        <th class=\"col_heading level0 col0\" >type</th>        <th class=\"col_heading level0 col1\" >quantity</th>        <th class=\"col_heading level0 col2\" >nunique</th>        <th class=\"col_heading level0 col3\" >cnt_of_pass</th>        <th class=\"col_heading level0 col4\" >persent_of_pass</th>        <th class=\"col_heading level0 col5\" >unique_first_5</th>    </tr></thead><tbody>\n",
       "                <tr>\n",
       "                        <th id=\"T_fccbc_level0_row0\" class=\"row_heading level0 row0\" >user_id</th>\n",
       "                        <td id=\"T_fccbc_row0_col0\" class=\"data row0 col0\" >object</td>\n",
       "                        <td id=\"T_fccbc_row0_col1\" class=\"data row0 col1\" >18268</td>\n",
       "                        <td id=\"T_fccbc_row0_col2\" class=\"data row0 col2\" >16666</td>\n",
       "                        <td id=\"T_fccbc_row0_col3\" class=\"data row0 col3\" >0</td>\n",
       "                        <td id=\"T_fccbc_row0_col4\" class=\"data row0 col4\" >0%</td>\n",
       "                        <td id=\"T_fccbc_row0_col5\" class=\"data row0 col5\" >['D1ABA3E2887B6A73', 'A7A3664BD6242119', 'DABC14FDDFADD29E', '04988C5DF189632E', '482F14783456D21B']</td>\n",
       "            </tr>\n",
       "            <tr>\n",
       "                        <th id=\"T_fccbc_level0_row1\" class=\"row_heading level0 row1\" >group</th>\n",
       "                        <td id=\"T_fccbc_row1_col0\" class=\"data row1 col0\" >object</td>\n",
       "                        <td id=\"T_fccbc_row1_col1\" class=\"data row1 col1\" >18268</td>\n",
       "                        <td id=\"T_fccbc_row1_col2\" class=\"data row1 col2\" >2</td>\n",
       "                        <td id=\"T_fccbc_row1_col3\" class=\"data row1 col3\" >0</td>\n",
       "                        <td id=\"T_fccbc_row1_col4\" class=\"data row1 col4\" >0%</td>\n",
       "                        <td id=\"T_fccbc_row1_col5\" class=\"data row1 col5\" >['A', 'B']</td>\n",
       "            </tr>\n",
       "            <tr>\n",
       "                        <th id=\"T_fccbc_level0_row2\" class=\"row_heading level0 row2\" >ab_test</th>\n",
       "                        <td id=\"T_fccbc_row2_col0\" class=\"data row2 col0\" >object</td>\n",
       "                        <td id=\"T_fccbc_row2_col1\" class=\"data row2 col1\" >18268</td>\n",
       "                        <td id=\"T_fccbc_row2_col2\" class=\"data row2 col2\" >2</td>\n",
       "                        <td id=\"T_fccbc_row2_col3\" class=\"data row2 col3\" >0</td>\n",
       "                        <td id=\"T_fccbc_row2_col4\" class=\"data row2 col4\" >0%</td>\n",
       "                        <td id=\"T_fccbc_row2_col5\" class=\"data row2 col5\" >['recommender_system_test', 'interface_eu_test']</td>\n",
       "            </tr>\n",
       "    </tbody></table>"
      ],
      "text/plain": [
       "<pandas.io.formats.style.Styler at 0x26215deed30>"
      ]
     },
     "metadata": {},
     "output_type": "display_data"
    }
   ],
   "source": [
    "info_check(ab_participants)"
   ]
  },
  {
   "cell_type": "markdown",
   "id": "9225b02d",
   "metadata": {},
   "source": [
    "Выделим пользователей, участвующих в нужном нам тесте:"
   ]
  },
  {
   "cell_type": "code",
   "execution_count": 27,
   "id": "3f3fd7ee",
   "metadata": {},
   "outputs": [
    {
     "data": {
      "text/markdown": [
       "**Общая информация:**"
      ],
      "text/plain": [
       "<IPython.core.display.Markdown object>"
      ]
     },
     "metadata": {},
     "output_type": "display_data"
    },
    {
     "data": {
      "text/html": [
       "<style  type=\"text/css\" >\n",
       "</style><table id=\"T_766d7_\" ><thead>    <tr>        <th class=\"blank level0\" ></th>        <th class=\"col_heading level0 col0\" >type</th>        <th class=\"col_heading level0 col1\" >quantity</th>        <th class=\"col_heading level0 col2\" >nunique</th>        <th class=\"col_heading level0 col3\" >cnt_of_pass</th>        <th class=\"col_heading level0 col4\" >persent_of_pass</th>        <th class=\"col_heading level0 col5\" >unique_first_5</th>    </tr></thead><tbody>\n",
       "                <tr>\n",
       "                        <th id=\"T_766d7_level0_row0\" class=\"row_heading level0 row0\" >user_id</th>\n",
       "                        <td id=\"T_766d7_row0_col0\" class=\"data row0 col0\" >object</td>\n",
       "                        <td id=\"T_766d7_row0_col1\" class=\"data row0 col1\" >6701</td>\n",
       "                        <td id=\"T_766d7_row0_col2\" class=\"data row0 col2\" >6701</td>\n",
       "                        <td id=\"T_766d7_row0_col3\" class=\"data row0 col3\" >0</td>\n",
       "                        <td id=\"T_766d7_row0_col4\" class=\"data row0 col4\" >0%</td>\n",
       "                        <td id=\"T_766d7_row0_col5\" class=\"data row0 col5\" >['D1ABA3E2887B6A73', 'A7A3664BD6242119', 'DABC14FDDFADD29E', '04988C5DF189632E', '482F14783456D21B']</td>\n",
       "            </tr>\n",
       "            <tr>\n",
       "                        <th id=\"T_766d7_level0_row1\" class=\"row_heading level0 row1\" >group</th>\n",
       "                        <td id=\"T_766d7_row1_col0\" class=\"data row1 col0\" >object</td>\n",
       "                        <td id=\"T_766d7_row1_col1\" class=\"data row1 col1\" >6701</td>\n",
       "                        <td id=\"T_766d7_row1_col2\" class=\"data row1 col2\" >2</td>\n",
       "                        <td id=\"T_766d7_row1_col3\" class=\"data row1 col3\" >0</td>\n",
       "                        <td id=\"T_766d7_row1_col4\" class=\"data row1 col4\" >0%</td>\n",
       "                        <td id=\"T_766d7_row1_col5\" class=\"data row1 col5\" >['A', 'B']</td>\n",
       "            </tr>\n",
       "            <tr>\n",
       "                        <th id=\"T_766d7_level0_row2\" class=\"row_heading level0 row2\" >ab_test</th>\n",
       "                        <td id=\"T_766d7_row2_col0\" class=\"data row2 col0\" >object</td>\n",
       "                        <td id=\"T_766d7_row2_col1\" class=\"data row2 col1\" >6701</td>\n",
       "                        <td id=\"T_766d7_row2_col2\" class=\"data row2 col2\" >1</td>\n",
       "                        <td id=\"T_766d7_row2_col3\" class=\"data row2 col3\" >0</td>\n",
       "                        <td id=\"T_766d7_row2_col4\" class=\"data row2 col4\" >0%</td>\n",
       "                        <td id=\"T_766d7_row2_col5\" class=\"data row2 col5\" >['recommender_system_test']</td>\n",
       "            </tr>\n",
       "    </tbody></table>"
      ],
      "text/plain": [
       "<pandas.io.formats.style.Styler at 0x26216f5a700>"
      ]
     },
     "metadata": {},
     "output_type": "display_data"
    }
   ],
   "source": [
    "info_check(ab_participants.query('ab_test == \"recommender_system_test\"'))"
   ]
  },
  {
   "cell_type": "markdown",
   "id": "e29c21a9",
   "metadata": {},
   "source": [
    "**По техническому заданию:**\n",
    "\n",
    "* Название теста: recommender_system_test - **<font color=\"green\">✔ корректно</font>**; \n",
    "* Группы: А, B - **<font color=\"green\">✔ корректно</font>**. "
   ]
  },
  {
   "cell_type": "markdown",
   "id": "64809d12",
   "metadata": {},
   "source": [
    "#### Дата проведения теста\n",
    "Посмотрим за какой период у нас имеются данные о событиях. События хранятся в таблице `ab_events`."
   ]
  },
  {
   "cell_type": "code",
   "execution_count": 28,
   "id": "b94cd69c",
   "metadata": {},
   "outputs": [
    {
     "data": {
      "text/markdown": [
       "**Даты проведения теста:**"
      ],
      "text/plain": [
       "<IPython.core.display.Markdown object>"
      ]
     },
     "metadata": {},
     "output_type": "display_data"
    },
    {
     "name": "stdout",
     "output_type": "stream",
     "text": [
      "Начальная дата:  2020-12-07 00:00:33 \n",
      "Конечная дата:  2020-12-30 23:36:33 \n",
      "Период в:  23 days 23:36:00\n"
     ]
    }
   ],
   "source": [
    "display(Markdown('**Даты проведения теста:**'))\n",
    "time_check(ab_events['event_dt'])"
   ]
  },
  {
   "cell_type": "markdown",
   "id": "66c6f185",
   "metadata": {},
   "source": [
    "**По техническому заданию:**\n",
    "- Дата запуска: 2020-12-07; **<font color=\"green\">✔ корректно</font>**\n",
    "- Дата остановки: 2021-01-04. **<font color=\"red\">✘ не корректно - 2020-12-30, тест завершен раньше</font>**\n",
    "\n",
    "Получается сбор данных о событиях остановлен раньше, чем это было запланировано."
   ]
  },
  {
   "cell_type": "markdown",
   "id": "36133e00",
   "metadata": {},
   "source": [
    "#### Дата остановки набора новых пользователей"
   ]
  },
  {
   "cell_type": "code",
   "execution_count": 29,
   "id": "415382a6",
   "metadata": {},
   "outputs": [
    {
     "data": {
      "text/markdown": [
       "**Даты добавления новых пользователей:**"
      ],
      "text/plain": [
       "<IPython.core.display.Markdown object>"
      ]
     },
     "metadata": {},
     "output_type": "display_data"
    },
    {
     "name": "stdout",
     "output_type": "stream",
     "text": [
      "Начальная дата:  2020-12-07 00:00:00 \n",
      "Конечная дата:  2020-12-23 00:00:00 \n",
      "Период в:  16 days 00:00:00\n"
     ]
    }
   ],
   "source": [
    "display(Markdown('**Даты добавления новых пользователей:**'))\n",
    "time_check(new_users['first_date'])"
   ]
  },
  {
   "cell_type": "markdown",
   "id": "bed6bd9d",
   "metadata": {},
   "source": [
    "Так как в данных присутствуют пользователи из двух тестов, проверим, когда остановлен набор новых пользователей только по нашему тесту:"
   ]
  },
  {
   "cell_type": "code",
   "execution_count": 30,
   "id": "2be222e7",
   "metadata": {},
   "outputs": [
    {
     "name": "stdout",
     "output_type": "stream",
     "text": [
      "Начальная дата:  2020-12-07 00:00:00 \n",
      "Конечная дата:  2020-12-21 00:00:00 \n",
      "Период в:  14 days 00:00:00\n"
     ]
    }
   ],
   "source": [
    "time_check(ab_participants.query('ab_test == \"recommender_system_test\"')\n",
    "           .merge(new_users, on='user_id', how='left')\n",
    "           ['first_date'])"
   ]
  },
  {
   "cell_type": "markdown",
   "id": "9724329a",
   "metadata": {},
   "source": [
    "**По техническому заданию:**\n",
    "* Дата завершения добавления новых пользователей: 2020-12-21  **<font color=\"green\">✔ корректно</font>**"
   ]
  },
  {
   "cell_type": "markdown",
   "id": "0b78ea46",
   "metadata": {},
   "source": [
    "#### Выборка пользователей\n",
    "\n",
    "По техническому заданию в тесте принимают участие 15% новых пользователей из региона EU.\n",
    "\n",
    "Проверим так ли это. Посчитаем процент пользователей попавших в тестирование. \n",
    "\n",
    "Для этого:\n",
    "* Создадим список всех новых пользователей из региона EU - `new_eu_users`"
   ]
  },
  {
   "cell_type": "code",
   "execution_count": 31,
   "id": "cdc9800f",
   "metadata": {},
   "outputs": [],
   "source": [
    "new_eu_users = new_users.query('region == \"EU\"')['user_id'].unique()"
   ]
  },
  {
   "cell_type": "markdown",
   "id": "2e22bca0",
   "metadata": {},
   "source": [
    "* соберем все айди пользователей, которые:\n",
    "    * попали в тест recommender_system_test;\n",
    "    * находятся в списке `new_eu_users`, т.е. являются пользователями из Евросоюза.\n",
    "  \n",
    "  получим корректный список пользователей, которые должны были оказаться в тесте - `test_1_users`."
   ]
  },
  {
   "cell_type": "code",
   "execution_count": 32,
   "id": "3ccaead9",
   "metadata": {},
   "outputs": [],
   "source": [
    "ab_participants_test_1 = ab_participants.query('ab_test == \"recommender_system_test\" and user_id in @new_eu_users')"
   ]
  },
  {
   "cell_type": "code",
   "execution_count": 33,
   "id": "fac90be8",
   "metadata": {},
   "outputs": [],
   "source": [
    "test_1_users = ab_participants_test_1['user_id'].unique()"
   ]
  },
  {
   "cell_type": "markdown",
   "id": "6863c97d",
   "metadata": {},
   "source": [
    "Вычислим процент пользователей попавших в тест"
   ]
  },
  {
   "cell_type": "code",
   "execution_count": 34,
   "id": "ffc6e577",
   "metadata": {},
   "outputs": [
    {
     "name": "stdout",
     "output_type": "stream",
     "text": [
      "Процент пользователей, участвующих в тесте:  13.73%\n"
     ]
    }
   ],
   "source": [
    "print('Процент пользователей, участвующих в тесте: ', '{:.2%}'.format(len(test_1_users) / len(new_eu_users)))"
   ]
  },
  {
   "cell_type": "markdown",
   "id": "2916b6c0",
   "metadata": {},
   "source": [
    "Уточним количество пользователей, участвующих в тесте:"
   ]
  },
  {
   "cell_type": "code",
   "execution_count": 35,
   "id": "4b9391dd",
   "metadata": {},
   "outputs": [
    {
     "name": "stdout",
     "output_type": "stream",
     "text": [
      "Количество пользователей в тесте:  6351\n"
     ]
    }
   ],
   "source": [
    "len_check(test_1_users)"
   ]
  },
  {
   "cell_type": "markdown",
   "id": "22ddd58e",
   "metadata": {},
   "source": [
    "Техническое задание: \n",
    "* 15% новых пользователей из региона EU - **<font color=\"green\">✔ корректно</font>**\n",
    "* Ожидаемое количество участников теста 6000 - **<font color=\"green\"> 6351 ✔ чем больше, тем лучше</font>**"
   ]
  },
  {
   "cell_type": "markdown",
   "id": "4c9ae84f",
   "metadata": {},
   "source": [
    "### Время проведения теста\n",
    "\n",
    "На мой взгляд время проведение теста выбрано неудачно - начало теста в начале декабря, относительно спокойное время и конец теста приходится на новогодние праздники. Пользователи могут увеличить свою активность или понизить, в зависимости от тематики площадки, на которой проводится тестирование."
   ]
  },
  {
   "cell_type": "code",
   "execution_count": 36,
   "id": "fe72d337",
   "metadata": {},
   "outputs": [
    {
     "data": {
      "text/html": [
       "<div>\n",
       "<style scoped>\n",
       "    .dataframe tbody tr th:only-of-type {\n",
       "        vertical-align: middle;\n",
       "    }\n",
       "\n",
       "    .dataframe tbody tr th {\n",
       "        vertical-align: top;\n",
       "    }\n",
       "\n",
       "    .dataframe thead th {\n",
       "        text-align: right;\n",
       "    }\n",
       "</style>\n",
       "<table border=\"1\" class=\"dataframe\">\n",
       "  <thead>\n",
       "    <tr style=\"text-align: right;\">\n",
       "      <th></th>\n",
       "      <th>name</th>\n",
       "      <th>regions</th>\n",
       "      <th>start_dt</th>\n",
       "      <th>finish_dt</th>\n",
       "    </tr>\n",
       "  </thead>\n",
       "  <tbody>\n",
       "    <tr>\n",
       "      <th>0</th>\n",
       "      <td>Christmas&amp;New Year Promo</td>\n",
       "      <td>EU, N.America</td>\n",
       "      <td>2020-12-25</td>\n",
       "      <td>2021-01-03</td>\n",
       "    </tr>\n",
       "  </tbody>\n",
       "</table>\n",
       "</div>"
      ],
      "text/plain": [
       "                       name        regions   start_dt  finish_dt\n",
       "0  Christmas&New Year Promo  EU, N.America 2020-12-25 2021-01-03"
      ]
     },
     "execution_count": 36,
     "metadata": {},
     "output_type": "execute_result"
    }
   ],
   "source": [
    "(marketing_events\n",
    " .query('finish_dt >= @ab_events.event_dt.min() and start_dt <= @ab_events.event_dt.max()')\n",
    " .loc[marketing_events['regions'].str.contains('EU')]\n",
    ")"
   ]
  },
  {
   "cell_type": "markdown",
   "id": "1c724edc",
   "metadata": {},
   "source": [
    "Судя по списку маркетинговых акций время теста по тех.заданию совпадает c проведением одной акции - `Christmas&New Year Promo` (вторая акция проводится в другом регионе).\n",
    "\n",
    "По фактически имеющимся данным тест остановлен 2020-12-30, то есть 5 дней акции вошли во время проведения теста.\n",
    "\n",
    "Из таблицы `ab_events` получим данные тех пользователей, что вошли в тест по техническому заданию:"
   ]
  },
  {
   "cell_type": "code",
   "execution_count": 37,
   "id": "40ba3ea9",
   "metadata": {},
   "outputs": [],
   "source": [
    "ab_events_test_1 = ab_events.query('user_id in @new_eu_users')"
   ]
  },
  {
   "cell_type": "markdown",
   "id": "3575bb18",
   "metadata": {},
   "source": [
    "Посмотрим как распределены события по времени."
   ]
  },
  {
   "cell_type": "code",
   "execution_count": 38,
   "id": "1177443a",
   "metadata": {},
   "outputs": [
    {
     "data": {
      "image/png": "[encoded data removed]",
      "text/plain": [
       "<Figure size 1200x300 with 1 Axes>"
      ]
     },
     "metadata": {},
     "output_type": "display_data"
    }
   ],
   "source": [
    "plt.figure(figsize=(12, 3))\n",
    "ab_events_test_1['event_dt'].hist(bins=200)\n",
    "plt.title('Количество событий по времени')\n",
    "plt.xlabel('Дата') \n",
    "plt.ylabel('Количество событий');"
   ]
  },
  {
   "cell_type": "markdown",
   "id": "37487ad4",
   "metadata": {},
   "source": [
    "Судя по графику акция от 25 декабря не вызвала волнений и всплесков активности. Так что события после 25 декабря можно оставить."
   ]
  },
  {
   "cell_type": "markdown",
   "id": "31d45da8",
   "metadata": {},
   "source": [
    "### Аудитория\n",
    "\n",
    "Мы уже убедились в том, что пользователи, участвующие в тесте составляют 15% новых пользователей из евросоюза. Теперь проверим соответствие пользователей ругим критериям:\n",
    "* нет пользователей участвующих в двух тестах одновременно;\n",
    "* нет пользователей участвующих в двух группах одного теста одновременно;\n",
    "* пользователи \"прожили\" лайфтайм в 14 дней;\n",
    "* группы сформированы правильно;\n",
    "* пользователи распределены по группам равномерно.\n",
    "\n",
    "При проверке пунктов будем очищать данные и проверять количество пользователей в тесте.\n",
    "\n",
    "Данные об участии в тестах хранятся в датасете `ab_participants`. Мы уже отсеяли пользователей которые не подходят под критейрий \"пользователь из евросоюза\". и создали таблицу `ab_participants_test_1`. Обновлять данные об участниках теста будем в этой таблице."
   ]
  },
  {
   "cell_type": "code",
   "execution_count": 39,
   "id": "354a81f7",
   "metadata": {},
   "outputs": [
    {
     "data": {
      "text/html": [
       "<div>\n",
       "<style scoped>\n",
       "    .dataframe tbody tr th:only-of-type {\n",
       "        vertical-align: middle;\n",
       "    }\n",
       "\n",
       "    .dataframe tbody tr th {\n",
       "        vertical-align: top;\n",
       "    }\n",
       "\n",
       "    .dataframe thead th {\n",
       "        text-align: right;\n",
       "    }\n",
       "</style>\n",
       "<table border=\"1\" class=\"dataframe\">\n",
       "  <thead>\n",
       "    <tr style=\"text-align: right;\">\n",
       "      <th></th>\n",
       "      <th>user_id</th>\n",
       "      <th>group</th>\n",
       "      <th>ab_test</th>\n",
       "    </tr>\n",
       "  </thead>\n",
       "  <tbody>\n",
       "    <tr>\n",
       "      <th>0</th>\n",
       "      <td>D1ABA3E2887B6A73</td>\n",
       "      <td>A</td>\n",
       "      <td>recommender_system_test</td>\n",
       "    </tr>\n",
       "    <tr>\n",
       "      <th>1</th>\n",
       "      <td>A7A3664BD6242119</td>\n",
       "      <td>A</td>\n",
       "      <td>recommender_system_test</td>\n",
       "    </tr>\n",
       "    <tr>\n",
       "      <th>2</th>\n",
       "      <td>DABC14FDDFADD29E</td>\n",
       "      <td>A</td>\n",
       "      <td>recommender_system_test</td>\n",
       "    </tr>\n",
       "    <tr>\n",
       "      <th>3</th>\n",
       "      <td>04988C5DF189632E</td>\n",
       "      <td>A</td>\n",
       "      <td>recommender_system_test</td>\n",
       "    </tr>\n",
       "    <tr>\n",
       "      <th>4</th>\n",
       "      <td>482F14783456D21B</td>\n",
       "      <td>B</td>\n",
       "      <td>recommender_system_test</td>\n",
       "    </tr>\n",
       "    <tr>\n",
       "      <th>...</th>\n",
       "      <td>...</td>\n",
       "      <td>...</td>\n",
       "      <td>...</td>\n",
       "    </tr>\n",
       "    <tr>\n",
       "      <th>6346</th>\n",
       "      <td>7C5C12FA1B5AB710</td>\n",
       "      <td>A</td>\n",
       "      <td>recommender_system_test</td>\n",
       "    </tr>\n",
       "    <tr>\n",
       "      <th>6347</th>\n",
       "      <td>91C3969B8A72B908</td>\n",
       "      <td>B</td>\n",
       "      <td>recommender_system_test</td>\n",
       "    </tr>\n",
       "    <tr>\n",
       "      <th>6348</th>\n",
       "      <td>E26F13A65CEAC6EA</td>\n",
       "      <td>A</td>\n",
       "      <td>recommender_system_test</td>\n",
       "    </tr>\n",
       "    <tr>\n",
       "      <th>6349</th>\n",
       "      <td>95401934D6D6D4FC</td>\n",
       "      <td>B</td>\n",
       "      <td>recommender_system_test</td>\n",
       "    </tr>\n",
       "    <tr>\n",
       "      <th>6350</th>\n",
       "      <td>80712ED4EA1B52A5</td>\n",
       "      <td>A</td>\n",
       "      <td>recommender_system_test</td>\n",
       "    </tr>\n",
       "  </tbody>\n",
       "</table>\n",
       "<p>6351 rows × 3 columns</p>\n",
       "</div>"
      ],
      "text/plain": [
       "               user_id group                  ab_test\n",
       "0     D1ABA3E2887B6A73     A  recommender_system_test\n",
       "1     A7A3664BD6242119     A  recommender_system_test\n",
       "2     DABC14FDDFADD29E     A  recommender_system_test\n",
       "3     04988C5DF189632E     A  recommender_system_test\n",
       "4     482F14783456D21B     B  recommender_system_test\n",
       "...                ...   ...                      ...\n",
       "6346  7C5C12FA1B5AB710     A  recommender_system_test\n",
       "6347  91C3969B8A72B908     B  recommender_system_test\n",
       "6348  E26F13A65CEAC6EA     A  recommender_system_test\n",
       "6349  95401934D6D6D4FC     B  recommender_system_test\n",
       "6350  80712ED4EA1B52A5     A  recommender_system_test\n",
       "\n",
       "[6351 rows x 3 columns]"
      ]
     },
     "execution_count": 39,
     "metadata": {},
     "output_type": "execute_result"
    }
   ],
   "source": [
    "ab_participants_test_1"
   ]
  },
  {
   "cell_type": "markdown",
   "id": "59596d4b",
   "metadata": {},
   "source": [
    "#### Пересечение пользователей по группам\n",
    "\n",
    "Для изучения пересечений будем использовать исходную таблицу ab_participants так как в подчищенной нет участников второго теста и нам будет не выяснить пересечение групп по тестам."
   ]
  },
  {
   "cell_type": "code",
   "execution_count": 40,
   "id": "4309359b",
   "metadata": {
    "scrolled": true
   },
   "outputs": [
    {
     "data": {
      "text/markdown": [
       "**Общая информация:**"
      ],
      "text/plain": [
       "<IPython.core.display.Markdown object>"
      ]
     },
     "metadata": {},
     "output_type": "display_data"
    },
    {
     "data": {
      "text/html": [
       "<style  type=\"text/css\" >\n",
       "</style><table id=\"T_72c1a_\" ><thead>    <tr>        <th class=\"blank level0\" ></th>        <th class=\"col_heading level0 col0\" >type</th>        <th class=\"col_heading level0 col1\" >quantity</th>        <th class=\"col_heading level0 col2\" >nunique</th>        <th class=\"col_heading level0 col3\" >cnt_of_pass</th>        <th class=\"col_heading level0 col4\" >persent_of_pass</th>        <th class=\"col_heading level0 col5\" >unique_first_5</th>    </tr></thead><tbody>\n",
       "                <tr>\n",
       "                        <th id=\"T_72c1a_level0_row0\" class=\"row_heading level0 row0\" >user_id</th>\n",
       "                        <td id=\"T_72c1a_row0_col0\" class=\"data row0 col0\" >object</td>\n",
       "                        <td id=\"T_72c1a_row0_col1\" class=\"data row0 col1\" >18268</td>\n",
       "                        <td id=\"T_72c1a_row0_col2\" class=\"data row0 col2\" >16666</td>\n",
       "                        <td id=\"T_72c1a_row0_col3\" class=\"data row0 col3\" >0</td>\n",
       "                        <td id=\"T_72c1a_row0_col4\" class=\"data row0 col4\" >0%</td>\n",
       "                        <td id=\"T_72c1a_row0_col5\" class=\"data row0 col5\" >['D1ABA3E2887B6A73', 'A7A3664BD6242119', 'DABC14FDDFADD29E', '04988C5DF189632E', '482F14783456D21B']</td>\n",
       "            </tr>\n",
       "            <tr>\n",
       "                        <th id=\"T_72c1a_level0_row1\" class=\"row_heading level0 row1\" >group</th>\n",
       "                        <td id=\"T_72c1a_row1_col0\" class=\"data row1 col0\" >object</td>\n",
       "                        <td id=\"T_72c1a_row1_col1\" class=\"data row1 col1\" >18268</td>\n",
       "                        <td id=\"T_72c1a_row1_col2\" class=\"data row1 col2\" >2</td>\n",
       "                        <td id=\"T_72c1a_row1_col3\" class=\"data row1 col3\" >0</td>\n",
       "                        <td id=\"T_72c1a_row1_col4\" class=\"data row1 col4\" >0%</td>\n",
       "                        <td id=\"T_72c1a_row1_col5\" class=\"data row1 col5\" >['A', 'B']</td>\n",
       "            </tr>\n",
       "            <tr>\n",
       "                        <th id=\"T_72c1a_level0_row2\" class=\"row_heading level0 row2\" >ab_test</th>\n",
       "                        <td id=\"T_72c1a_row2_col0\" class=\"data row2 col0\" >object</td>\n",
       "                        <td id=\"T_72c1a_row2_col1\" class=\"data row2 col1\" >18268</td>\n",
       "                        <td id=\"T_72c1a_row2_col2\" class=\"data row2 col2\" >2</td>\n",
       "                        <td id=\"T_72c1a_row2_col3\" class=\"data row2 col3\" >0</td>\n",
       "                        <td id=\"T_72c1a_row2_col4\" class=\"data row2 col4\" >0%</td>\n",
       "                        <td id=\"T_72c1a_row2_col5\" class=\"data row2 col5\" >['recommender_system_test', 'interface_eu_test']</td>\n",
       "            </tr>\n",
       "    </tbody></table>"
      ],
      "text/plain": [
       "<pandas.io.formats.style.Styler at 0x26219ae6340>"
      ]
     },
     "metadata": {},
     "output_type": "display_data"
    }
   ],
   "source": [
    "info_check(ab_participants)"
   ]
  },
  {
   "cell_type": "markdown",
   "id": "9a1d856f",
   "metadata": {},
   "source": [
    "Изначально мы расплагаем данными об 16666 уникальных пользователях, которые участвовали в 2 тестах и в каждом были распределены на две группы А и В."
   ]
  },
  {
   "cell_type": "code",
   "execution_count": 41,
   "id": "4658cd65",
   "metadata": {},
   "outputs": [],
   "source": [
    "user_check = ab_participants.groupby('user_id').agg({'ab_test':'nunique', 'group':'nunique'})"
   ]
  },
  {
   "cell_type": "code",
   "execution_count": 42,
   "id": "c74c4cab",
   "metadata": {},
   "outputs": [
    {
     "name": "stdout",
     "output_type": "stream",
     "text": [
      "Количество пользователей, участвующих в двух тестах одновременно:  1602\n",
      "Количество пользователей, участвующих в одном тесте и двух группах одновременно:  0\n"
     ]
    }
   ],
   "source": [
    "print('Количество пользователей, участвующих в двух тестах одновременно: ', user_check.query('ab_test >= 2').shape[0])\n",
    "\n",
    "print('Количество пользователей, участвующих в одном тесте и двух группах одновременно: ', user_check.query('group >= 2 and ab_test == 1').shape[0])"
   ]
  },
  {
   "cell_type": "markdown",
   "id": "04b48f8c",
   "metadata": {},
   "source": [
    "Таким образом у нас есть пересечения по тестам, но нет пересечений по группам внутри теста."
   ]
  },
  {
   "cell_type": "markdown",
   "id": "a8143df6",
   "metadata": {},
   "source": [
    "Интересующий нас тест - `recommender_system_test`. В целом, при пересечении двух тестов нам важно что бы пользователи из изучаемого теста не попали в тестовую (В) группу второго теста. Так как в контрольной группе нет изменений, если пользователи нашего теста участвуют в контрольной группе второго теста для нас это не критично и таких пользователей мы можем оставить. Влияние на второй тест наших пользователей нас не интересует. Тогда:\n",
    "\n",
    "**Пользователи из теста `recommender_system_test` не должны быть в группе В теста `interface_eu_test`.**\n",
    "\n",
    "Соберем списки пользователей:\n",
    "* участники теста `recommender_system_test`;\n",
    "* участники группы В теста `interface_eu_test`."
   ]
  },
  {
   "cell_type": "code",
   "execution_count": 43,
   "id": "2defcb77",
   "metadata": {},
   "outputs": [],
   "source": [
    "# Пользователи теста recommender_system_test, группы А и В\n",
    "test_1ab = ab_participants.query('ab_test == \"recommender_system_test\"')['user_id'].tolist()\n",
    "\n",
    "# Пользователи теста interface_eu_test группы В - плохие айди\n",
    "test_2b = ab_participants.query('ab_test == \"interface_eu_test\" and group == \"B\"')['user_id'].tolist()"
   ]
  },
  {
   "cell_type": "markdown",
   "id": "67fe82ff",
   "metadata": {},
   "source": [
    "Обновим список `test_1_users`, содержащий айди которые подходят для анализа А/В теста."
   ]
  },
  {
   "cell_type": "code",
   "execution_count": 44,
   "id": "2efc88d6",
   "metadata": {},
   "outputs": [
    {
     "name": "stdout",
     "output_type": "stream",
     "text": [
      "Количество пользователей в тесте:  5918\n"
     ]
    }
   ],
   "source": [
    "test_1_users = list(set(test_1ab) - set(test_2b))\n",
    "len_check(test_1_users)"
   ]
  },
  {
   "cell_type": "markdown",
   "id": "97d33c10",
   "metadata": {},
   "source": [
    "Количество участников теста снизилось до 5918. Это уже ниже ожидаемого в техническом задании.\n",
    "\n",
    "Обновим таблицу `ab_participants_test_1`, в которой мы ранее отсеилии пользователей не из евросоюза."
   ]
  },
  {
   "cell_type": "code",
   "execution_count": 45,
   "id": "8145a7c9",
   "metadata": {},
   "outputs": [
    {
     "name": "stdout",
     "output_type": "stream",
     "text": [
      "Количество пользователей в тесте:  5568\n"
     ]
    }
   ],
   "source": [
    "ab_participants_test_1 = ab_participants_test_1.query('user_id in @test_1_users')\n",
    "len_check(ab_participants_test_1)"
   ]
  },
  {
   "cell_type": "markdown",
   "id": "26a34acb",
   "metadata": {},
   "source": [
    "Количество участников сократилось еще больше.\n",
    "\n",
    "#### Распределение пользователей по группам\n",
    "Изучим как распределены пользователи по группам и как эти группы формировались."
   ]
  },
  {
   "cell_type": "code",
   "execution_count": 46,
   "id": "f1eacb63",
   "metadata": {},
   "outputs": [
    {
     "data": {
      "text/html": [
       "<style  type=\"text/css\" >\n",
       "</style><table id=\"T_2c91c_\" ><thead>    <tr>        <th class=\"blank level0\" ></th>        <th class=\"col_heading level0 col0\" >user_id</th>        <th class=\"col_heading level0 col1\" >part</th>    </tr>    <tr>        <th class=\"index_name level0\" >group</th>        <th class=\"blank\" ></th>        <th class=\"blank\" ></th>    </tr></thead><tbody>\n",
       "                <tr>\n",
       "                        <th id=\"T_2c91c_level0_row0\" class=\"row_heading level0 row0\" >A</th>\n",
       "                        <td id=\"T_2c91c_row0_col0\" class=\"data row0 col0\" >3195</td>\n",
       "                        <td id=\"T_2c91c_row0_col1\" class=\"data row0 col1\" >57%</td>\n",
       "            </tr>\n",
       "            <tr>\n",
       "                        <th id=\"T_2c91c_level0_row1\" class=\"row_heading level0 row1\" >B</th>\n",
       "                        <td id=\"T_2c91c_row1_col0\" class=\"data row1 col0\" >2373</td>\n",
       "                        <td id=\"T_2c91c_row1_col1\" class=\"data row1 col1\" >43%</td>\n",
       "            </tr>\n",
       "    </tbody></table>"
      ],
      "text/plain": [
       "<pandas.io.formats.style.Styler at 0x26219ae6340>"
      ]
     },
     "metadata": {},
     "output_type": "display_data"
    }
   ],
   "source": [
    "distribution = ab_participants_test_1.groupby('group').agg({'user_id':'count'})\n",
    "distribution['part'] = distribution.apply(lambda x: x/x.sum())\n",
    "display(distribution.style.format({'part':'{:.0%}'}))"
   ]
  },
  {
   "cell_type": "markdown",
   "id": "e460cf28",
   "metadata": {},
   "source": [
    "Одним из критериев для корректного проведения А/В-тестирования служит равное количество участников в группах. В нашем случае распределение в группах сильно слегка перекошено. Однако, в дальнейшем при проверке событий какие-то пользователи могут еще отсеяться и перекос либо усугубится, либо выровняется. Посмотрим как формировались эти группы. \n",
    "#### Формирование групп\n",
    "Единственное что мы можем изучить, это даты, в которые были зарегистрированы пользователи из двух групп. Присоединим к таблице с участниками теста дату регистрации на сайте."
   ]
  },
  {
   "cell_type": "code",
   "execution_count": 47,
   "id": "ea192876",
   "metadata": {},
   "outputs": [],
   "source": [
    "ab_participants_test_1 = ab_participants_test_1.merge(new_users[['user_id', 'first_date']], on='user_id', how='left')"
   ]
  },
  {
   "cell_type": "code",
   "execution_count": 48,
   "id": "439acc04",
   "metadata": {},
   "outputs": [
    {
     "data": {
      "image/png": "[encoded data removed]",
      "text/plain": [
       "<Figure size 640x480 with 1 Axes>"
      ]
     },
     "metadata": {},
     "output_type": "display_data"
    }
   ],
   "source": [
    "ab_participants_test_1.pivot_table(index='first_date', columns='group', values='user_id', aggfunc='nunique').plot()#kind='bar')\n",
    "plt.title('Количество зарегистрированных в тесте человек по дням')\n",
    "plt.ylabel('Количество человек')\n",
    "plt.xlabel('Дата')\n",
    "plt.show()"
   ]
  },
  {
   "cell_type": "markdown",
   "id": "d6dc9d88",
   "metadata": {},
   "source": [
    "7 декабря 2020 года - понедельник. На графике можно заметить, что количество зарегистрированных пользователей каждую неделю повышается в выходные и достигает пиковых значений к понедельнику.  \n",
    "Так же по графику видно, что изначально на этапе формирования групп в группу А постоянно распределялось больше человек, что неправильно."
   ]
  },
  {
   "cell_type": "markdown",
   "id": "68fc2c67",
   "metadata": {},
   "source": [
    "#### Лайфтайм\n",
    "Так как нас интересует изменение эффективности через 14 дней, после начала теста необходимо отфильтровать пользователей и события:\n",
    "* Удалить пользователей, кто не дожил до горизонта анализа в 14 дней;\n",
    "* Удалить события, превышающие горизонт анализа в 14 дней.\n",
    "\n",
    "Ранее мы уже обновляли датасет `ab_events` до `ab_events_test_1`. Обновим до последней версии пользователей."
   ]
  },
  {
   "cell_type": "code",
   "execution_count": 49,
   "id": "9d4b1521",
   "metadata": {},
   "outputs": [],
   "source": [
    "ab_events_test_1 = ab_events_test_1.query('user_id in @test_1_users')"
   ]
  },
  {
   "cell_type": "markdown",
   "id": "738f2c9c",
   "metadata": {},
   "source": [
    "Присоединим к этой таблице данные о регистрации пользователей. Нам понадобятся столбцы `user_id` и `first_date`.\n",
    "\n",
    "Затем создадим столбец с временем, через которое было совершено событие с момента регистрации. \n",
    "\n",
    "И удалим все события, которые совершали пользователи позже, чем через 14 дней."
   ]
  },
  {
   "cell_type": "code",
   "execution_count": 50,
   "id": "26ffea45",
   "metadata": {},
   "outputs": [],
   "source": [
    "ab_events_test_1 = ab_events_test_1.merge(new_users[['user_id', 'first_date']], on='user_id', how='left')\n",
    "ab_events_test_1['dif_time'] =  ab_events_test_1['event_dt'] - ab_events_test_1['first_date']\n",
    "ab_events_test_1 = ab_events_test_1.query('dif_time < \"15 days\"')"
   ]
  },
  {
   "cell_type": "markdown",
   "id": "30b514a9",
   "metadata": {},
   "source": [
    "Посмотрим у скольки пользователей остались события:"
   ]
  },
  {
   "cell_type": "code",
   "execution_count": 51,
   "id": "5085a205",
   "metadata": {},
   "outputs": [
    {
     "name": "stdout",
     "output_type": "stream",
     "text": [
      "Количество активных пользователей:  3050\n",
      "Количество всех пользователей в тесте:  5568\n"
     ]
    }
   ],
   "source": [
    "print('Количество активных пользователей: ', ab_events_test_1['user_id'].nunique())\n",
    "print('Количество всех пользователей в тесте: ', ab_participants_test_1['user_id'].nunique())"
   ]
  },
  {
   "cell_type": "markdown",
   "id": "66454b97",
   "metadata": {},
   "source": [
    "Так как нам необходимо что бы пользователи прожили 14 дней мы можем удалить тех, кто зарегистрировался в системе позже, чем 2020-12-17 00:00:00, т.е. лайфтайм с этой даты будет составлять менее 14 дней. Изначально при планировании теста и составления технического задания так и было задумано: разница между датой остановки набора новых пользователей и датой остановки теста составляла 14 дней. Однако из-за того что тест остановили преждевременно в тесте появились пользователи, которые не успели прожить 14 дней. Посмотрим сколько активных пользователей у нас останется, если мы удалим не проживших 14 дней:"
   ]
  },
  {
   "cell_type": "code",
   "execution_count": 52,
   "id": "1d6fed0b",
   "metadata": {},
   "outputs": [
    {
     "name": "stdout",
     "output_type": "stream",
     "text": [
      "Количество активных пользователей:  1675\n"
     ]
    }
   ],
   "source": [
    "print('Количество активных пользователей: ', ab_events_test_1.query('first_date < \"2020-12-17 00:00:00\"')['user_id'].nunique())"
   ]
  },
  {
   "cell_type": "markdown",
   "id": "05f28e77",
   "metadata": {},
   "source": [
    "Таким образом мы бы сократили количество пользователей еще практически вдвое. Предположим, что влияние тестовых изменений на пользователя одинаково во время всего лайфтайма, поэтому не будем удалять таких пользователей, и все же учтем их в анализе теста."
   ]
  },
  {
   "cell_type": "markdown",
   "id": "ec0c9daf",
   "metadata": {},
   "source": [
    "Соберем итоговую таблицу для анализа результатов тестирования. Напомним, в тесте присутсвуют пользователи, которые кроме регистрации не совершали никаких действий на сайте. Для таблицы возьмем только необходимые столбцы."
   ]
  },
  {
   "cell_type": "code",
   "execution_count": 53,
   "id": "d0c89106",
   "metadata": {},
   "outputs": [
    {
     "data": {
      "text/markdown": [
       "**Общая информация:**"
      ],
      "text/plain": [
       "<IPython.core.display.Markdown object>"
      ]
     },
     "metadata": {},
     "output_type": "display_data"
    },
    {
     "data": {
      "text/html": [
       "<style  type=\"text/css\" >\n",
       "</style><table id=\"T_2f777_\" ><thead>    <tr>        <th class=\"blank level0\" ></th>        <th class=\"col_heading level0 col0\" >type</th>        <th class=\"col_heading level0 col1\" >quantity</th>        <th class=\"col_heading level0 col2\" >nunique</th>        <th class=\"col_heading level0 col3\" >cnt_of_pass</th>        <th class=\"col_heading level0 col4\" >persent_of_pass</th>        <th class=\"col_heading level0 col5\" >unique_first_5</th>    </tr></thead><tbody>\n",
       "                <tr>\n",
       "                        <th id=\"T_2f777_level0_row0\" class=\"row_heading level0 row0\" >user_id</th>\n",
       "                        <td id=\"T_2f777_row0_col0\" class=\"data row0 col0\" >object</td>\n",
       "                        <td id=\"T_2f777_row0_col1\" class=\"data row0 col1\" >22552</td>\n",
       "                        <td id=\"T_2f777_row0_col2\" class=\"data row0 col2\" >5568</td>\n",
       "                        <td id=\"T_2f777_row0_col3\" class=\"data row0 col3\" >0</td>\n",
       "                        <td id=\"T_2f777_row0_col4\" class=\"data row0 col4\" >0%</td>\n",
       "                        <td id=\"T_2f777_row0_col5\" class=\"data row0 col5\" >['D1ABA3E2887B6A73', 'A7A3664BD6242119', 'DABC14FDDFADD29E', '04988C5DF189632E', '482F14783456D21B']</td>\n",
       "            </tr>\n",
       "            <tr>\n",
       "                        <th id=\"T_2f777_level0_row1\" class=\"row_heading level0 row1\" >event_dt</th>\n",
       "                        <td id=\"T_2f777_row1_col0\" class=\"data row1 col0\" >datetime64[ns]</td>\n",
       "                        <td id=\"T_2f777_row1_col1\" class=\"data row1 col1\" >22552</td>\n",
       "                        <td id=\"T_2f777_row1_col2\" class=\"data row1 col2\" >13373</td>\n",
       "                        <td id=\"T_2f777_row1_col3\" class=\"data row1 col3\" >2518</td>\n",
       "                        <td id=\"T_2f777_row1_col4\" class=\"data row1 col4\" >11%</td>\n",
       "                        <td id=\"T_2f777_row1_col5\" class=\"data row1 col5\" >['2020-12-07 14:43:27', '2020-12-07 14:43:29', '2020-12-20 15:46:06', '2020-12-21 00:40:59', '2020-12-25 05:19:45']</td>\n",
       "            </tr>\n",
       "            <tr>\n",
       "                        <th id=\"T_2f777_level0_row2\" class=\"row_heading level0 row2\" >event_name</th>\n",
       "                        <td id=\"T_2f777_row2_col0\" class=\"data row2 col0\" >object</td>\n",
       "                        <td id=\"T_2f777_row2_col1\" class=\"data row2 col1\" >22552</td>\n",
       "                        <td id=\"T_2f777_row2_col2\" class=\"data row2 col2\" >4</td>\n",
       "                        <td id=\"T_2f777_row2_col3\" class=\"data row2 col3\" >2518</td>\n",
       "                        <td id=\"T_2f777_row2_col4\" class=\"data row2 col4\" >11%</td>\n",
       "                        <td id=\"T_2f777_row2_col5\" class=\"data row2 col5\" >['purchase', 'product_cart', 'product_page', 'login', 'nan']</td>\n",
       "            </tr>\n",
       "            <tr>\n",
       "                        <th id=\"T_2f777_level0_row3\" class=\"row_heading level0 row3\" >group</th>\n",
       "                        <td id=\"T_2f777_row3_col0\" class=\"data row3 col0\" >object</td>\n",
       "                        <td id=\"T_2f777_row3_col1\" class=\"data row3 col1\" >22552</td>\n",
       "                        <td id=\"T_2f777_row3_col2\" class=\"data row3 col2\" >2</td>\n",
       "                        <td id=\"T_2f777_row3_col3\" class=\"data row3 col3\" >0</td>\n",
       "                        <td id=\"T_2f777_row3_col4\" class=\"data row3 col4\" >0%</td>\n",
       "                        <td id=\"T_2f777_row3_col5\" class=\"data row3 col5\" >['A', 'B']</td>\n",
       "            </tr>\n",
       "            <tr>\n",
       "                        <th id=\"T_2f777_level0_row4\" class=\"row_heading level0 row4\" >first_date</th>\n",
       "                        <td id=\"T_2f777_row4_col0\" class=\"data row4 col0\" >datetime64[ns]</td>\n",
       "                        <td id=\"T_2f777_row4_col1\" class=\"data row4 col1\" >22552</td>\n",
       "                        <td id=\"T_2f777_row4_col2\" class=\"data row4 col2\" >15</td>\n",
       "                        <td id=\"T_2f777_row4_col3\" class=\"data row4 col3\" >0</td>\n",
       "                        <td id=\"T_2f777_row4_col4\" class=\"data row4 col4\" >0%</td>\n",
       "                        <td id=\"T_2f777_row4_col5\" class=\"data row4 col5\" >['2020-12-07', '2020-12-20', '2020-12-08', '2020-12-14', '2020-12-16']</td>\n",
       "            </tr>\n",
       "    </tbody></table>"
      ],
      "text/plain": [
       "<pandas.io.formats.style.Styler at 0x26216853520>"
      ]
     },
     "metadata": {},
     "output_type": "display_data"
    }
   ],
   "source": [
    "data = (ab_events_test_1[['user_id','event_dt','event_name']]\n",
    "        .merge(ab_participants_test_1[['user_id','group','first_date']], \n",
    "               on='user_id', \n",
    "               how='right'\n",
    "              )\n",
    "       )\n",
    "info_check(data)"
   ]
  },
  {
   "cell_type": "markdown",
   "id": "968be754",
   "metadata": {},
   "source": [
    "И посмотрим распределение пользователей по группам для формирования итоговых выводов."
   ]
  },
  {
   "cell_type": "code",
   "execution_count": 54,
   "id": "afd87332",
   "metadata": {},
   "outputs": [
    {
     "data": {
      "text/html": [
       "<style  type=\"text/css\" >\n",
       "</style><table id=\"T_52148_\" ><thead>    <tr>        <th class=\"blank level0\" ></th>        <th class=\"col_heading level0 col0\" >user_id</th>        <th class=\"col_heading level0 col1\" >part</th>    </tr>    <tr>        <th class=\"index_name level0\" >group</th>        <th class=\"blank\" ></th>        <th class=\"blank\" ></th>    </tr></thead><tbody>\n",
       "                <tr>\n",
       "                        <th id=\"T_52148_level0_row0\" class=\"row_heading level0 row0\" >A</th>\n",
       "                        <td id=\"T_52148_row0_col0\" class=\"data row0 col0\" >16767</td>\n",
       "                        <td id=\"T_52148_row0_col1\" class=\"data row0 col1\" >74%</td>\n",
       "            </tr>\n",
       "            <tr>\n",
       "                        <th id=\"T_52148_level0_row1\" class=\"row_heading level0 row1\" >B</th>\n",
       "                        <td id=\"T_52148_row1_col0\" class=\"data row1 col0\" >5785</td>\n",
       "                        <td id=\"T_52148_row1_col1\" class=\"data row1 col1\" >26%</td>\n",
       "            </tr>\n",
       "    </tbody></table>"
      ],
      "text/plain": [
       "<pandas.io.formats.style.Styler at 0x262745e97f0>"
      ]
     },
     "metadata": {},
     "output_type": "display_data"
    }
   ],
   "source": [
    "distribution = data.groupby('group').agg({'user_id':'count'})\n",
    "distribution['part'] = distribution.apply(lambda x: x/x.sum())\n",
    "display(distribution.style.format({'part':'{:.0%}'}))"
   ]
  },
  {
   "cell_type": "markdown",
   "id": "ee06c9e2",
   "metadata": {},
   "source": [
    "Потрясающе неравномерное распределение."
   ]
  },
  {
   "cell_type": "markdown",
   "id": "49777e6d",
   "metadata": {},
   "source": [
    "### Вывод\n",
    "\n",
    "Из оценки теста следует:\n",
    "\n",
    "**Оценка соответсвия техническому заданию:** \n",
    "<font color=\"red\">Тест не удовлетворяет всем пунктам технического задания</font>\n",
    "\n",
    "\n",
    "| Требования к данным                         | Техническое задание       | Фактические данные | Комментарий |\n",
    "|---------------------------------------------|---------------------------|----------|----------|\n",
    "| Название теста                              | recommender_system_test   | <font color=\"green\">recommender_system_test</font>   |\n",
    "| Группы                                      | А и В                     | <font color=\"green\">А и В</font>   |\n",
    "| Дата запуска                                | 2020-12-07                | <font color=\"green\">2020-12-07</font>   |\n",
    "| Дата остановки набора новых пользователей   | 2020-12-21                | <font color=\"green\">2020-12-21</font>   ||\n",
    "| Дата остановки                              | 2021-01-04                | <font color=\"red\">2020-12-30</font>   |Тест остановлен за 5 дней до планируемой даты остановки |\n",
    "| Аудитория                       | 15% новых пользователей из региона EU | <font color=\"green\">15% новых пользователей из региона EU</font>   |\n",
    "\n",
    "\n",
    "При оценнке исходных данных обнаружено несоответсвие данных техническому заданию:\n",
    "\n",
    "* проведение теста пересекается с проведением промоакций, и вообще выпадает на новогодние праздники, где поведение пользователей непредсказуемо;\n",
    "* количество пользователей, которые были зарегистрированы для участия в тесте - 6351, ровно 15% от новых пользователей из Евросоюза. Однако при дальнейшем исследовании пользователи отсеивались:\n",
    "    * удалены пользователи, которые находятся в тестовой группе другого теста;\n",
    "    * удалены события, которые были совершены после горизонта анализа в 14 дней, с событиями удалились пользователи, которые не проявляли активность в первые 14 дней после регистрации.\n",
    "  в итоге в данных теста осталось 1675 человек;\n",
    "* При формировании групп ежедневно данные распределялись неравномерно.<br>Распределение до отсеивания неподходящих пользователей: \n",
    "    * 57% пользователей в группе А\n",
    "    * 43% в группе B.\n",
    "    \n",
    "  после удаления событий и пользователей, чей лайфтайм превышает 14 дней :\n",
    "    * 74% пользователей в группе А\n",
    "    * 26% в группе B.\n",
    "    \n",
    "Тестирование проведено некорректно, результаты, полученные в результате такого теста следует подвергать большому сомнению."
   ]
  },
  {
   "cell_type": "markdown",
   "id": "1a773d1c",
   "metadata": {},
   "source": [
    "## Исследовательский анализ данных\n",
    "Мы уже выяснили что пользователи распределены по группам некорректно, изучим как распределены события по группам. Для этого посмотрим какие события вообще рассматриваются в тесте:"
   ]
  },
  {
   "cell_type": "code",
   "execution_count": 55,
   "id": "defa71a2",
   "metadata": {},
   "outputs": [
    {
     "data": {
      "text/plain": [
       "array(['purchase', 'product_cart', 'product_page', 'login', nan],\n",
       "      dtype=object)"
      ]
     },
     "execution_count": 55,
     "metadata": {},
     "output_type": "execute_result"
    }
   ],
   "source": [
    "data['event_name'].unique()"
   ]
  },
  {
   "cell_type": "markdown",
   "id": "cb27a76e",
   "metadata": {},
   "source": [
    "* `purchase` - покупка;\n",
    "* `product_cart` - просмотри продуктовой карточки;\n",
    "* `product_page` - просмотр корзины;\n",
    "* `login` - вход в систему.\n",
    "\n",
    "Переименуем события для удобства и корректного отображения их порядка. Создадим словарь значений для переименования:"
   ]
  },
  {
   "cell_type": "code",
   "execution_count": 56,
   "id": "f7146762",
   "metadata": {},
   "outputs": [],
   "source": [
    "rename_dict = {'login':'1. Вход в систему',                \n",
    "               'product_page':'2. Просмотр продуктовой карточки',\n",
    "               'product_cart':'3. Просмотр корзины', \n",
    "               'purchase':'4. Покупка'\n",
    "              }\n",
    "data['event_name'] = data['event_name'].map(dict(rename_dict))"
   ]
  },
  {
   "cell_type": "markdown",
   "id": "4aee9cd4",
   "metadata": {},
   "source": [
    "### Количество событий на пользователя\n",
    "Посмотрим как события распределены по пользователям. Для этого обратимся к функции (перенесем её в начало работы для удобства навигации), которая построит следующую таблицу:\n",
    "* event_name - название события;\n",
    "* all_views - количество событий;\n",
    "* unic_user_views - количество уникальных пользователей, совершивших событие;\n",
    "* part - часть пользователей от числа пользователей в выборке;\n",
    "* part_active - перерасчет на активных пользователей.\n",
    "\n",
    "Добавим в таблицу событие \"0. Регистрация\", что бы отследить конверсию зарегистрировавшихся пользователей. Это событие единожды совершил каждый пользователь."
   ]
  },
  {
   "cell_type": "code",
   "execution_count": 57,
   "id": "1b933c87",
   "metadata": {},
   "outputs": [
    {
     "data": {
      "text/html": [
       "<div>\n",
       "<style scoped>\n",
       "    .dataframe tbody tr th:only-of-type {\n",
       "        vertical-align: middle;\n",
       "    }\n",
       "\n",
       "    .dataframe tbody tr th {\n",
       "        vertical-align: top;\n",
       "    }\n",
       "\n",
       "    .dataframe thead th {\n",
       "        text-align: right;\n",
       "    }\n",
       "</style>\n",
       "<table border=\"1\" class=\"dataframe\">\n",
       "  <thead>\n",
       "    <tr style=\"text-align: right;\">\n",
       "      <th></th>\n",
       "      <th>event_name</th>\n",
       "      <th>all_views_A</th>\n",
       "      <th>unic_user_views_A</th>\n",
       "      <th>part_A</th>\n",
       "      <th>part_active_A</th>\n",
       "      <th>convABC_A</th>\n",
       "      <th>loss_A</th>\n",
       "      <th>convA-C_A</th>\n",
       "      <th>all_views_B</th>\n",
       "      <th>unic_user_views_B</th>\n",
       "      <th>part_B</th>\n",
       "      <th>part_active_B</th>\n",
       "      <th>convABC_B</th>\n",
       "      <th>loss_B</th>\n",
       "      <th>convA-C_B</th>\n",
       "    </tr>\n",
       "  </thead>\n",
       "  <tbody>\n",
       "    <tr>\n",
       "      <th>0</th>\n",
       "      <td>0. Регистрация</td>\n",
       "      <td>3195</td>\n",
       "      <td>3195</td>\n",
       "      <td>1.00</td>\n",
       "      <td>1.40</td>\n",
       "      <td>1.00</td>\n",
       "      <td>0.00</td>\n",
       "      <td>1.00</td>\n",
       "      <td>2373</td>\n",
       "      <td>2373</td>\n",
       "      <td>1.00</td>\n",
       "      <td>3.08</td>\n",
       "      <td>1.00</td>\n",
       "      <td>0.00</td>\n",
       "      <td>1.00</td>\n",
       "    </tr>\n",
       "    <tr>\n",
       "      <th>1</th>\n",
       "      <td>1. Вход в систему</td>\n",
       "      <td>7018</td>\n",
       "      <td>2279</td>\n",
       "      <td>0.71</td>\n",
       "      <td>1.00</td>\n",
       "      <td>0.71</td>\n",
       "      <td>0.29</td>\n",
       "      <td>0.71</td>\n",
       "      <td>2036</td>\n",
       "      <td>770</td>\n",
       "      <td>0.32</td>\n",
       "      <td>1.00</td>\n",
       "      <td>0.32</td>\n",
       "      <td>0.68</td>\n",
       "      <td>0.32</td>\n",
       "    </tr>\n",
       "    <tr>\n",
       "      <th>2</th>\n",
       "      <td>2. Просмотр продуктовой карточки</td>\n",
       "      <td>4514</td>\n",
       "      <td>1476</td>\n",
       "      <td>0.46</td>\n",
       "      <td>0.65</td>\n",
       "      <td>0.65</td>\n",
       "      <td>0.35</td>\n",
       "      <td>0.46</td>\n",
       "      <td>1074</td>\n",
       "      <td>429</td>\n",
       "      <td>0.18</td>\n",
       "      <td>0.56</td>\n",
       "      <td>0.56</td>\n",
       "      <td>0.44</td>\n",
       "      <td>0.18</td>\n",
       "    </tr>\n",
       "    <tr>\n",
       "      <th>3</th>\n",
       "      <td>3. Просмотр корзины</td>\n",
       "      <td>2114</td>\n",
       "      <td>686</td>\n",
       "      <td>0.21</td>\n",
       "      <td>0.30</td>\n",
       "      <td>0.46</td>\n",
       "      <td>0.54</td>\n",
       "      <td>0.21</td>\n",
       "      <td>542</td>\n",
       "      <td>214</td>\n",
       "      <td>0.09</td>\n",
       "      <td>0.28</td>\n",
       "      <td>0.50</td>\n",
       "      <td>0.50</td>\n",
       "      <td>0.09</td>\n",
       "    </tr>\n",
       "    <tr>\n",
       "      <th>4</th>\n",
       "      <td>4. Покупка</td>\n",
       "      <td>2205</td>\n",
       "      <td>734</td>\n",
       "      <td>0.23</td>\n",
       "      <td>0.32</td>\n",
       "      <td>1.07</td>\n",
       "      <td>-0.07</td>\n",
       "      <td>0.23</td>\n",
       "      <td>531</td>\n",
       "      <td>219</td>\n",
       "      <td>0.09</td>\n",
       "      <td>0.28</td>\n",
       "      <td>1.02</td>\n",
       "      <td>-0.02</td>\n",
       "      <td>0.09</td>\n",
       "    </tr>\n",
       "  </tbody>\n",
       "</table>\n",
       "</div>"
      ],
      "text/plain": [
       "                         event_name  all_views_A  unic_user_views_A  part_A  \\\n",
       "0                    0. Регистрация         3195               3195    1.00   \n",
       "1                 1. Вход в систему         7018               2279    0.71   \n",
       "2  2. Просмотр продуктовой карточки         4514               1476    0.46   \n",
       "3               3. Просмотр корзины         2114                686    0.21   \n",
       "4                        4. Покупка         2205                734    0.23   \n",
       "\n",
       "   part_active_A  convABC_A  loss_A  convA-C_A  all_views_B  \\\n",
       "0           1.40       1.00    0.00       1.00         2373   \n",
       "1           1.00       0.71    0.29       0.71         2036   \n",
       "2           0.65       0.65    0.35       0.46         1074   \n",
       "3           0.30       0.46    0.54       0.21          542   \n",
       "4           0.32       1.07   -0.07       0.23          531   \n",
       "\n",
       "   unic_user_views_B  part_B  part_active_B  convABC_B  loss_B  convA-C_B  \n",
       "0               2373    1.00           3.08       1.00    0.00       1.00  \n",
       "1                770    0.32           1.00       0.32    0.68       0.32  \n",
       "2                429    0.18           0.56       0.56    0.44       0.18  \n",
       "3                214    0.09           0.28       0.50    0.50       0.09  \n",
       "4                219    0.09           0.28       1.02   -0.02       0.09  "
      ]
     },
     "execution_count": 57,
     "metadata": {},
     "output_type": "execute_result"
    }
   ],
   "source": [
    "group_events = merge_events(data.query('group ==\"A\"'), data.query('group ==\"B\"'))\n",
    "group_events"
   ]
  },
  {
   "cell_type": "markdown",
   "id": "c0727218",
   "metadata": {},
   "source": [
    "Сравним распределение событий по группам"
   ]
  },
  {
   "cell_type": "code",
   "execution_count": 58,
   "id": "b5419e79",
   "metadata": {},
   "outputs": [
    {
     "data": {
      "image/png": "[encoded data removed]",
      "text/plain": [
       "<Figure size 1200x700 with 2 Axes>"
      ]
     },
     "metadata": {},
     "output_type": "display_data"
    }
   ],
   "source": [
    "plt.figure(figsize=(12, 7))\n",
    "\n",
    "group_events.plot(x='event_name', \n",
    "                  y = ['part_A','part_B'], \n",
    "                  kind='bar', \n",
    "                  ax=plt.subplot(2, 1, 1),\n",
    "                  rot=10)\n",
    "plt.xlabel('Событие')\n",
    "plt.title('Распределение событий на пользователя среди всех пользователей в группе')\n",
    "\n",
    "group_events.query('event_name != \"0. Регистрация\"').plot(x='event_name',\n",
    "                                                          y = ['part_active_A','part_active_B'], \n",
    "                                                          kind='bar',\n",
    "                                                          ax=plt.subplot(2, 1, 2), \n",
    "                                                          rot=10)\n",
    "plt.subplots_adjust(hspace = 0.65)\n",
    "plt.xlabel('Событие')\n",
    "plt.title('Распределение событий на пользователя среди активных пользователей в группе');"
   ]
  },
  {
   "cell_type": "markdown",
   "id": "65983f07",
   "metadata": {},
   "source": [
    "Очевидно, большая часть пользователей из группы В теряется после регистрации и не переходит к просмотру продуктовых карточек. В группе А до входа в систему доходит 71% пользователей, в группе В только 32%.\n",
    "\n",
    "Если брать для рассмотрения только активных пользователей в тесте, картина в распределении событий не меняется в положительную сторону для группы В.\n",
    "\n",
    "Группа В слегка отстает по количеству всехсобытий."
   ]
  },
  {
   "cell_type": "markdown",
   "id": "e82cfae5",
   "metadata": {},
   "source": [
    "### Распределение числа событий в выборках по дням\n",
    "Изучим как события распределены в выборках, напомним, что выборки неравномерные, группа А больше группы В."
   ]
  },
  {
   "cell_type": "code",
   "execution_count": 59,
   "id": "a4d8ce9f",
   "metadata": {
    "code_folding": []
   },
   "outputs": [
    {
     "data": {
      "image/png": "[encoded data removed]",
      "text/plain": [
       "<Figure size 1200x700 with 2 Axes>"
      ]
     },
     "metadata": {},
     "output_type": "display_data"
    }
   ],
   "source": [
    "data['event_day'] = data['event_dt'].astype('datetime64[D]')\n",
    "\n",
    "plt.figure(figsize=(12, 7))\n",
    "\n",
    "event_day_A = (data.query('group ==\"A\"')\n",
    "                  .pivot_table(index='event_day', columns='event_name', values='user_id', aggfunc='count')\n",
    "                 )\n",
    "event_day_A.plot(grid=True, ax=plt.subplot(2, 1, 1))\n",
    "plt.xlabel('День')\n",
    "plt.title('Количество ежедневных событий в Группе А')\n",
    "\n",
    "event_day_B = (data.query('group ==\"B\"')\n",
    "                  .pivot_table(index='event_day', columns='event_name', values='user_id', aggfunc='count')\n",
    "                 )\n",
    "event_day_B.plot(grid=True, ax=plt.subplot(2, 1, 2))\n",
    "plt.subplots_adjust(hspace = 0.65)\n",
    "plt.xlabel('День')\n",
    "plt.title('Количество ежедневных событий в Группе B');"
   ]
  },
  {
   "cell_type": "markdown",
   "id": "8107afba",
   "metadata": {},
   "source": [
    "У группы А наблюдается недельная низкая активность и резкое увеличение событий на вторую неделю и третью неделю теста, связанную с повышенным притоком вновь зарегистрированных пользователей. 21 декабря была завершена регистрация пользователей в тесте и активность у пользователей упала. Таким образом можно сделать вывод о том, что наибольшую активность пользователи проявляют в момент регистрации, то есть регистрируются для совершения какой-то конкретной покупки.\n",
    "\n",
    "Распределение событий у группы В более равномерное на всем изучаемом промежутке до момента остановки регистрации новых пользователей в тесте. После остановки так же наблюдается сильный спад активности пользователей."
   ]
  },
  {
   "cell_type": "markdown",
   "id": "5a60cba2",
   "metadata": {},
   "source": [
    "### Конверсия в воронке "
   ]
  },
  {
   "cell_type": "markdown",
   "id": "11927c34",
   "metadata": {},
   "source": [
    "Соберем таблицу с уникальными пользователями для каждого последовательного события:"
   ]
  },
  {
   "cell_type": "markdown",
   "id": "139c6a25",
   "metadata": {},
   "source": [
    "Для наглядности построим продуктовую воронку и посмотрим, какой процент пользователей переходил на следующий этап"
   ]
  },
  {
   "cell_type": "code",
   "execution_count": 60,
   "id": "786bef81",
   "metadata": {},
   "outputs": [
    {
     "data": {
      "image/png": "[encoded data removed]"
     },
     "metadata": {},
     "output_type": "display_data"
    }
   ],
   "source": [
    "fig = go.Figure()\n",
    "\n",
    "for i in ['unic_user_views_A', 'unic_user_views_B']:\n",
    "    fig.add_trace(go.Funnel(\n",
    "        name = i,\n",
    "        y = group_events['event_name'].unique(),\n",
    "        x = group_events[i],\n",
    "        textinfo = \"value+percent previous\"))\n",
    "fig.update_layout(\n",
    "                  height=500,\n",
    "                  width=1000)\n",
    "fig.update_layout(title=\"Воронка событий\")\n",
    "fig.show()"
   ]
  },
  {
   "cell_type": "markdown",
   "id": "46698f03",
   "metadata": {},
   "source": [
    "Самая большая потеря пользователей произошла после регистрации. Необходимо выяснить почему пользователи из тестовой группы после регистрации не переходят к непостредственному функционалу сайта.\n",
    "\n",
    "Так же у группы В наблюдается более низкая конверсия в просмотр карточек товаров.\n",
    "\n",
    "Чуть лучше у группы В обстоят дела с переходом в событие \"Просмотр корзины\".\n",
    "\n",
    "Доля пользователей, перешедших из корзины к оплаты в обеих группах составляет более 100%, вероятно в продуктовой карточке есть не только кнопка \"Добавить в корзину\", но и \"Купить сейчас\". С событием \"Просмотр корзины\" кажется, что конверсия в покупку у группы В хуже, чем у группы А.\n",
    "\n",
    "Посмотрим как будет выглядеть продуктовая воронка без события \"Просмотр корзины\"."
   ]
  },
  {
   "cell_type": "code",
   "execution_count": 61,
   "id": "ed47c97a",
   "metadata": {},
   "outputs": [
    {
     "data": {
      "image/png": "[encoded data removed]"
     },
     "metadata": {},
     "output_type": "display_data"
    }
   ],
   "source": [
    "fig = go.Figure()\n",
    "\n",
    "for i in ['unic_user_views_A', 'unic_user_views_B']:\n",
    "    fig.add_trace(go.Funnel(\n",
    "        name = i,\n",
    "        y = group_events.query('event_name != \"3. Просмотр корзины\"')['event_name'].unique(),\n",
    "        x = group_events.query('event_name != \"3. Просмотр корзины\"')[i],\n",
    "        textinfo = \"value+percent previous\"))\n",
    "fig.update_layout(\n",
    "                  height=500,\n",
    "                  width=1000)\n",
    "fig.update_layout(title=\"Воронка событий\")\n",
    "fig.show()"
   ]
  },
  {
   "cell_type": "markdown",
   "id": "183e4ad9",
   "metadata": {},
   "source": [
    "А вот если убрать из воронки событие \"Просмотр корзины\", то конверсия в покупку у группы В на один процент выше, чем у группы А."
   ]
  },
  {
   "cell_type": "markdown",
   "id": "2127b141",
   "metadata": {},
   "source": [
    "Посмотрим на разницу конверсии пользователей по группам:"
   ]
  },
  {
   "cell_type": "code",
   "execution_count": 62,
   "id": "41a2e01c",
   "metadata": {
    "code_folding": [
     5
    ]
   },
   "outputs": [
    {
     "data": {
      "image/png": "[encoded data removed]",
      "text/plain": [
       "<Figure size 1000x300 with 1 Axes>"
      ]
     },
     "metadata": {},
     "output_type": "display_data"
    }
   ],
   "source": [
    "group_events['diff'] = group_events['convABC_B'] - group_events['convABC_A']\n",
    "group_events.plot(x='event_name', \n",
    "                 y = ['convABC_A','convABC_B'], \n",
    "                 kind='bar', rot=10, figsize=(10,3))\n",
    "\n",
    "for i, val in enumerate(group_events['diff'].values):\n",
    "    plt.text(i, 1.2, 'Разница: '+'{:.2%}'.format(val), \n",
    "             horizontalalignment='center',\n",
    "             fontdict={'fontweight':300,'size':10}\n",
    "            )\n",
    "\n",
    "plt.axhline (y=1, color='red', linestyle='--') \n",
    "plt.ylim(0,1.4)\n",
    "plt.legend(bbox_to_anchor=(1, 0.6))\n",
    "plt.xlabel('Событие')\n",
    "plt.title('Конверсия от события к событию по группам');"
   ]
  },
  {
   "cell_type": "markdown",
   "id": "b679f198",
   "metadata": {},
   "source": [
    "Таким образом небольшая положительная конверсия наблюдается у группы В только при переходе из продуктовой карточки в корзину."
   ]
  },
  {
   "cell_type": "markdown",
   "id": "bbcbc748",
   "metadata": {},
   "source": [
    "###  Вывод"
   ]
  },
  {
   "cell_type": "markdown",
   "id": "590fc518",
   "metadata": {},
   "source": [
    "**Ожидаемые результаты:**\n",
    "<font color=\"red\">не достигнуты</font>\n",
    "\n",
    "| Требования к данным                         | Ожидаемый результат       | Фактический результат | Комментарий |\n",
    "|---------------------------------------------|---------------------------|----------|----------|\n",
    "| Ожидаемое количество участников теста | 6000 | <font color=\"green\">6351</font> |Несмотря на общее число зарегистрированных в тест пользователей, после проверки пользователей на пересечения с другим тестом в выборке осталось <font color=\"red\">5568</font> пользователей, из них только <font color=\"red\">3050</font> пользователей были активными и имеют хотя бы одно событие.|\n",
    "| Ожидаемый эффект | За 14 дней с момента регистрации в системе пользователи покажут улучшение каждой метрики не менее, чем на 10%| <font color=\"red\">Конверсия упала, большой процент пользователей в тестовой группе потерялись сразу после регистрации</font>||\n",
    "\n",
    "Большая часть пользователей из группы В (71% против 32% в группе А) теряется после регистрации и не переходит к просмотру продуктовых карточек. Это сильно влияет на распределение количества событий по пользователям внутри группы. При учете всех пользователей группа В сильно остает по среднему количеству событий на человека. Если же учитывать только активных пользователей, то отставание группы В по среднему числу значительно меньше, от 9 (просмотр карточек) до 2 (просмотр корзины) процентов.  \n",
    "\n",
    "Распределение событий у группы В более равномерное на всем изучаемом промежутке до момента остановки регистрации новых пользователей в тесте. Затем у обеих групп начинается резкий спад активности, связанный с остановкой регистрации новых пользователей. Вероятно пользователи чаще регистрируются для совершения какой-то конкретной покупки.\n",
    "\n",
    "Самая большая потеря в конверсии пользователей произошла после регистрации. Необходимо выяснить почему 2/3 пользователей из тестовой группы после регистрации не переходят к непостредственному функционалу сайта.\n",
    "\n",
    "Так же у группы В наблюдается более низкая конверсия в просмотр карточек товаров.\n",
    "\n",
    "Чуть лучше у группы В, чем у группы А, обстоят дела с переходом в событие \"Просмотр корзины\".\n",
    "\n",
    "Доля пользователей, перешедших из корзины к оплаты в обеих группах составляет более 100%, вероятно в продуктовой карточке есть не только кнопка \"Добавить в корзину\", но и \"Купить сейчас\". С событием \"Просмотр корзины\" кажется, что конверсия в покупку у группы В хуже, чем у группы А. Однако если убрать событие \"Просмотр корзины\" ситуация обратная, но не слишком то и хорошая.\n"
   ]
  },
  {
   "cell_type": "markdown",
   "id": "89e76f8e",
   "metadata": {},
   "source": [
    "## Оценка результатов A/B-тестирования:"
   ]
  },
  {
   "cell_type": "markdown",
   "id": "f5155772",
   "metadata": {},
   "source": [
    "При оценке результатов A/B-тестирования следует учесть, что данные для его проведения были собраны некорректно. \n",
    "\n",
    "* Имеются внешние предсказуемые влияния в виде промо-акции и предновогодних дней, когда активность пользователей, предположительно повышается;\n",
    "* распределение пользователей по группам было осуществленно неравномерно;\n",
    "* тест был остановлен раньше времени;\n",
    "* треть пользователей из тестовой группы не залогинились на сайте после регистрации, есть вероятность наличия дополнительных проблем с внедрением улучшеной рекоммендательной системы. \n",
    "\n",
    "**При анализе продуктовой воронки не наблюдается ожидаемой эффективности**:\n",
    "\n",
    "* после внедрения улучшеной рекомендательной системы конверсии покупателей не улучшились на 10%, а даже уменьшились по всем событиям, крмое события \"просмотр корзины\"."
   ]
  },
  {
   "cell_type": "markdown",
   "id": "1a83292a",
   "metadata": {},
   "source": [
    "### Проверьте статистическую разницу долей z-критерием."
   ]
  },
  {
   "cell_type": "markdown",
   "id": "bab0c721",
   "metadata": {},
   "source": [
    "Проведем двусторонний **z-test** с показателем статистической значимости **alfa = 0.05** и выясним, можно ли вообще считать разницу между конверсиями у двух групп статистически значимой.\n",
    "\n",
    "Тест проводим с учетом всех пользователей, прошедших фильтры и попавших в выборку, независимо от того, совершали они действия или нет.\n",
    "\n",
    "**Гипотезы:**\n",
    "\n",
    "**Нулевая гипотеза**: Статистических различий в долях пользователей, совершивших событие между группами **А** и **В** нет.\n",
    "\n",
    "**Альтернативная**: Статистически значимые различия в долях пользователей, совершивших событие между группами **А** и **В** есть."
   ]
  },
  {
   "cell_type": "code",
   "execution_count": 63,
   "id": "b4e8baa1",
   "metadata": {},
   "outputs": [
    {
     "data": {
      "text/markdown": [
       "Событие: **'2. Просмотр продуктовой карточки'** <br> Значение p_value: **0.000** <br> Значение alpha: = **0.050** <br> Отличие конверсии группы В от группы А: **-9.05%** <br> Результат теста:"
      ],
      "text/plain": [
       "<IPython.core.display.Markdown object>"
      ]
     },
     "metadata": {},
     "output_type": "display_data"
    },
    {
     "data": {
      "text/markdown": [
       "<font color=\"red\">Отвергаем нулевую гипотезу</font>:             между долями событий 2. Просмотр продуктовой карточки в группах А и В есть значимая разница."
      ],
      "text/plain": [
       "<IPython.core.display.Markdown object>"
      ]
     },
     "metadata": {},
     "output_type": "display_data"
    },
    {
     "data": {
      "text/markdown": [
       "Событие: **'3. Просмотр корзины'** <br> Значение p_value: **0.225** <br> Значение alpha: = **0.050** <br> Отличие конверсии группы В от группы А: **3.41%** <br> Результат теста:"
      ],
      "text/plain": [
       "<IPython.core.display.Markdown object>"
      ]
     },
     "metadata": {},
     "output_type": "display_data"
    },
    {
     "data": {
      "text/markdown": [
       "<font color=\"green\">Не получилось отвергнуть нулевую гипотезу</font>,             нет оснований считать доли событий 3. Просмотр корзины в группах А и В разными."
      ],
      "text/plain": [
       "<IPython.core.display.Markdown object>"
      ]
     },
     "metadata": {},
     "output_type": "display_data"
    },
    {
     "data": {
      "text/markdown": [
       "Событие: **'4. Покупка'** <br> Значение p_value: **0.051** <br> Значение alpha: = **0.050** <br> Отличие конверсии группы В от группы А: **-4.66%** <br> Результат теста:"
      ],
      "text/plain": [
       "<IPython.core.display.Markdown object>"
      ]
     },
     "metadata": {},
     "output_type": "display_data"
    },
    {
     "data": {
      "text/markdown": [
       "<font color=\"green\">Не получилось отвергнуть нулевую гипотезу</font>,             нет оснований считать доли событий 4. Покупка в группах А и В разными."
      ],
      "text/plain": [
       "<IPython.core.display.Markdown object>"
      ]
     },
     "metadata": {},
     "output_type": "display_data"
    }
   ],
   "source": [
    "hypothesis_testing(group_events.loc[1:5], 'unic_user_views_A', 'unic_user_views_B')"
   ]
  },
  {
   "cell_type": "markdown",
   "id": "f0154ecf",
   "metadata": {},
   "source": [
    "Хоть мы и получили значимую разницу в конверсии события \"Просмотр продуктовой карточки\", конверсия у группы В ниже, чем у группы В на 9%. \n",
    "Значимой разности при положительном изменении конверсии мы не получили. \n",
    "\n",
    "Таким образом с учетом всех особенностей внедрение улучшенной рекомендательной системы не принесло положительных результатов."
   ]
  },
  {
   "cell_type": "markdown",
   "id": "a3e34dd2",
   "metadata": {},
   "source": [
    "Так как мы проводим множественное тестирование, а именно 3 теста, чтобы снизить вероятность ложнопозитивного результата применим поправку Бонферрони и посмотрим как изменится результат."
   ]
  },
  {
   "cell_type": "code",
   "execution_count": 64,
   "id": "435af239",
   "metadata": {},
   "outputs": [
    {
     "data": {
      "text/plain": [
       "0.016666666666666666"
      ]
     },
     "execution_count": 64,
     "metadata": {},
     "output_type": "execute_result"
    }
   ],
   "source": [
    "bonferroni_alpha = 0.05 / 3\n",
    "bonferroni_alpha"
   ]
  },
  {
   "cell_type": "code",
   "execution_count": 65,
   "id": "1937d394",
   "metadata": {},
   "outputs": [
    {
     "data": {
      "text/markdown": [
       "Событие: **'2. Просмотр продуктовой карточки'** <br> Значение p_value: **0.000** <br> Значение alpha: = **0.017** <br> Отличие конверсии группы В от группы А: **-9.05%** <br> Результат теста:"
      ],
      "text/plain": [
       "<IPython.core.display.Markdown object>"
      ]
     },
     "metadata": {},
     "output_type": "display_data"
    },
    {
     "data": {
      "text/markdown": [
       "<font color=\"red\">Отвергаем нулевую гипотезу</font>:             между долями событий 2. Просмотр продуктовой карточки в группах А и В есть значимая разница."
      ],
      "text/plain": [
       "<IPython.core.display.Markdown object>"
      ]
     },
     "metadata": {},
     "output_type": "display_data"
    },
    {
     "data": {
      "text/markdown": [
       "Событие: **'3. Просмотр корзины'** <br> Значение p_value: **0.225** <br> Значение alpha: = **0.017** <br> Отличие конверсии группы В от группы А: **3.41%** <br> Результат теста:"
      ],
      "text/plain": [
       "<IPython.core.display.Markdown object>"
      ]
     },
     "metadata": {},
     "output_type": "display_data"
    },
    {
     "data": {
      "text/markdown": [
       "<font color=\"green\">Не получилось отвергнуть нулевую гипотезу</font>,             нет оснований считать доли событий 3. Просмотр корзины в группах А и В разными."
      ],
      "text/plain": [
       "<IPython.core.display.Markdown object>"
      ]
     },
     "metadata": {},
     "output_type": "display_data"
    },
    {
     "data": {
      "text/markdown": [
       "Событие: **'4. Покупка'** <br> Значение p_value: **0.051** <br> Значение alpha: = **0.017** <br> Отличие конверсии группы В от группы А: **-4.66%** <br> Результат теста:"
      ],
      "text/plain": [
       "<IPython.core.display.Markdown object>"
      ]
     },
     "metadata": {},
     "output_type": "display_data"
    },
    {
     "data": {
      "text/markdown": [
       "<font color=\"green\">Не получилось отвергнуть нулевую гипотезу</font>,             нет оснований считать доли событий 4. Покупка в группах А и В разными."
      ],
      "text/plain": [
       "<IPython.core.display.Markdown object>"
      ]
     },
     "metadata": {},
     "output_type": "display_data"
    }
   ],
   "source": [
    "hypothesis_testing(group_events.loc[1:5], 'unic_user_views_A', 'unic_user_views_B', alpha = bonferroni_alpha)"
   ]
  },
  {
   "cell_type": "markdown",
   "id": "725cc786",
   "metadata": {},
   "source": [
    "Выводы не изменились, проверка выполнена корректно"
   ]
  },
  {
   "cell_type": "markdown",
   "id": "0b69e280",
   "metadata": {},
   "source": [
    "## Выводы \n",
    "\n",
    "по этапу исследовательского анализа данных и по проведённой оценке результатов A/B-тестирования. "
   ]
  },
  {
   "cell_type": "markdown",
   "id": "3e345d45",
   "metadata": {},
   "source": [
    "**Проведение A/B-тестирования:** \n",
    "\n",
    "<font color=\"red\">Выборка не удовлетворяет криетриям корректного A/B-тестирования</font>\n",
    "\n",
    "Похоже, что при проведении теста не были проверены следующие пункты:\n",
    "* инструмент «деления» трафика работает безошибочно;\n",
    "* данные отправляются в системы аналитики корректно.\n",
    "\n",
    "Таким образом пользователи оказались неравномерно распределены среди групп А и В. \n",
    "\n",
    "Не учтен вероятный всплеск активности покупателей перед новым годом, а так же всплеск активности, связанный с проведением маркетинговых акций.\n",
    "\n",
    "Тест был остановлен досрочно, всвязи с чем не у всех пользователей набрался лайфтайм в 14 дней. Если бы мы отсекали пользователей, которые не дожили до горизонта анализа в выборке был бы лишь 1651 пользователь.\n",
    "\n",
    "**Оценка результатов A/B-тестирования:**\n",
    "\n",
    "По итогам проведения теста <font color=\"red\">ожидаемой эффективности не наблюдается</font>. После внедрения улучшеной рекомендательной системы конверсии покупателей не улучшились на 10%, а даже уменьшились по всем событиям, крмое события \"просмотр корзины\".\n",
    "\n",
    "**Рекомендации:**\n",
    "\n",
    "Рекомендуется исправить все ошибки в проведении теста и, при необходимости, провести его снова.\n",
    "\n",
    "Ошибки:\n",
    "\n",
    "- Несвоевременная остановка теста и набора пользователей;\n",
    "- наблюдаются пересечения изучаемого теста с другим тестом по пользователям;\n",
    "- распределение пользователей по группам неравномерное;\n",
    "- не учтено влияние праздничных дней и проведения промо-акций.\n"
   ]
  }
 ],
 "metadata": {
  "ExecuteTimeLog": [
   {
    "duration": 1258,
    "start_time": "2023-06-11T15:34:09.074Z"
   },
   {
    "duration": 4,
    "start_time": "2023-06-11T15:34:10.335Z"
   },
   {
    "duration": 6,
    "start_time": "2023-06-11T15:34:10.341Z"
   },
   {
    "duration": 6,
    "start_time": "2023-06-11T15:34:10.350Z"
   },
   {
    "duration": 7,
    "start_time": "2023-06-11T15:34:10.359Z"
   },
   {
    "duration": 5,
    "start_time": "2023-06-11T15:34:10.367Z"
   },
   {
    "duration": 7,
    "start_time": "2023-06-11T15:34:10.374Z"
   },
   {
    "duration": 4,
    "start_time": "2023-06-11T15:34:10.383Z"
   },
   {
    "duration": 10,
    "start_time": "2023-06-11T15:34:10.389Z"
   },
   {
    "duration": 6,
    "start_time": "2023-06-11T15:34:10.401Z"
   },
   {
    "duration": 8,
    "start_time": "2023-06-11T15:34:10.409Z"
   },
   {
    "duration": 66,
    "start_time": "2023-06-11T15:34:10.450Z"
   },
   {
    "duration": 226,
    "start_time": "2023-06-11T15:34:10.518Z"
   },
   {
    "duration": 1576,
    "start_time": "2023-06-11T15:34:10.748Z"
   },
   {
    "duration": 111,
    "start_time": "2023-06-11T15:34:12.326Z"
   },
   {
    "duration": 184,
    "start_time": "2023-06-11T15:34:12.439Z"
   },
   {
    "duration": 6,
    "start_time": "2023-06-11T15:34:12.625Z"
   },
   {
    "duration": 285,
    "start_time": "2023-06-11T15:34:12.632Z"
   },
   {
    "duration": 13,
    "start_time": "2023-06-11T15:34:12.919Z"
   },
   {
    "duration": 1644,
    "start_time": "2023-06-11T15:34:12.933Z"
   },
   {
    "duration": 103,
    "start_time": "2023-06-11T15:34:14.579Z"
   },
   {
    "duration": 112,
    "start_time": "2023-06-11T15:34:14.683Z"
   },
   {
    "duration": 163,
    "start_time": "2023-06-11T15:34:14.797Z"
   },
   {
    "duration": 74,
    "start_time": "2023-06-11T15:34:14.962Z"
   },
   {
    "duration": 77,
    "start_time": "2023-06-11T15:34:15.037Z"
   },
   {
    "duration": 63,
    "start_time": "2023-06-11T15:34:15.116Z"
   },
   {
    "duration": 59,
    "start_time": "2023-06-11T15:34:15.181Z"
   },
   {
    "duration": 11,
    "start_time": "2023-06-11T15:34:15.241Z"
   },
   {
    "duration": 15,
    "start_time": "2023-06-11T15:34:15.253Z"
   },
   {
    "duration": 13,
    "start_time": "2023-06-11T15:34:15.270Z"
   },
   {
    "duration": 5,
    "start_time": "2023-06-11T15:34:15.285Z"
   },
   {
    "duration": 6,
    "start_time": "2023-06-11T15:34:15.292Z"
   },
   {
    "duration": 8,
    "start_time": "2023-06-11T15:34:15.300Z"
   },
   {
    "duration": 19,
    "start_time": "2023-06-11T15:34:15.310Z"
   },
   {
    "duration": 90,
    "start_time": "2023-06-11T15:34:15.330Z"
   },
   {
    "duration": 551,
    "start_time": "2023-06-11T15:34:15.422Z"
   },
   {
    "duration": 10,
    "start_time": "2023-06-11T15:34:15.975Z"
   },
   {
    "duration": 92,
    "start_time": "2023-06-11T15:34:15.987Z"
   },
   {
    "duration": 27,
    "start_time": "2023-06-11T15:34:16.080Z"
   },
   {
    "duration": 11,
    "start_time": "2023-06-11T15:34:16.109Z"
   },
   {
    "duration": 27,
    "start_time": "2023-06-11T15:34:16.123Z"
   },
   {
    "duration": 6,
    "start_time": "2023-06-11T15:34:16.152Z"
   },
   {
    "duration": 13,
    "start_time": "2023-06-11T15:34:16.160Z"
   },
   {
    "duration": 13,
    "start_time": "2023-06-11T15:34:16.174Z"
   },
   {
    "duration": 26,
    "start_time": "2023-06-11T15:34:16.189Z"
   },
   {
    "duration": 241,
    "start_time": "2023-06-11T15:34:16.217Z"
   },
   {
    "duration": 43,
    "start_time": "2023-06-11T15:34:16.460Z"
   },
   {
    "duration": 54,
    "start_time": "2023-06-11T15:34:16.504Z"
   },
   {
    "duration": 9,
    "start_time": "2023-06-11T15:34:16.560Z"
   },
   {
    "duration": 9,
    "start_time": "2023-06-11T15:34:16.571Z"
   },
   {
    "duration": 218,
    "start_time": "2023-06-11T15:34:16.582Z"
   },
   {
    "duration": 12,
    "start_time": "2023-06-11T15:34:16.802Z"
   },
   {
    "duration": 5,
    "start_time": "2023-06-11T15:34:16.815Z"
   },
   {
    "duration": 6,
    "start_time": "2023-06-11T15:34:16.822Z"
   },
   {
    "duration": 62,
    "start_time": "2023-06-11T15:34:16.849Z"
   },
   {
    "duration": 341,
    "start_time": "2023-06-11T15:34:16.913Z"
   },
   {
    "duration": 583,
    "start_time": "2023-06-11T15:34:17.256Z"
   },
   {
    "duration": 589,
    "start_time": "2023-06-11T15:34:17.840Z"
   },
   {
    "duration": 27,
    "start_time": "2023-06-11T15:34:18.431Z"
   },
   {
    "duration": 408,
    "start_time": "2023-06-11T15:34:18.462Z"
   },
   {
    "duration": 328,
    "start_time": "2023-06-11T15:34:18.872Z"
   },
   {
    "duration": 1403,
    "start_time": "2023-06-11T20:18:45.155Z"
   },
   {
    "duration": 4,
    "start_time": "2023-06-11T20:18:46.560Z"
   },
   {
    "duration": 4,
    "start_time": "2023-06-11T20:18:46.566Z"
   },
   {
    "duration": 8,
    "start_time": "2023-06-11T20:18:46.571Z"
   },
   {
    "duration": 23,
    "start_time": "2023-06-11T20:18:46.580Z"
   },
   {
    "duration": 5,
    "start_time": "2023-06-11T20:18:46.605Z"
   },
   {
    "duration": 6,
    "start_time": "2023-06-11T20:18:46.611Z"
   },
   {
    "duration": 6,
    "start_time": "2023-06-11T20:18:46.618Z"
   },
   {
    "duration": 12,
    "start_time": "2023-06-11T20:18:46.626Z"
   },
   {
    "duration": 13,
    "start_time": "2023-06-11T20:18:46.639Z"
   },
   {
    "duration": 7,
    "start_time": "2023-06-11T20:18:46.653Z"
   },
   {
    "duration": 69,
    "start_time": "2023-06-11T20:18:46.662Z"
   },
   {
    "duration": 400,
    "start_time": "2023-06-11T20:18:46.733Z"
   },
   {
    "duration": 1465,
    "start_time": "2023-06-11T20:18:47.136Z"
   },
   {
    "duration": 111,
    "start_time": "2023-06-11T20:18:48.603Z"
   },
   {
    "duration": 196,
    "start_time": "2023-06-11T20:18:48.716Z"
   },
   {
    "duration": 5,
    "start_time": "2023-06-11T20:18:48.914Z"
   },
   {
    "duration": 310,
    "start_time": "2023-06-11T20:18:48.921Z"
   },
   {
    "duration": 13,
    "start_time": "2023-06-11T20:18:49.233Z"
   },
   {
    "duration": 1596,
    "start_time": "2023-06-11T20:18:49.248Z"
   },
   {
    "duration": 105,
    "start_time": "2023-06-11T20:18:50.846Z"
   },
   {
    "duration": 121,
    "start_time": "2023-06-11T20:18:50.953Z"
   },
   {
    "duration": 153,
    "start_time": "2023-06-11T20:18:51.076Z"
   },
   {
    "duration": 85,
    "start_time": "2023-06-11T20:18:51.230Z"
   },
   {
    "duration": 74,
    "start_time": "2023-06-11T20:18:51.317Z"
   },
   {
    "duration": 59,
    "start_time": "2023-06-11T20:18:51.393Z"
   },
   {
    "duration": 53,
    "start_time": "2023-06-11T20:18:51.453Z"
   },
   {
    "duration": 10,
    "start_time": "2023-06-11T20:18:51.507Z"
   },
   {
    "duration": 23,
    "start_time": "2023-06-11T20:18:51.518Z"
   },
   {
    "duration": 25,
    "start_time": "2023-06-11T20:18:51.543Z"
   },
   {
    "duration": 17,
    "start_time": "2023-06-11T20:18:51.570Z"
   },
   {
    "duration": 6,
    "start_time": "2023-06-11T20:18:51.589Z"
   },
   {
    "duration": 19,
    "start_time": "2023-06-11T20:18:51.597Z"
   },
   {
    "duration": 26,
    "start_time": "2023-06-11T20:18:51.617Z"
   },
   {
    "duration": 91,
    "start_time": "2023-06-11T20:18:51.645Z"
   },
   {
    "duration": 436,
    "start_time": "2023-06-11T20:18:51.738Z"
   },
   {
    "duration": 9,
    "start_time": "2023-06-11T20:18:52.175Z"
   },
   {
    "duration": 86,
    "start_time": "2023-06-11T20:18:52.186Z"
   },
   {
    "duration": 24,
    "start_time": "2023-06-11T20:18:52.274Z"
   },
   {
    "duration": 10,
    "start_time": "2023-06-11T20:18:52.300Z"
   },
   {
    "duration": 30,
    "start_time": "2023-06-11T20:18:52.313Z"
   },
   {
    "duration": 6,
    "start_time": "2023-06-11T20:18:52.345Z"
   },
   {
    "duration": 17,
    "start_time": "2023-06-11T20:18:52.352Z"
   },
   {
    "duration": 12,
    "start_time": "2023-06-11T20:18:52.370Z"
   },
   {
    "duration": 35,
    "start_time": "2023-06-11T20:18:52.385Z"
   },
   {
    "duration": 259,
    "start_time": "2023-06-11T20:18:52.423Z"
   },
   {
    "duration": 37,
    "start_time": "2023-06-11T20:18:52.683Z"
   },
   {
    "duration": 31,
    "start_time": "2023-06-11T20:18:52.722Z"
   },
   {
    "duration": 8,
    "start_time": "2023-06-11T20:18:52.754Z"
   },
   {
    "duration": 12,
    "start_time": "2023-06-11T20:18:52.764Z"
   },
   {
    "duration": 216,
    "start_time": "2023-06-11T20:18:52.778Z"
   },
   {
    "duration": 15,
    "start_time": "2023-06-11T20:18:52.996Z"
   },
   {
    "duration": 6,
    "start_time": "2023-06-11T20:18:53.013Z"
   },
   {
    "duration": 7,
    "start_time": "2023-06-11T20:18:53.021Z"
   },
   {
    "duration": 77,
    "start_time": "2023-06-11T20:18:53.030Z"
   },
   {
    "duration": 319,
    "start_time": "2023-06-11T20:18:53.109Z"
   },
   {
    "duration": 648,
    "start_time": "2023-06-11T20:18:53.429Z"
   },
   {
    "duration": 188,
    "start_time": "2023-06-11T20:18:54.079Z"
   },
   {
    "duration": 50,
    "start_time": "2023-06-11T20:18:54.269Z"
   },
   {
    "duration": 500,
    "start_time": "2023-06-11T20:18:54.321Z"
   },
   {
    "duration": 328,
    "start_time": "2023-06-11T20:18:54.823Z"
   },
   {
    "duration": 171,
    "start_time": "2023-06-11T20:22:31.606Z"
   },
   {
    "duration": 1298,
    "start_time": "2023-06-12T04:30:29.820Z"
   },
   {
    "duration": 3,
    "start_time": "2023-06-12T04:30:31.120Z"
   },
   {
    "duration": 293,
    "start_time": "2023-06-12T04:30:31.124Z"
   },
   {
    "duration": 51,
    "start_time": "2023-06-12T04:30:31.419Z"
   },
   {
    "duration": 72,
    "start_time": "2023-06-12T04:30:31.472Z"
   },
   {
    "duration": 66,
    "start_time": "2023-06-12T04:30:31.545Z"
   },
   {
    "duration": 139,
    "start_time": "2023-06-12T04:30:31.612Z"
   },
   {
    "duration": 25,
    "start_time": "2023-06-12T04:30:31.753Z"
   },
   {
    "duration": 61,
    "start_time": "2023-06-12T04:30:31.780Z"
   },
   {
    "duration": 87,
    "start_time": "2023-06-12T04:30:31.845Z"
   },
   {
    "duration": 26,
    "start_time": "2023-06-12T04:30:31.934Z"
   },
   {
    "duration": 121,
    "start_time": "2023-06-12T04:30:31.962Z"
   },
   {
    "duration": 217,
    "start_time": "2023-06-12T04:30:32.098Z"
   },
   {
    "duration": 662,
    "start_time": "2023-06-12T04:30:32.316Z"
   },
   {
    "duration": 77,
    "start_time": "2023-06-12T04:30:32.979Z"
   },
   {
    "duration": 163,
    "start_time": "2023-06-12T04:30:33.057Z"
   },
   {
    "duration": 4,
    "start_time": "2023-06-12T04:30:33.222Z"
   },
   {
    "duration": 296,
    "start_time": "2023-06-12T04:30:33.227Z"
   },
   {
    "duration": 13,
    "start_time": "2023-06-12T04:30:33.525Z"
   },
   {
    "duration": 1419,
    "start_time": "2023-06-12T04:30:33.540Z"
   },
   {
    "duration": 92,
    "start_time": "2023-06-12T04:30:34.961Z"
   },
   {
    "duration": 120,
    "start_time": "2023-06-12T04:30:35.055Z"
   },
   {
    "duration": 172,
    "start_time": "2023-06-12T04:30:35.176Z"
   },
   {
    "duration": 73,
    "start_time": "2023-06-12T04:30:35.350Z"
   },
   {
    "duration": 142,
    "start_time": "2023-06-12T04:30:35.424Z"
   },
   {
    "duration": 129,
    "start_time": "2023-06-12T04:30:35.568Z"
   },
   {
    "duration": 125,
    "start_time": "2023-06-12T04:30:35.707Z"
   },
   {
    "duration": 9,
    "start_time": "2023-06-12T04:30:35.836Z"
   },
   {
    "duration": 11,
    "start_time": "2023-06-12T04:30:35.846Z"
   },
   {
    "duration": 10,
    "start_time": "2023-06-12T04:30:35.859Z"
   },
   {
    "duration": 41,
    "start_time": "2023-06-12T04:30:35.870Z"
   },
   {
    "duration": 8,
    "start_time": "2023-06-12T04:30:35.914Z"
   },
   {
    "duration": 16,
    "start_time": "2023-06-12T04:30:35.924Z"
   },
   {
    "duration": 21,
    "start_time": "2023-06-12T04:30:35.942Z"
   },
   {
    "duration": 94,
    "start_time": "2023-06-12T04:30:35.965Z"
   },
   {
    "duration": 550,
    "start_time": "2023-06-12T04:30:36.061Z"
   },
   {
    "duration": 9,
    "start_time": "2023-06-12T04:30:36.613Z"
   },
   {
    "duration": 95,
    "start_time": "2023-06-12T04:30:36.623Z"
   },
   {
    "duration": 27,
    "start_time": "2023-06-12T04:30:36.720Z"
   },
   {
    "duration": 11,
    "start_time": "2023-06-12T04:30:36.749Z"
   },
   {
    "duration": 35,
    "start_time": "2023-06-12T04:30:36.762Z"
   },
   {
    "duration": 21,
    "start_time": "2023-06-12T04:30:36.798Z"
   },
   {
    "duration": 8,
    "start_time": "2023-06-12T04:30:36.821Z"
   },
   {
    "duration": 12,
    "start_time": "2023-06-12T04:30:36.830Z"
   },
   {
    "duration": 21,
    "start_time": "2023-06-12T04:30:36.843Z"
   },
   {
    "duration": 200,
    "start_time": "2023-06-12T04:30:36.865Z"
   },
   {
    "duration": 52,
    "start_time": "2023-06-12T04:30:37.067Z"
   },
   {
    "duration": 32,
    "start_time": "2023-06-12T04:30:37.120Z"
   },
   {
    "duration": 9,
    "start_time": "2023-06-12T04:30:37.153Z"
   },
   {
    "duration": 26,
    "start_time": "2023-06-12T04:30:37.164Z"
   },
   {
    "duration": 211,
    "start_time": "2023-06-12T04:30:37.191Z"
   },
   {
    "duration": 13,
    "start_time": "2023-06-12T04:30:37.406Z"
   },
   {
    "duration": 11,
    "start_time": "2023-06-12T04:30:37.421Z"
   },
   {
    "duration": 8,
    "start_time": "2023-06-12T04:30:37.433Z"
   },
   {
    "duration": 68,
    "start_time": "2023-06-12T04:30:37.442Z"
   },
   {
    "duration": 300,
    "start_time": "2023-06-12T04:30:37.511Z"
   },
   {
    "duration": 538,
    "start_time": "2023-06-12T04:30:37.813Z"
   },
   {
    "duration": 122,
    "start_time": "2023-06-12T04:30:38.353Z"
   },
   {
    "duration": 29,
    "start_time": "2023-06-12T04:30:38.476Z"
   },
   {
    "duration": 393,
    "start_time": "2023-06-12T04:30:38.506Z"
   },
   {
    "duration": 345,
    "start_time": "2023-06-12T04:30:38.907Z"
   },
   {
    "duration": 22,
    "start_time": "2023-06-12T04:40:44.161Z"
   },
   {
    "duration": 1163,
    "start_time": "2023-06-12T04:40:54.015Z"
   },
   {
    "duration": 18,
    "start_time": "2023-06-12T04:40:55.180Z"
   },
   {
    "duration": 25,
    "start_time": "2023-06-12T04:40:55.203Z"
   },
   {
    "duration": 35,
    "start_time": "2023-06-12T04:40:55.230Z"
   },
   {
    "duration": 47,
    "start_time": "2023-06-12T04:40:55.267Z"
   },
   {
    "duration": 19,
    "start_time": "2023-06-12T04:40:55.315Z"
   },
   {
    "duration": 12,
    "start_time": "2023-06-12T04:40:55.335Z"
   },
   {
    "duration": 4,
    "start_time": "2023-06-12T04:40:55.348Z"
   },
   {
    "duration": 8,
    "start_time": "2023-06-12T04:40:55.353Z"
   },
   {
    "duration": 45,
    "start_time": "2023-06-12T04:40:55.364Z"
   },
   {
    "duration": 14,
    "start_time": "2023-06-12T04:40:55.411Z"
   },
   {
    "duration": 54,
    "start_time": "2023-06-12T04:40:55.427Z"
   },
   {
    "duration": 76,
    "start_time": "2023-06-12T04:40:55.482Z"
   },
   {
    "duration": 454,
    "start_time": "2023-06-12T04:40:55.560Z"
   },
   {
    "duration": 28,
    "start_time": "2023-06-12T04:40:56.016Z"
   },
   {
    "duration": 190,
    "start_time": "2023-06-12T04:40:56.046Z"
   },
   {
    "duration": 6,
    "start_time": "2023-06-12T04:40:56.237Z"
   },
   {
    "duration": 318,
    "start_time": "2023-06-12T04:40:56.244Z"
   },
   {
    "duration": 13,
    "start_time": "2023-06-12T04:40:56.564Z"
   },
   {
    "duration": 1582,
    "start_time": "2023-06-12T04:40:56.590Z"
   },
   {
    "duration": 126,
    "start_time": "2023-06-12T04:40:58.174Z"
   },
   {
    "duration": 134,
    "start_time": "2023-06-12T04:40:58.301Z"
   },
   {
    "duration": 188,
    "start_time": "2023-06-12T04:40:58.437Z"
   },
   {
    "duration": 71,
    "start_time": "2023-06-12T04:40:58.627Z"
   },
   {
    "duration": 67,
    "start_time": "2023-06-12T04:40:58.699Z"
   },
   {
    "duration": 443,
    "start_time": "2023-06-12T04:40:58.768Z"
   },
   {
    "duration": 221,
    "start_time": "2023-06-12T04:40:59.212Z"
   },
   {
    "duration": 26,
    "start_time": "2023-06-12T04:40:59.436Z"
   },
   {
    "duration": 10,
    "start_time": "2023-06-12T04:40:59.463Z"
   },
   {
    "duration": 13,
    "start_time": "2023-06-12T04:40:59.475Z"
   },
   {
    "duration": 24,
    "start_time": "2023-06-12T04:40:59.489Z"
   },
   {
    "duration": 15,
    "start_time": "2023-06-12T04:40:59.514Z"
   },
   {
    "duration": 6,
    "start_time": "2023-06-12T04:40:59.530Z"
   },
   {
    "duration": 8,
    "start_time": "2023-06-12T04:40:59.538Z"
   },
   {
    "duration": 17,
    "start_time": "2023-06-12T04:40:59.547Z"
   },
   {
    "duration": 69,
    "start_time": "2023-06-12T04:40:59.566Z"
   },
   {
    "duration": 442,
    "start_time": "2023-06-12T04:40:59.636Z"
   },
   {
    "duration": 32,
    "start_time": "2023-06-12T04:41:00.080Z"
   },
   {
    "duration": 101,
    "start_time": "2023-06-12T04:41:00.113Z"
   },
   {
    "duration": 24,
    "start_time": "2023-06-12T04:41:00.215Z"
   },
   {
    "duration": 23,
    "start_time": "2023-06-12T04:41:00.240Z"
   },
   {
    "duration": 57,
    "start_time": "2023-06-12T04:41:00.265Z"
   },
   {
    "duration": 33,
    "start_time": "2023-06-12T04:41:00.323Z"
   },
   {
    "duration": 62,
    "start_time": "2023-06-12T04:41:00.358Z"
   },
   {
    "duration": 42,
    "start_time": "2023-06-12T04:41:00.422Z"
   },
   {
    "duration": 65,
    "start_time": "2023-06-12T04:41:00.465Z"
   },
   {
    "duration": 223,
    "start_time": "2023-06-12T04:41:00.532Z"
   },
   {
    "duration": 62,
    "start_time": "2023-06-12T04:41:00.757Z"
   },
   {
    "duration": 55,
    "start_time": "2023-06-12T04:41:00.821Z"
   },
   {
    "duration": 41,
    "start_time": "2023-06-12T04:41:00.877Z"
   },
   {
    "duration": 54,
    "start_time": "2023-06-12T04:41:00.919Z"
   },
   {
    "duration": 278,
    "start_time": "2023-06-12T04:41:00.975Z"
   },
   {
    "duration": 11,
    "start_time": "2023-06-12T04:41:01.254Z"
   },
   {
    "duration": 51,
    "start_time": "2023-06-12T04:41:01.267Z"
   },
   {
    "duration": 31,
    "start_time": "2023-06-12T04:41:01.320Z"
   },
   {
    "duration": 153,
    "start_time": "2023-06-12T04:41:01.353Z"
   },
   {
    "duration": 340,
    "start_time": "2023-06-12T04:41:01.510Z"
   },
   {
    "duration": 663,
    "start_time": "2023-06-12T04:41:01.852Z"
   },
   {
    "duration": 163,
    "start_time": "2023-06-12T04:41:02.517Z"
   },
   {
    "duration": 34,
    "start_time": "2023-06-12T04:41:02.682Z"
   },
   {
    "duration": 422,
    "start_time": "2023-06-12T04:41:02.719Z"
   },
   {
    "duration": 512,
    "start_time": "2023-06-12T04:41:03.143Z"
   },
   {
    "duration": 117,
    "start_time": "2023-06-12T04:46:30.106Z"
   },
   {
    "duration": 11,
    "start_time": "2023-06-12T04:46:39.766Z"
   },
   {
    "duration": 5,
    "start_time": "2023-06-12T04:46:47.967Z"
   },
   {
    "duration": 1326,
    "start_time": "2023-06-12T04:47:01.150Z"
   },
   {
    "duration": 7,
    "start_time": "2023-06-12T04:47:02.478Z"
   },
   {
    "duration": 81,
    "start_time": "2023-06-12T04:47:02.486Z"
   },
   {
    "duration": 72,
    "start_time": "2023-06-12T04:47:02.569Z"
   },
   {
    "duration": 39,
    "start_time": "2023-06-12T04:47:02.643Z"
   },
   {
    "duration": 53,
    "start_time": "2023-06-12T04:47:02.683Z"
   },
   {
    "duration": 34,
    "start_time": "2023-06-12T04:47:02.738Z"
   },
   {
    "duration": 54,
    "start_time": "2023-06-12T04:47:02.774Z"
   },
   {
    "duration": 19,
    "start_time": "2023-06-12T04:47:02.829Z"
   },
   {
    "duration": 14,
    "start_time": "2023-06-12T04:47:02.850Z"
   },
   {
    "duration": 48,
    "start_time": "2023-06-12T04:47:02.865Z"
   },
   {
    "duration": 59,
    "start_time": "2023-06-12T04:47:02.915Z"
   },
   {
    "duration": 90,
    "start_time": "2023-06-12T04:47:02.976Z"
   },
   {
    "duration": 499,
    "start_time": "2023-06-12T04:47:03.069Z"
   },
   {
    "duration": 40,
    "start_time": "2023-06-12T04:47:03.570Z"
   },
   {
    "duration": 184,
    "start_time": "2023-06-12T04:47:03.612Z"
   },
   {
    "duration": 120,
    "start_time": "2023-06-12T04:47:03.813Z"
   },
   {
    "duration": 0,
    "start_time": "2023-06-12T04:47:03.936Z"
   },
   {
    "duration": 0,
    "start_time": "2023-06-12T04:47:03.937Z"
   },
   {
    "duration": 0,
    "start_time": "2023-06-12T04:47:03.938Z"
   },
   {
    "duration": 0,
    "start_time": "2023-06-12T04:47:03.939Z"
   },
   {
    "duration": 0,
    "start_time": "2023-06-12T04:47:03.940Z"
   },
   {
    "duration": 0,
    "start_time": "2023-06-12T04:47:03.941Z"
   },
   {
    "duration": 0,
    "start_time": "2023-06-12T04:47:03.942Z"
   },
   {
    "duration": 0,
    "start_time": "2023-06-12T04:47:03.943Z"
   },
   {
    "duration": 0,
    "start_time": "2023-06-12T04:47:03.944Z"
   },
   {
    "duration": 0,
    "start_time": "2023-06-12T04:47:03.945Z"
   },
   {
    "duration": 0,
    "start_time": "2023-06-12T04:47:03.946Z"
   },
   {
    "duration": 0,
    "start_time": "2023-06-12T04:47:03.947Z"
   },
   {
    "duration": 0,
    "start_time": "2023-06-12T04:47:03.948Z"
   },
   {
    "duration": 0,
    "start_time": "2023-06-12T04:47:03.949Z"
   },
   {
    "duration": 0,
    "start_time": "2023-06-12T04:47:03.949Z"
   },
   {
    "duration": 0,
    "start_time": "2023-06-12T04:47:03.950Z"
   },
   {
    "duration": 0,
    "start_time": "2023-06-12T04:47:03.951Z"
   },
   {
    "duration": 0,
    "start_time": "2023-06-12T04:47:03.952Z"
   },
   {
    "duration": 0,
    "start_time": "2023-06-12T04:47:03.953Z"
   },
   {
    "duration": 0,
    "start_time": "2023-06-12T04:47:03.954Z"
   },
   {
    "duration": 0,
    "start_time": "2023-06-12T04:47:03.955Z"
   },
   {
    "duration": 0,
    "start_time": "2023-06-12T04:47:03.998Z"
   },
   {
    "duration": 0,
    "start_time": "2023-06-12T04:47:03.999Z"
   },
   {
    "duration": 0,
    "start_time": "2023-06-12T04:47:04.000Z"
   },
   {
    "duration": 0,
    "start_time": "2023-06-12T04:47:04.000Z"
   },
   {
    "duration": 0,
    "start_time": "2023-06-12T04:47:04.001Z"
   },
   {
    "duration": 0,
    "start_time": "2023-06-12T04:47:04.006Z"
   },
   {
    "duration": 0,
    "start_time": "2023-06-12T04:47:04.007Z"
   },
   {
    "duration": 0,
    "start_time": "2023-06-12T04:47:04.007Z"
   },
   {
    "duration": 0,
    "start_time": "2023-06-12T04:47:04.008Z"
   },
   {
    "duration": 0,
    "start_time": "2023-06-12T04:47:04.008Z"
   },
   {
    "duration": 0,
    "start_time": "2023-06-12T04:47:04.009Z"
   },
   {
    "duration": 0,
    "start_time": "2023-06-12T04:47:04.009Z"
   },
   {
    "duration": 0,
    "start_time": "2023-06-12T04:47:04.010Z"
   },
   {
    "duration": 0,
    "start_time": "2023-06-12T04:47:04.015Z"
   },
   {
    "duration": 0,
    "start_time": "2023-06-12T04:47:04.016Z"
   },
   {
    "duration": 0,
    "start_time": "2023-06-12T04:47:04.017Z"
   },
   {
    "duration": 0,
    "start_time": "2023-06-12T04:47:04.018Z"
   },
   {
    "duration": 0,
    "start_time": "2023-06-12T04:47:04.018Z"
   },
   {
    "duration": 0,
    "start_time": "2023-06-12T04:47:04.020Z"
   },
   {
    "duration": 0,
    "start_time": "2023-06-12T04:47:04.021Z"
   },
   {
    "duration": 0,
    "start_time": "2023-06-12T04:47:04.022Z"
   },
   {
    "duration": 0,
    "start_time": "2023-06-12T04:47:04.023Z"
   },
   {
    "duration": 0,
    "start_time": "2023-06-12T04:47:04.024Z"
   },
   {
    "duration": 0,
    "start_time": "2023-06-12T04:47:04.025Z"
   },
   {
    "duration": 0,
    "start_time": "2023-06-12T04:47:04.026Z"
   },
   {
    "duration": 4,
    "start_time": "2023-06-12T04:47:17.732Z"
   },
   {
    "duration": 3,
    "start_time": "2023-06-12T04:47:18.261Z"
   },
   {
    "duration": 5,
    "start_time": "2023-06-12T04:47:35.111Z"
   },
   {
    "duration": 12,
    "start_time": "2023-06-12T04:48:45.011Z"
   },
   {
    "duration": 9,
    "start_time": "2023-06-12T04:48:50.603Z"
   },
   {
    "duration": 55,
    "start_time": "2023-06-12T04:54:03.876Z"
   },
   {
    "duration": 87,
    "start_time": "2023-06-12T04:54:32.380Z"
   },
   {
    "duration": 56,
    "start_time": "2023-06-12T04:56:39.615Z"
   },
   {
    "duration": 33,
    "start_time": "2023-06-12T04:58:34.815Z"
   },
   {
    "duration": 76,
    "start_time": "2023-06-12T04:59:24.570Z"
   },
   {
    "duration": 58,
    "start_time": "2023-06-12T04:59:39.411Z"
   },
   {
    "duration": 210,
    "start_time": "2023-06-12T05:00:35.931Z"
   },
   {
    "duration": 6,
    "start_time": "2023-06-12T05:01:12.424Z"
   },
   {
    "duration": 16,
    "start_time": "2023-06-12T05:01:12.432Z"
   },
   {
    "duration": 7,
    "start_time": "2023-06-12T05:01:12.450Z"
   },
   {
    "duration": 12,
    "start_time": "2023-06-12T05:01:12.459Z"
   },
   {
    "duration": 10,
    "start_time": "2023-06-12T05:01:12.473Z"
   },
   {
    "duration": 37,
    "start_time": "2023-06-12T05:01:12.494Z"
   },
   {
    "duration": 21,
    "start_time": "2023-06-12T05:01:12.532Z"
   },
   {
    "duration": 20,
    "start_time": "2023-06-12T05:01:12.555Z"
   },
   {
    "duration": 57,
    "start_time": "2023-06-12T05:01:12.577Z"
   },
   {
    "duration": 13,
    "start_time": "2023-06-12T05:01:12.635Z"
   },
   {
    "duration": 15,
    "start_time": "2023-06-12T05:01:12.649Z"
   },
   {
    "duration": 89,
    "start_time": "2023-06-12T05:01:12.665Z"
   },
   {
    "duration": 77,
    "start_time": "2023-06-12T05:01:12.755Z"
   },
   {
    "duration": 410,
    "start_time": "2023-06-12T05:01:12.833Z"
   },
   {
    "duration": 25,
    "start_time": "2023-06-12T05:01:13.244Z"
   },
   {
    "duration": 156,
    "start_time": "2023-06-12T05:01:13.270Z"
   },
   {
    "duration": 4,
    "start_time": "2023-06-12T05:01:13.428Z"
   },
   {
    "duration": 6,
    "start_time": "2023-06-12T05:01:13.433Z"
   },
   {
    "duration": 5,
    "start_time": "2023-06-12T05:01:13.440Z"
   },
   {
    "duration": 369,
    "start_time": "2023-06-12T05:01:13.446Z"
   },
   {
    "duration": 20,
    "start_time": "2023-06-12T05:01:13.816Z"
   },
   {
    "duration": 1531,
    "start_time": "2023-06-12T05:01:13.837Z"
   },
   {
    "duration": 101,
    "start_time": "2023-06-12T05:01:15.369Z"
   },
   {
    "duration": 149,
    "start_time": "2023-06-12T05:01:15.473Z"
   },
   {
    "duration": 178,
    "start_time": "2023-06-12T05:01:15.623Z"
   },
   {
    "duration": 70,
    "start_time": "2023-06-12T05:01:15.812Z"
   },
   {
    "duration": 83,
    "start_time": "2023-06-12T05:01:15.886Z"
   },
   {
    "duration": 83,
    "start_time": "2023-06-12T05:01:15.971Z"
   },
   {
    "duration": 62,
    "start_time": "2023-06-12T05:01:16.056Z"
   },
   {
    "duration": 40,
    "start_time": "2023-06-12T05:01:16.119Z"
   },
   {
    "duration": 19,
    "start_time": "2023-06-12T05:01:16.161Z"
   },
   {
    "duration": 45,
    "start_time": "2023-06-12T05:01:16.181Z"
   },
   {
    "duration": 13,
    "start_time": "2023-06-12T05:01:16.233Z"
   },
   {
    "duration": 11,
    "start_time": "2023-06-12T05:01:16.247Z"
   },
   {
    "duration": 12,
    "start_time": "2023-06-12T05:01:16.260Z"
   },
   {
    "duration": 37,
    "start_time": "2023-06-12T05:01:16.273Z"
   },
   {
    "duration": 122,
    "start_time": "2023-06-12T05:01:19.922Z"
   },
   {
    "duration": 14,
    "start_time": "2023-06-12T05:05:26.919Z"
   },
   {
    "duration": 97,
    "start_time": "2023-06-12T05:06:23.203Z"
   },
   {
    "duration": 103,
    "start_time": "2023-06-12T05:06:38.620Z"
   },
   {
    "duration": 86,
    "start_time": "2023-06-12T05:12:49.185Z"
   },
   {
    "duration": 8,
    "start_time": "2023-06-12T05:17:53.508Z"
   },
   {
    "duration": 1177,
    "start_time": "2023-06-12T05:18:32.341Z"
   },
   {
    "duration": 3,
    "start_time": "2023-06-12T05:18:33.520Z"
   },
   {
    "duration": 8,
    "start_time": "2023-06-12T05:18:33.524Z"
   },
   {
    "duration": 6,
    "start_time": "2023-06-12T05:18:33.533Z"
   },
   {
    "duration": 10,
    "start_time": "2023-06-12T05:18:33.541Z"
   },
   {
    "duration": 6,
    "start_time": "2023-06-12T05:18:33.552Z"
   },
   {
    "duration": 8,
    "start_time": "2023-06-12T05:18:33.559Z"
   },
   {
    "duration": 37,
    "start_time": "2023-06-12T05:18:33.569Z"
   },
   {
    "duration": 58,
    "start_time": "2023-06-12T05:18:33.612Z"
   },
   {
    "duration": 42,
    "start_time": "2023-06-12T05:18:33.673Z"
   },
   {
    "duration": 9,
    "start_time": "2023-06-12T05:18:33.717Z"
   },
   {
    "duration": 43,
    "start_time": "2023-06-12T05:18:33.728Z"
   },
   {
    "duration": 84,
    "start_time": "2023-06-12T05:18:33.773Z"
   },
   {
    "duration": 461,
    "start_time": "2023-06-12T05:18:33.858Z"
   },
   {
    "duration": 25,
    "start_time": "2023-06-12T05:18:34.321Z"
   },
   {
    "duration": 219,
    "start_time": "2023-06-12T05:18:34.348Z"
   },
   {
    "duration": 4,
    "start_time": "2023-06-12T05:18:34.569Z"
   },
   {
    "duration": 7,
    "start_time": "2023-06-12T05:18:34.574Z"
   },
   {
    "duration": 36,
    "start_time": "2023-06-12T05:18:34.582Z"
   },
   {
    "duration": 327,
    "start_time": "2023-06-12T05:18:34.620Z"
   },
   {
    "duration": 10,
    "start_time": "2023-06-12T05:18:34.949Z"
   },
   {
    "duration": 1580,
    "start_time": "2023-06-12T05:18:34.961Z"
   },
   {
    "duration": 121,
    "start_time": "2023-06-12T05:18:36.543Z"
   },
   {
    "duration": 149,
    "start_time": "2023-06-12T05:18:36.666Z"
   },
   {
    "duration": 211,
    "start_time": "2023-06-12T05:18:36.816Z"
   },
   {
    "duration": 90,
    "start_time": "2023-06-12T05:18:37.029Z"
   },
   {
    "duration": 91,
    "start_time": "2023-06-12T05:18:37.120Z"
   },
   {
    "duration": 99,
    "start_time": "2023-06-12T05:18:37.214Z"
   },
   {
    "duration": 67,
    "start_time": "2023-06-12T05:18:37.314Z"
   },
   {
    "duration": 48,
    "start_time": "2023-06-12T05:18:37.382Z"
   },
   {
    "duration": 13,
    "start_time": "2023-06-12T05:18:37.431Z"
   },
   {
    "duration": 9,
    "start_time": "2023-06-12T05:18:37.446Z"
   },
   {
    "duration": 9,
    "start_time": "2023-06-12T05:18:37.457Z"
   },
   {
    "duration": 5,
    "start_time": "2023-06-12T05:18:37.468Z"
   },
   {
    "duration": 41,
    "start_time": "2023-06-12T05:18:37.475Z"
   },
   {
    "duration": 20,
    "start_time": "2023-06-12T05:18:37.517Z"
   },
   {
    "duration": 116,
    "start_time": "2023-06-12T05:18:37.539Z"
   },
   {
    "duration": 77,
    "start_time": "2023-06-12T05:18:37.656Z"
   },
   {
    "duration": 426,
    "start_time": "2023-06-12T05:18:37.735Z"
   },
   {
    "duration": 8,
    "start_time": "2023-06-12T05:18:38.163Z"
   },
   {
    "duration": 83,
    "start_time": "2023-06-12T05:18:38.172Z"
   },
   {
    "duration": 24,
    "start_time": "2023-06-12T05:18:38.256Z"
   },
   {
    "duration": 25,
    "start_time": "2023-06-12T05:18:38.282Z"
   },
   {
    "duration": 15,
    "start_time": "2023-06-12T05:18:38.311Z"
   },
   {
    "duration": 6,
    "start_time": "2023-06-12T05:18:38.327Z"
   },
   {
    "duration": 18,
    "start_time": "2023-06-12T05:18:38.334Z"
   },
   {
    "duration": 10,
    "start_time": "2023-06-12T05:18:38.354Z"
   },
   {
    "duration": 30,
    "start_time": "2023-06-12T05:18:38.365Z"
   },
   {
    "duration": 222,
    "start_time": "2023-06-12T05:18:38.396Z"
   },
   {
    "duration": 36,
    "start_time": "2023-06-12T05:18:38.620Z"
   },
   {
    "duration": 61,
    "start_time": "2023-06-12T05:18:38.658Z"
   },
   {
    "duration": 9,
    "start_time": "2023-06-12T05:18:38.720Z"
   },
   {
    "duration": 10,
    "start_time": "2023-06-12T05:18:38.731Z"
   },
   {
    "duration": 218,
    "start_time": "2023-06-12T05:18:38.743Z"
   },
   {
    "duration": 11,
    "start_time": "2023-06-12T05:18:38.962Z"
   },
   {
    "duration": 29,
    "start_time": "2023-06-12T05:18:38.975Z"
   },
   {
    "duration": 27,
    "start_time": "2023-06-12T05:18:39.007Z"
   },
   {
    "duration": 53,
    "start_time": "2023-06-12T05:18:39.035Z"
   },
   {
    "duration": 284,
    "start_time": "2023-06-12T05:18:39.089Z"
   },
   {
    "duration": 564,
    "start_time": "2023-06-12T05:18:39.375Z"
   },
   {
    "duration": 142,
    "start_time": "2023-06-12T05:18:39.941Z"
   },
   {
    "duration": 23,
    "start_time": "2023-06-12T05:18:40.099Z"
   },
   {
    "duration": 381,
    "start_time": "2023-06-12T05:18:40.123Z"
   },
   {
    "duration": 419,
    "start_time": "2023-06-12T05:18:40.505Z"
   },
   {
    "duration": 4,
    "start_time": "2023-06-12T05:18:40.925Z"
   },
   {
    "duration": 582,
    "start_time": "2023-06-12T05:18:40.930Z"
   },
   {
    "duration": 7,
    "start_time": "2023-06-12T05:19:33.915Z"
   },
   {
    "duration": 3,
    "start_time": "2023-06-12T05:19:42.554Z"
   },
   {
    "duration": 372,
    "start_time": "2023-06-12T05:19:43.107Z"
   },
   {
    "duration": 6,
    "start_time": "2023-06-12T05:20:08.841Z"
   },
   {
    "duration": 3,
    "start_time": "2023-06-12T05:20:12.866Z"
   },
   {
    "duration": 472,
    "start_time": "2023-06-12T05:20:13.217Z"
   },
   {
    "duration": 99,
    "start_time": "2023-06-12T05:24:20.623Z"
   },
   {
    "duration": 6,
    "start_time": "2023-06-12T05:26:04.273Z"
   },
   {
    "duration": 71,
    "start_time": "2023-06-12T05:26:04.281Z"
   },
   {
    "duration": 30,
    "start_time": "2023-06-12T05:26:04.354Z"
   },
   {
    "duration": 45,
    "start_time": "2023-06-12T05:26:04.387Z"
   },
   {
    "duration": 9,
    "start_time": "2023-06-12T05:26:04.435Z"
   },
   {
    "duration": 9,
    "start_time": "2023-06-12T05:26:04.446Z"
   },
   {
    "duration": 11,
    "start_time": "2023-06-12T05:26:04.456Z"
   },
   {
    "duration": 6,
    "start_time": "2023-06-12T05:26:04.468Z"
   },
   {
    "duration": 43,
    "start_time": "2023-06-12T05:26:04.476Z"
   },
   {
    "duration": 33,
    "start_time": "2023-06-12T05:26:04.520Z"
   },
   {
    "duration": 63,
    "start_time": "2023-06-12T05:26:04.555Z"
   },
   {
    "duration": 36,
    "start_time": "2023-06-12T05:26:04.619Z"
   },
   {
    "duration": 78,
    "start_time": "2023-06-12T05:26:04.657Z"
   },
   {
    "duration": 456,
    "start_time": "2023-06-12T05:26:04.737Z"
   },
   {
    "duration": 42,
    "start_time": "2023-06-12T05:26:05.195Z"
   },
   {
    "duration": 130,
    "start_time": "2023-06-12T05:26:05.240Z"
   },
   {
    "duration": 5,
    "start_time": "2023-06-12T05:26:05.371Z"
   },
   {
    "duration": 46,
    "start_time": "2023-06-12T05:26:05.377Z"
   },
   {
    "duration": 24,
    "start_time": "2023-06-12T05:26:05.424Z"
   },
   {
    "duration": 313,
    "start_time": "2023-06-12T05:26:05.450Z"
   },
   {
    "duration": 22,
    "start_time": "2023-06-12T05:26:05.765Z"
   },
   {
    "duration": 1457,
    "start_time": "2023-06-12T05:26:05.788Z"
   },
   {
    "duration": 97,
    "start_time": "2023-06-12T05:26:07.247Z"
   },
   {
    "duration": 189,
    "start_time": "2023-06-12T05:26:07.346Z"
   },
   {
    "duration": 141,
    "start_time": "2023-06-12T05:26:07.536Z"
   },
   {
    "duration": 84,
    "start_time": "2023-06-12T05:26:07.678Z"
   },
   {
    "duration": 84,
    "start_time": "2023-06-12T05:26:07.763Z"
   },
   {
    "duration": 70,
    "start_time": "2023-06-12T05:26:07.848Z"
   },
   {
    "duration": 46,
    "start_time": "2023-06-12T05:26:07.921Z"
   },
   {
    "duration": 31,
    "start_time": "2023-06-12T05:26:07.969Z"
   },
   {
    "duration": 24,
    "start_time": "2023-06-12T05:26:08.001Z"
   },
   {
    "duration": 10,
    "start_time": "2023-06-12T05:26:08.026Z"
   },
   {
    "duration": 26,
    "start_time": "2023-06-12T05:26:08.037Z"
   },
   {
    "duration": 10,
    "start_time": "2023-06-12T05:26:08.064Z"
   },
   {
    "duration": 43,
    "start_time": "2023-06-12T05:26:08.075Z"
   },
   {
    "duration": 30,
    "start_time": "2023-06-12T05:26:08.119Z"
   },
   {
    "duration": 113,
    "start_time": "2023-06-12T05:26:11.459Z"
   },
   {
    "duration": 5,
    "start_time": "2023-06-12T05:26:49.315Z"
   },
   {
    "duration": 13,
    "start_time": "2023-06-12T05:27:17.211Z"
   },
   {
    "duration": 12,
    "start_time": "2023-06-12T05:27:37.467Z"
   }
  ],
  "kernelspec": {
   "display_name": "Python 3 (ipykernel)",
   "language": "python",
   "name": "python3"
  },
  "language_info": {
   "codemirror_mode": {
    "name": "ipython",
    "version": 3
   },
   "file_extension": ".py",
   "mimetype": "text/x-python",
   "name": "python",
   "nbconvert_exporter": "python",
   "pygments_lexer": "ipython3",
   "version": "3.9.15"
  },
  "toc": {
   "base_numbering": 1,
   "nav_menu": {},
   "number_sections": true,
   "sideBar": true,
   "skip_h1_title": true,
   "title_cell": "Table of Contents",
   "title_sidebar": "Contents",
   "toc_cell": false,
   "toc_position": {
    "height": "calc(100% - 180px)",
    "left": "10px",
    "top": "150px",
    "width": "165px"
   },
   "toc_section_display": true,
   "toc_window_display": true
  }
 },
 "nbformat": 4,
 "nbformat_minor": 5
}
